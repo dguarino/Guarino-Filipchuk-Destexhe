{
 "cells": [
  {
   "cell_type": "code",
   "execution_count": 1,
   "id": "3ac86b8b-29c1-451c-a689-b009145915dc",
   "metadata": {},
   "outputs": [
    {
     "name": "stdout",
     "output_type": "stream",
     "text": [
      "3.10.4\n"
     ]
    }
   ],
   "source": [
    "from platform import python_version\n",
    "print(python_version())\n",
    "\n",
    "from builtins import exec\n",
    "exec(open(\"./imports_functions.py\").read())\n",
    "\n",
    "import h5py\n",
    "\n",
    "%matplotlib inline"
   ]
  },
  {
   "cell_type": "code",
   "execution_count": 5,
   "id": "082f00e0-89d3-4fcb-962e-074c42d4781f",
   "metadata": {},
   "outputs": [
    {
     "name": "stdout",
     "output_type": "stream",
     "text": [
      "Loading RSC data ...\n",
      "All data available.\n"
     ]
    }
   ],
   "source": [
    "if not os.path.exists(\"goard\"):\n",
    "    print(\"Downloading RSC data ...\")\n",
    "    os.makedirs(\"goard\")\n",
    "    # resp = wget.download(\"https://datadryad.org/stash/downloads/file_stream/1185004\", \"goard/7739750.zip\")\n",
    "    # print(\"... Done: \"+resp)\n",
    "\n",
    "    if os.path.exists(\"goard/twoPhotonData.mat\"):\n",
    "        print(\"Done.\")\n",
    "    else:\n",
    "        print(\"not found\")\n",
    "else:\n",
    "    print(\"Loading RSC data ...\")\n",
    "    twoPhotonData = h5py.File('./goard/twoPhotonData.mat','r')\n",
    "    print(\"All data available.\")"
   ]
  },
  {
   "cell_type": "markdown",
   "id": "8a142235-1d2d-48b4-b825-130eedf5a631",
   "metadata": {},
   "source": [
    "### Data preprocessing\n",
    "\n",
    "e `twoPhotonData.mat`.\n",
    "\n"
   ]
  },
  {
   "cell_type": "code",
   "execution_count": 8,
   "id": "9f4f1487-a0c0-42bd-86e0-5bb4f216f7a5",
   "metadata": {},
   "outputs": [
    {
     "name": "stdout",
     "output_type": "stream",
     "text": [
      "... getting reliable cells over trials\n"
     ]
    },
    {
     "name": "stderr",
     "output_type": "stream",
     "text": [
      "/tmp/ipykernel_12061/729084863.py:13: DeprecationWarning: `np.int` is a deprecated alias for the builtin `int`. To silence this warning, use `int` by itself. Doing this will not modify any behavior and is safe. When replacing `np.int`, you may wish to use e.g. `np.int64` or `np.int32` to specify the precision. If you wish to review your current use, check the release note link for additional information.\n",
      "Deprecated in NumPy 1.20; for more details and guidance: https://numpy.org/devdocs/release/1.20.0-notes.html#deprecations\n",
      "  reliableCells = np.squeeze( np.array(twoPhotonData.get('cellData/reliableCells'),dtype=np.int) ) # Get ids of cells reliably participating to the task\n"
     ]
    },
    {
     "name": "stdout",
     "output_type": "stream",
     "text": [
      "dff_traces (5194, 20160)\n"
     ]
    }
   ],
   "source": [
    "cellResponses = np.array( twoPhotonData.get('cellData/cellResponses') ) # Get cell responses\n",
    "# print(cellResponses.shape) # (4, 56, 90, 7770) reversed to the description\n",
    "\n",
    "dff_traces = np.swapaxes(cellResponses.reshape(-1, cellResponses.shape[-1]), 0, 1) # by cell flattened over the other dimensions to gather enough activations\n",
    "mask = np.isnan(dff_traces) # NaN was used to fill missing data\n",
    "dff_traces[mask] = 0.0 # we assign 0 df/f\n",
    "# print(\"dff_traces\",dff_traces.shape)\n",
    "ophys_cell_ids = np.arange(0,dff_traces.shape[0])\n",
    "ophys_cell_indexes = ophys_cell_ids\n",
    "\n",
    "print(\"... getting reliable cells over trials\")\n",
    "# reliableCells: [5194×1 double] ---> indices of the 5194 cells with reliable responses\n",
    "reliableCells = np.squeeze( np.array(twoPhotonData.get('cellData/reliableCells'),dtype=np.int) ) # Get ids of cells reliably participating to the task\n",
    "# print(\"reliableCells\",reliableCells.shape)\n",
    "reliableCells -= 1 # matlab indices start from 1\n",
    "dff_traces = dff_traces[reliableCells] # keep only reliable cells\n",
    "print(\"dff_traces\",dff_traces.shape)\n"
   ]
  },
  {
   "cell_type": "markdown",
   "id": "0743450d-8651-4576-98e0-f3ff3b439d22",
   "metadata": {},
   "source": [
    "We should separate the 29 sessions\n"
   ]
  },
  {
   "cell_type": "code",
   "execution_count": null,
   "id": "3888aa1e-410b-4144-99ac-b6b2953f84f3",
   "metadata": {},
   "outputs": [],
   "source": []
  }
 ],
 "metadata": {
  "kernelspec": {
   "display_name": "Python 3 (ipykernel)",
   "language": "python",
   "name": "python3"
  },
  "language_info": {
   "codemirror_mode": {
    "name": "ipython",
    "version": 3
   },
   "file_extension": ".py",
   "mimetype": "text/x-python",
   "name": "python",
   "nbconvert_exporter": "python",
   "pygments_lexer": "ipython3",
   "version": "3.10.4"
  }
 },
 "nbformat": 4,
 "nbformat_minor": 5
}
