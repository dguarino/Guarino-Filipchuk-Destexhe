{
 "cells": [
  {
   "cell_type": "markdown",
   "id": "f36e79c2-2b9a-451c-b591-ebe7668b7380",
   "metadata": {},
   "source": [
    "## Event reproducibility in ALM\n",
    "### data from Li et al. 2015\n",
    "See the paper:    \n",
    "*\"A motor cortex circuit for motor planning and movement\"*    \n",
    "Nuo Li, Tsai-Wen Chen, Zengcai V. Guo, Charles R. Gerfen & Karel Svoboda    \n",
    "Nature 519, 51–56 (05 March 2015) doi: 10.1038/nature14178"
   ]
  },
  {
   "cell_type": "code",
   "execution_count": 4,
   "id": "3ac86b8b-29c1-451c-a689-b009145915dc",
   "metadata": {},
   "outputs": [
    {
     "name": "stdout",
     "output_type": "stream",
     "text": [
      "3.10.4\n"
     ]
    }
   ],
   "source": [
    "from platform import python_version\n",
    "print(python_version())\n",
    "\n",
    "%run -i 'imports_functions.py' \n",
    "\n",
    "%matplotlib inline"
   ]
  },
  {
   "cell_type": "markdown",
   "id": "8a142235-1d2d-48b4-b825-130eedf5a631",
   "metadata": {},
   "source": [
    "### Data preprocessing\n",
    "\n",
    "The original files `alm-2` containing the DF/F traces is available on [CRCNS](http://crcns.org/data-sets/motor-cortex/alm-2).\n",
    "\n",
    "Here, to speed up the processing and reduce the dependencies, we use the Ca spiketrains extracted using the `deconvolve` function available in the library [OASIS](https://github.com/j-friedrich/OASIS/pull/19) (with all default parameters, and `penalty` of 1)."
   ]
  },
  {
   "cell_type": "code",
   "execution_count": 5,
   "id": "f702b8cc-ebf5-49bf-b9a9-50127b8584e5",
   "metadata": {},
   "outputs": [],
   "source": [
    "exp_path = os.getcwd() + \"/svoboda/\"\n",
    "\n",
    "frame_duration = 0.1 # sec, 10 frames per second, see Methods in Franco and Goard 2021"
   ]
  },
  {
   "cell_type": "markdown",
   "id": "0743450d-8651-4576-98e0-f3ff3b439d22",
   "metadata": {},
   "source": [
    "We use the separate 57 sessions independently"
   ]
  },
  {
   "cell_type": "code",
   "execution_count": 6,
   "id": "2173aec3-6dff-423e-99a7-9b855eff86a2",
   "metadata": {},
   "outputs": [],
   "source": [
    "ophys_experiments = [\n",
    "    # animal 19\n",
    "    \"data_an019_2013_08_21_210\",\n",
    "    \"data_an019_2013_08_20_245\",\n",
    "    \"data_an019_2013_08_20_275\",\n",
    "    \"data_an019_2013_08_21_240\",\n",
    "    \"data_an019_2013_08_21_270\",\n",
    "    \"data_an019_2013_08_16_280\",\n",
    "    \"data_an019_2013_08_16_310\",\n",
    "    \"data_an019_2013_08_16_340\",\n",
    "    \"data_an019_2013_08_16_370\",\n",
    "    \"data_an019_2013_08_19_410\",\n",
    "    \"data_an019_2013_08_19_440\",\n",
    "    \"data_an019_2013_08_19_470\",\n",
    "    \"data_an019_2013_08_15_480\",\n",
    "    \"data_an019_2013_08_19_500\",\n",
    "    \"data_an019_2013_08_15_510\",\n",
    "    \"data_an019_2013_08_19_530\",\n",
    "    \"data_an019_2013_08_15_570\",\n",
    "    \"data_an019_2013_08_21_600\",\n",
    "    \"data_an019_2013_08_21_630\",\n",
    "    # animal 22\n",
    "    \"data_an022_2013_08_26_470\",\n",
    "    \"data_an022_2013_08_26_500\",\n",
    "    \"data_an022_2013_08_26_530\",\n",
    "    \"data_an022_2013_08_22_550\",\n",
    "    \"data_an022_2013_08_26_560\",\n",
    "    \"data_an022_2013_08_23_580\",\n",
    "    \"data_an022_2013_08_23_610\",\n",
    "    \"data_an022_2013_08_23_640\",\n",
    "    \"data_an022_2013_08_25_620\",\n",
    "    \"data_an022_2013_08_25_650\",\n",
    "    \"data_an022_2013_08_25_680\",\n",
    "    \"data_an022_2013_08_25_710\",\n",
    "    \"data_an022_2013_08_25_740\",\n",
    "    # animal 23\n",
    "    \"data_an023_2013_10_14_210\",\n",
    "    \"data_an023_2013_10_14_240\",\n",
    "    \"data_an023_2013_10_15_300\",\n",
    "    \"data_an023_2013_10_15_330\",\n",
    "    \"data_an023_2013_10_15_360\",\n",
    "    \"data_an023_2013_10_10_480\",\n",
    "    \"data_an023_2013_10_10_505\",\n",
    "    \"data_an023_2013_10_09_530\",\n",
    "    \"data_an023_2013_10_11_530\",\n",
    "    \"data_an023_2013_10_10_535\",\n",
    "    \"data_an023_2013_10_11_560\",\n",
    "    # animal 26\n",
    "    \"data_an026_2013_11_10_150\",\n",
    "    \"data_an026_2013_11_10_180\",\n",
    "    \"data_an026_2013_11_10_210\",\n",
    "    \"data_an026_2013_11_10_240\",\n",
    "    \"data_an026_2013_11_10_270\",\n",
    "    \"data_an026_2013_11_12_485\",\n",
    "    \"data_an026_2013_11_08_505\",\n",
    "    \"data_an026_2013_11_12_515\",\n",
    "    \"data_an026_2013_11_08_535\",\n",
    "    \"data_an026_2013_11_12_545\",\n",
    "    \"data_an026_2013_11_14_550\",\n",
    "    \"data_an026_2013_11_08_560\",\n",
    "    \"data_an026_2013_11_12_575\",\n",
    "    \"data_an026_2013_11_14_580\",\n",
    "]"
   ]
  },
  {
   "cell_type": "markdown",
   "id": "5442011c-47db-4d7e-8bc4-ae0d679491fb",
   "metadata": {},
   "source": [
    "## Dynamical analysis"
   ]
  },
  {
   "cell_type": "markdown",
   "id": "76d2af5c-c366-4e3f-9a5e-8fa184381fcb",
   "metadata": {},
   "source": [
    "Analysis for each session.\n",
    "\n",
    "On average, the longest responses were for the 4th trial. We take it."
   ]
  },
  {
   "cell_type": "code",
   "execution_count": null,
   "id": "3888aa1e-410b-4144-99ac-b6b2953f84f3",
   "metadata": {},
   "outputs": [
    {
     "name": "stdout",
     "output_type": "stream",
     "text": [
      "\n",
      "\n",
      "1/57\n",
      "... loaded 49 spiketrains\n",
      "49\n",
      "... producing spike rasterplot per session\n",
      "    population firing: 6.11±4.16 sp/frame\n",
      "    cells firing rate: 0.12±0.37 sp/s\n",
      "... generating surrogates to establish population event threshold\n",
      "... loaded surrogates\n",
      "    event size threshold (mean): 17.44482723166876\n",
      "... find peaks\n",
      "... find minima\n",
      "... find population events\n",
      "... signatures of population events\n",
      "    number of events: 7\n",
      "    number of events per sec: 0.01362539349422875\n",
      "    events duration: 1.200±0.512\n",
      "    events size: 35.000±2.119\n",
      "... Similarity of events matrix\n",
      "... clustering\n",
      "    linkage\n",
      "    surrogate events signatures for clustering threshold\n",
      "... loaded surrogates\n",
      "    cluster reproducibility threshold: 0.0\n",
      "    cluster size threshold: 2\n",
      "    Total number of clusters: 4\n",
      "    # clusters (after removing those below reproducibility threshold): 2\n",
      "... finding cluster cores\n",
      "    removing cores firing unspecifically\n",
      "    gathering cores from all clusters\n",
      "    # cores: 43\n",
      "    # non-cores: 6\n",
      "    cores per cluster: 25.67±18.26 (min 0, max 41)\n",
      "    others per cluster: 23.33±18.26 (min 8, max 49)\n",
      "\n",
      "\n",
      "2/57\n",
      "... loaded 53 spiketrains\n",
      "53\n",
      "... producing spike rasterplot per session\n"
     ]
    }
   ],
   "source": [
    "global_events = [[] for i in range(57)] # by session\n",
    "global_events_vector = [[] for i in range(57)] # by session\n",
    "global_events_sec = []\n",
    "global_events_duration = []\n",
    "global_cluster_number = []\n",
    "global_cluster_selfsimilarity = [[] for i in range(57)]\n",
    "\n",
    "core_reproducibility_perc = 60 # threshold for detecting cores\n",
    "\n",
    "sessions_evt_toBremoved = [[] for i in range(57)] # by session\n",
    "sessions_evt_toBremoved[1] = [0] \n",
    "\n",
    "for scan_id,oe in enumerate(ophys_experiments):\n",
    "    # pprint.pprint(oe)\n",
    "\n",
    "    print(\"\\n\\n%d/%d\" % (scan_id+1,len(ophys_experiments)))\n",
    "\n",
    "    if os.path.exists(exp_path+'/spiketrains_'+str(oe)+'.npy') and os.path.exists(exp_path+'/time_'+str(oe)+'.npy'):\n",
    "        scan_spiketrains = np.load(exp_path+'/spiketrains_'+str(oe)+'.npy', allow_pickle=True)\n",
    "        time = np.load(exp_path+'/time_'+str(oe)+'.npy', allow_pickle=True)\n",
    "        print(\"... loaded\",len(scan_spiketrains), \"spiketrains\")\n",
    "        # print(time)\n",
    "\n",
    "    print(len(scan_spiketrains))\n",
    "    \n",
    "    start_time = 0\n",
    "    exp_tstart = start_time\n",
    "    stop_time = max([max(st) if len(st) else 0 for st in scan_spiketrains])\n",
    "    \n",
    "    print(\"... producing spike rasterplot per session\")\n",
    "    fig = plt.figure()\n",
    "    for row,train in enumerate(scan_spiketrains):\n",
    "        plt.scatter( train, [row]*len(train), marker='o', edgecolors='none', s=1, c='k' )\n",
    "    plt.ylabel(\"cell IDs\")\n",
    "    plt.xlabel(\"time (s)\")\n",
    "    fig.savefig(exp_path+'/results/rasterplot_scan%s.png'%scan_id, transparent=True, dpi=800)\n",
    "    plt.close()\n",
    "    fig.clear()\n",
    "    fig.clf()\n",
    "    \n",
    "    ophys_cell_ids = list(range(len(scan_spiketrains)))\n",
    "    ophys_cell_indexes = ophys_cell_ids # alias\n",
    "    \n",
    "    %run \"dynamical_analysis.ipynb\"\n",
    "\n",
    "    global_events[scan_id].extend(events)\n",
    "    global_events_vector[scan_id].extend(events_vectors)\n",
    "    global_events_sec.append(events_sec)\n",
    "    global_events_duration.extend(events_durations_f)\n",
    "    global_cluster_number.append(nclusters)\n",
    "    global_cluster_selfsimilarity.extend(reproducibility_list)\n"
   ]
  },
  {
   "cell_type": "code",
   "execution_count": null,
   "id": "44d469fc-0447-46df-85e1-8844d7ab3374",
   "metadata": {},
   "outputs": [],
   "source": []
  }
 ],
 "metadata": {
  "kernelspec": {
   "display_name": "Python 3 (ipykernel)",
   "language": "python",
   "name": "python3"
  },
  "language_info": {
   "codemirror_mode": {
    "name": "ipython",
    "version": 3
   },
   "file_extension": ".py",
   "mimetype": "text/x-python",
   "name": "python",
   "nbconvert_exporter": "python",
   "pygments_lexer": "ipython3",
   "version": "3.10.4"
  }
 },
 "nbformat": 4,
 "nbformat_minor": 5
}
