{
 "cells": [
  {
   "cell_type": "markdown",
   "id": "f36e79c2-2b9a-451c-b591-ebe7668b7380",
   "metadata": {},
   "source": [
    "## Event reproducibility in ALM\n",
    "### data from Li et al. 2015\n",
    "See the paper:    \n",
    "*\"A motor cortex circuit for motor planning and movement\"*    \n",
    "Nuo Li, Tsai-Wen Chen, Zengcai V. Guo, Charles R. Gerfen & Karel Svoboda    \n",
    "Nature 519, 51–56 (05 March 2015) doi: 10.1038/nature14178"
   ]
  },
  {
   "cell_type": "code",
   "execution_count": 6,
   "id": "3ac86b8b-29c1-451c-a689-b009145915dc",
   "metadata": {},
   "outputs": [
    {
     "name": "stdout",
     "output_type": "stream",
     "text": [
      "3.10.4\n"
     ]
    }
   ],
   "source": [
    "from platform import python_version\n",
    "print(python_version())\n",
    "\n",
    "%run -i 'imports_functions.py' \n",
    "\n",
    "%matplotlib inline"
   ]
  },
  {
   "cell_type": "markdown",
   "id": "8a142235-1d2d-48b4-b825-130eedf5a631",
   "metadata": {},
   "source": [
    "### Data preprocessing\n",
    "\n",
    "The original files `alm-2` containing the DF/F traces is available on [CRCNS](http://crcns.org/data-sets/motor-cortex/alm-2).\n",
    "\n",
    "Here, to speed up the processing and reduce the dependencies, we use the Ca spiketrains extracted using the `deconvolve` function available in the library [OASIS](https://github.com/j-friedrich/OASIS/pull/19) (with all default parameters, and `penalty` of 1)."
   ]
  },
  {
   "cell_type": "code",
   "execution_count": 7,
   "id": "f702b8cc-ebf5-49bf-b9a9-50127b8584e5",
   "metadata": {},
   "outputs": [],
   "source": [
    "exp_path = os.getcwd() + \"/svoboda/\"\n",
    "\n",
    "frame_duration = 0.1 # sec, 10 frames per second, see Methods in Franco and Goard 2021"
   ]
  },
  {
   "cell_type": "markdown",
   "id": "0743450d-8651-4576-98e0-f3ff3b439d22",
   "metadata": {},
   "source": [
    "We take the separate 57 sessions independently (some are not used because they have no significant events)."
   ]
  },
  {
   "cell_type": "code",
   "execution_count": 8,
   "id": "2173aec3-6dff-423e-99a7-9b855eff86a2",
   "metadata": {},
   "outputs": [],
   "source": [
    "ophys_experiments = [\n",
    "    # animal 19\n",
    "    \"data_an019_2013_08_21_210\",\n",
    "    \"data_an019_2013_08_20_245\",\n",
    "    \"data_an019_2013_08_20_275\",\n",
    "    # \"data_an019_2013_08_21_240\", # only one event\n",
    "    # \"data_an019_2013_08_21_270\",\n",
    "    \"data_an019_2013_08_16_280\",\n",
    "    \"data_an019_2013_08_16_310\",\n",
    "    \"data_an019_2013_08_16_340\",\n",
    "    \"data_an019_2013_08_16_370\",\n",
    "    \"data_an019_2013_08_19_410\",\n",
    "    \"data_an019_2013_08_19_440\",\n",
    "    \"data_an019_2013_08_19_470\",\n",
    "    \"data_an019_2013_08_15_480\",\n",
    "    \"data_an019_2013_08_19_500\",\n",
    "    \"data_an019_2013_08_15_510\",\n",
    "    \"data_an019_2013_08_19_530\",\n",
    "    \"data_an019_2013_08_15_570\",\n",
    "    \"data_an019_2013_08_21_600\",\n",
    "    \"data_an019_2013_08_21_630\",\n",
    "]"
   ]
  },
  {
   "cell_type": "markdown",
   "id": "5442011c-47db-4d7e-8bc4-ae0d679491fb",
   "metadata": {},
   "source": [
    "## Dynamical analysis"
   ]
  },
  {
   "cell_type": "markdown",
   "id": "76d2af5c-c366-4e3f-9a5e-8fa184381fcb",
   "metadata": {},
   "source": [
    "Analysis for each session.\n",
    "\n",
    "On average, the longest responses were for the 4th trial. We take it."
   ]
  },
  {
   "cell_type": "code",
   "execution_count": 9,
   "id": "3888aa1e-410b-4144-99ac-b6b2953f84f3",
   "metadata": {},
   "outputs": [
    {
     "name": "stdout",
     "output_type": "stream",
     "text": [
      "\n",
      "\n",
      "1/17 - data_an019_2013_08_21_210\n",
      "... loaded 49 spiketrains\n",
      "... producing spike rasterplot per session\n",
      "    population firing: 6.11±4.16 sp/frame\n",
      "    cells firing rate: 0.12±0.37 sp/s\n",
      "... generating surrogates to establish population event threshold\n",
      "... loaded surrogates\n",
      "    event size threshold (mean): 17.44482723166876\n",
      "    find peaks\n",
      "    find minima\n",
      "    find population events\n",
      "    signatures of population events\n",
      "    number of events: 7\n",
      "    number of events per sec: 0.01362539349422875\n",
      "    events duration: 1.200±0.512\n",
      "    events size: 35.000±2.119\n",
      "    Similarity of events matrix\n",
      "    clustering - linkage\n",
      "    surrogate events signatures for clustering threshold\n",
      "   ... loaded surrogates\n",
      "    cluster reproducibility threshold: 0.0\n",
      "    cluster size threshold: 2\n",
      "    Total number of clusters: 4\n",
      "    # clusters (after removing those below reproducibility threshold): 2\n",
      "    event color assignment\n",
      "    unique color assignments\n",
      "    clustered similarity map\n",
      "    finding cluster cores\n",
      "    removing cores firing unspecifically\n",
      "    gathering cores from all clusters\n",
      "    # cores: 43\n",
      "    # non-cores: 6\n",
      "    cores per cluster: 25.67±18.26 (min 0, max 41)\n",
      "    others per cluster: 23.33±18.26 (min 8, max 49)\n",
      "... Functional correlation analysis (functional structure)\n",
      "    binary spiketrains\n",
      "    shape: (49, 7644)\n",
      "    starting functional adjacency matrix\n"
     ]
    },
    {
     "name": "stderr",
     "output_type": "stream",
     "text": [
      "/opt/conda/lib/python3.10/site-packages/numpy/core/fromnumeric.py:3440: RuntimeWarning: Mean of empty slice.\n",
      "  return _methods._mean(a, axis=axis, dtype=dtype,\n",
      "/opt/conda/lib/python3.10/site-packages/numpy/core/_methods.py:189: RuntimeWarning: invalid value encountered in double_scalars\n",
      "  ret = ret.dtype.type(ret / rcount)\n",
      "/opt/conda/lib/python3.10/site-packages/numpy/lib/npyio.py:528: VisibleDeprecationWarning: Creating an ndarray from ragged nested sequences (which is a list-or-tuple of lists-or-tuples-or ndarrays with different lengths or shapes) is deprecated. If you meant to do this, you must specify 'dtype=object' when creating the ndarray.\n",
      "  arr = np.asanyarray(arr)\n"
     ]
    },
    {
     "name": "stdout",
     "output_type": "stream",
     "text": [
      "    full adjacency matrix: (49, 49)\n",
      "    preparing vertex labels for cores and others\n",
      "    Degree distributions\n",
      "    Local Clustering Coefficient (cores too)\n",
      "... Flow Analysis\n",
      "    Cut edges sourcing from cores: DescribeResult(nobs=43, minmax=(0.0, 0.023255813953488372), mean=0.001081665765278529, variance=2.4556088802004246e-05, skewness=4.306829516919017, kurtosis=16.548780487804876)\n",
      "    Cut edges targeting cores: DescribeResult(nobs=43, minmax=(0.0, 0.046511627906976744), mean=0.001081665765278529, variance=5.0310035594350205e-05, skewness=6.326437348445762, kurtosis=38.023809523809476)\n",
      "    Cut edges sourcing from others: DescribeResult(nobs=6, minmax=(0.0, 0.0), mean=0.0, variance=0.0, skewness=0.0, kurtosis=-3.0)\n",
      "    Cut edges targeting others: DescribeResult(nobs=6, minmax=(0.0, 0.0), mean=0.0, variance=0.0, skewness=0.0, kurtosis=-3.0)\n",
      "    Core targets vs sources Welch t test:  0.000 p= 1.000\n",
      "    Kolmogorov-Smirnov Effect Size: 0.023\n",
      "    Core targets vs Other targets Welch t test:  1.000 p= 0.323\n",
      "    Kolmogorov-Smirnov Effect Size: 0.023\n"
     ]
    },
    {
     "data": {
      "image/png": "[encoded data removed]",
      "text/plain": [
       "<Figure size 432x288 with 1 Axes>"
      ]
     },
     "metadata": {
      "needs_background": "light"
     },
     "output_type": "display_data"
    },
    {
     "name": "stdout",
     "output_type": "stream",
     "text": [
      "... PageRank centrality\n",
      "    cores: DescribeResult(nobs=43, minmax=(0.011817501143496648, 0.12825622357094377), mean=0.023139013070093348, variance=0.0006547415935656791, skewness=2.9059331270665743, kurtosis=8.266492841953086)\n",
      "    others: DescribeResult(nobs=6, minmax=(0.0, 0.005022437985986076), mean=0.000837072997664346, variance=4.204147220512646e-06, skewness=1.7888543819998317, kurtosis=1.2000000000000002)\n",
      "    Kruskal-Wallis test:  20.121 p= 0.000\n",
      "    Kolmogorov-Smirnov Effect Size: 1.000\n"
     ]
    },
    {
     "data": {
      "image/png": "[encoded data removed]",
      "text/plain": [
       "<Figure size 432x288 with 1 Axes>"
      ]
     },
     "metadata": {
      "needs_background": "light"
     },
     "output_type": "display_data"
    },
    {
     "name": "stdout",
     "output_type": "stream",
     "text": [
      "... Manifold Analysis\n",
      "... Starting attractor analysis\n",
      "    coloring frames\n",
      "    finding trajectories\n",
      "    trajectories lengths: -318.17±738.74 (median:9.00)\n",
      "... performing dimensionality reduction of the state space (using PCA)\n",
      "Silhouette Score:\n",
      "0.3360535232837365\n",
      "... testing cluster manifolds\n",
      "\n",
      "\n",
      "2/17 - data_an019_2013_08_20_245\n",
      "... loaded 53 spiketrains\n",
      "... producing spike rasterplot per session\n",
      "    population firing: 5.59±4.12 sp/frame\n",
      "    cells firing rate: 0.11±0.34 sp/s\n",
      "... generating surrogates to establish population event threshold\n",
      "... loaded surrogates\n",
      "    event size threshold (mean): 16.10526895359759\n",
      "    find peaks\n",
      "    find minima\n",
      "    find population events\n",
      "    signatures of population events\n",
      "    number of events: 20\n",
      "    number of events per sec: 0.029907295445384927\n",
      "    events duration: 1.250±0.317\n",
      "    events size: 42.000±4.475\n",
      "    Similarity of events matrix\n",
      "    clustering - linkage\n",
      "    surrogate events signatures for clustering threshold\n",
      "   ... loaded surrogates\n",
      "    cluster reproducibility threshold: 0.0\n",
      "    cluster size threshold: 2\n",
      "    Total number of clusters: 5\n",
      "    # clusters (after removing those below reproducibility threshold): 5\n",
      "    event color assignment\n",
      "    unique color assignments\n",
      "    clustered similarity map\n",
      "    finding cluster cores\n",
      "    removing cores firing unspecifically\n",
      "    gathering cores from all clusters\n",
      "    # cores: 52\n",
      "    # non-cores: 1\n",
      "    cores per cluster: 35.20±17.71 (min 0, max 47)\n",
      "    others per cluster: 17.80±17.71 (min 6, max 53)\n",
      "... Functional correlation analysis (functional structure)\n",
      "    binary spiketrains\n",
      "    shape: (53, 9942)\n",
      "    starting functional adjacency matrix\n"
     ]
    },
    {
     "name": "stderr",
     "output_type": "stream",
     "text": [
      "/opt/conda/lib/python3.10/site-packages/numpy/core/fromnumeric.py:3440: RuntimeWarning: Mean of empty slice.\n",
      "  return _methods._mean(a, axis=axis, dtype=dtype,\n",
      "/opt/conda/lib/python3.10/site-packages/numpy/core/_methods.py:189: RuntimeWarning: invalid value encountered in double_scalars\n",
      "  ret = ret.dtype.type(ret / rcount)\n",
      "/opt/conda/lib/python3.10/site-packages/numpy/lib/npyio.py:528: VisibleDeprecationWarning: Creating an ndarray from ragged nested sequences (which is a list-or-tuple of lists-or-tuples-or ndarrays with different lengths or shapes) is deprecated. If you meant to do this, you must specify 'dtype=object' when creating the ndarray.\n",
      "  arr = np.asanyarray(arr)\n"
     ]
    },
    {
     "name": "stdout",
     "output_type": "stream",
     "text": [
      "    full adjacency matrix: (53, 53)\n",
      "    preparing vertex labels for cores and others\n",
      "    Degree distributions\n",
      "    Local Clustering Coefficient (cores too)\n",
      "... Flow Analysis\n",
      "... PageRank centrality\n",
      "... Manifold Analysis\n",
      "... Starting attractor analysis\n",
      "    coloring frames\n",
      "    finding trajectories\n",
      "    trajectories lengths: -5.72±68.53 (median:11.00)\n",
      "... performing dimensionality reduction of the state space (using PCA)\n",
      "Silhouette Score:\n",
      "0.34520081407189607\n",
      "... testing cluster manifolds\n",
      "\n",
      "\n",
      "3/17 - data_an019_2013_08_20_275\n",
      "... loaded 39 spiketrains\n",
      "... producing spike rasterplot per session\n",
      "    population firing: 3.61±2.83 sp/frame\n",
      "    cells firing rate: 0.09±0.32 sp/s\n",
      "... generating surrogates to establish population event threshold\n",
      "... loaded surrogates\n",
      "    event size threshold (mean): 11.166661288556263\n",
      "    find peaks\n",
      "    find minima\n",
      "    find population events\n",
      "    signatures of population events\n",
      "    number of events: 18\n",
      "    number of events per sec: 0.027563718914456713\n",
      "    events duration: 1.000±0.270\n",
      "    events size: 26.000±2.877\n",
      "    Similarity of events matrix\n",
      "    clustering - linkage\n",
      "    surrogate events signatures for clustering threshold\n",
      "   ... loaded surrogates\n",
      "    cluster reproducibility threshold: 0.0\n",
      "    cluster size threshold: 2\n",
      "    Total number of clusters: 4\n",
      "    # clusters (after removing those below reproducibility threshold): 3\n",
      "    event color assignment\n",
      "    unique color assignments\n",
      "    clustered similarity map\n",
      "    finding cluster cores\n",
      "    removing cores firing unspecifically\n",
      "    gathering cores from all clusters\n",
      "    # cores: 32\n",
      "    # non-cores: 7\n",
      "    cores per cluster: 18.75±11.12 (min 0, max 28)\n",
      "    others per cluster: 20.25±11.12 (min 11, max 39)\n",
      "... Functional correlation analysis (functional structure)\n",
      "    binary spiketrains\n",
      "    shape: (39, 9712)\n",
      "    starting functional adjacency matrix\n"
     ]
    },
    {
     "name": "stderr",
     "output_type": "stream",
     "text": [
      "/opt/conda/lib/python3.10/site-packages/numpy/core/fromnumeric.py:3440: RuntimeWarning: Mean of empty slice.\n",
      "  return _methods._mean(a, axis=axis, dtype=dtype,\n",
      "/opt/conda/lib/python3.10/site-packages/numpy/core/_methods.py:189: RuntimeWarning: invalid value encountered in double_scalars\n",
      "  ret = ret.dtype.type(ret / rcount)\n",
      "/opt/conda/lib/python3.10/site-packages/numpy/lib/npyio.py:528: VisibleDeprecationWarning: Creating an ndarray from ragged nested sequences (which is a list-or-tuple of lists-or-tuples-or ndarrays with different lengths or shapes) is deprecated. If you meant to do this, you must specify 'dtype=object' when creating the ndarray.\n",
      "  arr = np.asanyarray(arr)\n"
     ]
    },
    {
     "name": "stdout",
     "output_type": "stream",
     "text": [
      "    full adjacency matrix: (39, 39)\n",
      "    preparing vertex labels for cores and others\n",
      "    Degree distributions\n",
      "    Local Clustering Coefficient (cores too)\n",
      "... Flow Analysis\n",
      "    Cut edges sourcing from cores: DescribeResult(nobs=32, minmax=(0.0, 1.25), mean=0.240234375, variance=0.13926647555443547, skewness=1.4951171544179405, kurtosis=0.9149188084182436)\n",
      "    Cut edges targeting cores: DescribeResult(nobs=32, minmax=(0.0, 2.03125), mean=0.2353515625, variance=0.1867429671748992, skewness=2.6422865173527286, kurtosis=7.610042550287259)\n",
      "    Cut edges sourcing from others: DescribeResult(nobs=7, minmax=(0.0, 0.0), mean=0.0, variance=0.0, skewness=0.0, kurtosis=-3.0)\n",
      "    Cut edges targeting others: DescribeResult(nobs=7, minmax=(0.0, 0.42857142857142855), mean=0.1020408163265306, variance=0.03206997084548104, skewness=1.11901355435757, kurtosis=-0.5330578512396698)\n",
      "    Core targets vs sources Welch t test:  -0.048 p= 0.962\n",
      "    Kolmogorov-Smirnov Effect Size: 0.062\n",
      "    Core targets vs Other targets Welch t test:  1.306 p= 0.204\n",
      "    Kolmogorov-Smirnov Effect Size: 0.188\n"
     ]
    },
    {
     "data": {
      "image/png": "[encoded data removed]",
      "text/plain": [
       "<Figure size 432x288 with 1 Axes>"
      ]
     },
     "metadata": {
      "needs_background": "light"
     },
     "output_type": "display_data"
    },
    {
     "name": "stdout",
     "output_type": "stream",
     "text": [
      "... PageRank centrality\n",
      "    cores: DescribeResult(nobs=32, minmax=(0.011355351139203326, 0.08744473917278661), mean=0.030727501516825424, variance=0.000572584993958879, skewness=1.2771710329321917, kurtosis=0.43481472685058264)\n",
      "    others: DescribeResult(nobs=7, minmax=(0.0, 0.010453598616868894), mean=0.0023885644945123505, variance=1.8101369934331305e-05, skewness=1.2032675944570586, kurtosis=-0.258517276352876)\n",
      "    Kruskal-Wallis test:  17.222 p= 0.000\n",
      "    Kolmogorov-Smirnov Effect Size: 1.000\n"
     ]
    },
    {
     "data": {
      "image/png": "[encoded data removed]",
      "text/plain": [
       "<Figure size 432x288 with 1 Axes>"
      ]
     },
     "metadata": {
      "needs_background": "light"
     },
     "output_type": "display_data"
    },
    {
     "name": "stdout",
     "output_type": "stream",
     "text": [
      "... Manifold Analysis\n",
      "... Starting attractor analysis\n",
      "    coloring frames\n",
      "    finding trajectories\n",
      "    trajectories lengths: -49.27±222.86 (median:9.00)\n",
      "... performing dimensionality reduction of the state space (using PCA)\n",
      "Silhouette Score:\n",
      "0.31738615773577916\n",
      "... testing cluster manifolds\n",
      "\n",
      "\n",
      "4/17 - data_an019_2013_08_16_280\n",
      "... loaded 91 spiketrains\n",
      "... producing spike rasterplot per session\n",
      "    population firing: 6.45±4.94 sp/frame\n",
      "    cells firing rate: 0.07±0.29 sp/s\n",
      "... generating surrogates to establish population event threshold\n",
      "... loaded surrogates\n",
      "    event size threshold (mean): 21.26449324806286\n",
      "    find peaks\n",
      "    find minima\n",
      "    find population events\n",
      "    signatures of population events\n",
      "    number of events: 20\n",
      "    number of events per sec: 0.0227450379339413\n",
      "    events duration: 1.000±0.353\n",
      "    events size: 56.000±7.956\n",
      "    Similarity of events matrix\n",
      "    clustering - linkage\n",
      "    surrogate events signatures for clustering threshold\n",
      "   ... loaded surrogates\n",
      "    cluster reproducibility threshold: 0.0\n",
      "    cluster size threshold: 2\n",
      "    Total number of clusters: 7\n",
      "    # clusters (after removing those below reproducibility threshold): 7\n",
      "    event color assignment\n",
      "    unique color assignments\n",
      "    clustered similarity map\n",
      "    finding cluster cores\n",
      "    removing cores firing unspecifically\n",
      "    gathering cores from all clusters\n",
      "    # cores: 83\n",
      "    # non-cores: 8\n",
      "    cores per cluster: 45.57±20.49 (min 0, max 67)\n",
      "    others per cluster: 45.43±20.49 (min 24, max 91)\n",
      "... Functional correlation analysis (functional structure)\n",
      "    binary spiketrains\n",
      "    shape: (91, 13071)\n",
      "    starting functional adjacency matrix\n"
     ]
    },
    {
     "name": "stderr",
     "output_type": "stream",
     "text": [
      "/opt/conda/lib/python3.10/site-packages/numpy/core/fromnumeric.py:3440: RuntimeWarning: Mean of empty slice.\n",
      "  return _methods._mean(a, axis=axis, dtype=dtype,\n",
      "/opt/conda/lib/python3.10/site-packages/numpy/core/_methods.py:189: RuntimeWarning: invalid value encountered in double_scalars\n",
      "  ret = ret.dtype.type(ret / rcount)\n",
      "/opt/conda/lib/python3.10/site-packages/numpy/lib/npyio.py:528: VisibleDeprecationWarning: Creating an ndarray from ragged nested sequences (which is a list-or-tuple of lists-or-tuples-or ndarrays with different lengths or shapes) is deprecated. If you meant to do this, you must specify 'dtype=object' when creating the ndarray.\n",
      "  arr = np.asanyarray(arr)\n"
     ]
    },
    {
     "name": "stdout",
     "output_type": "stream",
     "text": [
      "    full adjacency matrix: (91, 91)\n",
      "    preparing vertex labels for cores and others\n",
      "    Degree distributions\n",
      "    Local Clustering Coefficient (cores too)\n",
      "... Flow Analysis\n",
      "    Cut edges sourcing from cores: DescribeResult(nobs=83, minmax=(0.0, 0.3253012048192771), mean=0.023080272898824215, variance=0.0037465341328066603, skewness=3.1569344678754003, kurtosis=10.136317035518289)\n",
      "    Cut edges targeting cores: DescribeResult(nobs=83, minmax=(0.0, 0.3373493975903614), mean=0.023080272898824212, variance=0.0031658983366098245, skewness=3.2887107065208, kurtosis=12.374129560002453)\n",
      "    Cut edges sourcing from others: DescribeResult(nobs=8, minmax=(0.0, 0.0), mean=0.0, variance=0.0, skewness=0.0, kurtosis=-3.0)\n",
      "    Cut edges targeting others: DescribeResult(nobs=8, minmax=(0.0, 0.0), mean=0.0, variance=0.0, skewness=0.0, kurtosis=-3.0)\n",
      "    Core targets vs sources Welch t test:  -0.000 p= 1.000\n",
      "    Kolmogorov-Smirnov Effect Size: 0.048\n",
      "    Core targets vs Other targets Welch t test:  3.737 p= 0.000\n",
      "    Kolmogorov-Smirnov Effect Size: 0.253\n"
     ]
    },
    {
     "data": {
      "image/png": "[encoded data removed]",
      "text/plain": [
       "<Figure size 432x288 with 1 Axes>"
      ]
     },
     "metadata": {
      "needs_background": "light"
     },
     "output_type": "display_data"
    },
    {
     "name": "stdout",
     "output_type": "stream",
     "text": [
      "... PageRank centrality\n",
      "    cores: DescribeResult(nobs=83, minmax=(0.005860793953556557, 0.06995587902676359), mean=0.012048192771084336, variance=0.0001302009638618248, skewness=2.8240863305936963, kurtosis=9.078708455975432)\n",
      "    others: DescribeResult(nobs=8, minmax=(0.0, 0.0), mean=0.0, variance=0.0, skewness=0.0, kurtosis=-3.0)\n",
      "    Kruskal-Wallis test:  24.883 p= 0.000\n",
      "    Kolmogorov-Smirnov Effect Size: 1.000\n"
     ]
    },
    {
     "data": {
      "image/png": "[encoded data removed]",
      "text/plain": [
       "<Figure size 432x288 with 1 Axes>"
      ]
     },
     "metadata": {
      "needs_background": "light"
     },
     "output_type": "display_data"
    },
    {
     "name": "stdout",
     "output_type": "stream",
     "text": [
      "... Manifold Analysis\n",
      "... Starting attractor analysis\n",
      "    coloring frames\n",
      "    finding trajectories\n",
      "    trajectories lengths: 0.13±44.78 (median:9.00)\n",
      "... performing dimensionality reduction of the state space (using PCA)\n",
      "Silhouette Score:\n",
      "0.31975049849389137\n",
      "... testing cluster manifolds\n",
      "\n",
      "\n",
      "5/17 - data_an019_2013_08_16_310\n",
      "... loaded 121 spiketrains\n",
      "... producing spike rasterplot per session\n",
      "    population firing: 8.78±6.80 sp/frame\n",
      "    cells firing rate: 0.07±0.29 sp/s\n",
      "... generating surrogates to establish population event threshold\n",
      "... loaded surrogates\n",
      "    event size threshold (mean): 24.105451943859432\n",
      "    find peaks\n",
      "    find minima\n",
      "    find population events\n",
      "    signatures of population events\n",
      "    number of events: 46\n",
      "    number of events per sec: 0.06378024852844998\n",
      "    events duration: 1.000±0.526\n",
      "    events size: 61.000±11.613\n",
      "    Similarity of events matrix\n",
      "    clustering - linkage\n",
      "    surrogate events signatures for clustering threshold\n",
      "   ... loaded surrogates\n",
      "    cluster reproducibility threshold: 0.0\n",
      "    cluster size threshold: 2\n",
      "    Total number of clusters: 12\n",
      "    # clusters (after removing those below reproducibility threshold): 11\n",
      "    event color assignment\n",
      "    unique color assignments\n",
      "    clustered similarity map\n",
      "    finding cluster cores\n",
      "    removing cores firing unspecifically\n",
      "    gathering cores from all clusters\n",
      "    # cores: 117\n",
      "    # non-cores: 4\n",
      "    cores per cluster: 55.33±24.02 (min 0, max 84)\n",
      "    others per cluster: 65.67±24.02 (min 37, max 121)\n",
      "... Functional correlation analysis (functional structure)\n",
      "    binary spiketrains\n",
      "    shape: (121, 10718)\n",
      "    starting functional adjacency matrix\n"
     ]
    },
    {
     "name": "stderr",
     "output_type": "stream",
     "text": [
      "/opt/conda/lib/python3.10/site-packages/numpy/core/fromnumeric.py:3440: RuntimeWarning: Mean of empty slice.\n",
      "  return _methods._mean(a, axis=axis, dtype=dtype,\n",
      "/opt/conda/lib/python3.10/site-packages/numpy/core/_methods.py:189: RuntimeWarning: invalid value encountered in double_scalars\n",
      "  ret = ret.dtype.type(ret / rcount)\n",
      "/opt/conda/lib/python3.10/site-packages/numpy/lib/npyio.py:528: VisibleDeprecationWarning: Creating an ndarray from ragged nested sequences (which is a list-or-tuple of lists-or-tuples-or ndarrays with different lengths or shapes) is deprecated. If you meant to do this, you must specify 'dtype=object' when creating the ndarray.\n",
      "  arr = np.asanyarray(arr)\n"
     ]
    },
    {
     "name": "stdout",
     "output_type": "stream",
     "text": [
      "    full adjacency matrix: (121, 121)\n",
      "    preparing vertex labels for cores and others\n",
      "    Degree distributions\n",
      "    Local Clustering Coefficient (cores too)\n",
      "... Flow Analysis\n",
      "    Cut edges sourcing from cores: DescribeResult(nobs=117, minmax=(0.0, 0.6837606837606838), mean=0.020454379428738408, variance=0.006908337256641083, skewness=5.9880602419814535, kurtosis=39.82154543346341)\n",
      "    Cut edges targeting cores: DescribeResult(nobs=117, minmax=(0.0, 0.358974358974359), mean=0.020454379428738408, variance=0.004428369701518795, skewness=3.639625499512072, kurtosis=12.668640143968107)\n",
      "    Cut edges sourcing from others: DescribeResult(nobs=4, minmax=(0.0, 0.0), mean=0.0, variance=0.0, skewness=0.0, kurtosis=-3.0)\n",
      "    Cut edges targeting others: DescribeResult(nobs=4, minmax=(0.0, 0.0), mean=0.0, variance=0.0, skewness=0.0, kurtosis=-3.0)\n",
      "    Core targets vs sources Welch t test:  0.000 p= 1.000\n",
      "    Kolmogorov-Smirnov Effect Size: 0.034\n",
      "    Core targets vs Other targets Welch t test:  3.325 p= 0.001\n",
      "    Kolmogorov-Smirnov Effect Size: 0.154\n"
     ]
    },
    {
     "data": {
      "image/png": "[encoded data removed]",
      "text/plain": [
       "<Figure size 432x288 with 1 Axes>"
      ]
     },
     "metadata": {
      "needs_background": "light"
     },
     "output_type": "display_data"
    },
    {
     "name": "stdout",
     "output_type": "stream",
     "text": [
      "... PageRank centrality\n",
      "    cores: DescribeResult(nobs=117, minmax=(0.0038831477149912116, 0.08303969596187455), mean=0.008488563545487663, variance=0.00011553593176471856, skewness=3.9689140895824018, kurtosis=20.539611880510407)\n",
      "    others: DescribeResult(nobs=4, minmax=(0.0, 0.006838065177943338), mean=0.0017095162944858345, variance=1.1689783844450313e-05, skewness=1.154700538379252, kurtosis=-0.6666666666666665)\n",
      "    Kruskal-Wallis test:  6.938 p= 0.008\n",
      "    Kolmogorov-Smirnov Effect Size: 0.750\n"
     ]
    },
    {
     "data": {
      "image/png": "[encoded data removed]",
      "text/plain": [
       "<Figure size 432x288 with 1 Axes>"
      ]
     },
     "metadata": {
      "needs_background": "light"
     },
     "output_type": "display_data"
    },
    {
     "name": "stdout",
     "output_type": "stream",
     "text": [
      "... Manifold Analysis\n",
      "... Starting attractor analysis\n",
      "    coloring frames\n",
      "    finding trajectories\n",
      "    trajectories lengths: 10.81±7.44 (median:11.00)\n",
      "... performing dimensionality reduction of the state space (using PCA)\n",
      "Silhouette Score:\n",
      "0.2676574332573149\n",
      "... testing cluster manifolds\n",
      "\n",
      "\n",
      "6/17 - data_an019_2013_08_16_340\n",
      "... loaded 145 spiketrains\n",
      "... producing spike rasterplot per session\n",
      "    population firing: 11.36±8.69 sp/frame\n",
      "    cells firing rate: 0.08±0.30 sp/s\n",
      "... generating surrogates to establish population event threshold\n",
      "... loaded surrogates\n",
      "    event size threshold (mean): 28.915213717157155\n",
      "    find peaks\n",
      "    find minima\n",
      "    find population events\n",
      "    signatures of population events\n",
      "    number of events: 70\n",
      "    number of events per sec: 0.0896135265700483\n",
      "    events duration: 1.200±0.313\n",
      "    events size: 75.000±12.613\n",
      "    Similarity of events matrix\n",
      "    clustering - linkage\n",
      "    surrogate events signatures for clustering threshold\n",
      "   ... loaded surrogates\n",
      "    cluster reproducibility threshold: 0.0\n",
      "    cluster size threshold: 2\n",
      "    Total number of clusters: 23\n",
      "    # clusters (after removing those below reproducibility threshold): 22\n",
      "    event color assignment\n",
      "    unique color assignments\n",
      "    clustered similarity map\n",
      "    finding cluster cores\n",
      "    removing cores firing unspecifically\n",
      "    gathering cores from all clusters\n",
      "    # cores: 145\n",
      "    # non-cores: 0\n",
      "    cores per cluster: 71.70±31.59 (min 0, max 123)\n",
      "    others per cluster: 73.30±31.59 (min 22, max 145)\n",
      "... Functional correlation analysis (functional structure)\n",
      "    binary spiketrains\n",
      "    shape: (145, 11605)\n",
      "    starting functional adjacency matrix\n"
     ]
    },
    {
     "name": "stderr",
     "output_type": "stream",
     "text": [
      "/opt/conda/lib/python3.10/site-packages/numpy/core/fromnumeric.py:3440: RuntimeWarning: Mean of empty slice.\n",
      "  return _methods._mean(a, axis=axis, dtype=dtype,\n",
      "/opt/conda/lib/python3.10/site-packages/numpy/core/_methods.py:189: RuntimeWarning: invalid value encountered in double_scalars\n",
      "  ret = ret.dtype.type(ret / rcount)\n",
      "/opt/conda/lib/python3.10/site-packages/numpy/lib/npyio.py:528: VisibleDeprecationWarning: Creating an ndarray from ragged nested sequences (which is a list-or-tuple of lists-or-tuples-or ndarrays with different lengths or shapes) is deprecated. If you meant to do this, you must specify 'dtype=object' when creating the ndarray.\n",
      "  arr = np.asanyarray(arr)\n"
     ]
    },
    {
     "name": "stdout",
     "output_type": "stream",
     "text": [
      "    full adjacency matrix: (145, 145)\n",
      "    preparing vertex labels for cores and others\n",
      "    Degree distributions\n",
      "    Local Clustering Coefficient (cores too)\n",
      "... Flow Analysis\n",
      "... PageRank centrality\n",
      "... Manifold Analysis\n",
      "... Starting attractor analysis\n",
      "    coloring frames\n",
      "    finding trajectories\n",
      "    trajectories lengths: 12.33±11.60 (median:12.00)\n",
      "... performing dimensionality reduction of the state space (using PCA)\n",
      "Silhouette Score:\n",
      "0.23986350133103665\n",
      "... testing cluster manifolds\n",
      "\n",
      "\n",
      "7/17 - data_an019_2013_08_16_370\n",
      "... loaded 135 spiketrains\n",
      "... producing spike rasterplot per session\n",
      "    population firing: 11.86±8.70 sp/frame\n",
      "    cells firing rate: 0.09±0.32 sp/s\n",
      "... generating surrogates to establish population event threshold\n",
      "... loaded surrogates\n",
      "    event size threshold (mean): 31.588824801599813\n",
      "    find peaks\n",
      "    find minima\n",
      "    find population events\n",
      "    signatures of population events\n",
      "    number of events: 33\n",
      "    number of events per sec: 0.06465804066543437\n",
      "    events duration: 1.000±0.413\n",
      "    events size: 74.000±12.844\n",
      "    Similarity of events matrix\n",
      "    clustering - linkage\n",
      "    surrogate events signatures for clustering threshold\n",
      "   ... loaded surrogates\n",
      "    cluster reproducibility threshold: 0.0\n",
      "    cluster size threshold: 2\n",
      "    Total number of clusters: 10\n",
      "    # clusters (after removing those below reproducibility threshold): 8\n",
      "    event color assignment\n",
      "    unique color assignments\n",
      "    clustered similarity map\n",
      "    finding cluster cores\n",
      "    removing cores firing unspecifically\n",
      "    gathering cores from all clusters\n",
      "    # cores: 134\n",
      "    # non-cores: 1\n",
      "    cores per cluster: 76.00±35.65 (min 0, max 145)\n",
      "    others per cluster: 63.56±28.43 (min 31, max 135)\n",
      "... Functional correlation analysis (functional structure)\n",
      "    binary spiketrains\n",
      "    shape: (135, 7590)\n",
      "    starting functional adjacency matrix\n"
     ]
    },
    {
     "name": "stderr",
     "output_type": "stream",
     "text": [
      "/opt/conda/lib/python3.10/site-packages/numpy/core/fromnumeric.py:3440: RuntimeWarning: Mean of empty slice.\n",
      "  return _methods._mean(a, axis=axis, dtype=dtype,\n",
      "/opt/conda/lib/python3.10/site-packages/numpy/core/_methods.py:189: RuntimeWarning: invalid value encountered in double_scalars\n",
      "  ret = ret.dtype.type(ret / rcount)\n",
      "/opt/conda/lib/python3.10/site-packages/numpy/lib/npyio.py:528: VisibleDeprecationWarning: Creating an ndarray from ragged nested sequences (which is a list-or-tuple of lists-or-tuples-or ndarrays with different lengths or shapes) is deprecated. If you meant to do this, you must specify 'dtype=object' when creating the ndarray.\n",
      "  arr = np.asanyarray(arr)\n"
     ]
    },
    {
     "name": "stdout",
     "output_type": "stream",
     "text": [
      "    full adjacency matrix: (135, 135)\n",
      "    preparing vertex labels for cores and others\n",
      "    Degree distributions\n",
      "    Local Clustering Coefficient (cores too)\n",
      "... Flow Analysis\n",
      "... PageRank centrality\n",
      "... Manifold Analysis\n",
      "... Starting attractor analysis\n",
      "    coloring frames\n",
      "    finding trajectories\n",
      "    trajectories lengths: 5.92±21.63 (median:9.00)\n",
      "... performing dimensionality reduction of the state space (using PCA)\n",
      "Silhouette Score:\n",
      "0.2974576832198246\n",
      "... testing cluster manifolds\n",
      "\n",
      "\n",
      "8/17 - data_an019_2013_08_19_410\n",
      "... loaded 108 spiketrains\n",
      "... producing spike rasterplot per session\n",
      "    population firing: 9.19±7.26 sp/frame\n",
      "    cells firing rate: 0.09±0.31 sp/s\n",
      "... generating surrogates to establish population event threshold\n",
      "... loaded surrogates\n",
      "    event size threshold (mean): 24.381045418254807\n",
      "    find peaks\n",
      "    find minima\n",
      "    find population events\n",
      "    signatures of population events\n",
      "    number of events: 52\n",
      "    number of events per sec: 0.07727618666132585\n",
      "    events duration: 1.050±0.354\n",
      "    events size: 64.000±11.340\n",
      "    Similarity of events matrix\n",
      "    clustering - linkage\n",
      "    surrogate events signatures for clustering threshold\n",
      "   ... loaded surrogates\n",
      "    cluster reproducibility threshold: 0.0\n",
      "    cluster size threshold: 2\n",
      "    Total number of clusters: 9\n",
      "    # clusters (after removing those below reproducibility threshold): 9\n",
      "    event color assignment\n",
      "    unique color assignments\n",
      "    clustered similarity map\n",
      "    finding cluster cores\n",
      "    removing cores firing unspecifically\n",
      "    gathering cores from all clusters\n",
      "    # cores: 108\n",
      "    # non-cores: 0\n",
      "    cores per cluster: 51.33±33.02 (min 0, max 101)\n",
      "    others per cluster: 56.67±33.02 (min 7, max 108)\n",
      "... Functional correlation analysis (functional structure)\n",
      "    binary spiketrains\n",
      "    shape: (108, 9990)\n",
      "    starting functional adjacency matrix\n"
     ]
    },
    {
     "name": "stderr",
     "output_type": "stream",
     "text": [
      "/opt/conda/lib/python3.10/site-packages/numpy/core/fromnumeric.py:3440: RuntimeWarning: Mean of empty slice.\n",
      "  return _methods._mean(a, axis=axis, dtype=dtype,\n",
      "/opt/conda/lib/python3.10/site-packages/numpy/core/_methods.py:189: RuntimeWarning: invalid value encountered in double_scalars\n",
      "  ret = ret.dtype.type(ret / rcount)\n",
      "/opt/conda/lib/python3.10/site-packages/numpy/lib/npyio.py:528: VisibleDeprecationWarning: Creating an ndarray from ragged nested sequences (which is a list-or-tuple of lists-or-tuples-or ndarrays with different lengths or shapes) is deprecated. If you meant to do this, you must specify 'dtype=object' when creating the ndarray.\n",
      "  arr = np.asanyarray(arr)\n"
     ]
    },
    {
     "name": "stdout",
     "output_type": "stream",
     "text": [
      "    full adjacency matrix: (108, 108)\n",
      "    preparing vertex labels for cores and others\n",
      "    Degree distributions\n",
      "    Local Clustering Coefficient (cores too)\n",
      "... Flow Analysis\n",
      "... PageRank centrality\n",
      "... Manifold Analysis\n",
      "... Starting attractor analysis\n",
      "    coloring frames\n",
      "    finding trajectories\n",
      "    trajectories lengths: 8.58±28.03 (median:12.50)\n",
      "... performing dimensionality reduction of the state space (using PCA)\n",
      "Silhouette Score:\n",
      "0.27836145617850916\n",
      "... testing cluster manifolds\n",
      "\n",
      "\n",
      "9/17 - data_an019_2013_08_19_440\n",
      "... loaded 83 spiketrains\n",
      "... producing spike rasterplot per session\n",
      "    population firing: 7.44±5.26 sp/frame\n",
      "    cells firing rate: 0.09±0.32 sp/s\n",
      "... generating surrogates to establish population event threshold\n",
      "... loaded surrogates\n",
      "    event size threshold (mean): 20.751732853430717\n",
      "    find peaks\n",
      "    find minima\n",
      "    find population events\n",
      "    signatures of population events\n",
      "    number of events: 11\n",
      "    number of events per sec: 0.020197970799307102\n",
      "    events duration: 1.000±0.317\n",
      "    events size: 57.000±5.657\n",
      "    Similarity of events matrix\n",
      "    clustering - linkage\n",
      "    surrogate events signatures for clustering threshold\n",
      "   ... loaded surrogates\n",
      "    cluster reproducibility threshold: 0.0\n",
      "    cluster size threshold: 2\n",
      "    Total number of clusters: 5\n",
      "    # clusters (after removing those below reproducibility threshold): 4\n",
      "    event color assignment\n",
      "    unique color assignments\n",
      "    clustered similarity map\n",
      "    finding cluster cores\n",
      "    removing cores firing unspecifically\n",
      "    gathering cores from all clusters\n",
      "    # cores: 82\n",
      "    # non-cores: 1\n",
      "    cores per cluster: 51.80±26.48 (min 0, max 75)\n",
      "    others per cluster: 31.20±26.48 (min 8, max 83)\n",
      "... Functional correlation analysis (functional structure)\n",
      "    binary spiketrains\n",
      "    shape: (83, 8086)\n",
      "    starting functional adjacency matrix\n"
     ]
    },
    {
     "name": "stderr",
     "output_type": "stream",
     "text": [
      "/opt/conda/lib/python3.10/site-packages/numpy/core/fromnumeric.py:3440: RuntimeWarning: Mean of empty slice.\n",
      "  return _methods._mean(a, axis=axis, dtype=dtype,\n",
      "/opt/conda/lib/python3.10/site-packages/numpy/core/_methods.py:189: RuntimeWarning: invalid value encountered in double_scalars\n",
      "  ret = ret.dtype.type(ret / rcount)\n",
      "/opt/conda/lib/python3.10/site-packages/numpy/lib/npyio.py:528: VisibleDeprecationWarning: Creating an ndarray from ragged nested sequences (which is a list-or-tuple of lists-or-tuples-or ndarrays with different lengths or shapes) is deprecated. If you meant to do this, you must specify 'dtype=object' when creating the ndarray.\n",
      "  arr = np.asanyarray(arr)\n"
     ]
    },
    {
     "name": "stdout",
     "output_type": "stream",
     "text": [
      "    full adjacency matrix: (83, 83)\n",
      "    preparing vertex labels for cores and others\n",
      "    Degree distributions\n",
      "    Local Clustering Coefficient (cores too)\n",
      "... Flow Analysis\n",
      "... PageRank centrality\n",
      "... Manifold Analysis\n",
      "... Starting attractor analysis\n",
      "    coloring frames\n",
      "    finding trajectories\n",
      "    trajectories lengths: 8.60±6.10 (median:8.50)\n",
      "... performing dimensionality reduction of the state space (using PCA)\n",
      "Silhouette Score:\n",
      "0.32979760493189897\n",
      "... testing cluster manifolds\n",
      "\n",
      "\n",
      "10/17 - data_an019_2013_08_19_470\n",
      "... loaded 103 spiketrains\n",
      "... producing spike rasterplot per session\n",
      "    population firing: 8.88±6.09 sp/frame\n",
      "    cells firing rate: 0.09±0.32 sp/s\n",
      "... generating surrogates to establish population event threshold\n",
      "... loaded surrogates\n",
      "    event size threshold (mean): 24.555563663982255\n",
      "    find peaks\n",
      "    find minima\n",
      "    find population events\n",
      "    signatures of population events\n",
      "    number of events: 16\n",
      "    number of events per sec: 0.01999831550576939\n",
      "    events duration: 1.000±0.262\n",
      "    events size: 57.000±8.572\n",
      "    Similarity of events matrix\n",
      "    clustering - linkage\n",
      "    surrogate events signatures for clustering threshold\n",
      "   ... loaded surrogates\n",
      "    cluster reproducibility threshold: 0.0\n",
      "    cluster size threshold: 2\n",
      "    Total number of clusters: 10\n",
      "    # clusters (after removing those below reproducibility threshold): 5\n",
      "    event color assignment\n",
      "    unique color assignments\n",
      "    clustered similarity map\n",
      "    finding cluster cores\n",
      "    removing cores firing unspecifically\n",
      "    gathering cores from all clusters\n",
      "    # cores: 101\n",
      "    # non-cores: 2\n",
      "    cores per cluster: 83.67±59.97 (min 0, max 202)\n",
      "    others per cluster: 37.50±30.77 (min 10, max 103)\n",
      "... Functional correlation analysis (functional structure)\n",
      "    binary spiketrains\n",
      "    shape: (103, 11875)\n",
      "    starting functional adjacency matrix\n"
     ]
    },
    {
     "name": "stderr",
     "output_type": "stream",
     "text": [
      "/opt/conda/lib/python3.10/site-packages/numpy/core/fromnumeric.py:3440: RuntimeWarning: Mean of empty slice.\n",
      "  return _methods._mean(a, axis=axis, dtype=dtype,\n",
      "/opt/conda/lib/python3.10/site-packages/numpy/core/_methods.py:189: RuntimeWarning: invalid value encountered in double_scalars\n",
      "  ret = ret.dtype.type(ret / rcount)\n",
      "/opt/conda/lib/python3.10/site-packages/numpy/lib/npyio.py:528: VisibleDeprecationWarning: Creating an ndarray from ragged nested sequences (which is a list-or-tuple of lists-or-tuples-or ndarrays with different lengths or shapes) is deprecated. If you meant to do this, you must specify 'dtype=object' when creating the ndarray.\n",
      "  arr = np.asanyarray(arr)\n"
     ]
    },
    {
     "name": "stdout",
     "output_type": "stream",
     "text": [
      "    full adjacency matrix: (103, 103)\n",
      "    preparing vertex labels for cores and others\n",
      "    Degree distributions\n",
      "    Local Clustering Coefficient (cores too)\n",
      "... Flow Analysis\n",
      "    Cut edges sourcing from cores: DescribeResult(nobs=101, minmax=(0.0, 0.1485148514851485), mean=0.005195569061856681, variance=0.0003913225358414677, skewness=5.25950318405156, kurtosis=30.799469884097498)\n",
      "    Cut edges targeting cores: DescribeResult(nobs=101, minmax=(0.0, 0.09900990099009901), mean=0.005195569061856681, variance=0.0002834899704067064, skewness=3.660342779201347, kurtosis=13.617894895805275)\n",
      "    Cut edges sourcing from others: DescribeResult(nobs=2, minmax=(0.0, 0.0), mean=0.0, variance=0.0, skewness=0.0, kurtosis=-3.0)\n",
      "    Cut edges targeting others: DescribeResult(nobs=2, minmax=(0.0, 0.0), mean=0.0, variance=0.0, skewness=0.0, kurtosis=-3.0)\n",
      "    Core targets vs sources Welch t test:  0.000 p= 1.000\n",
      "    Kolmogorov-Smirnov Effect Size: 0.030\n",
      "    Core targets vs Other targets Welch t test:  3.101 p= 0.003\n",
      "    Kolmogorov-Smirnov Effect Size: 0.119\n"
     ]
    },
    {
     "data": {
      "image/png": "[encoded data removed]",
      "text/plain": [
       "<Figure size 432x288 with 1 Axes>"
      ]
     },
     "metadata": {
      "needs_background": "light"
     },
     "output_type": "display_data"
    },
    {
     "name": "stdout",
     "output_type": "stream",
     "text": [
      "... PageRank centrality\n",
      "    cores: DescribeResult(nobs=101, minmax=(0.00472092834630562, 0.05164696087873521), mean=0.009900990099009903, variance=0.00012496241350099262, skewness=2.3787595432300215, kurtosis=4.7325839068306585)\n",
      "    others: DescribeResult(nobs=2, minmax=(0.0, 0.0), mean=0.0, variance=0.0, skewness=0.0, kurtosis=-3.0)\n",
      "    Kruskal-Wallis test:  9.261 p= 0.002\n",
      "    Kolmogorov-Smirnov Effect Size: 1.000\n"
     ]
    },
    {
     "data": {
      "image/png": "[encoded data removed]",
      "text/plain": [
       "<Figure size 432x288 with 1 Axes>"
      ]
     },
     "metadata": {
      "needs_background": "light"
     },
     "output_type": "display_data"
    },
    {
     "name": "stdout",
     "output_type": "stream",
     "text": [
      "... Manifold Analysis\n",
      "... Starting attractor analysis\n",
      "    coloring frames\n",
      "    finding trajectories\n",
      "    trajectories lengths: -1.93±44.80 (median:9.00)\n",
      "... performing dimensionality reduction of the state space (using PCA)\n",
      "Silhouette Score:\n",
      "0.2669254375314428\n",
      "... testing cluster manifolds\n",
      "\n",
      "\n",
      "11/17 - data_an019_2013_08_15_480\n",
      "... loaded 69 spiketrains\n",
      "... producing spike rasterplot per session\n",
      "    population firing: 6.19±4.12 sp/frame\n",
      "    cells firing rate: 0.09±0.32 sp/s\n",
      "... generating surrogates to establish population event threshold\n",
      "... loaded surrogates\n",
      "    event size threshold (mean): 17.622808158850347\n",
      "    find peaks\n",
      "    find minima\n",
      "    find population events\n",
      "    signatures of population events\n",
      "    number of events: 10\n",
      "    number of events per sec: 0.013280830499373545\n",
      "    events duration: 1.100±0.356\n",
      "    events size: 48.000±5.407\n",
      "    Similarity of events matrix\n",
      "    clustering - linkage\n",
      "    surrogate events signatures for clustering threshold\n",
      "   ... loaded surrogates\n",
      "    cluster reproducibility threshold: 0.0\n",
      "    cluster size threshold: 2\n",
      "    Total number of clusters: 4\n",
      "    # clusters (after removing those below reproducibility threshold): 3\n",
      "    event color assignment\n",
      "    unique color assignments\n",
      "    clustered similarity map\n",
      "    finding cluster cores\n",
      "    removing cores firing unspecifically\n",
      "    gathering cores from all clusters\n",
      "    # cores: 67\n",
      "    # non-cores: 2\n",
      "    cores per cluster: 37.25±24.71 (min 0, max 62)\n",
      "    others per cluster: 31.75±24.71 (min 7, max 69)\n",
      "... Functional correlation analysis (functional structure)\n",
      "    binary spiketrains\n",
      "    shape: (69, 11191)\n",
      "    starting functional adjacency matrix\n"
     ]
    },
    {
     "name": "stderr",
     "output_type": "stream",
     "text": [
      "/opt/conda/lib/python3.10/site-packages/numpy/core/fromnumeric.py:3440: RuntimeWarning: Mean of empty slice.\n",
      "  return _methods._mean(a, axis=axis, dtype=dtype,\n",
      "/opt/conda/lib/python3.10/site-packages/numpy/core/_methods.py:189: RuntimeWarning: invalid value encountered in double_scalars\n",
      "  ret = ret.dtype.type(ret / rcount)\n",
      "/opt/conda/lib/python3.10/site-packages/numpy/lib/npyio.py:528: VisibleDeprecationWarning: Creating an ndarray from ragged nested sequences (which is a list-or-tuple of lists-or-tuples-or ndarrays with different lengths or shapes) is deprecated. If you meant to do this, you must specify 'dtype=object' when creating the ndarray.\n",
      "  arr = np.asanyarray(arr)\n"
     ]
    },
    {
     "name": "stdout",
     "output_type": "stream",
     "text": [
      "    full adjacency matrix: (69, 69)\n",
      "    preparing vertex labels for cores and others\n",
      "    Degree distributions\n",
      "    Local Clustering Coefficient (cores too)\n"
     ]
    },
    {
     "name": "stderr",
     "output_type": "stream",
     "text": [
      "/tmp/ipykernel_6190/1776641453.py:11: UserWarning: Data has no positive values, and therefore cannot be log-scaled.\n",
      "  hmmap.set_yscale('log')\n"
     ]
    },
    {
     "name": "stdout",
     "output_type": "stream",
     "text": [
      "... Flow Analysis\n",
      "    Cut edges sourcing from cores: DescribeResult(nobs=67, minmax=(0.0, 0.05970149253731343), mean=0.0020049008687903764, variance=9.380183470746469e-05, skewness=4.896363729032613, kurtosis=23.27458953506217)\n",
      "    Cut edges targeting cores: DescribeResult(nobs=67, minmax=(0.0, 0.05970149253731343), mean=0.0020049008687903764, variance=7.355031078028918e-05, skewness=5.315369933903625, kurtosis=30.457857008819694)\n",
      "    Cut edges sourcing from others: DescribeResult(nobs=2, minmax=(0.0, 0.0), mean=0.0, variance=0.0, skewness=0.0, kurtosis=-3.0)\n",
      "    Cut edges targeting others: DescribeResult(nobs=2, minmax=(0.0, 0.0), mean=0.0, variance=0.0, skewness=0.0, kurtosis=-3.0)\n",
      "    Core targets vs sources Welch t test:  0.000 p= 1.000\n",
      "    Kolmogorov-Smirnov Effect Size: 0.030\n",
      "    Core targets vs Other targets Welch t test:  1.914 p= 0.060\n",
      "    Kolmogorov-Smirnov Effect Size: 0.075\n"
     ]
    },
    {
     "data": {
      "image/png": "[encoded data removed]",
      "text/plain": [
       "<Figure size 432x288 with 1 Axes>"
      ]
     },
     "metadata": {
      "needs_background": "light"
     },
     "output_type": "display_data"
    },
    {
     "name": "stdout",
     "output_type": "stream",
     "text": [
      "... PageRank centrality\n",
      "    cores: DescribeResult(nobs=67, minmax=(0.007515147327708929, 0.09613972257069078), mean=0.014925373134328358, variance=0.0002904087333287362, skewness=2.868366196284258, kurtosis=8.545568537025666)\n",
      "    others: DescribeResult(nobs=2, minmax=(0.0, 0.0), mean=0.0, variance=0.0, skewness=0.0, kurtosis=-3.0)\n",
      "    Kruskal-Wallis test:  8.947 p= 0.003\n",
      "    Kolmogorov-Smirnov Effect Size: 1.000\n"
     ]
    },
    {
     "data": {
      "image/png": "[encoded data removed]",
      "text/plain": [
       "<Figure size 432x288 with 1 Axes>"
      ]
     },
     "metadata": {
      "needs_background": "light"
     },
     "output_type": "display_data"
    },
    {
     "name": "stdout",
     "output_type": "stream",
     "text": [
      "... Manifold Analysis\n",
      "... Starting attractor analysis\n",
      "    coloring frames\n",
      "    finding trajectories\n",
      "    trajectories lengths: -119.75±347.08 (median:12.00)\n",
      "... performing dimensionality reduction of the state space (using PCA)\n",
      "Silhouette Score:\n",
      "0.3366059725690639\n",
      "... testing cluster manifolds\n",
      "\n",
      "\n",
      "12/17 - data_an019_2013_08_19_500\n",
      "... loaded 88 spiketrains\n",
      "... producing spike rasterplot per session\n",
      "    population firing: 8.16±6.12 sp/frame\n",
      "    cells firing rate: 0.09±0.32 sp/s\n",
      "... generating surrogates to establish population event threshold\n",
      "... loaded surrogates\n",
      "    event size threshold (mean): 21.973669145760645\n",
      "    find peaks\n",
      "    find minima\n",
      "    find population events\n",
      "    signatures of population events\n",
      "    number of events: 36\n",
      "    number of events per sec: 0.055144508670520224\n",
      "    events duration: 1.050±0.281\n",
      "    events size: 52.500±6.300\n",
      "    Similarity of events matrix\n",
      "    clustering - linkage\n",
      "    surrogate events signatures for clustering threshold\n",
      "   ... loaded surrogates\n",
      "    cluster reproducibility threshold: 0.0\n",
      "    cluster size threshold: 2\n",
      "    Total number of clusters: 10\n",
      "    # clusters (after removing those below reproducibility threshold): 9\n",
      "    event color assignment\n",
      "    unique color assignments\n",
      "    clustered similarity map\n",
      "    finding cluster cores\n",
      "    removing cores firing unspecifically\n",
      "    gathering cores from all clusters\n",
      "    # cores: 87\n",
      "    # non-cores: 1\n",
      "    cores per cluster: 42.90±24.43 (min 0, max 67)\n",
      "    others per cluster: 45.10±24.43 (min 21, max 88)\n",
      "... Functional correlation analysis (functional structure)\n",
      "    binary spiketrains\n",
      "    shape: (88, 9690)\n",
      "    starting functional adjacency matrix\n"
     ]
    },
    {
     "name": "stderr",
     "output_type": "stream",
     "text": [
      "/opt/conda/lib/python3.10/site-packages/numpy/core/fromnumeric.py:3440: RuntimeWarning: Mean of empty slice.\n",
      "  return _methods._mean(a, axis=axis, dtype=dtype,\n",
      "/opt/conda/lib/python3.10/site-packages/numpy/core/_methods.py:189: RuntimeWarning: invalid value encountered in double_scalars\n",
      "  ret = ret.dtype.type(ret / rcount)\n",
      "/opt/conda/lib/python3.10/site-packages/numpy/lib/npyio.py:528: VisibleDeprecationWarning: Creating an ndarray from ragged nested sequences (which is a list-or-tuple of lists-or-tuples-or ndarrays with different lengths or shapes) is deprecated. If you meant to do this, you must specify 'dtype=object' when creating the ndarray.\n",
      "  arr = np.asanyarray(arr)\n"
     ]
    },
    {
     "name": "stdout",
     "output_type": "stream",
     "text": [
      "    full adjacency matrix: (88, 88)\n",
      "    preparing vertex labels for cores and others\n",
      "    Degree distributions\n",
      "    Local Clustering Coefficient (cores too)\n",
      "... Flow Analysis\n",
      "... PageRank centrality\n",
      "... Manifold Analysis\n",
      "... Starting attractor analysis\n",
      "    coloring frames\n",
      "    finding trajectories\n",
      "    trajectories lengths: 8.50±16.40 (median:11.00)\n",
      "... performing dimensionality reduction of the state space (using PCA)\n",
      "Silhouette Score:\n",
      "0.26783367705719946\n",
      "... testing cluster manifolds\n",
      "\n",
      "\n",
      "13/17 - data_an019_2013_08_15_510\n",
      "... loaded 59 spiketrains\n",
      "... producing spike rasterplot per session\n",
      "    population firing: 4.54±3.52 sp/frame\n",
      "    cells firing rate: 0.08±0.29 sp/s\n",
      "... generating surrogates to establish population event threshold\n",
      "... loaded surrogates\n",
      "    event size threshold (mean): 13.446456809927614\n",
      "    find peaks\n",
      "    find minima\n",
      "    find population events\n",
      "    signatures of population events\n",
      "    number of events: 19\n",
      "    number of events per sec: 0.02460169269697234\n",
      "    events duration: 1.000±0.817\n",
      "    events size: 35.000±6.835\n",
      "    Similarity of events matrix\n",
      "    clustering - linkage\n",
      "    surrogate events signatures for clustering threshold\n",
      "   ... loaded surrogates\n",
      "    cluster reproducibility threshold: 0.0\n",
      "    cluster size threshold: 2\n",
      "    Total number of clusters: 6\n",
      "    # clusters (after removing those below reproducibility threshold): 6\n",
      "    event color assignment\n",
      "    unique color assignments\n",
      "    clustered similarity map\n",
      "    finding cluster cores\n",
      "    removing cores firing unspecifically\n",
      "    gathering cores from all clusters\n",
      "    # cores: 51\n",
      "    # non-cores: 8\n",
      "    cores per cluster: 29.17±13.15 (min 0, max 38)\n",
      "    others per cluster: 29.83±13.15 (min 21, max 59)\n",
      "... Functional correlation analysis (functional structure)\n",
      "    binary spiketrains\n",
      "    shape: (59, 11481)\n",
      "    starting functional adjacency matrix\n"
     ]
    },
    {
     "name": "stderr",
     "output_type": "stream",
     "text": [
      "/opt/conda/lib/python3.10/site-packages/numpy/core/fromnumeric.py:3440: RuntimeWarning: Mean of empty slice.\n",
      "  return _methods._mean(a, axis=axis, dtype=dtype,\n",
      "/opt/conda/lib/python3.10/site-packages/numpy/core/_methods.py:189: RuntimeWarning: invalid value encountered in double_scalars\n",
      "  ret = ret.dtype.type(ret / rcount)\n",
      "/opt/conda/lib/python3.10/site-packages/numpy/lib/npyio.py:528: VisibleDeprecationWarning: Creating an ndarray from ragged nested sequences (which is a list-or-tuple of lists-or-tuples-or ndarrays with different lengths or shapes) is deprecated. If you meant to do this, you must specify 'dtype=object' when creating the ndarray.\n",
      "  arr = np.asanyarray(arr)\n"
     ]
    },
    {
     "name": "stdout",
     "output_type": "stream",
     "text": [
      "    full adjacency matrix: (59, 59)\n",
      "    preparing vertex labels for cores and others\n",
      "    Degree distributions\n",
      "    Local Clustering Coefficient (cores too)\n",
      "... Flow Analysis\n",
      "    Cut edges sourcing from cores: DescribeResult(nobs=51, minmax=(0.0, 1.0980392156862746), mean=0.13071895424836602, variance=0.07544277841855698, skewness=2.1948965092383017, kurtosis=3.789364145374165)\n",
      "    Cut edges targeting cores: DescribeResult(nobs=51, minmax=(0.0, 2.235294117647059), mean=0.130718954248366, variance=0.19278226323209022, skewness=3.732719608572698, kurtosis=13.16633955636522)\n",
      "    Cut edges sourcing from others: DescribeResult(nobs=8, minmax=(0.0, 0.0), mean=0.0, variance=0.0, skewness=0.0, kurtosis=-3.0)\n",
      "    Cut edges targeting others: DescribeResult(nobs=8, minmax=(0.0, 0.0), mean=0.0, variance=0.0, skewness=0.0, kurtosis=-3.0)\n",
      "    Core targets vs sources Welch t test:  -0.000 p= 1.000\n",
      "    Kolmogorov-Smirnov Effect Size: 0.157\n",
      "    Core targets vs Other targets Welch t test:  2.126 p= 0.038\n",
      "    Kolmogorov-Smirnov Effect Size: 0.176\n"
     ]
    },
    {
     "data": {
      "image/png": "[encoded data removed]",
      "text/plain": [
       "<Figure size 432x288 with 1 Axes>"
      ]
     },
     "metadata": {
      "needs_background": "light"
     },
     "output_type": "display_data"
    },
    {
     "name": "stdout",
     "output_type": "stream",
     "text": [
      "... PageRank centrality\n",
      "    cores: DescribeResult(nobs=51, minmax=(0.006975122064636131, 0.10538967872448152), mean=0.019607843137254898, variance=0.0005638569439922404, skewness=1.818538226386211, kurtosis=2.389830025898789)\n",
      "    others: DescribeResult(nobs=8, minmax=(0.0, 0.0), mean=0.0, variance=0.0, skewness=0.0, kurtosis=-3.0)\n",
      "    Kruskal-Wallis test:  25.863 p= 0.000\n",
      "    Kolmogorov-Smirnov Effect Size: 1.000\n"
     ]
    },
    {
     "data": {
      "image/png": "[encoded data removed]",
      "text/plain": [
       "<Figure size 432x288 with 1 Axes>"
      ]
     },
     "metadata": {
      "needs_background": "light"
     },
     "output_type": "display_data"
    },
    {
     "name": "stdout",
     "output_type": "stream",
     "text": [
      "... Manifold Analysis\n",
      "... Starting attractor analysis\n",
      "    coloring frames\n",
      "    finding trajectories\n",
      "    trajectories lengths: -24.87±130.86 (median:8.00)\n",
      "... performing dimensionality reduction of the state space (using PCA)\n",
      "Silhouette Score:\n",
      "0.3212657450606607\n",
      "... testing cluster manifolds\n",
      "\n",
      "\n",
      "14/17 - data_an019_2013_08_19_530\n",
      "... loaded 87 spiketrains\n",
      "... producing spike rasterplot per session\n",
      "    population firing: 8.03±5.90 sp/frame\n",
      "    cells firing rate: 0.09±0.32 sp/s\n",
      "... generating surrogates to establish population event threshold\n",
      "... loaded surrogates\n",
      "    event size threshold (mean): 21.725411724143555\n",
      "    find peaks\n",
      "    find minima\n",
      "    find population events\n",
      "    signatures of population events\n",
      "    number of events: 23\n",
      "    number of events per sec: 0.029814814814814815\n",
      "    events duration: 1.200±0.403\n",
      "    events size: 48.000±6.629\n",
      "    Similarity of events matrix\n",
      "    clustering - linkage\n",
      "    surrogate events signatures for clustering threshold\n",
      "   ... loaded surrogates\n",
      "    cluster reproducibility threshold: 0.0\n",
      "    cluster size threshold: 2\n",
      "    Total number of clusters: 9\n",
      "    # clusters (after removing those below reproducibility threshold): 6\n",
      "    event color assignment\n",
      "    unique color assignments\n",
      "    clustered similarity map\n",
      "    finding cluster cores\n",
      "    removing cores firing unspecifically\n",
      "    gathering cores from all clusters\n",
      "    # cores: 84\n",
      "    # non-cores: 3\n",
      "    cores per cluster: 60.29±17.60 (min 46, max 101)\n",
      "    others per cluster: 30.57±9.21 (min 13, max 41)\n",
      "... Functional correlation analysis (functional structure)\n",
      "    binary spiketrains\n",
      "    shape: (87, 11450)\n",
      "    starting functional adjacency matrix\n"
     ]
    },
    {
     "name": "stderr",
     "output_type": "stream",
     "text": [
      "/opt/conda/lib/python3.10/site-packages/numpy/core/fromnumeric.py:3440: RuntimeWarning: Mean of empty slice.\n",
      "  return _methods._mean(a, axis=axis, dtype=dtype,\n",
      "/opt/conda/lib/python3.10/site-packages/numpy/core/_methods.py:189: RuntimeWarning: invalid value encountered in double_scalars\n",
      "  ret = ret.dtype.type(ret / rcount)\n",
      "/opt/conda/lib/python3.10/site-packages/numpy/lib/npyio.py:528: VisibleDeprecationWarning: Creating an ndarray from ragged nested sequences (which is a list-or-tuple of lists-or-tuples-or ndarrays with different lengths or shapes) is deprecated. If you meant to do this, you must specify 'dtype=object' when creating the ndarray.\n",
      "  arr = np.asanyarray(arr)\n"
     ]
    },
    {
     "name": "stdout",
     "output_type": "stream",
     "text": [
      "    full adjacency matrix: (87, 87)\n",
      "    preparing vertex labels for cores and others\n",
      "    Degree distributions\n",
      "    Local Clustering Coefficient (cores too)\n",
      "... Flow Analysis\n",
      "    Cut edges sourcing from cores: DescribeResult(nobs=84, minmax=(0.0, 0.2857142857142857), mean=0.007794784580498866, variance=0.0016921223930383017, skewness=5.465914788333677, kurtosis=29.651637903423584)\n",
      "    Cut edges targeting cores: DescribeResult(nobs=84, minmax=(0.0, 0.5833333333333334), mean=0.007794784580498865, variance=0.004068976749238613, skewness=8.903808842791147, kurtosis=77.80932538647697)\n",
      "    Cut edges sourcing from others: DescribeResult(nobs=3, minmax=(0.0, 0.0), mean=0.0, variance=0.0, skewness=0.0, kurtosis=-3.0)\n",
      "    Cut edges targeting others: DescribeResult(nobs=3, minmax=(0.0, 0.0), mean=0.0, variance=0.0, skewness=0.0, kurtosis=-3.0)\n",
      "    Core targets vs sources Welch t test:  -0.000 p= 1.000\n",
      "    Kolmogorov-Smirnov Effect Size: 0.024\n",
      "    Core targets vs Other targets Welch t test:  1.120 p= 0.266\n",
      "    Kolmogorov-Smirnov Effect Size: 0.048\n"
     ]
    },
    {
     "data": {
      "image/png": "[encoded data removed]",
      "text/plain": [
       "<Figure size 432x288 with 1 Axes>"
      ]
     },
     "metadata": {
      "needs_background": "light"
     },
     "output_type": "display_data"
    },
    {
     "name": "stdout",
     "output_type": "stream",
     "text": [
      "... PageRank centrality\n",
      "    cores: DescribeResult(nobs=84, minmax=(0.00847453033000103, 0.07950292632888104), mean=0.011904761904761904, variance=0.00012055208201576491, skewness=4.324496225692002, kurtosis=20.171283917743764)\n",
      "    others: DescribeResult(nobs=3, minmax=(0.0, 0.0), mean=0.0, variance=0.0, skewness=0.0, kurtosis=-3.0)\n",
      "    Kruskal-Wallis test:  17.144 p= 0.000\n",
      "    Kolmogorov-Smirnov Effect Size: 1.000\n"
     ]
    },
    {
     "data": {
      "image/png": "[encoded data removed]",
      "text/plain": [
       "<Figure size 432x288 with 1 Axes>"
      ]
     },
     "metadata": {
      "needs_background": "light"
     },
     "output_type": "display_data"
    },
    {
     "name": "stdout",
     "output_type": "stream",
     "text": [
      "... Manifold Analysis\n",
      "... Starting attractor analysis\n",
      "    coloring frames\n",
      "    finding trajectories\n",
      "    trajectories lengths: 1.85±41.71 (median:11.00)\n",
      "... performing dimensionality reduction of the state space (using PCA)\n",
      "Silhouette Score:\n",
      "0.2686737005969127\n",
      "... testing cluster manifolds\n",
      "\n",
      "\n",
      "15/17 - data_an019_2013_08_15_570\n",
      "... loaded 67 spiketrains\n",
      "... producing spike rasterplot per session\n",
      "    population firing: 5.40±4.79 sp/frame\n",
      "    cells firing rate: 0.08±0.30 sp/s\n",
      "... generating surrogates to establish population event threshold\n",
      "... loaded surrogates\n",
      "    event size threshold (mean): 15.288795160980584\n",
      "    find peaks\n",
      "    find minima\n",
      "    find population events\n",
      "    signatures of population events\n",
      "    number of events: 62\n",
      "    number of events per sec: 0.08161078587901366\n",
      "    events duration: 1.000±0.315\n",
      "    events size: 42.000±5.420\n",
      "    Similarity of events matrix\n",
      "    clustering - linkage\n",
      "    surrogate events signatures for clustering threshold\n",
      "   ... loaded surrogates\n",
      "    cluster reproducibility threshold: 0.0\n",
      "    cluster size threshold: 2\n",
      "    Total number of clusters: 10\n",
      "    # clusters (after removing those below reproducibility threshold): 8\n",
      "    event color assignment\n",
      "    unique color assignments\n",
      "    clustered similarity map\n",
      "    finding cluster cores\n",
      "    removing cores firing unspecifically\n",
      "    gathering cores from all clusters\n",
      "    # cores: 64\n",
      "    # non-cores: 3\n",
      "    cores per cluster: 24.78±17.34 (min 0, max 51)\n",
      "    others per cluster: 42.22±17.34 (min 16, max 67)\n",
      "... Functional correlation analysis (functional structure)\n",
      "    binary spiketrains\n",
      "    shape: (67, 11289)\n",
      "    starting functional adjacency matrix\n"
     ]
    },
    {
     "name": "stderr",
     "output_type": "stream",
     "text": [
      "/opt/conda/lib/python3.10/site-packages/numpy/core/fromnumeric.py:3440: RuntimeWarning: Mean of empty slice.\n",
      "  return _methods._mean(a, axis=axis, dtype=dtype,\n",
      "/opt/conda/lib/python3.10/site-packages/numpy/core/_methods.py:189: RuntimeWarning: invalid value encountered in double_scalars\n",
      "  ret = ret.dtype.type(ret / rcount)\n",
      "/opt/conda/lib/python3.10/site-packages/numpy/lib/npyio.py:528: VisibleDeprecationWarning: Creating an ndarray from ragged nested sequences (which is a list-or-tuple of lists-or-tuples-or ndarrays with different lengths or shapes) is deprecated. If you meant to do this, you must specify 'dtype=object' when creating the ndarray.\n",
      "  arr = np.asanyarray(arr)\n"
     ]
    },
    {
     "name": "stdout",
     "output_type": "stream",
     "text": [
      "    full adjacency matrix: (67, 67)\n",
      "    preparing vertex labels for cores and others\n",
      "    Degree distributions\n",
      "    Local Clustering Coefficient (cores too)\n",
      "... Flow Analysis\n",
      "    Cut edges sourcing from cores: DescribeResult(nobs=64, minmax=(0.0, 2.578125), mean=0.215087890625, variance=0.24111593337286086, skewness=2.7574710474472433, kurtosis=8.117748019445884)\n",
      "    Cut edges targeting cores: DescribeResult(nobs=64, minmax=(0.0, 7.5625), mean=0.215087890625, variance=0.9403501843649243, skewness=6.996162823410474, kurtosis=50.19268009789549)\n",
      "    Cut edges sourcing from others: DescribeResult(nobs=3, minmax=(0.0, 0.0), mean=0.0, variance=0.0, skewness=0.0, kurtosis=-3.0)\n",
      "    Cut edges targeting others: DescribeResult(nobs=3, minmax=(0.0, 0.0), mean=0.0, variance=0.0, skewness=0.0, kurtosis=-3.0)\n",
      "    Core targets vs sources Welch t test:  0.000 p= 1.000\n",
      "    Kolmogorov-Smirnov Effect Size: 0.109\n",
      "    Core targets vs Other targets Welch t test:  1.774 p= 0.081\n",
      "    Kolmogorov-Smirnov Effect Size: 0.250\n"
     ]
    },
    {
     "data": {
      "image/png": "[encoded data removed]",
      "text/plain": [
       "<Figure size 432x288 with 1 Axes>"
      ]
     },
     "metadata": {
      "needs_background": "light"
     },
     "output_type": "display_data"
    },
    {
     "name": "stdout",
     "output_type": "stream",
     "text": [
      "... PageRank centrality\n",
      "    cores: DescribeResult(nobs=64, minmax=(0.006657571778289371, 0.09290484472195226), mean=0.015624999999999997, variance=0.0003816344185734648, skewness=2.440616186339081, kurtosis=5.1503967679946445)\n",
      "    others: DescribeResult(nobs=3, minmax=(0.0, 0.0), mean=0.0, variance=0.0, skewness=0.0, kurtosis=-3.0)\n",
      "    Kruskal-Wallis test:  11.818 p= 0.001\n",
      "    Kolmogorov-Smirnov Effect Size: 1.000\n"
     ]
    },
    {
     "data": {
      "image/png": "[encoded data removed]",
      "text/plain": [
       "<Figure size 432x288 with 1 Axes>"
      ]
     },
     "metadata": {
      "needs_background": "light"
     },
     "output_type": "display_data"
    },
    {
     "name": "stdout",
     "output_type": "stream",
     "text": [
      "... Manifold Analysis\n",
      "... Starting attractor analysis\n",
      "    coloring frames\n",
      "    finding trajectories\n",
      "    trajectories lengths: 8.98±9.58 (median:9.00)\n",
      "... performing dimensionality reduction of the state space (using PCA)\n",
      "Silhouette Score:\n",
      "0.29816505265584636\n",
      "... testing cluster manifolds\n",
      "\n",
      "\n",
      "16/17 - data_an019_2013_08_21_600\n",
      "... loaded 80 spiketrains\n",
      "... producing spike rasterplot per session\n",
      "    population firing: 7.23±4.88 sp/frame\n",
      "    cells firing rate: 0.09±0.32 sp/s\n",
      "... generating surrogates to establish population event threshold\n",
      "... loaded surrogates\n",
      "    event size threshold (mean): 20.814188178495282\n",
      "    find peaks\n",
      "    find minima\n",
      "    find population events\n",
      "    signatures of population events\n",
      "    number of events: 7\n",
      "    number of events per sec: 0.015419326109544306\n",
      "    events duration: 1.000±0.288\n",
      "    events size: 54.000±6.227\n",
      "    Similarity of events matrix\n",
      "    clustering - linkage\n",
      "    surrogate events signatures for clustering threshold\n",
      "   ... loaded surrogates\n",
      "    cluster reproducibility threshold: 0.0\n",
      "    cluster size threshold: 2\n",
      "    Total number of clusters: 4\n",
      "    # clusters (after removing those below reproducibility threshold): 3\n",
      "    event color assignment\n",
      "    unique color assignments\n",
      "    clustered similarity map\n",
      "    finding cluster cores\n",
      "    removing cores firing unspecifically\n",
      "    gathering cores from all clusters\n",
      "    # cores: 77\n",
      "    # non-cores: 3\n",
      "    cores per cluster: 48.50±28.01 (min 0, max 66)\n",
      "    others per cluster: 31.50±28.01 (min 14, max 80)\n",
      "... Functional correlation analysis (functional structure)\n",
      "    binary spiketrains\n",
      "    shape: (80, 6751)\n",
      "    starting functional adjacency matrix\n"
     ]
    },
    {
     "name": "stderr",
     "output_type": "stream",
     "text": [
      "/opt/conda/lib/python3.10/site-packages/numpy/core/fromnumeric.py:3440: RuntimeWarning: Mean of empty slice.\n",
      "  return _methods._mean(a, axis=axis, dtype=dtype,\n",
      "/opt/conda/lib/python3.10/site-packages/numpy/core/_methods.py:189: RuntimeWarning: invalid value encountered in double_scalars\n",
      "  ret = ret.dtype.type(ret / rcount)\n",
      "/opt/conda/lib/python3.10/site-packages/numpy/lib/npyio.py:528: VisibleDeprecationWarning: Creating an ndarray from ragged nested sequences (which is a list-or-tuple of lists-or-tuples-or ndarrays with different lengths or shapes) is deprecated. If you meant to do this, you must specify 'dtype=object' when creating the ndarray.\n",
      "  arr = np.asanyarray(arr)\n"
     ]
    },
    {
     "name": "stdout",
     "output_type": "stream",
     "text": [
      "    full adjacency matrix: (80, 80)\n",
      "    preparing vertex labels for cores and others\n",
      "    Degree distributions\n",
      "    Local Clustering Coefficient (cores too)\n",
      "... Flow Analysis\n",
      "    Cut edges sourcing from cores: DescribeResult(nobs=77, minmax=(0.0, 0.11688311688311688), mean=0.004722550177095631, variance=0.00036799092289056866, skewness=4.26329572691427, kurtosis=18.132527556555857)\n",
      "    Cut edges targeting cores: DescribeResult(nobs=77, minmax=(0.0, 0.15584415584415584), mean=0.004722550177095631, variance=0.0005987922473350921, skewness=5.238660405867614, kurtosis=26.58070996287444)\n",
      "    Cut edges sourcing from others: DescribeResult(nobs=3, minmax=(0.0, 0.0), mean=0.0, variance=0.0, skewness=0.0, kurtosis=-3.0)\n",
      "    Cut edges targeting others: DescribeResult(nobs=3, minmax=(0.0, 0.0), mean=0.0, variance=0.0, skewness=0.0, kurtosis=-3.0)\n",
      "    Core targets vs sources Welch t test:  0.000 p= 1.000\n",
      "    Kolmogorov-Smirnov Effect Size: 0.026\n",
      "    Core targets vs Other targets Welch t test:  1.693 p= 0.094\n",
      "    Kolmogorov-Smirnov Effect Size: 0.039\n"
     ]
    },
    {
     "data": {
      "image/png": "[encoded data removed]",
      "text/plain": [
       "<Figure size 432x288 with 1 Axes>"
      ]
     },
     "metadata": {
      "needs_background": "light"
     },
     "output_type": "display_data"
    },
    {
     "name": "stdout",
     "output_type": "stream",
     "text": [
      "... PageRank centrality\n",
      "    cores: DescribeResult(nobs=77, minmax=(0.006537123517136307, 0.0631952690778829), mean=0.012801874511619162, variance=0.0001359691609837221, skewness=2.357725861413197, kurtosis=5.232008320781269)\n",
      "    others: DescribeResult(nobs=3, minmax=(0.0, 0.008699107615758683), mean=0.004751887535108181, variance=1.940423561183523e-05, skewness=-0.32438891928226304, kurtosis=-1.5000000000000004)\n",
      "    Kruskal-Wallis test:  3.776 p= 0.052\n",
      "    Kolmogorov-Smirnov Effect Size: 0.667\n"
     ]
    },
    {
     "data": {
      "image/png": "[encoded data removed]",
      "text/plain": [
       "<Figure size 432x288 with 1 Axes>"
      ]
     },
     "metadata": {
      "needs_background": "light"
     },
     "output_type": "display_data"
    },
    {
     "name": "stdout",
     "output_type": "stream",
     "text": [
      "... Manifold Analysis\n",
      "... Starting attractor analysis\n",
      "    coloring frames\n",
      "    finding trajectories\n",
      "    trajectories lengths: -59.83±158.46 (median:8.50)\n",
      "... performing dimensionality reduction of the state space (using PCA)\n",
      "Silhouette Score:\n",
      "0.303358906816565\n",
      "... testing cluster manifolds\n",
      "\n",
      "\n",
      "17/17 - data_an019_2013_08_21_630\n",
      "... loaded 52 spiketrains\n",
      "... producing spike rasterplot per session\n",
      "    population firing: 4.56±3.83 sp/frame\n",
      "    cells firing rate: 0.09±0.31 sp/s\n",
      "... generating surrogates to establish population event threshold\n",
      "... loaded surrogates\n",
      "    event size threshold (mean): 13.422134640810748\n",
      "    find peaks\n",
      "    find minima\n",
      "    find population events\n",
      "    signatures of population events\n",
      "    number of events: 26\n",
      "    number of events per sec: 0.04738302836792337\n",
      "    events duration: 1.050±0.717\n",
      "    events size: 37.000±6.845\n",
      "    Similarity of events matrix\n",
      "    clustering - linkage\n",
      "    surrogate events signatures for clustering threshold\n",
      "   ... loaded surrogates\n",
      "    cluster reproducibility threshold: 0.0\n",
      "    cluster size threshold: 2\n",
      "    Total number of clusters: 9\n",
      "    # clusters (after removing those below reproducibility threshold): 7\n",
      "    event color assignment\n",
      "    unique color assignments\n",
      "    clustered similarity map\n",
      "    finding cluster cores\n",
      "    removing cores firing unspecifically\n",
      "    gathering cores from all clusters\n",
      "    # cores: 52\n",
      "    # non-cores: 0\n",
      "    cores per cluster: 37.12±20.62 (min 0, max 78)\n",
      "    others per cluster: 18.62±14.73 (min 4, max 52)\n",
      "... Functional correlation analysis (functional structure)\n",
      "    binary spiketrains\n",
      "    shape: (52, 8164)\n",
      "    starting functional adjacency matrix\n"
     ]
    },
    {
     "name": "stderr",
     "output_type": "stream",
     "text": [
      "/opt/conda/lib/python3.10/site-packages/numpy/core/fromnumeric.py:3440: RuntimeWarning: Mean of empty slice.\n",
      "  return _methods._mean(a, axis=axis, dtype=dtype,\n",
      "/opt/conda/lib/python3.10/site-packages/numpy/core/_methods.py:189: RuntimeWarning: invalid value encountered in double_scalars\n",
      "  ret = ret.dtype.type(ret / rcount)\n",
      "/opt/conda/lib/python3.10/site-packages/numpy/lib/npyio.py:528: VisibleDeprecationWarning: Creating an ndarray from ragged nested sequences (which is a list-or-tuple of lists-or-tuples-or ndarrays with different lengths or shapes) is deprecated. If you meant to do this, you must specify 'dtype=object' when creating the ndarray.\n",
      "  arr = np.asanyarray(arr)\n"
     ]
    },
    {
     "name": "stdout",
     "output_type": "stream",
     "text": [
      "    full adjacency matrix: (52, 52)\n",
      "    preparing vertex labels for cores and others\n",
      "    Degree distributions\n",
      "    Local Clustering Coefficient (cores too)\n",
      "... Flow Analysis\n",
      "... PageRank centrality\n",
      "... Manifold Analysis\n",
      "... Starting attractor analysis\n",
      "    coloring frames\n",
      "    finding trajectories\n",
      "    trajectories lengths: 1.15±52.17 (median:9.00)\n",
      "... performing dimensionality reduction of the state space (using PCA)\n",
      "Silhouette Score:\n",
      "0.33725900199025494\n",
      "... testing cluster manifolds\n"
     ]
    }
   ],
   "source": [
    "global_events = [[] for i in range(56)] # by session\n",
    "global_events_vector = [[] for i in range(56)] # by session\n",
    "global_events_sec = []\n",
    "global_events_duration = []\n",
    "global_cluster_number = []\n",
    "global_cluster_selfsimilarity = [[] for i in range(56)]\n",
    "\n",
    "core_reproducibility_perc = 99 # threshold for detecting cores\n",
    "\n",
    "sessions_evt_toBremoved = [[] for i in range(56)] # by session\n",
    "sessions_evt_toBremoved[1] = [0] \n",
    "\n",
    "all_degrees = []\n",
    "all_core_degrees = []\n",
    "all_local_clustering_coefficients = []\n",
    "all_core_local_clustering_coefficients = []\n",
    "all_pagerank_cores = []\n",
    "all_pagerank_others = []\n",
    "\n",
    "for scan_id,oe in enumerate(ophys_experiments):\n",
    "    # pprint.pprint(oe)\n",
    "\n",
    "    print(\"\\n\\n%d/%d - %s\" % (scan_id+1,len(ophys_experiments),oe))\n",
    "\n",
    "    if os.path.exists(exp_path+'/spiketrains_'+str(oe)+'.npy') and os.path.exists(exp_path+'/time_'+str(oe)+'.npy'):\n",
    "        scan_spiketrains = np.load(exp_path+'/spiketrains_'+str(oe)+'.npy', allow_pickle=True)\n",
    "        time = np.load(exp_path+'/time_'+str(oe)+'.npy', allow_pickle=True)\n",
    "        print(\"... loaded\",len(scan_spiketrains), \"spiketrains\")\n",
    "        # print(time)\n",
    "    \n",
    "    start_time = 0\n",
    "    exp_tstart = start_time\n",
    "    stop_time = max([max(st) if len(st) else 0 for st in scan_spiketrains])\n",
    "    \n",
    "    print(\"... producing spike rasterplot per session\")\n",
    "    fig = plt.figure()\n",
    "    for row,train in enumerate(scan_spiketrains):\n",
    "        plt.scatter( train, [row]*len(train), marker='o', edgecolors='none', s=1, c='k' )\n",
    "    plt.ylabel(\"cell IDs\")\n",
    "    plt.xlabel(\"time (s)\")\n",
    "    fig.savefig(exp_path+'/results/rasterplot_scan%s.png'%scan_id, transparent=True, dpi=800)\n",
    "    plt.close()\n",
    "    fig.clear()\n",
    "    fig.clf()\n",
    "    \n",
    "    ophys_cell_ids = list(range(len(scan_spiketrains)))\n",
    "    ophys_cell_indexes = ophys_cell_ids # alias\n",
    "    extra_toBremoved = sessions_evt_toBremoved[scan_id]\n",
    "\n",
    "    # --------------------------------------------------------------------------\n",
    "    %run \"dynamical_analysis.ipynb\"\n",
    "\n",
    "    global_events[scan_id].extend(events)\n",
    "    global_events_vector[scan_id].extend(events_vectors)\n",
    "    global_events_sec.append(events_sec)\n",
    "    global_events_duration.extend(events_durations_f)\n",
    "    global_cluster_number.append(nclusters)\n",
    "    global_cluster_selfsimilarity.extend(reproducibility_list)\n",
    "\n",
    "    # --------------------------------------------------------------------------\n",
    "    # Functional structure analysis\n",
    "    spiketrains = scan_spiketrains\n",
    "    perc_corr = 0.6\n",
    "    %run \"functional_analysis.ipynb\"\n",
    "    all_degrees.extend(degrees)\n",
    "    all_core_degrees.extend(core_degrees)\n",
    "    all_local_clustering_coefficients.extend(local_clustering_coefficients)\n",
    "    all_core_local_clustering_coefficients.extend(core_local_clustering_coefficients)\n",
    "    all_pagerank_cores.extend(pagerank_cores)\n",
    "    all_pagerank_others.extend(pagerank_others)\n",
    "                \n",
    "    # --------------------------------------------------------------------------\n",
    "    # dimensional reduction, trajectories, and manifold analysis\n",
    "    print(\"... Manifold Analysis\")\n",
    "    mousename = oe\n",
    "    area = 'ALM'\n",
    "    ipop = scan_id\n",
    "    %run \"attractor_analysis.ipynb\""
   ]
  },
  {
   "cell_type": "code",
   "execution_count": 10,
   "id": "e52a5f27-d1bb-4c6f-8f50-8f1575f49644",
   "metadata": {},
   "outputs": [
    {
     "name": "stdout",
     "output_type": "stream",
     "text": [
      "... Total modularity\n",
      "... Total PageRank centrality\n",
      "    cores: DescribeResult(nobs=1379, minmax=(0.0038831477149912116, 0.12825622357094377), mean=0.012285970097138211, variance=0.00023440750845667938, skewness=3.387193670950399, kurtosis=13.530117594199883)\n",
      "    others: DescribeResult(nobs=46, minmax=(0.0, 0.010453598616868894), mean=0.0009312199398008785, variance=6.381974463813192e-06, skewness=2.543601410227709, kurtosis=5.175454066481661)\n",
      "    Kruskal-Wallis test:  100.891 p= 0.000\n",
      "    Kolmogorov-Smirnov Effect Size: 0.870\n"
     ]
    },
    {
     "data": {
      "image/png": "[encoded data removed]",
      "text/plain": [
       "<Figure size 432x288 with 1 Axes>"
      ]
     },
     "metadata": {
      "needs_background": "light"
     },
     "output_type": "display_data"
    }
   ],
   "source": [
    "# modularity\n",
    "print('... Total modularity')\n",
    "# figure\n",
    "fig, (hmmap, chist) = plt.subplots(1, 2, gridspec_kw={'width_ratios': [6, 1]})\n",
    "# hierarchy\n",
    "hmmap.scatter( all_degrees, all_local_clustering_coefficients, marker='o', facecolor='#111111', s=50, edgecolors='none', alpha=0.5) \n",
    "hmmap.scatter( all_core_degrees, all_core_local_clustering_coefficients, marker='o', facecolor='none', s=50, edgecolors='forestgreen') \n",
    "hmmap.set_yscale('log')\n",
    "hmmap.set_ylim([0.02,1.1])\n",
    "hmmap.set_xscale('log')\n",
    "hmmap.spines['top'].set_visible(False)\n",
    "hmmap.spines['right'].set_visible(False)\n",
    "hmmap.set_ylabel('LCC')\n",
    "hmmap.set_xlabel('degree')\n",
    "hmmap.tick_params(axis='both', bottom='on', top='on', left='off', right='off')\n",
    "# core lcc histogram\n",
    "bins = np.linspace(0.02,1,50)\n",
    "barheight = (max(all_local_clustering_coefficients)-min(all_local_clustering_coefficients))/50\n",
    "lcc_hist, lcc_binedges = np.histogram(all_core_local_clustering_coefficients, bins)\n",
    "chist.barh(bins[:-1], lcc_hist, height=barheight, align='center', color='green', linewidth=0)\n",
    "chist.spines['top'].set_visible(False)\n",
    "chist.spines['right'].set_visible(False)\n",
    "chist.tick_params(axis='x', which='both', bottom=True, top=False, labelsize='x-small')\n",
    "chist.tick_params(axis='y', which='both', left=True, right=False, labelleft=True)\n",
    "chist_ticks = chist.get_xticks()\n",
    "chist.set_ylim([0.01,1.1])\n",
    "chist.set_ylabel('LCC')\n",
    "chist.set_xlabel('count')\n",
    "chist.yaxis.set_label_position(\"right\")\n",
    "chist.spines['top'].set_visible(False)\n",
    "chist.spines['right'].set_visible(False)\n",
    "chist.spines['bottom'].set_visible(False)\n",
    "plt.tight_layout()\n",
    "fig.savefig(exp_path+\"/results/cores_hierarchical_modularity_all.svg\", transparent=True)\n",
    "plt.close()\n",
    "fig.clear()\n",
    "fig.clf()\n",
    "\n",
    "# totals\n",
    "print('... Total PageRank centrality')\n",
    "# description\n",
    "print(\"    cores: \"+str(stats.describe(all_pagerank_cores)) )\n",
    "print(\"    others: \"+str(stats.describe(all_pagerank_others)) )\n",
    "# significativity\n",
    "print(\"    Kruskal-Wallis test:  %.3f p= %.3f\" % stats.kruskal(all_pagerank_cores, all_pagerank_others))\n",
    "d,_ = stats.ks_2samp(all_pagerank_cores, all_pagerank_others) # non-parametric measure of effect size [0,1]\n",
    "print('    Kolmogorov-Smirnov Effect Size: %.3f' % d)\n",
    "\n",
    "fig, ax = plt.subplots()\n",
    "xs = np.random.normal(1, 0.04, len(all_pagerank_cores))\n",
    "plt.scatter(xs, all_pagerank_cores, alpha=0.3, c='forestgreen')\n",
    "xs = np.random.normal(2, 0.04, len(all_pagerank_others))\n",
    "plt.scatter(xs, all_pagerank_others, alpha=0.3, c='silver')\n",
    "vp = ax.violinplot([all_pagerank_cores,all_pagerank_others], widths=0.15, showextrema=False, showmedians=True)\n",
    "for pc in vp['bodies']:\n",
    "    pc.set_edgecolor('black')\n",
    "for pc,cb in zip(vp['bodies'],['#228B224d','#D3D3D34d']):\n",
    "    pc.set_facecolor(cb)\n",
    "vp['cmedians'].set_color('orange')\n",
    "vp['cmedians'].set_linewidth(2.)\n",
    "ax.spines['top'].set_visible(False)\n",
    "ax.spines['bottom'].set_visible(False)\n",
    "ax.spines['left'].set_visible(False)\n",
    "ax.spines['right'].set_visible(False)\n",
    "plt.ylabel('PageRank')\n",
    "plt.xticks([1, 2], [\"core\\n(n={:d})\".format(len(all_pagerank_cores)), \"other\\n(n={:d})\".format(len(all_pagerank_others))])\n",
    "fig.savefig(exp_path+\"/results/global_cores_others_pagerank_all.svg\", transparent=True)\n",
    "plt.show()"
   ]
  },
  {
   "cell_type": "code",
   "execution_count": null,
   "id": "bec18015-2f8d-47f9-a3af-7f51128d1db0",
   "metadata": {},
   "outputs": [],
   "source": []
  }
 ],
 "metadata": {
  "kernelspec": {
   "display_name": "Python 3 (ipykernel)",
   "language": "python",
   "name": "python3"
  },
  "language_info": {
   "codemirror_mode": {
    "name": "ipython",
    "version": 3
   },
   "file_extension": ".py",
   "mimetype": "text/x-python",
   "name": "python",
   "nbconvert_exporter": "python",
   "pygments_lexer": "ipython3",
   "version": "3.10.4"
  }
 },
 "nbformat": 4,
 "nbformat_minor": 5
}
