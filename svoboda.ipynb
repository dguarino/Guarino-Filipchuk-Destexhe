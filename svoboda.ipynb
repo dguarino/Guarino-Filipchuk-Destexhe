{
 "cells": [
  {
   "cell_type": "markdown",
   "id": "f36e79c2-2b9a-451c-b591-ebe7668b7380",
   "metadata": {},
   "source": [
    "## Event reproducibility in ALM\n",
    "### data from Li et al. 2015\n",
    "See the paper:    \n",
    "*\"A motor cortex circuit for motor planning and movement\"*    \n",
    "Nuo Li, Tsai-Wen Chen, Zengcai V. Guo, Charles R. Gerfen & Karel Svoboda    \n",
    "Nature 519, 51–56 (05 March 2015) doi: 10.1038/nature14178"
   ]
  },
  {
   "cell_type": "code",
   "execution_count": 1,
   "id": "3ac86b8b-29c1-451c-a689-b009145915dc",
   "metadata": {},
   "outputs": [
    {
     "name": "stdout",
     "output_type": "stream",
     "text": [
      "3.10.4\n"
     ]
    }
   ],
   "source": [
    "from platform import python_version\n",
    "print(python_version())\n",
    "\n",
    "%run -i 'imports_functions.py' \n",
    "\n",
    "%matplotlib inline"
   ]
  },
  {
   "cell_type": "markdown",
   "id": "8a142235-1d2d-48b4-b825-130eedf5a631",
   "metadata": {},
   "source": [
    "### Data preprocessing\n",
    "\n",
    "The original files `alm-2` containing the DF/F traces is available on [CRCNS](http://crcns.org/data-sets/motor-cortex/alm-2).\n",
    "\n",
    "Here, to speed up the processing and reduce the dependencies, we use the Ca spiketrains extracted using the `deconvolve` function available in the library [OASIS](https://github.com/j-friedrich/OASIS/pull/19) (with all default parameters, and `penalty` of 1)."
   ]
  },
  {
   "cell_type": "code",
   "execution_count": 2,
   "id": "f702b8cc-ebf5-49bf-b9a9-50127b8584e5",
   "metadata": {},
   "outputs": [],
   "source": [
    "exp_path = os.getcwd() + \"/svoboda/\"\n",
    "\n",
    "frame_duration = 0.1 # sec, 10 frames per second, see Methods in Franco and Goard 2021"
   ]
  },
  {
   "cell_type": "markdown",
   "id": "0743450d-8651-4576-98e0-f3ff3b439d22",
   "metadata": {},
   "source": [
    "We take the separate 57 sessions independently (some are not used because they have no significant events)."
   ]
  },
  {
   "cell_type": "code",
   "execution_count": 3,
   "id": "2173aec3-6dff-423e-99a7-9b855eff86a2",
   "metadata": {},
   "outputs": [],
   "source": [
    "ophys_experiments = [\n",
    "    # animal 19\n",
    "    \"data_an019_2013_08_21_210\",\n",
    "    \"data_an019_2013_08_20_245\",\n",
    "    \"data_an019_2013_08_20_275\",\n",
    "    # \"data_an019_2013_08_21_240\", # only one event\n",
    "    # \"data_an019_2013_08_21_270\",\n",
    "    \"data_an019_2013_08_16_280\",\n",
    "    \"data_an019_2013_08_16_310\",\n",
    "    \"data_an019_2013_08_16_340\",\n",
    "    \"data_an019_2013_08_16_370\",\n",
    "    \"data_an019_2013_08_19_410\",\n",
    "    \"data_an019_2013_08_19_440\",\n",
    "    \"data_an019_2013_08_19_470\",\n",
    "    \"data_an019_2013_08_15_480\",\n",
    "    \"data_an019_2013_08_19_500\",\n",
    "    \"data_an019_2013_08_15_510\",\n",
    "    \"data_an019_2013_08_19_530\",\n",
    "    \"data_an019_2013_08_15_570\",\n",
    "    \"data_an019_2013_08_21_600\",\n",
    "    \"data_an019_2013_08_21_630\",\n",
    "]"
   ]
  },
  {
   "cell_type": "markdown",
   "id": "5442011c-47db-4d7e-8bc4-ae0d679491fb",
   "metadata": {},
   "source": [
    "## Dynamical analysis"
   ]
  },
  {
   "cell_type": "markdown",
   "id": "76d2af5c-c366-4e3f-9a5e-8fa184381fcb",
   "metadata": {},
   "source": [
    "Analysis for each session.\n",
    "\n",
    "On average, the longest responses were for the 4th trial. We take it."
   ]
  },
  {
   "cell_type": "code",
   "execution_count": 4,
   "id": "3888aa1e-410b-4144-99ac-b6b2953f84f3",
   "metadata": {},
   "outputs": [
    {
     "name": "stdout",
     "output_type": "stream",
     "text": [
      "\n",
      "\n",
      "1/17 - data_an019_2013_08_21_210\n",
      "... loaded 49 spiketrains\n",
      "... producing spike rasterplot per session\n",
      "    population firing: 6.11±4.16 sp/frame\n",
      "    cells firing rate: 0.12±0.37 sp/s\n",
      "... generating surrogates to establish population event threshold\n",
      "... loaded surrogates\n",
      "    event size threshold (mean): 17.44482723166876\n",
      "    find peaks\n",
      "    find minima\n",
      "    find population events\n",
      "    signatures of population events\n",
      "    number of events: 7\n",
      "    number of events per sec: 0.01362539349422875\n",
      "    events duration: 1.200±0.512\n",
      "    events size: 35.000±2.119\n",
      "    Similarity of events matrix\n",
      "    clustering - linkage\n",
      "    surrogate events signatures for clustering threshold\n",
      "   ... loaded surrogates\n",
      "    cluster reproducibility threshold: 0.0\n",
      "    cluster size threshold: 2\n",
      "    Total number of clusters: 4\n",
      "    # clusters (after removing those below reproducibility threshold): 2\n",
      "    event color assignment\n",
      "    unique color assignments\n",
      "    clustered similarity map\n",
      "    finding cluster cores\n",
      "    removing cores firing unspecifically\n",
      "    gathering cores from all clusters\n",
      "    # cores: 43\n",
      "    # non-cores: 6\n",
      "    cores per cluster: 25.67±18.26 (min 0, max 41)\n",
      "    others per cluster: 23.33±18.26 (min 8, max 49)\n",
      "... Functional correlation analysis (functional structure)\n",
      "    binary spiketrains\n",
      "    shape: (49, 7644)\n",
      "    starting functional adjacency matrix\n"
     ]
    },
    {
     "name": "stderr",
     "output_type": "stream",
     "text": [
      "/opt/conda/lib/python3.10/site-packages/numpy/core/fromnumeric.py:3440: RuntimeWarning: Mean of empty slice.\n",
      "  return _methods._mean(a, axis=axis, dtype=dtype,\n",
      "/opt/conda/lib/python3.10/site-packages/numpy/core/_methods.py:189: RuntimeWarning: invalid value encountered in double_scalars\n",
      "  ret = ret.dtype.type(ret / rcount)\n",
      "/opt/conda/lib/python3.10/site-packages/numpy/lib/npyio.py:528: VisibleDeprecationWarning: Creating an ndarray from ragged nested sequences (which is a list-or-tuple of lists-or-tuples-or ndarrays with different lengths or shapes) is deprecated. If you meant to do this, you must specify 'dtype=object' when creating the ndarray.\n",
      "  arr = np.asanyarray(arr)\n"
     ]
    },
    {
     "name": "stdout",
     "output_type": "stream",
     "text": [
      "    full adjacency matrix: (49, 49)\n",
      "    checking details of best cross-correlation pairs \n"
     ]
    },
    {
     "ename": "KeyboardInterrupt",
     "evalue": "",
     "output_type": "error",
     "traceback": [
      "\u001b[0;31m---------------------------------------------------------------------------\u001b[0m",
      "\u001b[0;31mKeyboardInterrupt\u001b[0m                         Traceback (most recent call last)",
      "File \u001b[0;32m/tmp/ipykernel_32749/663100489.py:22\u001b[0m, in \u001b[0;36m<cell line: 12>\u001b[0;34m()\u001b[0m\n\u001b[1;32m     20\u001b[0m     surrspike_times1 \u001b[38;5;241m=\u001b[39m np\u001b[38;5;241m.\u001b[39mrandom\u001b[38;5;241m.\u001b[39mpermutation(spike_times1)\n\u001b[1;32m     21\u001b[0m     surrspike_times2 \u001b[38;5;241m=\u001b[39m np\u001b[38;5;241m.\u001b[39mrandom\u001b[38;5;241m.\u001b[39mpermutation(spike_times2)\n\u001b[0;32m---> 22\u001b[0m     co_occurrence_counts_per_lag \u001b[38;5;241m=\u001b[39m \u001b[43mnp\u001b[49m\u001b[38;5;241;43m.\u001b[39;49m\u001b[43mconvolve\u001b[49m\u001b[43m(\u001b[49m\u001b[43msurrspike_times1\u001b[49m\u001b[43m,\u001b[49m\u001b[43m \u001b[49m\u001b[43msurrspike_times2\u001b[49m\u001b[43m[\u001b[49m\u001b[43m:\u001b[49m\u001b[43m:\u001b[49m\u001b[38;5;241;43m-\u001b[39;49m\u001b[38;5;241;43m1\u001b[39;49m\u001b[43m]\u001b[49m\u001b[43m,\u001b[49m\u001b[43m \u001b[49m\u001b[43mmode\u001b[49m\u001b[38;5;241;43m=\u001b[39;49m\u001b[38;5;124;43m'\u001b[39;49m\u001b[38;5;124;43msame\u001b[39;49m\u001b[38;5;124;43m'\u001b[39;49m\u001b[43m)\u001b[49m\n\u001b[1;32m     23\u001b[0m     surrogates_co_occurrences\u001b[38;5;241m.\u001b[39mappend(co_occurrence_counts_per_lag)\n\u001b[1;32m     24\u001b[0m surrogates_co_occurrence_counts\u001b[38;5;241m.\u001b[39mappend(np\u001b[38;5;241m.\u001b[39mmean(surrogates_co_occurrences, axis\u001b[38;5;241m=\u001b[39m\u001b[38;5;241m0\u001b[39m))   \n",
      "File \u001b[0;32m<__array_function__ internals>:5\u001b[0m, in \u001b[0;36mconvolve\u001b[0;34m(*args, **kwargs)\u001b[0m\n",
      "File \u001b[0;32m/opt/conda/lib/python3.10/site-packages/numpy/core/numeric.py:844\u001b[0m, in \u001b[0;36mconvolve\u001b[0;34m(a, v, mode)\u001b[0m\n\u001b[1;32m    842\u001b[0m \u001b[38;5;28;01mif\u001b[39;00m \u001b[38;5;28mlen\u001b[39m(v) \u001b[38;5;241m==\u001b[39m \u001b[38;5;241m0\u001b[39m:\n\u001b[1;32m    843\u001b[0m     \u001b[38;5;28;01mraise\u001b[39;00m \u001b[38;5;167;01mValueError\u001b[39;00m(\u001b[38;5;124m'\u001b[39m\u001b[38;5;124mv cannot be empty\u001b[39m\u001b[38;5;124m'\u001b[39m)\n\u001b[0;32m--> 844\u001b[0m \u001b[38;5;28;01mreturn\u001b[39;00m \u001b[43mmultiarray\u001b[49m\u001b[38;5;241;43m.\u001b[39;49m\u001b[43mcorrelate\u001b[49m\u001b[43m(\u001b[49m\u001b[43ma\u001b[49m\u001b[43m,\u001b[49m\u001b[43m \u001b[49m\u001b[43mv\u001b[49m\u001b[43m[\u001b[49m\u001b[43m:\u001b[49m\u001b[43m:\u001b[49m\u001b[38;5;241;43m-\u001b[39;49m\u001b[38;5;241;43m1\u001b[39;49m\u001b[43m]\u001b[49m\u001b[43m,\u001b[49m\u001b[43m \u001b[49m\u001b[43mmode\u001b[49m\u001b[43m)\u001b[49m\n",
      "\u001b[0;31mKeyboardInterrupt\u001b[0m: "
     ]
    },
    {
     "ename": "KeyboardInterrupt",
     "evalue": "",
     "output_type": "error",
     "traceback": [
      "\u001b[0;31m---------------------------------------------------------------------------\u001b[0m",
      "\u001b[0;31mKeyboardInterrupt\u001b[0m                         Traceback (most recent call last)",
      "Input \u001b[0;32mIn [4]\u001b[0m, in \u001b[0;36m<cell line: 20>\u001b[0;34m()\u001b[0m\n\u001b[1;32m     62\u001b[0m spiketrains \u001b[38;5;241m=\u001b[39m scan_spiketrains\n\u001b[1;32m     63\u001b[0m perc_corr \u001b[38;5;241m=\u001b[39m \u001b[38;5;241m0.6\u001b[39m\n\u001b[0;32m---> 64\u001b[0m \u001b[43mget_ipython\u001b[49m\u001b[43m(\u001b[49m\u001b[43m)\u001b[49m\u001b[38;5;241;43m.\u001b[39;49m\u001b[43mrun_line_magic\u001b[49m\u001b[43m(\u001b[49m\u001b[38;5;124;43m'\u001b[39;49m\u001b[38;5;124;43mrun\u001b[39;49m\u001b[38;5;124;43m'\u001b[39;49m\u001b[43m,\u001b[49m\u001b[43m \u001b[49m\u001b[38;5;124;43m'\u001b[39;49m\u001b[38;5;124;43m\"\u001b[39;49m\u001b[38;5;124;43mfunctional_analysis.ipynb\u001b[39;49m\u001b[38;5;124;43m\"\u001b[39;49m\u001b[38;5;124;43m'\u001b[39;49m\u001b[43m)\u001b[49m\n\u001b[1;32m     65\u001b[0m all_degrees\u001b[38;5;241m.\u001b[39mextend(degrees)\n\u001b[1;32m     66\u001b[0m all_core_degrees\u001b[38;5;241m.\u001b[39mextend(core_degrees)\n",
      "File \u001b[0;32m/opt/conda/lib/python3.10/site-packages/IPython/core/interactiveshell.py:2305\u001b[0m, in \u001b[0;36mInteractiveShell.run_line_magic\u001b[0;34m(self, magic_name, line, _stack_depth)\u001b[0m\n\u001b[1;32m   2303\u001b[0m     kwargs[\u001b[38;5;124m'\u001b[39m\u001b[38;5;124mlocal_ns\u001b[39m\u001b[38;5;124m'\u001b[39m] \u001b[38;5;241m=\u001b[39m \u001b[38;5;28mself\u001b[39m\u001b[38;5;241m.\u001b[39mget_local_scope(stack_depth)\n\u001b[1;32m   2304\u001b[0m \u001b[38;5;28;01mwith\u001b[39;00m \u001b[38;5;28mself\u001b[39m\u001b[38;5;241m.\u001b[39mbuiltin_trap:\n\u001b[0;32m-> 2305\u001b[0m     result \u001b[38;5;241m=\u001b[39m \u001b[43mfn\u001b[49m\u001b[43m(\u001b[49m\u001b[38;5;241;43m*\u001b[39;49m\u001b[43margs\u001b[49m\u001b[43m,\u001b[49m\u001b[43m \u001b[49m\u001b[38;5;241;43m*\u001b[39;49m\u001b[38;5;241;43m*\u001b[39;49m\u001b[43mkwargs\u001b[49m\u001b[43m)\u001b[49m\n\u001b[1;32m   2306\u001b[0m \u001b[38;5;28;01mreturn\u001b[39;00m result\n",
      "File \u001b[0;32m/opt/conda/lib/python3.10/site-packages/IPython/core/magics/execution.py:717\u001b[0m, in \u001b[0;36mExecutionMagics.run\u001b[0;34m(self, parameter_s, runner, file_finder)\u001b[0m\n\u001b[1;32m    715\u001b[0m     \u001b[38;5;28;01mwith\u001b[39;00m preserve_keys(\u001b[38;5;28mself\u001b[39m\u001b[38;5;241m.\u001b[39mshell\u001b[38;5;241m.\u001b[39muser_ns, \u001b[38;5;124m'\u001b[39m\u001b[38;5;124m__file__\u001b[39m\u001b[38;5;124m'\u001b[39m):\n\u001b[1;32m    716\u001b[0m         \u001b[38;5;28mself\u001b[39m\u001b[38;5;241m.\u001b[39mshell\u001b[38;5;241m.\u001b[39muser_ns[\u001b[38;5;124m'\u001b[39m\u001b[38;5;124m__file__\u001b[39m\u001b[38;5;124m'\u001b[39m] \u001b[38;5;241m=\u001b[39m filename\n\u001b[0;32m--> 717\u001b[0m         \u001b[38;5;28;43mself\u001b[39;49m\u001b[38;5;241;43m.\u001b[39;49m\u001b[43mshell\u001b[49m\u001b[38;5;241;43m.\u001b[39;49m\u001b[43msafe_execfile_ipy\u001b[49m\u001b[43m(\u001b[49m\u001b[43mfilename\u001b[49m\u001b[43m,\u001b[49m\u001b[43m \u001b[49m\u001b[43mraise_exceptions\u001b[49m\u001b[38;5;241;43m=\u001b[39;49m\u001b[38;5;28;43;01mTrue\u001b[39;49;00m\u001b[43m)\u001b[49m\n\u001b[1;32m    718\u001b[0m     \u001b[38;5;28;01mreturn\u001b[39;00m\n\u001b[1;32m    720\u001b[0m \u001b[38;5;66;03m# Control the response to exit() calls made by the script being run\u001b[39;00m\n",
      "File \u001b[0;32m/opt/conda/lib/python3.10/site-packages/IPython/core/interactiveshell.py:2811\u001b[0m, in \u001b[0;36mInteractiveShell.safe_execfile_ipy\u001b[0;34m(self, fname, shell_futures, raise_exceptions)\u001b[0m\n\u001b[1;32m   2809\u001b[0m result \u001b[38;5;241m=\u001b[39m \u001b[38;5;28mself\u001b[39m\u001b[38;5;241m.\u001b[39mrun_cell(cell, silent\u001b[38;5;241m=\u001b[39m\u001b[38;5;28;01mTrue\u001b[39;00m, shell_futures\u001b[38;5;241m=\u001b[39mshell_futures)\n\u001b[1;32m   2810\u001b[0m \u001b[38;5;28;01mif\u001b[39;00m raise_exceptions:\n\u001b[0;32m-> 2811\u001b[0m     \u001b[43mresult\u001b[49m\u001b[38;5;241;43m.\u001b[39;49m\u001b[43mraise_error\u001b[49m\u001b[43m(\u001b[49m\u001b[43m)\u001b[49m\n\u001b[1;32m   2812\u001b[0m \u001b[38;5;28;01melif\u001b[39;00m \u001b[38;5;129;01mnot\u001b[39;00m result\u001b[38;5;241m.\u001b[39msuccess:\n\u001b[1;32m   2813\u001b[0m     \u001b[38;5;28;01mbreak\u001b[39;00m\n",
      "File \u001b[0;32m/opt/conda/lib/python3.10/site-packages/IPython/core/interactiveshell.py:251\u001b[0m, in \u001b[0;36mExecutionResult.raise_error\u001b[0;34m(self)\u001b[0m\n\u001b[1;32m    249\u001b[0m     \u001b[38;5;28;01mraise\u001b[39;00m \u001b[38;5;28mself\u001b[39m\u001b[38;5;241m.\u001b[39merror_before_exec\n\u001b[1;32m    250\u001b[0m \u001b[38;5;28;01mif\u001b[39;00m \u001b[38;5;28mself\u001b[39m\u001b[38;5;241m.\u001b[39merror_in_exec \u001b[38;5;129;01mis\u001b[39;00m \u001b[38;5;129;01mnot\u001b[39;00m \u001b[38;5;28;01mNone\u001b[39;00m:\n\u001b[0;32m--> 251\u001b[0m     \u001b[38;5;28;01mraise\u001b[39;00m \u001b[38;5;28mself\u001b[39m\u001b[38;5;241m.\u001b[39merror_in_exec\n",
      "    \u001b[0;31m[... skipping hidden 1 frame]\u001b[0m\n",
      "File \u001b[0;32m/tmp/ipykernel_32749/663100489.py:22\u001b[0m, in \u001b[0;36m<cell line: 12>\u001b[0;34m()\u001b[0m\n\u001b[1;32m     20\u001b[0m     surrspike_times1 \u001b[38;5;241m=\u001b[39m np\u001b[38;5;241m.\u001b[39mrandom\u001b[38;5;241m.\u001b[39mpermutation(spike_times1)\n\u001b[1;32m     21\u001b[0m     surrspike_times2 \u001b[38;5;241m=\u001b[39m np\u001b[38;5;241m.\u001b[39mrandom\u001b[38;5;241m.\u001b[39mpermutation(spike_times2)\n\u001b[0;32m---> 22\u001b[0m     co_occurrence_counts_per_lag \u001b[38;5;241m=\u001b[39m \u001b[43mnp\u001b[49m\u001b[38;5;241;43m.\u001b[39;49m\u001b[43mconvolve\u001b[49m\u001b[43m(\u001b[49m\u001b[43msurrspike_times1\u001b[49m\u001b[43m,\u001b[49m\u001b[43m \u001b[49m\u001b[43msurrspike_times2\u001b[49m\u001b[43m[\u001b[49m\u001b[43m:\u001b[49m\u001b[43m:\u001b[49m\u001b[38;5;241;43m-\u001b[39;49m\u001b[38;5;241;43m1\u001b[39;49m\u001b[43m]\u001b[49m\u001b[43m,\u001b[49m\u001b[43m \u001b[49m\u001b[43mmode\u001b[49m\u001b[38;5;241;43m=\u001b[39;49m\u001b[38;5;124;43m'\u001b[39;49m\u001b[38;5;124;43msame\u001b[39;49m\u001b[38;5;124;43m'\u001b[39;49m\u001b[43m)\u001b[49m\n\u001b[1;32m     23\u001b[0m     surrogates_co_occurrences\u001b[38;5;241m.\u001b[39mappend(co_occurrence_counts_per_lag)\n\u001b[1;32m     24\u001b[0m surrogates_co_occurrence_counts\u001b[38;5;241m.\u001b[39mappend(np\u001b[38;5;241m.\u001b[39mmean(surrogates_co_occurrences, axis\u001b[38;5;241m=\u001b[39m\u001b[38;5;241m0\u001b[39m))   \n",
      "File \u001b[0;32m<__array_function__ internals>:5\u001b[0m, in \u001b[0;36mconvolve\u001b[0;34m(*args, **kwargs)\u001b[0m\n",
      "File \u001b[0;32m/opt/conda/lib/python3.10/site-packages/numpy/core/numeric.py:844\u001b[0m, in \u001b[0;36mconvolve\u001b[0;34m(a, v, mode)\u001b[0m\n\u001b[1;32m    842\u001b[0m \u001b[38;5;28;01mif\u001b[39;00m \u001b[38;5;28mlen\u001b[39m(v) \u001b[38;5;241m==\u001b[39m \u001b[38;5;241m0\u001b[39m:\n\u001b[1;32m    843\u001b[0m     \u001b[38;5;28;01mraise\u001b[39;00m \u001b[38;5;167;01mValueError\u001b[39;00m(\u001b[38;5;124m'\u001b[39m\u001b[38;5;124mv cannot be empty\u001b[39m\u001b[38;5;124m'\u001b[39m)\n\u001b[0;32m--> 844\u001b[0m \u001b[38;5;28;01mreturn\u001b[39;00m \u001b[43mmultiarray\u001b[49m\u001b[38;5;241;43m.\u001b[39;49m\u001b[43mcorrelate\u001b[49m\u001b[43m(\u001b[49m\u001b[43ma\u001b[49m\u001b[43m,\u001b[49m\u001b[43m \u001b[49m\u001b[43mv\u001b[49m\u001b[43m[\u001b[49m\u001b[43m:\u001b[49m\u001b[43m:\u001b[49m\u001b[38;5;241;43m-\u001b[39;49m\u001b[38;5;241;43m1\u001b[39;49m\u001b[43m]\u001b[49m\u001b[43m,\u001b[49m\u001b[43m \u001b[49m\u001b[43mmode\u001b[49m\u001b[43m)\u001b[49m\n",
      "\u001b[0;31mKeyboardInterrupt\u001b[0m: "
     ]
    }
   ],
   "source": [
    "global_events = [[] for i in range(56)] # by session\n",
    "global_events_vector = [[] for i in range(56)] # by session\n",
    "global_events_sec = []\n",
    "global_events_duration = []\n",
    "global_cluster_number = []\n",
    "global_cluster_selfsimilarity = [[] for i in range(56)]\n",
    "\n",
    "core_reproducibility_perc = 99 # threshold for detecting cores\n",
    "\n",
    "sessions_evt_toBremoved = [[] for i in range(56)] # by session\n",
    "sessions_evt_toBremoved[1] = [0] \n",
    "\n",
    "all_degrees = []\n",
    "all_core_degrees = []\n",
    "all_local_clustering_coefficients = []\n",
    "all_core_local_clustering_coefficients = []\n",
    "all_pagerank_cores = []\n",
    "all_pagerank_others = []\n",
    "\n",
    "for scan_id,oe in enumerate(ophys_experiments):\n",
    "    # pprint.pprint(oe)\n",
    "\n",
    "    print(\"\\n\\n%d/%d - %s\" % (scan_id+1,len(ophys_experiments),oe))\n",
    "\n",
    "    if os.path.exists(exp_path+'/spiketrains_'+str(oe)+'.npy') and os.path.exists(exp_path+'/time_'+str(oe)+'.npy'):\n",
    "        scan_spiketrains = np.load(exp_path+'/spiketrains_'+str(oe)+'.npy', allow_pickle=True)\n",
    "        time = np.load(exp_path+'/time_'+str(oe)+'.npy', allow_pickle=True)\n",
    "        print(\"... loaded\",len(scan_spiketrains), \"spiketrains\")\n",
    "        # print(time)\n",
    "    \n",
    "    start_time = 0\n",
    "    exp_tstart = start_time\n",
    "    stop_time = max([max(st) if len(st) else 0 for st in scan_spiketrains])\n",
    "    \n",
    "    print(\"... producing spike rasterplot per session\")\n",
    "    fig = plt.figure()\n",
    "    for row,train in enumerate(scan_spiketrains):\n",
    "        plt.scatter( train, [row]*len(train), marker='o', edgecolors='none', s=1, c='k' )\n",
    "    plt.ylabel(\"cell IDs\")\n",
    "    plt.xlabel(\"time (s)\")\n",
    "    fig.savefig(exp_path+'/results/rasterplot_scan%s.png'%scan_id, transparent=True, dpi=800)\n",
    "    plt.close()\n",
    "    fig.clear()\n",
    "    fig.clf()\n",
    "    \n",
    "    ophys_cell_ids = list(range(len(scan_spiketrains)))\n",
    "    ophys_cell_indexes = ophys_cell_ids # alias\n",
    "    extra_toBremoved = sessions_evt_toBremoved[scan_id]\n",
    "\n",
    "    # --------------------------------------------------------------------------\n",
    "    %run \"dynamical_analysis.ipynb\"\n",
    "\n",
    "    global_events[scan_id].extend(events)\n",
    "    global_events_vector[scan_id].extend(events_vectors)\n",
    "    global_events_sec.append(events_sec)\n",
    "    global_events_duration.extend(events_durations_f)\n",
    "    global_cluster_number.append(nclusters)\n",
    "    global_cluster_selfsimilarity.extend(reproducibility_list)\n",
    "\n",
    "    # --------------------------------------------------------------------------\n",
    "    # Functional structure analysis\n",
    "    spiketrains = scan_spiketrains\n",
    "    perc_corr = 0.6\n",
    "    %run \"functional_analysis.ipynb\"\n",
    "    all_degrees.extend(degrees)\n",
    "    all_core_degrees.extend(core_degrees)\n",
    "    all_local_clustering_coefficients.extend(local_clustering_coefficients)\n",
    "    all_core_local_clustering_coefficients.extend(core_local_clustering_coefficients)\n",
    "    all_pagerank_cores.extend(pagerank_cores)\n",
    "    all_pagerank_others.extend(pagerank_others)\n",
    "\n",
    "# modularity\n",
    "print('... Total modularity')\n",
    "# figure\n",
    "fig, (hmmap, chist) = plt.subplots(1, 2, gridspec_kw={'width_ratios': [6, 1]})\n",
    "# hierarchy\n",
    "hmmap.scatter( all_degrees, all_local_clustering_coefficients, marker='o', facecolor='#111111', s=50, edgecolors='none', alpha=0.5) \n",
    "hmmap.scatter( all_core_degrees, all_core_local_clustering_coefficients, marker='o', facecolor='none', s=50, edgecolors='forestgreen') \n",
    "hmmap.set_yscale('log')\n",
    "hmmap.set_ylim([0.02,1.1])\n",
    "hmmap.set_xscale('log')\n",
    "hmmap.spines['top'].set_visible(False)\n",
    "hmmap.spines['right'].set_visible(False)\n",
    "hmmap.set_ylabel('LCC')\n",
    "hmmap.set_xlabel('degree')\n",
    "hmmap.tick_params(axis='both', bottom='on', top='on', left='off', right='off')\n",
    "# core lcc histogram\n",
    "bins = np.linspace(0.02,1,50)\n",
    "barheight = (max(all_local_clustering_coefficients)-min(all_local_clustering_coefficients))/50\n",
    "lcc_hist, lcc_binedges = np.histogram(all_core_local_clustering_coefficients, bins)\n",
    "chist.barh(bins[:-1], lcc_hist, height=barheight, align='center', color='green', linewidth=0)\n",
    "chist.spines['top'].set_visible(False)\n",
    "chist.spines['right'].set_visible(False)\n",
    "chist.tick_params(axis='x', which='both', bottom=True, top=False, labelsize='x-small')\n",
    "chist.tick_params(axis='y', which='both', left=True, right=False, labelleft=True)\n",
    "chist_ticks = chist.get_xticks()\n",
    "chist.set_ylim([0.01,1.1])\n",
    "chist.set_ylabel('LCC')\n",
    "chist.set_xlabel('count')\n",
    "chist.yaxis.set_label_position(\"right\")\n",
    "chist.spines['top'].set_visible(False)\n",
    "chist.spines['right'].set_visible(False)\n",
    "chist.spines['bottom'].set_visible(False)\n",
    "plt.tight_layout()\n",
    "fig.savefig(exp_path+\"/results/cores_hierarchical_modularity_all.svg\", transparent=True)\n",
    "plt.close()\n",
    "fig.clear()\n",
    "fig.clf()\n",
    "\n",
    "# totals\n",
    "print('... Total PageRank centrality')\n",
    "# description\n",
    "print(\"    cores: \"+str(stats.describe(all_pagerank_cores)) )\n",
    "print(\"    others: \"+str(stats.describe(all_pagerank_others)) )\n",
    "# significativity\n",
    "print(\"    Kruskal-Wallis test:  %.3f p= %.3f\" % stats.kruskal(all_pagerank_cores, all_pagerank_others))\n",
    "d,_ = stats.ks_2samp(all_pagerank_cores, all_pagerank_others) # non-parametric measure of effect size [0,1]\n",
    "print('    Kolmogorov-Smirnov Effect Size: %.3f' % d)\n",
    "\n",
    "fig, ax = plt.subplots()\n",
    "xs = np.random.normal(1, 0.04, len(all_pagerank_cores))\n",
    "plt.scatter(xs, all_pagerank_cores, alpha=0.3, c='forestgreen')\n",
    "xs = np.random.normal(2, 0.04, len(all_pagerank_others))\n",
    "plt.scatter(xs, all_pagerank_others, alpha=0.3, c='silver')\n",
    "vp = ax.violinplot([all_pagerank_cores,all_pagerank_others], widths=0.15, showextrema=False, showmedians=True)\n",
    "for pc in vp['bodies']:\n",
    "    pc.set_edgecolor('black')\n",
    "for pc,cb in zip(vp['bodies'],['#228B224d','#D3D3D34d']):\n",
    "    pc.set_facecolor(cb)\n",
    "vp['cmedians'].set_color('orange')\n",
    "vp['cmedians'].set_linewidth(2.)\n",
    "ax.spines['top'].set_visible(False)\n",
    "ax.spines['bottom'].set_visible(False)\n",
    "ax.spines['left'].set_visible(False)\n",
    "ax.spines['right'].set_visible(False)\n",
    "plt.ylabel('PageRank')\n",
    "plt.xticks([1, 2], [\"core\\n(n={:d})\".format(len(all_pagerank_cores)), \"other\\n(n={:d})\".format(len(all_pagerank_others))])\n",
    "fig.savefig(exp_path+\"/results/global_cores_others_pagerank_all.svg\", transparent=True)\n",
    "plt.show()"
   ]
  },
  {
   "cell_type": "code",
   "execution_count": null,
   "id": "e52a5f27-d1bb-4c6f-8f50-8f1575f49644",
   "metadata": {},
   "outputs": [],
   "source": []
  }
 ],
 "metadata": {
  "kernelspec": {
   "display_name": "Python 3 (ipykernel)",
   "language": "python",
   "name": "python3"
  },
  "language_info": {
   "codemirror_mode": {
    "name": "ipython",
    "version": 3
   },
   "file_extension": ".py",
   "mimetype": "text/x-python",
   "name": "python",
   "nbconvert_exporter": "python",
   "pygments_lexer": "ipython3",
   "version": "3.10.4"
  }
 },
 "nbformat": 4,
 "nbformat_minor": 5
}
