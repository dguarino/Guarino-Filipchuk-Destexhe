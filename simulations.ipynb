{
 "cells": [
  {
   "cell_type": "markdown",
   "id": "9252938c-3422-49d1-84c9-7604dbe085c6",
   "metadata": {},
   "source": [
    "## Event reproducibility, manifold attractors, and functional connectivity analysis of Spiking simulations\n",
    "\n",
    "Saved data only here, to run the simulation please refere to the companion repository.\n",
    "\n",
    "- random connectivity: events but not reproducibility\n",
    "- range connectivity:\n",
    "    - event reproducibility\n",
    "    - manifold attractors\n",
    "    - cores and functional connectivity"
   ]
  },
  {
   "cell_type": "code",
   "execution_count": 74,
   "id": "9cbb3cc3-73c3-4edb-9c9c-32a1725f5d79",
   "metadata": {},
   "outputs": [
    {
     "name": "stdout",
     "output_type": "stream",
     "text": [
      "3.10.4\n"
     ]
    }
   ],
   "source": [
    "from platform import python_version\n",
    "print(python_version())\n",
    "\n",
    "%run -i 'imports_functions.py' \n",
    "\n",
    "%matplotlib inline"
   ]
  },
  {
   "cell_type": "markdown",
   "id": "4eff466e-ec44-4c40-a6dc-14a1be427afd",
   "metadata": {},
   "source": [
    "### Testing multiple seeds\n",
    "Given the same structure network, we want to know \n",
    "- if same stimuli will produce same population events.\n",
    "- if a different seed will change the population events\n",
    "\n",
    "We use a Frozen noise approach. We produced a Poissonian spike population of 10000 units (large number to avoid input correlations), randomly connected (5%) to the population we simulate.    \n",
    "We let the input population run alone for 6sec (0.1 dt). This will be the **frozen input with seed1**.    \n",
    "We then take the spikes produced with seed1, and change the spike timings (normally distributed between 0 and 150 ms). This will give the **frozen input with seed2**.     \n",
    "This strategy can be used to run multiple simulations."
   ]
  },
  {
   "cell_type": "code",
   "execution_count": 75,
   "id": "bdffe375-9ad1-4c81-bf59-6de2315051d9",
   "metadata": {},
   "outputs": [
    {
     "name": "stdout",
     "output_type": "stream",
     "text": [
      "(10000,)\n",
      "239\n",
      "[ 11.   54.6 162.5 764.3 814.2]\n",
      "[59616.8 59709.5 59719.8 59877.9 59905.8]\n",
      "(10000,)\n",
      "239\n",
      "[ 65.  108.6 216.5 818.3 868.2]\n",
      "[59670.8 59763.5 59773.8 59931.9 59959.8]\n"
     ]
    }
   ],
   "source": [
    "stimulus_seed1_spiketrains = np.load('simulations/spikes/spiketrains_seed1.npy', allow_pickle=True)\n",
    "print(stimulus_seed1_spiketrains.shape)\n",
    "print(len(stimulus_seed1_spiketrains[0]))\n",
    "print(stimulus_seed1_spiketrains[0][0:0+5])\n",
    "print(stimulus_seed1_spiketrains[0][234:234+5])\n",
    "\n",
    "# generation of synthetic spiketrain based on previous.\n",
    "# stimulus_seed2_spiketrains = np.load('simulations/spikes/spiketrains_seed1.npy', allow_pickle=True)\n",
    "# stimulus_seed2_spiketrains += np.random.randint(low=0, high=150,size=len(stimulus_seed2_spiketrains))\n",
    "# np.save('simulations/spikes/spiketrains_seed2.npy', stimulus_seed2_spiketrains)\n",
    "\n",
    "stimulus_seed2_spiketrains = np.load('simulations/spikes/spiketrains_seed2.npy', allow_pickle=True)\n",
    "print(stimulus_seed2_spiketrains.shape)\n",
    "print(len(stimulus_seed2_spiketrains[0]))\n",
    "print(stimulus_seed2_spiketrains[0][0:0+5])\n",
    "print(stimulus_seed2_spiketrains[0][234:234+5])"
   ]
  },
  {
   "cell_type": "markdown",
   "id": "73d540f1-b2b0-493d-9a68-07132aff4562",
   "metadata": {},
   "source": [
    "## Datasets\n",
    "The simulated spiketrains used in Figure 5, panels a-f, are in the file `spiketrains_py.npy`. This is labeled here as *scan_id 0*.      \n",
    "The simulated spiketrains used in figure 5g are in the files `spiketrains_py_frozen1.npy` (stimulated with seed1 two times) and `spiketrains_py_frozen2.npy` (stimulated with seed1 and seed2).\n",
    "\n",
    "Commenting out the different loads will produce the plots for each condition."
   ]
  },
  {
   "cell_type": "code",
   "execution_count": 86,
   "id": "74a6f6b6-ae11-4a74-be30-a8768b4ba86a",
   "metadata": {},
   "outputs": [
    {
     "name": "stdout",
     "output_type": "stream",
     "text": [
      "... loaded 10000 spiketrains\n"
     ]
    }
   ],
   "source": [
    "all_spiketrains = np.load('simulations/spiketrains_py.npy', allow_pickle=True)\n",
    "scan_id = 0\n",
    "all_spiketrains = np.load('simulations/spiketrains_py_frozen1.npy', allow_pickle=True)\n",
    "scan_id = 1 # first half (6sec) seed as 0, second half (6sec) same seed as first half\n",
    "all_spiketrains = np.load('simulations/spiketrains_py_frozen2.npy', allow_pickle=True)\n",
    "scan_id = 2 # first half (6sec) seed as 0, second half (6sec) new seed\n",
    "print(\"... loaded\",len(all_spiketrains), \"spiketrains\")\n",
    "# turn dt into seconds\n",
    "all_spiketrains /= 10000. # dt=0.1ms\n",
    "\n",
    "exp_path = os.getcwd() + \"/simulations/\"\n",
    "\n",
    "# frame_duration = 0.0001 # 0.1 msec (e.g. 4048.4493 s)\n",
    "# frame_duration = 0.001 # 1 msec (e.g. 4048.449 s)\n",
    "frame_duration = 0.01 # 10ms (e.g. 4048.45 s) almost as in two-photon"
   ]
  },
  {
   "cell_type": "code",
   "execution_count": 87,
   "id": "78f70dc9-9b03-4a38-a8ca-d0361078861a",
   "metadata": {},
   "outputs": [
    {
     "name": "stdout",
     "output_type": "stream",
     "text": [
      "... retained 2000 spiketrains\n"
     ]
    }
   ],
   "source": [
    "# subsampling: there is a limit for calloc()\n",
    "all_cell_ids = np.array(list(range(len(all_spiketrains))))\n",
    "chosen_cell_indexes = sorted(np.random.choice(len(all_spiketrains), 2000, replace=False))\n",
    "removed_cell_indexes = np.delete(all_cell_ids, chosen_cell_indexes)\n",
    "cell_ids = sorted(all_cell_ids[chosen_cell_indexes])\n",
    "\n",
    "scan_spiketrains = []\n",
    "for spiketrain in [all_spiketrains[i] for i in chosen_cell_indexes]:\n",
    "    scan_spiketrains.append(spiketrain[50:])\n",
    "cell_indexes = range(0,len(chosen_cell_indexes)) # go to 0 to tot instead of jumping indexes, to be consistent with the spiketrains from now on\n",
    "print(\"... retained\",len(scan_spiketrains), \"spiketrains\")"
   ]
  },
  {
   "cell_type": "markdown",
   "id": "d3c11d4e-9261-4a60-9f68-255d45fd3505",
   "metadata": {},
   "source": [
    "---\n",
    "## Dynamical analysis\n",
    "\n",
    "To be written"
   ]
  },
  {
   "cell_type": "code",
   "execution_count": 90,
   "id": "d4dc9b91-cd28-4936-a1a4-ef39445802e5",
   "metadata": {},
   "outputs": [
    {
     "name": "stdout",
     "output_type": "stream",
     "text": [
      "... scan id: 2\n",
      "    start time: 6.0\n",
      "    stop time: 12.0\n",
      "... producing spike rasterplot\n",
      "    population firing: 744.00±480.56 sp/frame\n",
      "    cells firing rate: 0.37±1.09 sp/s\n",
      "... generating surrogates to establish population event threshold\n",
      "... loaded surrogates\n",
      "    event size threshold (mean): 1105.0979542793705\n",
      "    find peaks\n",
      "    find minima\n",
      "    find population events\n",
      "    signatures of population events\n",
      "    number of events: 38\n",
      "    number of events per sec: 3.1666666666666665\n",
      "    events duration: 0.085±0.022\n",
      "    events size: 1721.500±137.372\n",
      "    Similarity of events matrix\n",
      "    clustering - linkage\n",
      "    surrogate events signatures for clustering threshold\n",
      "   ... loaded surrogates\n",
      "    cluster reproducibility threshold: 0.0\n",
      "    cluster size threshold: 2\n",
      "    Total number of clusters: 30\n",
      "    # clusters (after removing those below reproducibility threshold): 6\n",
      "    event color assignment\n",
      "    unique color assignments\n",
      "    clustered similarity map\n",
      "    finding cluster cores\n",
      "    removing cores firing unspecifically\n",
      "    gathering cores from all clusters\n",
      "    # cores: 1983\n",
      "    # non-cores: 17\n",
      "    cores per cluster: 2470.14±1437.74 (min 1782, max 5989)\n",
      "    others per cluster: 103.86±65.70 (min 29, max 218)\n"
     ]
    }
   ],
   "source": [
    "print(\"... scan id:\",scan_id)\n",
    "\n",
    "core_reproducibility_perc = 95. # threshold for detecting cores\n",
    "core_reproducibility_perc = 60 # threshold for detecting cores\n",
    "\n",
    "start_time = 0.\n",
    "start_time = 6.\n",
    "exp_tstart = start_time\n",
    "print(\"    start time:\", start_time)\n",
    "stop_time = max([max(st) if len(st) else 0 for st in scan_spiketrains])\n",
    "# stop_time = 6.0 # to compare frozen 1 and frozen 2\n",
    "print(\"    stop time:\", stop_time)\n",
    "time = np.arange(start_time, stop_time, frame_duration)\n",
    "\n",
    "print(\"... producing spike rasterplot\")\n",
    "fig = plt.figure()\n",
    "for row,train in enumerate(scan_spiketrains):\n",
    "    plt.scatter( train, [row]*len(train), marker='o', edgecolors='none', s=1, c='k' )\n",
    "plt.ylabel(\"cell IDs\")\n",
    "plt.xlabel(\"time (s)\")\n",
    "fig.savefig(exp_path+'/results/rasterplot.png', transparent=True, dpi=800)\n",
    "plt.close()\n",
    "fig.clear()\n",
    "fig.clf()\n",
    "\n",
    "ophys_cell_ids = list(range(len(scan_spiketrains)))\n",
    "ophys_cell_indexes = ophys_cell_ids # alias\n",
    "\n",
    "%run \"dynamical_analysis.ipynb\""
   ]
  },
  {
   "cell_type": "markdown",
   "id": "17e32a4f-a65c-4dad-965a-bb3ee3dfac43",
   "metadata": {},
   "source": [
    "---\n",
    "## Manifold attractor analysis\n"
   ]
  },
  {
   "cell_type": "code",
   "execution_count": 5,
   "id": "4d2f8d69-164a-43c6-9349-5079f746a8f1",
   "metadata": {},
   "outputs": [
    {
     "name": "stdout",
     "output_type": "stream",
     "text": [
      "... Manifold Analysis\n",
      "... Starting attractor analysis\n"
     ]
    },
    {
     "name": "stderr",
     "output_type": "stream",
     "text": [
      "/opt/conda/lib/python3.10/site-packages/seaborn/rcmod.py:82: DeprecationWarning: distutils Version classes are deprecated. Use packaging.version instead.\n",
      "  if LooseVersion(mpl.__version__) >= \"3.0\":\n",
      "/opt/conda/lib/python3.10/site-packages/setuptools/_distutils/version.py:351: DeprecationWarning: distutils Version classes are deprecated. Use packaging.version instead.\n",
      "  other = LooseVersion(other)\n"
     ]
    },
    {
     "name": "stdout",
     "output_type": "stream",
     "text": [
      "    coloring frames\n",
      "    finding trajectories\n",
      "    trajectories lengths: 14.77±13.38 (median:9.00)\n",
      "... performing dimensionality reduction of the state space (using PCA)\n"
     ]
    },
    {
     "name": "stderr",
     "output_type": "stream",
     "text": [
      "/opt/conda/lib/python3.10/site-packages/numpy/lib/function_base.py:2691: RuntimeWarning: invalid value encountered in true_divide\n",
      "  c /= stddev[:, None]\n",
      "/opt/conda/lib/python3.10/site-packages/matplotlib/transforms.py:775: ComplexWarning: Casting complex values to real discards the imaginary part\n",
      "  points = np.asarray(points, float)\n",
      "/opt/conda/lib/python3.10/site-packages/matplotlib/cbook/__init__.py:1298: ComplexWarning: Casting complex values to real discards the imaginary part\n",
      "  return np.asarray(x, float)\n"
     ]
    },
    {
     "name": "stdout",
     "output_type": "stream",
     "text": [
      "... testing cluster manifolds\n"
     ]
    }
   ],
   "source": [
    "print(\"... Manifold Analysis\")\n",
    "mousename=area=ipop=0 # as for other experiments :)\n",
    "%run \"attractor_analysis.ipynb\""
   ]
  },
  {
   "cell_type": "markdown",
   "id": "b85f9c0c-f8f5-46d6-9f4c-34b36e4a919e",
   "metadata": {},
   "source": [
    "---\n",
    "## Structural analysis\n",
    "\n",
    "Creating graph from the actual connectivity matrix"
   ]
  },
  {
   "cell_type": "code",
   "execution_count": 6,
   "id": "a4383f9b-0d15-4bdf-9915-8398f9e6712f",
   "metadata": {},
   "outputs": [
    {
     "name": "stdout",
     "output_type": "stream",
     "text": [
      "[20005     0     0     0]\n",
      "    py_py conns, shape (306100, 3)\n",
      "    nodes: 10000\n",
      "    plotting reduced adjacency matrix\n"
     ]
    }
   ],
   "source": [
    "cell_coords = []\n",
    "with open('simulations/py_default0_positions.txt', 'r') as posfile:\n",
    "    lines = posfile.readlines()\n",
    "    posfile.close()\n",
    "    for line in lines:\n",
    "        cell_coords.append( [int(float(i)) for i in line.split(' ')[:4]] ) # id, index, x, y (not including z (4))\n",
    "        # print(cell_coords) # id, idx, x, y\n",
    "        #[ ..., [13287, 4064, 63, 32], [13288, 4065, 63, 33], ... ]\n",
    "    cell_coords = np.array(cell_coords)\n",
    "\n",
    "print(cell_coords[0])\n",
    "# print(cell_ids)\n",
    "\n",
    "# Adjecency matrix\n",
    "# # old NEST versions\n",
    "# adjacency_matrix = np.nan_to_num(np.load(folder+'/connections_'+connskey+'.npy'))\n",
    "# print(\"    \", connskey, \"conns, shape\", adjacency_matrix.shape)\n",
    "# # new NEST version\n",
    "conns = np.load('simulations/connections_py_py.npy')\n",
    "print(\"    py_py conns, shape\", conns.shape)\n",
    "conns[np.isnan(conns)] = 0.0 # to avoid NaN\n",
    "edges = [ [int(i[0]),int(i[1])] for i in conns ]\n",
    "print(\"    nodes:\",np.max(edges)+1)\n",
    "full_adjacency_matrix = np.zeros( (np.max(edges)+1,np.max(edges)+1) )\n",
    "for conn in conns:\n",
    "    full_adjacency_matrix[int(conn[0]),int(conn[1])] = conn[2]\n",
    "\n",
    "# print(\"    plotting full adjacency matrix\")\n",
    "# fig, ax = plt.subplots()\n",
    "# pcf = ax.pcolorfast(full_adjacency_matrix)\n",
    "# cbar = fig.colorbar(pcf)\n",
    "# cbar.set_label('synaptic weight', rotation=270)\n",
    "# fig.savefig(exp_path+'/results/adjacency_matrix_py.png', transparent=True, dpi=1000)\n",
    "# plt.close()\n",
    "# fig.clear()\n",
    "\n",
    "# reduce adjacency to the selected units\n",
    "# print(cell_ids)\n",
    "adjacency_matrix = np.delete(full_adjacency_matrix, removed_cell_indexes, 0)\n",
    "adjacency_matrix = np.delete(adjacency_matrix, removed_cell_indexes, 1)\n",
    "\n",
    "print(\"    plotting reduced adjacency matrix\")\n",
    "fig, ax = plt.subplots()\n",
    "pcf = ax.pcolorfast(adjacency_matrix)\n",
    "cbar = fig.colorbar(pcf)\n",
    "cbar.set_label('synaptic weight', rotation=270)\n",
    "fig.savefig(exp_path+'/results/reduced_adjacency_matrix_py.png', transparent=True, dpi=1000)\n",
    "plt.close()\n",
    "fig.clear()\n"
   ]
  },
  {
   "cell_type": "code",
   "execution_count": 7,
   "id": "1f937280-6f53-445a-a945-f7362f472c1a",
   "metadata": {},
   "outputs": [
    {
     "name": "stdout",
     "output_type": "stream",
     "text": [
      "    preparing vertex labels for cores and others\n"
     ]
    }
   ],
   "source": [
    "dgraph = ig.Graph.Weighted_Adjacency(adjacency_matrix, mode='directed')\n",
    "ig.plot(dgraph, exp_path+'/results/ring_%s.png'%(scan_id), layout=dgraph.layout(\"circle\"), edge_curved=0.2, edge_color='#000', edge_width=0.5, edge_arrow_size=0.1, vertex_size=5, vertex_color='#000', margin=50)\n",
    "print('    preparing vertex labels for cores and others')\n",
    "dgraph.vs[\"ophys_cell_id\"] = ophys_cell_ids\n",
    "is_id_core = np.array( [0] * len(ophys_cell_ids) )\n",
    "is_id_core[core_indexes] = 1\n",
    "dgraph.vs[\"is_core\"] = is_id_core.tolist()"
   ]
  },
  {
   "cell_type": "markdown",
   "id": "ab03fc23-4f21-420d-a920-8f85946c9f0a",
   "metadata": {},
   "source": [
    "### Modularity\n",
    "\n",
    "The relationship between degree and local clustering coefficient of nodes should be log-linear to have a modular network."
   ]
  },
  {
   "cell_type": "code",
   "execution_count": 8,
   "id": "f51dd650-7058-4066-8b28-8c249d0386e5",
   "metadata": {
    "tags": []
   },
   "outputs": [
    {
     "name": "stdout",
     "output_type": "stream",
     "text": [
      "    Degree distributions\n",
      "    Local Clustering Coefficient (cores too)\n"
     ]
    }
   ],
   "source": [
    "degrees = np.array(dgraph.degree())\n",
    "print(\"    Degree distributions\")\n",
    "# https://igraph.org/python/api/latest/igraph._igraph.GraphBase.html#degree\n",
    "degdist = dgraph.degree_distribution(bin_width=5)\n",
    "degree_counts = [bi[2] for bi in degdist.bins()]\n",
    "fig = plt.figure()\n",
    "plt.plot(range(len(degree_counts)), degree_counts, linewidth=3.0)\n",
    "plt.ylabel('Number of vertices')\n",
    "plt.xlabel('Degree')\n",
    "plt.xscale('log')\n",
    "plt.yscale('log')\n",
    "plt.savefig(exp_path+'/results/degree_distribution_%s.png'%(scan_id), transparent=True, dpi=300)\n",
    "plt.close()\n",
    "\n",
    "# Clustering Coefficient of only excitatory cells\n",
    "print('    Local Clustering Coefficient (cores too)')\n",
    "local_clustering_coefficients = np.array(dgraph.transitivity_local_undirected(vertices=None, mode=\"zero\"))"
   ]
  },
  {
   "cell_type": "markdown",
   "id": "cbe91630-2279-4d4e-b44d-401cc1bee76c",
   "metadata": {},
   "source": [
    "### Cores are the connectors between modules\n",
    "\n",
    "High information flow nodes often arise from modular networks, characterized by a log-linear relationship between local clustering coefficient and degree. In particular, high information flow nodes have low cluster coefficient, acting as connectors between modules.\n",
    "\n",
    "Here, on the left, we color the core units while displaying them over the hierarchical modularity plot.      \n",
    "On the right, we plot the cores local clustering histogram on a linear scale, to appreciate their distribution skewed towards low values."
   ]
  },
  {
   "cell_type": "code",
   "execution_count": 9,
   "id": "b7bd7bb2-8c15-4ae3-a3c1-a6f0e899051e",
   "metadata": {},
   "outputs": [],
   "source": [
    "# assign cores to their lcc and degree\n",
    "# print(core_indexes)\n",
    "core_local_clustering_coefficients = np.array(dgraph.transitivity_local_undirected(vertices=core_indexes, mode=\"zero\"))\n",
    "core_degrees = np.array(dgraph.degree(vertices=core_indexes, mode=\"all\"))\n",
    "\n",
    "# figure\n",
    "fig, (hmmap, chist) = plt.subplots(1, 2, gridspec_kw={'width_ratios': [6, 1]})\n",
    "# hierarchy\n",
    "hmmap.scatter( degrees, local_clustering_coefficients, marker='o', facecolor='#111111', s=50, edgecolors='none', alpha=0.5) \n",
    "hmmap.set_yscale('log')\n",
    "hmmap.set_ylim([0.02,1.1])\n",
    "hmmap.set_xscale('log')\n",
    "hmmap.spines['top'].set_visible(False)\n",
    "hmmap.spines['right'].set_visible(False)\n",
    "hmmap.set_ylabel('LCC')\n",
    "hmmap.set_xlabel('degree')\n",
    "hmmap.tick_params(axis='both', bottom='on', top='on', left='off', right='off')\n",
    "# core lcc histogram\n",
    "bins = np.linspace(0.02,1,50)\n",
    "barheight = (max(local_clustering_coefficients)-min(local_clustering_coefficients))/50\n",
    "lcc_hist, lcc_binedges = np.histogram(core_local_clustering_coefficients, bins)\n",
    "chist.barh(bins[:-1], lcc_hist, height=barheight, align='center', color='green', linewidth=0)\n",
    "chist.spines['top'].set_visible(False)\n",
    "chist.spines['right'].set_visible(False)\n",
    "chist.tick_params(axis='x', which='both', bottom=True, top=False, labelsize='x-small')\n",
    "chist.tick_params(axis='y', which='both', left=True, right=False, labelleft=True)\n",
    "chist_ticks = chist.get_xticks()\n",
    "chist.set_ylim([0.01,1.1])\n",
    "chist.set_ylabel('LCC')\n",
    "chist.set_xlabel('count')\n",
    "chist.yaxis.set_label_position(\"right\")\n",
    "chist.spines['top'].set_visible(False)\n",
    "chist.spines['right'].set_visible(False)\n",
    "chist.spines['bottom'].set_visible(False)\n",
    "plt.tight_layout()\n",
    "fig.savefig(exp_path+\"/results/cores_hierarchical_modularity_%s.svg\"%(scan_id), transparent=True)\n",
    "plt.close()\n",
    "fig.clear()\n",
    "fig.clf()"
   ]
  },
  {
   "cell_type": "markdown",
   "id": "d37e3729-1390-45f1-93ee-6aa24b3824e5",
   "metadata": {},
   "source": [
    "### PageRank\n",
    "\n",
    "If a network has high flow nodes, they will also score high in the [PageRank algorithm](https://en.wikipedia.org/wiki/PageRank).    \n",
    "Core neurons having both high flow values and high cut values should have a higher pagerank value than others."
   ]
  },
  {
   "cell_type": "code",
   "execution_count": 10,
   "id": "2323f030-ab58-4acf-86a9-8b2a54313273",
   "metadata": {},
   "outputs": [
    {
     "name": "stdout",
     "output_type": "stream",
     "text": [
      "... PageRank centrality\n",
      "    cores: DescribeResult(nobs=1985, minmax=(7.570529624804054e-05, 0.0015313296934525034), mean=0.0005007909610236326, variance=2.7045116254498602e-08, skewness=0.5472547520632702, kurtosis=1.727798552603094)\n",
      "    others: DescribeResult(nobs=15, minmax=(0.0, 0.0005483672585655146), mean=0.0003953294912059683, variance=1.952571292928777e-08, skewness=-1.6050611487687358, kurtosis=2.30370695062439)\n",
      "    Kruskal-Wallis test:  5.485 p= 0.019\n",
      "    Kolmogorov-Smirnov Effect Size: 0.377\n"
     ]
    },
    {
     "data": {
      "image/png": "[encoded data removed]",
      "text/plain": [
       "<Figure size 432x288 with 1 Axes>"
      ]
     },
     "metadata": {
      "needs_background": "light"
     },
     "output_type": "display_data"
    }
   ],
   "source": [
    "print('... PageRank centrality')\n",
    "pagerank_cores = []\n",
    "pagerank_others = []\n",
    "\n",
    "if len(core_indexes)>1:\n",
    "    pagerank_cores = np.array(dgraph.personalized_pagerank(vertices=core_indexes, directed=True, damping=0.85, reset=\"is_core\"))\n",
    "if len(other_indexes)>1:\n",
    "    pagerank_others = np.array(dgraph.personalized_pagerank(vertices=other_indexes, directed=True, damping=0.85, reset=\"is_core\"))\n",
    "    \n",
    "if len(core_indexes)>1 and len(other_indexes)>1:\n",
    "    \n",
    "    # description\n",
    "    print(\"    cores: \"+str(stats.describe(pagerank_cores)) )\n",
    "    print(\"    others: \"+str(stats.describe(pagerank_others)) )\n",
    "    # significativity\n",
    "    print(\"    Kruskal-Wallis test:  %.3f p= %.3f\" % stats.kruskal(pagerank_cores, pagerank_others))\n",
    "    d,_ = stats.ks_2samp(pagerank_cores, pagerank_others) # non-parametric measure of effect size [0,1]\n",
    "    print('    Kolmogorov-Smirnov Effect Size: %.3f' % d)\n",
    "\n",
    "    fig, ax = plt.subplots()\n",
    "    xs = np.random.normal(1, 0.04, len(pagerank_cores))\n",
    "    plt.scatter(xs, pagerank_cores, alpha=0.3, c='forestgreen')\n",
    "    xs = np.random.normal(2, 0.04, len(pagerank_others))\n",
    "    plt.scatter(xs, pagerank_others, alpha=0.3, c='silver')\n",
    "    vp = ax.violinplot([pagerank_cores,pagerank_others], widths=0.15, showextrema=False, showmedians=True)\n",
    "    for pc in vp['bodies']:\n",
    "        pc.set_edgecolor('black')\n",
    "    for pc,cb in zip(vp['bodies'],['#228B224d','#D3D3D34d']):\n",
    "        pc.set_facecolor(cb)\n",
    "    vp['cmedians'].set_color('orange')\n",
    "    vp['cmedians'].set_linewidth(2.)\n",
    "    ax.spines['top'].set_visible(False)\n",
    "    ax.spines['bottom'].set_visible(False)\n",
    "    ax.spines['left'].set_visible(False)\n",
    "    ax.spines['right'].set_visible(False)\n",
    "    plt.ylabel('PageRank')\n",
    "    plt.xticks([1, 2], [\"core\\n(n={:d})\".format(len(pagerank_cores)), \"other\\n(n={:d})\".format(len(pagerank_others))])\n",
    "    fig.savefig(exp_path+\"/results/global_cores_others_pagerank_%s.svg\"%(scan_id), transparent=True)\n",
    "    plt.show()\n"
   ]
  },
  {
   "cell_type": "code",
   "execution_count": null,
   "id": "feff86fe-6aba-4383-ba89-b19fb06e82fb",
   "metadata": {},
   "outputs": [],
   "source": []
  }
 ],
 "metadata": {
  "kernelspec": {
   "display_name": "Python 3 (ipykernel)",
   "language": "python",
   "name": "python3"
  },
  "language_info": {
   "codemirror_mode": {
    "name": "ipython",
    "version": 3
   },
   "file_extension": ".py",
   "mimetype": "text/x-python",
   "name": "python",
   "nbconvert_exporter": "python",
   "pygments_lexer": "ipython3",
   "version": "3.10.4"
  }
 },
 "nbformat": 4,
 "nbformat_minor": 5
}
