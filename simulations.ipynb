{
 "cells": [
  {
   "cell_type": "markdown",
   "id": "9252938c-3422-49d1-84c9-7604dbe085c6",
   "metadata": {},
   "source": [
    "## Event reproducibility, manifold attractors, and functional connectivity analysis of Spiking simulations\n",
    "\n",
    "Saved data only here, to run the simulation please refere to the companion repository.\n",
    "\n",
    "- random connectivity: events but not reproducibility\n",
    "- range connectivity:\n",
    "    - event reproducibility\n",
    "    - manifold attractors\n",
    "    - cores and functional connectivity"
   ]
  },
  {
   "cell_type": "code",
   "execution_count": 76,
   "id": "9cbb3cc3-73c3-4edb-9c9c-32a1725f5d79",
   "metadata": {},
   "outputs": [
    {
     "name": "stdout",
     "output_type": "stream",
     "text": [
      "3.10.4\n"
     ]
    }
   ],
   "source": [
    "from platform import python_version\n",
    "print(python_version())\n",
    "\n",
    "%run -i 'imports_functions.py' \n",
    "\n",
    "%matplotlib inline"
   ]
  },
  {
   "cell_type": "code",
   "execution_count": 77,
   "id": "74a6f6b6-ae11-4a74-be30-a8768b4ba86a",
   "metadata": {},
   "outputs": [
    {
     "name": "stdout",
     "output_type": "stream",
     "text": [
      "... loaded 10000 spiketrains\n"
     ]
    }
   ],
   "source": [
    "if os.path.exists('simulations/spiketrains_py.npy'):\n",
    "    all_spiketrains = np.load('simulations/spiketrains_py.npy', allow_pickle=True)\n",
    "    print(\"... loaded\",len(all_spiketrains), \"spiketrains\")\n",
    "    # turn dt into seconds\n",
    "    all_spiketrains /= 10000.\n",
    "scan_id = 0\n",
    "\n",
    "exp_path = os.getcwd() + \"/simulations/\"\n",
    "\n",
    "# frame_duration = 0.0001 # 0.1 msec (e.g. 4048.4493 s)\n",
    "# frame_duration = 0.001 # 1 msec (e.g. 4048.449 s)\n",
    "frame_duration = 0.01 # 10ms (e.g. 4048.45 s)"
   ]
  },
  {
   "cell_type": "code",
   "execution_count": 103,
   "id": "78f70dc9-9b03-4a38-a8ca-d0361078861a",
   "metadata": {},
   "outputs": [
    {
     "name": "stdout",
     "output_type": "stream",
     "text": [
      "... retained 2000 spiketrains\n"
     ]
    }
   ],
   "source": [
    "# subsampling: there is a limit for calloc()\n",
    "all_cell_ids = np.array(list(range(len(all_spiketrains))))\n",
    "chosen_cell_indexes = sorted(np.random.choice(len(all_spiketrains), 2000, replace=False))\n",
    "removed_cell_indexes = np.delete(all_cell_ids, chosen_cell_indexes)\n",
    "cell_ids = sorted(all_cell_ids[chosen_cell_indexes])\n",
    "\n",
    "scan_spiketrains = []\n",
    "for spiketrain in [all_spiketrains[i] for i in chosen_cell_indexes]:\n",
    "    scan_spiketrains.append(spiketrain[50:])\n",
    "cell_indexes = range(0,len(cell_indexes)) # go to 0 to tot instead of jumping indexes, to be consistent with the spiketrains from now on\n",
    "print(\"... retained\",len(scan_spiketrains), \"spiketrains\")"
   ]
  },
  {
   "cell_type": "markdown",
   "id": "d3c11d4e-9261-4a60-9f68-255d45fd3505",
   "metadata": {},
   "source": [
    "---\n",
    "## Dynamical analysis\n",
    "\n",
    "To be written"
   ]
  },
  {
   "cell_type": "code",
   "execution_count": 104,
   "id": "d4dc9b91-cd28-4936-a1a4-ef39445802e5",
   "metadata": {},
   "outputs": [
    {
     "name": "stdout",
     "output_type": "stream",
     "text": [
      "... producing spike rasterplot\n",
      "    population firing: 675.09±496.76 sp/frame\n",
      "    cells firing rate: 0.34±1.06 sp/s\n",
      "... generating surrogates to establish population event threshold\n",
      "... loaded surrogates\n",
      "    event size threshold (mean): 462.1336854302157\n",
      "    find peaks\n",
      "    find minima\n",
      "    find population events\n",
      "    signatures of population events\n",
      "    number of events: 151\n",
      "    number of events per sec: 12.583333333333334\n",
      "    events duration: 0.080±0.027\n",
      "    events size: 1560.000±362.342\n",
      "    Similarity of events matrix\n",
      "    clustering - linkage\n",
      "    surrogate events signatures for clustering threshold\n",
      "   ... loaded surrogates\n",
      "    cluster reproducibility threshold: 0.0\n",
      "    cluster size threshold: 2\n",
      "    Total number of clusters: 22\n",
      "    # clusters (after removing those below reproducibility threshold): 21\n",
      "    event color assignment\n",
      "    unique color assignments\n",
      "    clustered similarity map\n",
      "    finding cluster cores\n",
      "    removing cores firing unspecifically\n",
      "    gathering cores from all clusters\n",
      "    # cores: 1996\n",
      "    # non-cores: 4\n",
      "    cores per cluster: 1364.23±656.16 (min 0, max 1965)\n",
      "    others per cluster: 635.77±656.16 (min 35, max 2000)\n"
     ]
    }
   ],
   "source": [
    "core_reproducibility_perc = 99.9 # threshold for detecting cores\n",
    "\n",
    "start_time = 0\n",
    "exp_tstart = start_time\n",
    "stop_time = max([max(st) if len(st) else 0 for st in scan_spiketrains])\n",
    "time = np.arange(start_time, stop_time, frame_duration)\n",
    "\n",
    "print(\"... producing spike rasterplot\")\n",
    "fig = plt.figure()\n",
    "for row,train in enumerate(scan_spiketrains):\n",
    "    plt.scatter( train, [row]*len(train), marker='o', edgecolors='none', s=1, c='k' )\n",
    "plt.ylabel(\"cell IDs\")\n",
    "plt.xlabel(\"time (s)\")\n",
    "fig.savefig(exp_path+'/results/rasterplot.png', transparent=True, dpi=800)\n",
    "plt.close()\n",
    "fig.clear()\n",
    "fig.clf()\n",
    "\n",
    "ophys_cell_ids = list(range(len(scan_spiketrains)))\n",
    "ophys_cell_indexes = ophys_cell_ids # alias\n",
    "\n",
    "%run \"dynamical_analysis.ipynb\""
   ]
  },
  {
   "cell_type": "markdown",
   "id": "17e32a4f-a65c-4dad-965a-bb3ee3dfac43",
   "metadata": {},
   "source": [
    "---\n",
    "## Structural analysis\n",
    "\n",
    "Creating graph from the actual connectivity matrix"
   ]
  },
  {
   "cell_type": "code",
   "execution_count": 106,
   "id": "a4383f9b-0d15-4bdf-9915-8398f9e6712f",
   "metadata": {},
   "outputs": [
    {
     "name": "stdout",
     "output_type": "stream",
     "text": [
      "[20005     0     0     0]\n",
      "    py_py conns, shape (306100, 3)\n",
      "    nodes: 10000\n",
      "    plotting reduced adjacency matrix\n"
     ]
    }
   ],
   "source": [
    "cell_coords = []\n",
    "with open('simulations/py_default0_positions.txt', 'r') as posfile:\n",
    "    lines = posfile.readlines()\n",
    "    posfile.close()\n",
    "    for line in lines:\n",
    "        cell_coords.append( [int(float(i)) for i in line.split(' ')[:4]] ) # id, index, x, y (not including z (4))\n",
    "        # print(cell_coords) # id, idx, x, y\n",
    "        #[ ..., [13287, 4064, 63, 32], [13288, 4065, 63, 33], ... ]\n",
    "    cell_coords = np.array(cell_coords)\n",
    "\n",
    "print(cell_coords[0])\n",
    "# print(cell_ids)\n",
    "\n",
    "# Adjecency matrix\n",
    "# # old NEST versions\n",
    "# adjacency_matrix = np.nan_to_num(np.load(folder+'/connections_'+connskey+'.npy'))\n",
    "# print(\"    \", connskey, \"conns, shape\", adjacency_matrix.shape)\n",
    "# # new NEST version\n",
    "conns = np.load('simulations/connections_py_py.npy')\n",
    "print(\"    py_py conns, shape\", conns.shape)\n",
    "conns[np.isnan(conns)] = 0.0 # to avoid NaN\n",
    "edges = [ [int(i[0]),int(i[1])] for i in conns ]\n",
    "print(\"    nodes:\",np.max(edges)+1)\n",
    "full_adjacency_matrix = np.zeros( (np.max(edges)+1,np.max(edges)+1) )\n",
    "for conn in conns:\n",
    "    full_adjacency_matrix[int(conn[0]),int(conn[1])] = conn[2]\n",
    "\n",
    "# print(\"    plotting full adjacency matrix\")\n",
    "# fig, ax = plt.subplots()\n",
    "# pcf = ax.pcolorfast(full_adjacency_matrix)\n",
    "# cbar = fig.colorbar(pcf)\n",
    "# cbar.set_label('synaptic weight', rotation=270)\n",
    "# fig.savefig(exp_path+'/results/adjacency_matrix_py.png', transparent=True, dpi=1000)\n",
    "# plt.close()\n",
    "# fig.clear()\n",
    "\n",
    "# reduce adjacency to the selected units\n",
    "# print(cell_ids)\n",
    "adjacency_matrix = np.delete(full_adjacency_matrix, removed_cell_indexes, 0)\n",
    "adjacency_matrix = np.delete(adjacency_matrix, removed_cell_indexes, 1)\n",
    "\n",
    "print(\"    plotting reduced adjacency matrix\")\n",
    "fig, ax = plt.subplots()\n",
    "pcf = ax.pcolorfast(adjacency_matrix)\n",
    "cbar = fig.colorbar(pcf)\n",
    "cbar.set_label('synaptic weight', rotation=270)\n",
    "fig.savefig(exp_path+'/results/reduced_adjacency_matrix_py.png', transparent=True, dpi=1000)\n",
    "plt.close()\n",
    "fig.clear()\n"
   ]
  },
  {
   "cell_type": "code",
   "execution_count": 107,
   "id": "1f937280-6f53-445a-a945-f7362f472c1a",
   "metadata": {},
   "outputs": [
    {
     "name": "stdout",
     "output_type": "stream",
     "text": [
      "    preparing vertex labels for cores and others\n"
     ]
    }
   ],
   "source": [
    "dgraph = ig.Graph.Weighted_Adjacency(adjacency_matrix, mode='directed')\n",
    "ig.plot(dgraph, exp_path+'/results/ring_%s.png'%(scan_id), layout=dgraph.layout(\"circle\"), edge_curved=0.2, edge_color='#000', edge_width=0.5, edge_arrow_size=0.1, vertex_size=5, vertex_color='#000', margin=50)\n",
    "print('    preparing vertex labels for cores and others')\n",
    "dgraph.vs[\"ophys_cell_id\"] = ophys_cell_ids\n",
    "is_id_core = np.array( [0] * len(ophys_cell_ids) )\n",
    "is_id_core[core_indexes] = 1\n",
    "dgraph.vs[\"is_core\"] = is_id_core.tolist()"
   ]
  },
  {
   "cell_type": "markdown",
   "id": "ab03fc23-4f21-420d-a920-8f85946c9f0a",
   "metadata": {},
   "source": [
    "### Modularity\n",
    "\n",
    "The relationship between degree and local clustering coefficient of nodes should be log-linear to have a modular network."
   ]
  },
  {
   "cell_type": "code",
   "execution_count": 108,
   "id": "f51dd650-7058-4066-8b28-8c249d0386e5",
   "metadata": {
    "tags": []
   },
   "outputs": [
    {
     "name": "stdout",
     "output_type": "stream",
     "text": [
      "    Degree distributions\n",
      "    Local Clustering Coefficient (cores too)\n"
     ]
    }
   ],
   "source": [
    "degrees = np.array(dgraph.degree())\n",
    "print(\"    Degree distributions\")\n",
    "# https://igraph.org/python/api/latest/igraph._igraph.GraphBase.html#degree\n",
    "degdist = dgraph.degree_distribution(bin_width=5)\n",
    "degree_counts = [bi[2] for bi in degdist.bins()]\n",
    "fig = plt.figure()\n",
    "plt.plot(range(len(degree_counts)), degree_counts, linewidth=3.0)\n",
    "plt.ylabel('Number of vertices')\n",
    "plt.xlabel('Degree')\n",
    "plt.xscale('log')\n",
    "plt.yscale('log')\n",
    "plt.savefig(exp_path+'/results/degree_distribution_%s.png'%(scan_id), transparent=True, dpi=300)\n",
    "plt.close()\n",
    "\n",
    "# Clustering Coefficient of only excitatory cells\n",
    "print('    Local Clustering Coefficient (cores too)')\n",
    "local_clustering_coefficients = np.array(dgraph.transitivity_local_undirected(vertices=None, mode=\"zero\"))"
   ]
  },
  {
   "cell_type": "markdown",
   "id": "cbe91630-2279-4d4e-b44d-401cc1bee76c",
   "metadata": {},
   "source": [
    "### Cores are the connectors between modules\n",
    "\n",
    "High information flow nodes often arise from modular networks, characterized by a log-linear relationship between local clustering coefficient and degree. In particular, high information flow nodes have low cluster coefficient, acting as connectors between modules.\n",
    "\n",
    "Here, on the left, we color the core units while displaying them over the hierarchical modularity plot.      \n",
    "On the right, we plot the cores local clustering histogram on a linear scale, to appreciate their distribution skewed towards low values."
   ]
  },
  {
   "cell_type": "code",
   "execution_count": 109,
   "id": "b7bd7bb2-8c15-4ae3-a3c1-a6f0e899051e",
   "metadata": {},
   "outputs": [],
   "source": [
    "# assign cores to their lcc and degree\n",
    "# print(core_indexes)\n",
    "core_local_clustering_coefficients = np.array(dgraph.transitivity_local_undirected(vertices=core_indexes, mode=\"zero\"))\n",
    "core_degrees = np.array(dgraph.degree(vertices=core_indexes, mode=\"all\"))\n",
    "\n",
    "# figure\n",
    "fig, (hmmap, chist) = plt.subplots(1, 2, gridspec_kw={'width_ratios': [6, 1]})\n",
    "# hierarchy\n",
    "hmmap.scatter( degrees, local_clustering_coefficients, marker='o', facecolor='#111111', s=50, edgecolors='none', alpha=0.5) \n",
    "hmmap.set_yscale('log')\n",
    "hmmap.set_ylim([0.02,1.1])\n",
    "hmmap.set_xscale('log')\n",
    "hmmap.spines['top'].set_visible(False)\n",
    "hmmap.spines['right'].set_visible(False)\n",
    "hmmap.set_ylabel('LCC')\n",
    "hmmap.set_xlabel('degree')\n",
    "hmmap.tick_params(axis='both', bottom='on', top='on', left='off', right='off')\n",
    "# core lcc histogram\n",
    "bins = np.linspace(0.02,1,50)\n",
    "barheight = (max(local_clustering_coefficients)-min(local_clustering_coefficients))/50\n",
    "lcc_hist, lcc_binedges = np.histogram(core_local_clustering_coefficients, bins)\n",
    "chist.barh(bins[:-1], lcc_hist, height=barheight, align='center', color='green', linewidth=0)\n",
    "chist.spines['top'].set_visible(False)\n",
    "chist.spines['right'].set_visible(False)\n",
    "chist.tick_params(axis='x', which='both', bottom=True, top=False, labelsize='x-small')\n",
    "chist.tick_params(axis='y', which='both', left=True, right=False, labelleft=True)\n",
    "chist_ticks = chist.get_xticks()\n",
    "chist.set_ylim([0.01,1.1])\n",
    "chist.set_ylabel('LCC')\n",
    "chist.set_xlabel('count')\n",
    "chist.yaxis.set_label_position(\"right\")\n",
    "chist.spines['top'].set_visible(False)\n",
    "chist.spines['right'].set_visible(False)\n",
    "chist.spines['bottom'].set_visible(False)\n",
    "plt.tight_layout()\n",
    "fig.savefig(exp_path+\"/results/cores_hierarchical_modularity_%s.svg\"%(scan_id), transparent=True)\n",
    "plt.close()\n",
    "fig.clear()\n",
    "fig.clf()"
   ]
  },
  {
   "cell_type": "code",
   "execution_count": 110,
   "id": "10efb5c1-25d2-4902-8f16-1fee5bc1b4e0",
   "metadata": {},
   "outputs": [
    {
     "name": "stdout",
     "output_type": "stream",
     "text": [
      "... Flow Analysis\n",
      "    Cut edges sourcing from cores: DescribeResult(nobs=1996, minmax=(0.0, 1.089679358717435), mean=0.2793417496315275, variance=0.02150991329655825, skewness=0.9565244408474672, kurtosis=1.0250073608161268)\n",
      "    Cut edges targeting cores: DescribeResult(nobs=1996, minmax=(0.0, 0.8892785571142284), mean=0.279333717535271, variance=0.025867462871607367, skewness=0.78143876788379, kurtosis=0.33356225472305345)\n",
      "    Cut edges sourcing from others: DescribeResult(nobs=4, minmax=(21.0, 75.0), mean=41.25, variance=551.7916666666666, skewness=0.8676391571519892, kurtosis=-0.8483614580605696)\n",
      "    Cut edges targeting others: DescribeResult(nobs=4, minmax=(18.75, 64.25), mean=43.25, variance=547.5, skewness=-0.06940390524835995, kurtosis=-1.8986279129570554)\n",
      "    Core targets vs sources Welch t test:  -0.002 p= 0.999\n",
      "    Kolmogorov-Smirnov Effect Size: 0.060\n",
      "    Core targets vs Other targets Welch t test:  -3.673 p= 0.035\n",
      "    Kolmogorov-Smirnov Effect Size: 1.000\n"
     ]
    },
    {
     "data": {
      "image/png": "[encoded data removed]",
      "text/plain": [
       "<Figure size 432x288 with 1 Axes>"
      ]
     },
     "metadata": {
      "needs_background": "light"
     },
     "output_type": "display_data"
    }
   ],
   "source": [
    "# Flow analysis\n",
    "print(\"... Flow Analysis\")\n",
    "\n",
    "if len(core_indexes)>1 and len(other_indexes)>1:\n",
    "    # The amount of flow on an edge cannot exceed the capacity of the edge.\n",
    "    # therefore, edges with high capacity will be more important for the flow.\n",
    "    # here we test the hypothesis that edges towards cores have higher capacity\n",
    "    # or that the sum of edges towards cores have a higher total capacity\n",
    "    cell_total_capacity = {cid:list() for cid in ophys_cell_ids}\n",
    "    edges_sourcing = {cid:0 for cid in ophys_cell_ids}\n",
    "    edges_targeting = {cid:0 for cid in ophys_cell_ids}\n",
    "\n",
    "    for cluster_k,events_cellids in scan_clustered_spectrums.items(): # we consider only the scan 0 because it's the largest (for now)\n",
    "        cluster_k = cluster_k.split(',')[0]\n",
    "\n",
    "        if cluster_k == 'gray':\n",
    "            continue\n",
    "\n",
    "        for vnt in events_cellids:\n",
    "            for posi,vidj in enumerate(vnt[1:]):\n",
    "                vidi = vnt[posi] # enumerate will go from 0\n",
    "                # print(vidi, vidj)\n",
    "\n",
    "                # check beginning and end are not the same\n",
    "                if dgraph.vs.find(ophys_cell_id=vidi).index == dgraph.vs.find(ophys_cell_id=vidj).index:\n",
    "                    continue\n",
    "                # # check there is a path between the two\n",
    "                # if len(spinesgraph.get_all_shortest_paths(spinesgraph.vs.find(name=vidi).index, to=spinesgraph.vs.find(name=vidj).index, weights=None, mode='out'))>0:\n",
    "                #     continue\n",
    "\n",
    "                # Take the maximum flow between the previous and next vertices\n",
    "                mfres = dgraph.maxflow(dgraph.vs.find(ophys_cell_id=vidi).index, dgraph.vs.find(ophys_cell_id=vidj).index)\n",
    "                # print(mfres)\n",
    "                # returns a tuple containing the following:\n",
    "                # graph - the graph on which this flow is defined\n",
    "                # value - the value (capacity) of the maximum flow between the given vertices\n",
    "                # flow - the flow values on each edge. For directed graphs, this is simply a list where element i corresponds to the flow on edge i.\n",
    "                # cut - edge IDs in the minimal cut corresponding to the flow.\n",
    "                # partition - vertex IDs in the parts created after removing edges in the cut\n",
    "                # es - an edge selector restricted to the edges in the cut.\n",
    "\n",
    "                # we get a flow value for each edge contributing to the flow.\n",
    "                # source\n",
    "                mfres_value = mfres.value\n",
    "                if vidi in np.array(ophys_cell_ids)[core_indexes]:\n",
    "                    mfres_value /= len(core_indexes)\n",
    "                else:\n",
    "                    mfres_value /= len(other_indexes)\n",
    "                cell_total_capacity[vidi].append(mfres_value)\n",
    "                # target\n",
    "                mfres_value = mfres.value\n",
    "                if vidj in np.array(ophys_cell_ids)[core_indexes]:\n",
    "                    mfres_value /= len(core_indexes)\n",
    "                else:\n",
    "                    mfres_value /= len(other_indexes)\n",
    "                cell_total_capacity[vidj].append(mfres_value)\n",
    "\n",
    "                # Iterate over the edges identified by the flow.\n",
    "                # count the edges sourcing from cores, and those targeting cores. Which is more?\n",
    "                for edge in mfres.es:\n",
    "                    sourceid = int(dgraph.vs[edge.source]['ophys_cell_id'])\n",
    "                    targetid = int(dgraph.vs[edge.target]['ophys_cell_id'])\n",
    "                    if sourceid in cell_total_capacity.keys():\n",
    "                        edges_sourcing[sourceid] +=1 # just count\n",
    "                    if targetid in cell_total_capacity.keys():\n",
    "                        edges_targeting[targetid] +=1 # just count\n",
    "\n",
    "    # # Flow\n",
    "    # # print(cell_total_capacity)\n",
    "    # flowvalue_cores = []\n",
    "    # for cid in np.array(ophys_cell_ids)[core_indexes]:\n",
    "    #     flowvalue_cores.extend(cell_total_capacity[cid])\n",
    "    # flowvalue_others = []\n",
    "    # for cid in np.array(ophys_cell_ids)[other_indexes]:\n",
    "    #     flowvalue_others.extend(cell_total_capacity[cid])\n",
    "    # # description\n",
    "    # print(\"    Flow cores: \"+str(stats.describe(flowvalue_cores)) )\n",
    "    # print(\"    Flow others: \"+str(stats.describe(flowvalue_others)) )\n",
    "    # # significativity\n",
    "    # print(\"    Welch t test:  %.3f p= %.3f\" % stats.ttest_ind(flowvalue_cores, flowvalue_others, equal_var=False))\n",
    "    # d,_ = stats.ks_2samp(flowvalue_cores, flowvalue_others) # non-parametric measure of effect size [0,1]\n",
    "    # print('    Kolmogorov-Smirnov Effect Size: %.3f' % d)\n",
    "    # fig, ax = plt.subplots()\n",
    "    # xs = np.random.normal(1, 0.04, len(flowvalue_cores))\n",
    "    # plt.scatter(xs, flowvalue_cores, alpha=0.3, c='forestgreen')\n",
    "    # xs = np.random.normal(2, 0.04, len(flowvalue_others))\n",
    "    # plt.scatter(xs, flowvalue_others, alpha=0.3, c='silver')\n",
    "    # vp = ax.violinplot([flowvalue_cores,flowvalue_others], widths=0.15, showextrema=False, showmeans=True)\n",
    "    # for pc in vp['bodies']:\n",
    "    #     pc.set_edgecolor('black')\n",
    "    # for pc,cb in zip(vp['bodies'],['#228B224d','#D3D3D34d']):\n",
    "    #     pc.set_facecolor(cb)\n",
    "    # vp['cmeans'].set_color('orange')\n",
    "    # # vp['cmedians'].set_linewidth(2.)\n",
    "    # ax.spines['top'].set_visible(False)\n",
    "    # ax.spines['bottom'].set_visible(False)\n",
    "    # ax.spines['left'].set_visible(False)\n",
    "    # ax.spines['right'].set_visible(False)\n",
    "    # plt.ylabel('Normalized flow value')\n",
    "    # plt.xticks([1, 2], [\"core\\n(n={:d})\".format(len(flowvalue_cores)), \"other\\n(n={:d})\".format(len(flowvalue_others))])\n",
    "    # fig.savefig(exp_path+\"/results/global_cores_others_flowvalue_%s.svg\"%(scan_id), transparent=True)\n",
    "    # plt.show()\n",
    "    # # fig.clf()\n",
    "    # # plt.close()\n",
    "\n",
    "    # Cuts\n",
    "    # print(edges_sourcing)\n",
    "    # print(edges_targeting)\n",
    "    flowcuts_core_sources = []\n",
    "    flowcuts_core_targets = []\n",
    "    for cid in np.array(ophys_cell_ids)[core_indexes]:\n",
    "        flowcuts_core_sources.append(edges_sourcing[cid]/len(core_indexes))\n",
    "        flowcuts_core_targets.append(edges_targeting[cid]/len(core_indexes))\n",
    "    flowcuts_other_sources = []\n",
    "    flowcuts_other_targets = []\n",
    "    for cid in np.array(ophys_cell_ids)[other_indexes]:\n",
    "        flowcuts_other_sources.append(edges_sourcing[cid]/len(other_indexes))\n",
    "        flowcuts_other_targets.append(edges_targeting[cid]/len(other_indexes))\n",
    "\n",
    "    # description\n",
    "    print(\"    Cut edges sourcing from cores: \"+str(stats.describe(flowcuts_core_sources)) )\n",
    "    print(\"    Cut edges targeting cores: \"+str(stats.describe(flowcuts_core_targets)) )\n",
    "    print(\"    Cut edges sourcing from others: \"+str(stats.describe(flowcuts_other_sources)) )\n",
    "    print(\"    Cut edges targeting others: \"+str(stats.describe(flowcuts_other_targets)) )\n",
    "    # significativity\n",
    "    print(\"    Core targets vs sources Welch t test:  %.3f p= %.3f\" % stats.ttest_ind(flowcuts_core_targets, flowcuts_core_sources, equal_var=False))\n",
    "    d,_ = stats.ks_2samp(flowcuts_core_targets, flowcuts_core_sources) # non-parametric measure of effect size [0,1]\n",
    "    print('    Kolmogorov-Smirnov Effect Size: %.3f' % d)\n",
    "\n",
    "    print(\"    Core targets vs Other targets Welch t test:  %.3f p= %.3f\" % stats.ttest_ind(flowcuts_core_targets, flowcuts_other_targets, equal_var=False))\n",
    "    d,_ = stats.ks_2samp(flowcuts_core_targets, flowcuts_other_targets) # non-parametric measure of effect size [0,1]\n",
    "    print('    Kolmogorov-Smirnov Effect Size: %.3f' % d)\n",
    "\n",
    "    fig, ax = plt.subplots()\n",
    "    xs = np.random.normal(1, 0.04, len(flowcuts_core_sources))\n",
    "    plt.scatter(xs, flowcuts_core_sources, alpha=0.3, c='forestgreen')\n",
    "    xs = np.random.normal(2, 0.04, len(flowcuts_core_targets))\n",
    "    plt.scatter(xs, flowcuts_core_targets, alpha=0.3, c='forestgreen')\n",
    "    xs = np.random.normal(3, 0.04, len(flowcuts_other_sources))\n",
    "    plt.scatter(xs, flowcuts_other_sources, alpha=0.3, c='silver')\n",
    "    xs = np.random.normal(4, 0.04, len(flowcuts_other_targets))\n",
    "    plt.scatter(xs, flowcuts_other_targets, alpha=0.3, c='silver')\n",
    "    vp = ax.violinplot([flowcuts_core_sources,flowcuts_core_targets,flowcuts_other_sources,flowcuts_other_targets], widths=0.15, showextrema=False, showmeans=True)\n",
    "    for pc in vp['bodies']:\n",
    "        pc.set_edgecolor('black')\n",
    "    for pc in vp['bodies'][0:2]:\n",
    "        pc.set_facecolor('#228B224d')\n",
    "    for pc in vp['bodies'][2:]:\n",
    "        pc.set_facecolor('#D3D3D34d')\n",
    "    vp['cmeans'].set_color('orange')\n",
    "    # vp['cmedians'].set_linewidth(2.)\n",
    "    ax.spines['top'].set_visible(False)\n",
    "    ax.spines['bottom'].set_visible(False)\n",
    "    ax.spines['left'].set_visible(False)\n",
    "    ax.spines['right'].set_visible(False)\n",
    "    plt.ylabel('Normalized edges in the cut')\n",
    "    plt.xticks([1, 2, 3, 4], [\"core as\\nsource\", \"core as\\ntarget\", \"other as\\nsource\", \"other as\\ntarget\"])\n",
    "    fig.savefig(exp_path+\"/results/global_cores_others_cutvalue_%s.svg\"%(scan_id), transparent=True)\n",
    "    # plt.show()\n",
    "    # fig.clf()\n",
    "    # plt.close()"
   ]
  },
  {
   "cell_type": "markdown",
   "id": "d37e3729-1390-45f1-93ee-6aa24b3824e5",
   "metadata": {},
   "source": [
    "### PageRank\n",
    "\n",
    "If a network has high flow nodes, they will also score high in the [PageRank algorithm](https://en.wikipedia.org/wiki/PageRank).    \n",
    "Core neurons having both high flow values and high cut values should have a higher pagerank value than others."
   ]
  },
  {
   "cell_type": "code",
   "execution_count": 111,
   "id": "2323f030-ab58-4acf-86a9-8b2a54313273",
   "metadata": {},
   "outputs": [
    {
     "name": "stdout",
     "output_type": "stream",
     "text": [
      "... PageRank centrality\n",
      "    cores: DescribeResult(nobs=1996, minmax=(0.00011973598291181972, 0.0011581248102254138), mean=0.0005001669739432413, variance=2.3763328257558504e-08, skewness=0.34568566634149756, kurtosis=0.19850525117012108)\n",
      "    others: DescribeResult(nobs=4, minmax=(0.00022131414915937215, 0.000689111530745921), mean=0.0004166800023225701, variance=3.855548400836063e-08, skewness=0.6412449546574901, kurtosis=-0.9153614523529172)\n",
      "    Kruskal-Wallis test:  1.289 p= 0.256\n",
      "    Kolmogorov-Smirnov Effect Size: 0.500\n"
     ]
    },
    {
     "data": {
      "image/png": "[encoded data removed]",
      "text/plain": [
       "<Figure size 432x288 with 1 Axes>"
      ]
     },
     "metadata": {
      "needs_background": "light"
     },
     "output_type": "display_data"
    }
   ],
   "source": [
    "print('... PageRank centrality')\n",
    "pagerank_cores = []\n",
    "pagerank_others = []\n",
    "\n",
    "if len(core_indexes)>1:\n",
    "    pagerank_cores = np.array(dgraph.personalized_pagerank(vertices=core_indexes, directed=True, damping=0.85, reset=\"is_core\"))\n",
    "if len(other_indexes)>1:\n",
    "    pagerank_others = np.array(dgraph.personalized_pagerank(vertices=other_indexes, directed=True, damping=0.85, reset=\"is_core\"))\n",
    "    \n",
    "if len(core_indexes)>1 and len(other_indexes)>1:\n",
    "    \n",
    "    # description\n",
    "    print(\"    cores: \"+str(stats.describe(pagerank_cores)) )\n",
    "    print(\"    others: \"+str(stats.describe(pagerank_others)) )\n",
    "    # significativity\n",
    "    print(\"    Kruskal-Wallis test:  %.3f p= %.3f\" % stats.kruskal(pagerank_cores, pagerank_others))\n",
    "    d,_ = stats.ks_2samp(pagerank_cores, pagerank_others) # non-parametric measure of effect size [0,1]\n",
    "    print('    Kolmogorov-Smirnov Effect Size: %.3f' % d)\n",
    "\n",
    "    fig, ax = plt.subplots()\n",
    "    xs = np.random.normal(1, 0.04, len(pagerank_cores))\n",
    "    plt.scatter(xs, pagerank_cores, alpha=0.3, c='forestgreen')\n",
    "    xs = np.random.normal(2, 0.04, len(pagerank_others))\n",
    "    plt.scatter(xs, pagerank_others, alpha=0.3, c='silver')\n",
    "    vp = ax.violinplot([pagerank_cores,pagerank_others], widths=0.15, showextrema=False, showmedians=True)\n",
    "    for pc in vp['bodies']:\n",
    "        pc.set_edgecolor('black')\n",
    "    for pc,cb in zip(vp['bodies'],['#228B224d','#D3D3D34d']):\n",
    "        pc.set_facecolor(cb)\n",
    "    vp['cmedians'].set_color('orange')\n",
    "    vp['cmedians'].set_linewidth(2.)\n",
    "    ax.spines['top'].set_visible(False)\n",
    "    ax.spines['bottom'].set_visible(False)\n",
    "    ax.spines['left'].set_visible(False)\n",
    "    ax.spines['right'].set_visible(False)\n",
    "    plt.ylabel('PageRank')\n",
    "    plt.xticks([1, 2], [\"core\\n(n={:d})\".format(len(pagerank_cores)), \"other\\n(n={:d})\".format(len(pagerank_others))])\n",
    "    fig.savefig(exp_path+\"/results/global_cores_others_pagerank_%s.svg\"%(scan_id), transparent=True)\n",
    "    plt.show()\n"
   ]
  },
  {
   "cell_type": "code",
   "execution_count": null,
   "id": "feff86fe-6aba-4383-ba89-b19fb06e82fb",
   "metadata": {},
   "outputs": [],
   "source": []
  }
 ],
 "metadata": {
  "kernelspec": {
   "display_name": "Python 3 (ipykernel)",
   "language": "python",
   "name": "python3"
  },
  "language_info": {
   "codemirror_mode": {
    "name": "ipython",
    "version": 3
   },
   "file_extension": ".py",
   "mimetype": "text/x-python",
   "name": "python",
   "nbconvert_exporter": "python",
   "pygments_lexer": "ipython3",
   "version": "3.10.4"
  }
 },
 "nbformat": 4,
 "nbformat_minor": 5
}
