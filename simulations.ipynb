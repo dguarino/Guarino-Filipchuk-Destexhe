{
 "cells": [
  {
   "cell_type": "markdown",
   "id": "9252938c-3422-49d1-84c9-7604dbe085c6",
   "metadata": {},
   "source": [
    "## Event reproducibility, manifold attractors, and functional connectivity analysis of Spiking simulations\n",
    "\n",
    "Saved data only here, to run the simulation please refere to the companion repository.\n",
    "\n",
    "- random connectivity: events but not reproducibility\n",
    "- range connectivity:\n",
    "    - event reproducibility\n",
    "    - manifold attractors\n",
    "    - cores and functional connectivity"
   ]
  },
  {
   "cell_type": "code",
   "execution_count": 14,
   "id": "9cbb3cc3-73c3-4edb-9c9c-32a1725f5d79",
   "metadata": {},
   "outputs": [
    {
     "name": "stdout",
     "output_type": "stream",
     "text": [
      "3.10.4\n"
     ]
    }
   ],
   "source": [
    "from platform import python_version\n",
    "print(python_version())\n",
    "\n",
    "%run -i 'imports_functions.py' \n",
    "\n",
    "# import collections\n",
    "# collections.MutableSequence = collections.abc.MutableSequence\n",
    "# import neo\n",
    "# import quantities as pq\n",
    "\n",
    "%matplotlib inline\n",
    "\n",
    "# import pkg_resources\n",
    "# for m in pkg_resources.working_set:\n",
    "#     print(m)"
   ]
  },
  {
   "cell_type": "code",
   "execution_count": 18,
   "id": "74a6f6b6-ae11-4a74-be30-a8768b4ba86a",
   "metadata": {},
   "outputs": [
    {
     "name": "stdout",
     "output_type": "stream",
     "text": [
      "... loaded 10000 spiketrains\n"
     ]
    }
   ],
   "source": [
    "if os.path.exists('simulations/spiketrains_py.npy'):\n",
    "    all_spiketrains = np.load('simulations/spiketrains_py.npy', allow_pickle=True)\n",
    "    print(\"... loaded\",len(all_spiketrains), \"spiketrains\")\n",
    "\n",
    "exp_path = os.getcwd() + \"/simulations/\"\n",
    "\n",
    "frame_duration = 0.0001 # msec"
   ]
  },
  {
   "cell_type": "markdown",
   "id": "d3c11d4e-9261-4a60-9f68-255d45fd3505",
   "metadata": {},
   "source": [
    "## Dynamical analysis"
   ]
  },
  {
   "cell_type": "markdown",
   "id": "5dd6196a-95cf-4433-b02f-e1e2403d6527",
   "metadata": {
    "tags": []
   },
   "source": [
    "To be written"
   ]
  },
  {
   "cell_type": "code",
   "execution_count": null,
   "id": "d4dc9b91-cd28-4936-a1a4-ef39445802e5",
   "metadata": {},
   "outputs": [
    {
     "name": "stdout",
     "output_type": "stream",
     "text": [
      "... producing spike rasterplot\n"
     ]
    }
   ],
   "source": [
    "global_events = []\n",
    "global_events_vector = []\n",
    "global_events_sec = []\n",
    "global_events_duration = []\n",
    "global_cluster_number = []\n",
    "global_cluster_selfsimilarity = []\n",
    "\n",
    "core_reproducibility_perc = 99. # threshold for detecting cores\n",
    "\n",
    "all_degrees = []\n",
    "all_core_degrees = []\n",
    "all_local_clustering_coefficients = []\n",
    "all_core_local_clustering_coefficients = []\n",
    "all_pagerank_cores = []\n",
    "all_pagerank_others = []\n",
    "\n",
    "\n",
    "start_time = 0\n",
    "exp_tstart = start_time\n",
    "stop_time = max([max(st) if len(st) else 0 for st in all_spiketrains])\n",
    "\n",
    "print(\"... producing spike rasterplot\")\n",
    "fig = plt.figure()\n",
    "for row,train in enumerate(all_spiketrains):\n",
    "    plt.scatter( train, [row]*len(train), marker='o', edgecolors='none', s=1, c='k' )\n",
    "plt.ylabel(\"cell IDs\")\n",
    "plt.xlabel(\"time (s)\")\n",
    "fig.savefig(exp_path+'/results/rasterplot.png', transparent=True, dpi=800)\n",
    "plt.close()\n",
    "# fig.clear()\n",
    "# fig.clf()\n",
    "\n",
    "ophys_cell_ids = list(range(len(all_spiketrains)))\n",
    "ophys_cell_indexes = ophys_cell_ids # alias\n",
    "\n",
    "# --------------------------------------------------------------------------\n",
    "%run \"dynamical_analysis.ipynb\"\n",
    "\n",
    "global_events.extend(events)\n",
    "global_events_vector.extend(events_vectors)\n",
    "global_events_sec.append(events_sec)\n",
    "global_events_duration.extend(events_durations_f)\n",
    "global_cluster_number.append(nclusters)\n",
    "global_cluster_selfsimilarity.extend(reproducibility_list)\n",
    "\n",
    "# --------------------------------------------------------------------------\n",
    "# Functional structure analysis\n",
    "spiketrains = all_spiketrains\n",
    "perc_corr = 0.6 # discard correlations below\n",
    "%run \"functional_analysis.ipynb\"\n",
    "all_degrees.extend(degrees)\n",
    "all_core_degrees.extend(core_degrees)\n",
    "all_local_clustering_coefficients.extend(local_clustering_coefficients)\n",
    "all_core_local_clustering_coefficients.extend(core_local_clustering_coefficients)\n",
    "all_pagerank_cores.extend(pagerank_cores)\n",
    "all_pagerank_others.extend(pagerank_others)"
   ]
  }
 ],
 "metadata": {
  "kernelspec": {
   "display_name": "Python 3 (ipykernel)",
   "language": "python",
   "name": "python3"
  },
  "language_info": {
   "codemirror_mode": {
    "name": "ipython",
    "version": 3
   },
   "file_extension": ".py",
   "mimetype": "text/x-python",
   "name": "python",
   "nbconvert_exporter": "python",
   "pygments_lexer": "ipython3",
   "version": "3.10.4"
  }
 },
 "nbformat": 4,
 "nbformat_minor": 5
}
