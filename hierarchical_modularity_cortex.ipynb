{
 "cells": [
  {
   "cell_type": "markdown",
   "id": "780c8e36-1686-4929-8d53-a52dbcadcc62",
   "metadata": {},
   "source": [
    "## Hierarchical modularity in multiple cortical areas\n",
    "\n",
    "We will collect neurons from several cortical areas to get the *functional connectivity* and perform the *dynamical analysis*.     \n",
    "This will address three relevant points:\n",
    "- Does the dynamic analysis hold at **higher temporal resolution**?\n",
    "- Do **all areas of cortex** show attractor dynamics?\n",
    "- Are population events only a **side-effect of behavior** (locomotion, whisker pad, pupil)?\n",
    "\n",
    "To do all this, we analyse the [data](https://janelia.figshare.com/articles/dataset/Eight-probe_Neuropixels_recordings_during_spontaneous_behaviors/7739750/4) by [Stringer et al. 2019](science.org/doi/10.1126/science.aav7893).   \n",
    "Eight-probe Neuropixels recordings in three mice during spontaneous activity."
   ]
  },
  {
   "cell_type": "code",
   "execution_count": 2,
   "id": "99df4ec6-2371-4d70-bfe2-c3e54d074390",
   "metadata": {},
   "outputs": [
    {
     "name": "stdout",
     "output_type": "stream",
     "text": [
      "3.10.4\n"
     ]
    }
   ],
   "source": [
    "from platform import python_version\n",
    "print(python_version())\n",
    "\n",
    "from builtins import exec\n",
    "exec(open(\"./imports_functions.py\").read())\n",
    "\n",
    "%matplotlib inline"
   ]
  },
  {
   "cell_type": "code",
   "execution_count": null,
   "id": "7a72f962-c629-4438-9264-9e1204cfe184",
   "metadata": {},
   "outputs": [],
   "source": [
    "if not os.path.exists(\"stringer/7739750.zip\"):\n",
    "    print(\"Downloading neuropixel data ...\")\n",
    "    resp = wget.download(\"https://janelia.figshare.com/ndownloader/articles/7739750/versions/4\", \"stringer/7739750.zip\")\n",
    "    print(\"... Done: \"+resp)\n",
    "\n",
    "# unzip downloaded folder\n",
    "# unzip spks.zip and faces.zip"
   ]
  },
  {
   "cell_type": "markdown",
   "id": "3c45d437-412e-4f0c-91cb-003c7ae09467",
   "metadata": {},
   "source": [
    "This analysis is based on the file `ephysLoad.m`.\n",
    "\n",
    "Each \"spks\" is a structure of length 8, where each entry is a different probe (these probes were recorded simultaneously). It contains the spike times (in seconds, e.g. 4048.44929626 sec = 4048449.29626 ms (?kHz sampling)), the cluster identity of each spike (its cell), and the height of each cluster on the probe.\n",
    "\n",
    "The location of each site on the probe in microns in the Allen CCF framework is given in \"ccfCoords\". The brain area for each site is in \"borders\" as a function of the height of the site. "
   ]
  },
  {
   "cell_type": "code",
   "execution_count": 10,
   "id": "11030168-b84e-46a8-bda7-4a2fbab74a15",
   "metadata": {},
   "outputs": [
    {
     "name": "stdout",
     "output_type": "stream",
     "text": [
      "Krebs\n",
      "probe 0\n",
      "606058\n",
      "clusters (cells) of the spikes 127\n",
      "upper border 4000 um, lower border 1100 um, area FrMoCtx\n",
      "[False False False False False False False False False False False False\n",
      " False False False False False False False False False False False False\n",
      " False False False False False False False False False False False False\n",
      " False False False False False False False False False False False False\n",
      " False False False False False False False False False False False False\n",
      " False False False False False False False False False False False False\n",
      " False False False False False  True  True  True  True False False False\n",
      " False False False False False False False False False False False False\n",
      " False False False False False False False False False False False False\n",
      " False False False False False False False False False False  True False\n",
      " False False False False False False False]\n"
     ]
    },
    {
     "ename": "IndexError",
     "evalue": "boolean index did not match indexed array along dimension 0; dimension is 606058 but corresponding boolean dimension is 127",
     "output_type": "error",
     "traceback": [
      "\u001b[0;31m---------------------------------------------------------------------------\u001b[0m",
      "\u001b[0;31mIndexError\u001b[0m                                Traceback (most recent call last)",
      "Input \u001b[0;32mIn [10]\u001b[0m, in \u001b[0;36m<cell line: 20>\u001b[0;34m()\u001b[0m\n\u001b[1;32m     50\u001b[0m wneurons \u001b[38;5;241m=\u001b[39m np\u001b[38;5;241m.\u001b[39mlogical_and(Wh\u001b[38;5;241m>\u001b[39m\u001b[38;5;241m=\u001b[39mb[\u001b[38;5;241m1\u001b[39m], Wh\u001b[38;5;241m<\u001b[39mb[\u001b[38;5;241m0\u001b[39m])\n\u001b[1;32m     51\u001b[0m \u001b[38;5;28mprint\u001b[39m(wneurons)\n\u001b[0;32m---> 52\u001b[0m \u001b[38;5;28mprint\u001b[39m(\u001b[43mclu\u001b[49m\u001b[43m[\u001b[49m\u001b[43mwneurons\u001b[49m\u001b[43m]\u001b[49m) \u001b[38;5;66;03m# not working\u001b[39;00m\n\u001b[1;32m     53\u001b[0m nn \u001b[38;5;241m=\u001b[39m wneurons\u001b[38;5;241m.\u001b[39msum()\n\u001b[1;32m     54\u001b[0m \u001b[38;5;28mprint\u001b[39m(\u001b[38;5;124m'\u001b[39m\u001b[38;5;132;01m%d\u001b[39;00m\u001b[38;5;124m neurons in \u001b[39m\u001b[38;5;132;01m%s\u001b[39;00m\u001b[38;5;124m'\u001b[39m\u001b[38;5;241m%\u001b[39m(nn,b[\u001b[38;5;241m-\u001b[39m\u001b[38;5;241m1\u001b[39m]))\n",
      "\u001b[0;31mIndexError\u001b[0m: boolean index did not match indexed array along dimension 0; dimension is 606058 but corresponding boolean dimension is 127"
     ]
    }
   ],
   "source": [
    "from scipy import io\n",
    "\n",
    "probeLoc = io.loadmat('stringer/7739750/probeLocations.mat')\n",
    "probeBorders = io.loadmat('stringer/7739750/probeBorders.mat', squeeze_me=True)\n",
    "\n",
    "mouse_names = ['Krebs','Waksman','Robbins']\n",
    "cortical_areas = ['FrCtx','FrMoCtx','SomMoCtx','SSCtx','V1','V2','RSP']\n",
    "\n",
    "# first count the cells you want to take with this structure\n",
    "# then think on how you want to store the spikes... compatible with the dynamical_analysis\n",
    "area_spiketrains = {\n",
    "    'Krebs' : {'FrCtx':[], 'FrMoCtx':[], 'SomMoCtx':[], 'SSCtx':[], 'V1':[], 'V2':[], 'RSP':[]},\n",
    "    'Waksman' : {'FrCtx':[], 'FrMoCtx':[], 'SomMoCtx':[], 'SSCtx':[], 'V1':[], 'V2':[], 'RSP':[]},\n",
    "    'Robbins' : {'FrCtx':[], 'FrMoCtx':[], 'SomMoCtx':[], 'SSCtx':[], 'V1':[], 'V2':[], 'RSP':[]}\n",
    "}\n",
    "\n",
    "# start of spontaneous activity in each mouse (in seconds)\n",
    "tstart = [3811, 3633, 3323] # what is there before?\n",
    "\n",
    "for imouse in range(len(mouse_names)):\n",
    "    print(mouse_names[imouse])\n",
    "    \n",
    "    spks = io.loadmat('stringer/7739750/spks/spks%s_Feb18.mat'%mouse_names[imouse], squeeze_me=True)\n",
    "\n",
    "    # probe k\n",
    "    # k = 7\n",
    "    for k in range(8):\n",
    "        print(\"probe\",k)\n",
    "    \n",
    "        # spike times (in seconds)\n",
    "        st = spks['spks'][k][0]\n",
    "        # print(st)\n",
    "        print(len(st))\n",
    "        # clusters\n",
    "        clu = spks['spks'][k][1]\n",
    "        print(\"clusters (cells) of the spikes\",len(np.unique(clu)))\n",
    "        # cluster heights (in microns)\n",
    "        # (see siteCoords to convert to site location)\n",
    "        Wh = spks['spks'][k][2]\n",
    "\n",
    "        # where is the probe in the brain (consolidated labels)\n",
    "        # borders are in microns\n",
    "        # use Wh to determine which clusters are in which brain region\n",
    "        borders = probeBorders['probeBorders'][imouse]['borders'][k]\n",
    "        for j in range(len(borders)):\n",
    "            b = borders[j]\n",
    "            if b[2] not in cortical_areas:\n",
    "                continue\n",
    "            print('upper border %d um, lower border %d um, area %s'%(b[0],b[1],b[2]))\n",
    "            wneurons = np.logical_and(Wh>=b[1], Wh<b[0])\n",
    "            print(wneurons)\n",
    "            print(clu[wneurons]) # not working\n",
    "            nn = wneurons.sum()\n",
    "            print('%d neurons in %s'%(nn,b[-1]))\n",
    "\n",
    "\n",
    "        # # where is the probe in the brain (in microns)\n",
    "        # ccfCoords = probeLoc['probeLocations'][0][imouse]['probe'][k][0]['ccfCoords']\n",
    "        # # name of area in Allen ontology by site on electrode\n",
    "        # ccfNames = probeLoc['probeLocations'][0][imouse]['probe'][k][0]['ccfOntology']\n",
    "        # # coordinates of each site on the electrode\n",
    "        # siteCoords = probeLoc['probeLocations'][0][imouse]['probe'][k][0]['siteCoords']\n",
    "\n",
    "        # # processed faces, to correlate behavior\n",
    "        # # The behavioral file is the processed version of a mouse face movie (time x pixels x pixels). \n",
    "        # faces = io.loadmat('stringer/7739750/faces/%s_face_proc.mat'%mouse_names[imouse], squeeze_me=True)\n",
    "        # motSVD = faces['motionSVD']\n",
    "        # video_timestamps = faces['times']\n",
    "\n",
    "        print()"
   ]
  },
  {
   "cell_type": "code",
   "execution_count": null,
   "id": "e339f771-d2be-481c-a7b6-415f9b5b190b",
   "metadata": {},
   "outputs": [],
   "source": []
  }
 ],
 "metadata": {
  "kernelspec": {
   "display_name": "Python 3 (ipykernel)",
   "language": "python",
   "name": "python3"
  },
  "language_info": {
   "codemirror_mode": {
    "name": "ipython",
    "version": 3
   },
   "file_extension": ".py",
   "mimetype": "text/x-python",
   "name": "python",
   "nbconvert_exporter": "python",
   "pygments_lexer": "ipython3",
   "version": "3.10.4"
  }
 },
 "nbformat": 4,
 "nbformat_minor": 5
}
