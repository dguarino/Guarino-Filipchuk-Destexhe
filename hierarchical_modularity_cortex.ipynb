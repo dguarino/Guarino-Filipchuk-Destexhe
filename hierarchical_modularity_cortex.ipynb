{
 "cells": [
  {
   "cell_type": "markdown",
   "id": "780c8e36-1686-4929-8d53-a52dbcadcc62",
   "metadata": {},
   "source": [
    "## Hierarchical modularity in multiple cortical areas\n",
    "\n",
    "Analysis of the data by [Stringer et al. 2019](science.org/doi/10.1126/science.aav7893) \n",
    "\n",
    "https://github.com/MouseLand/stringer-pachitariu-et-al-2018a/tree/master\n",
    "\n",
    "https://janelia.figshare.com/articles/dataset/Eight-probe_Neuropixels_recordings_during_spontaneous_behaviors/7739750/4\n",
    "\n",
    "Eight-probe Neuropixels recordings in three mice of spontaneous activity.\n",
    "\n",
    "Each \"spks\" is a structure of length 8, where each entry is a different probe (these probes were recorded simultaneously). It contains the spike times and the cluster identity of each spike.\n",
    "```\n",
    "load(fullfile(ephysroot, sprintf('spks%s_Feb18.mat' , mouse_name)));\n",
    "spks(k).st = spike times (in seconds)\n",
    "spks(k).clu = cluster identity of each spike in st (which neuron does spike belong to)\n",
    "spks(k).Wheights = height of each cluster on the probe\n",
    "```\n",
    "\n",
    "Information about each probe's location is in \"probeLocations.mat\". The location of each site on the probe in microns in the Allen CCF framework is given in \"ccfCoords\". The brain area for each site is in \"borders\" as a function of the height of the site. To view the probe inside a wire-mesh brain, download and add to your path this toolbox: https://github.com/cortex-lab/allenCCF . You will also need to add to your path the npy-matlab toolbox: https://github.com/kwikteam/npy-matlab .\n",
    "\n",
    "The behavioral file is the processed version of a mouse face movie (time x pixels x pixels). For raw videos, see this:\n",
    "\n",
    "https://figshare.com/articles/Behavioral_videos_for_8-Neuropixels_recordings_from_Stringer_et_al_2019_Science/8378360\n",
    "\n",
    "We processed these by taking the singular value decomposition of it.\n",
    "```\n",
    "beh = load(fullfile(ephysroot, sprintf('%s_face_proc.mat', mouse_name)));\n",
    "beh.motionSVD = timepoints x components (left singular vectors * singular values)\n",
    "beh.motionMask = pixels x pixels x components (right singular vectors)\n",
    "beh.times = times of behavioral frames (in seconds) in same timeframe as spikes\n",
    "```\n",
    "See the \"ephysLoad.m\" script for how to load each into matlab and better understand the structures.\n"
   ]
  },
  {
   "cell_type": "code",
   "execution_count": 58,
   "id": "99df4ec6-2371-4d70-bfe2-c3e54d074390",
   "metadata": {},
   "outputs": [
    {
     "name": "stdout",
     "output_type": "stream",
     "text": [
      "3.10.4\n"
     ]
    }
   ],
   "source": [
    "from platform import python_version\n",
    "print(python_version())\n",
    "\n",
    "from builtins import exec\n",
    "exec(open(\"./imports_functions.py\").read())\n",
    "\n",
    "%matplotlib inline"
   ]
  },
  {
   "cell_type": "code",
   "execution_count": 2,
   "id": "7a72f962-c629-4438-9264-9e1204cfe184",
   "metadata": {},
   "outputs": [
    {
     "name": "stdout",
     "output_type": "stream",
     "text": [
      "Downloading RSC data ...\n"
     ]
    },
    {
     "name": "stderr",
     "output_type": "stream",
     "text": [
      "\n",
      "KeyboardInterrupt\n",
      "\n"
     ]
    }
   ],
   "source": [
    "if not os.path.exists(\"stringer/7739750.zip\"):\n",
    "    print(\"Downloading RSC data ...\")\n",
    "    resp = wget.download(\"https://janelia.figshare.com/ndownloader/articles/7739750/versions/4\", \"stringer/7739750.zip\")\n",
    "    print(\"... Done: \"+resp)\n"
   ]
  },
  {
   "cell_type": "markdown",
   "id": "3c45d437-412e-4f0c-91cb-003c7ae09467",
   "metadata": {},
   "source": [
    "base this analysis on the file `ephysLoad.m`"
   ]
  },
  {
   "cell_type": "code",
   "execution_count": 78,
   "id": "11030168-b84e-46a8-bda7-4a2fbab74a15",
   "metadata": {},
   "outputs": [
    {
     "name": "stdout",
     "output_type": "stream",
     "text": [
      "Krebs\n",
      "1765806\n",
      "165\n",
      "upper border 4000 um, lower border 2600 um, area V1\n",
      "64 neurons in V1\n",
      "upper border 2600 um, lower border 1500 um, area HPF\n",
      "46 neurons in HPF\n",
      "upper border 1500 um, lower border 0 um, area TH\n",
      "55 neurons in TH\n",
      "\n",
      "Waksman\n",
      "4716219\n",
      "249\n",
      "upper border 4000 um, lower border 2850 um, area V1\n",
      "96 neurons in V1\n",
      "upper border 2850 um, lower border 1650 um, area HPF\n",
      "73 neurons in HPF\n",
      "upper border 1650 um, lower border 0 um, area TH\n",
      "80 neurons in TH\n",
      "\n",
      "Robbins\n",
      "5362988\n",
      "305\n",
      "upper border 4000 um, lower border 2600 um, area HPF\n",
      "33 neurons in HPF\n",
      "upper border 2600 um, lower border 0 um, area TH\n",
      "272 neurons in TH\n",
      "\n"
     ]
    }
   ],
   "source": [
    "from scipy import io\n",
    "\n",
    "probeLoc = io.loadmat('stringer/7739750/probeLocations.mat')\n",
    "probeBorders = io.loadmat('stringer/7739750/probeBorders.mat', squeeze_me=True)\n",
    "\n",
    "mouse_names = ['Krebs','Waksman','Robbins']\n",
    "# start of spontaneous activity in each mouse (in seconds)\n",
    "tstart = [3811, 3633, 3323]\n",
    "\n",
    "for imouse in range(len(mouse_names)):\n",
    "    print(mouse_names[imouse])\n",
    "    \n",
    "    spks = io.loadmat('stringer/7739750/spks/spks%s_Feb18.mat'%mouse_names[imouse], squeeze_me=True)\n",
    "    faces = io.loadmat('stringer/7739750/faces/%s_face_proc.mat'%mouse_names[imouse], squeeze_me=True)\n",
    "\n",
    "    # probe k\n",
    "    # for k in range(8):\n",
    "    k = 7\n",
    "    \n",
    "    # spike times (in seconds)\n",
    "    st = spks['spks'][k][0]\n",
    "    print(len(st))\n",
    "    # clusters\n",
    "    clu = spks['spks'][k][1]\n",
    "    print(\"clusters (cells) of the spikes\",len(np.unique(clu)))\n",
    "    # cluster heights (in microns)\n",
    "    # (see siteCoords to convert to site location)\n",
    "    Wh = spks['spks'][k][2]\n",
    "    \n",
    "    # select by height to get only cortex\n",
    "\n",
    "    # processed faces, to correlate behavior\n",
    "    motSVD = faces['motionSVD']\n",
    "    video_timestamps = faces['times']\n",
    "\n",
    "    # where is the probe in the brain (consolidated labels)\n",
    "    # borders are in microns\n",
    "    # use Wh to determine which clusters are in which brain region\n",
    "    borders = probeBorders['probeBorders'][imouse]['borders'][k]\n",
    "    for j in range(len(borders)):\n",
    "       b = borders[j]\n",
    "       print('upper border %d um, lower border %d um, area %s'%(b[0],b[1],b[2]))\n",
    "       wneurons = np.logical_and(Wh>=b[1], Wh<b[0])\n",
    "       nn = wneurons.sum()\n",
    "       print('%d neurons in %s'%(nn,b[-1]))\n",
    "\n",
    "    # # where is the probe in the brain (in microns)\n",
    "    # ccfCoords = probeLoc['probeLocations'][0][imouse]['probe'][k][0]['ccfCoords']\n",
    "    # # name of area in Allen ontology by site on electrode\n",
    "    # ccfNames = probeLoc['probeLocations'][0][imouse]['probe'][k][0]['ccfOntology']\n",
    "    # # coordinates of each site on the electrode\n",
    "    # siteCoords = probeLoc['probeLocations'][0][imouse]['probe'][k][0]['siteCoords']\n",
    "\n",
    "    print()"
   ]
  },
  {
   "cell_type": "code",
   "execution_count": null,
   "id": "e339f771-d2be-481c-a7b6-415f9b5b190b",
   "metadata": {},
   "outputs": [],
   "source": []
  }
 ],
 "metadata": {
  "kernelspec": {
   "display_name": "Python 3 (ipykernel)",
   "language": "python",
   "name": "python3"
  },
  "language_info": {
   "codemirror_mode": {
    "name": "ipython",
    "version": 3
   },
   "file_extension": ".py",
   "mimetype": "text/x-python",
   "name": "python",
   "nbconvert_exporter": "python",
   "pygments_lexer": "ipython3",
   "version": "3.10.4"
  }
 },
 "nbformat": 4,
 "nbformat_minor": 5
}
