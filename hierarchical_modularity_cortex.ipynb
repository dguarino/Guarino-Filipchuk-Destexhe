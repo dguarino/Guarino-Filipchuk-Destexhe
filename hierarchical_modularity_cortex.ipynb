{
 "cells": [
  {
   "cell_type": "markdown",
   "id": "780c8e36-1686-4929-8d53-a52dbcadcc62",
   "metadata": {},
   "source": [
    "## Hierarchical modularity in multiple cortical areas\n",
    "\n",
    "We will collect neurons from several cortical areas to get the *functional connectivity* and perform the *dynamical analysis*.     \n",
    "This will address three relevant points:\n",
    "- Does the dynamic analysis hold at **higher temporal resolution**?\n",
    "- Do **all areas of cortex** show attractor dynamics?\n",
    "- Are population events only a **side-effect of behavior** (locomotion, whisker pad, pupil)?\n",
    "\n",
    "To do all this, we analyse the [data](https://janelia.figshare.com/articles/dataset/Eight-probe_Neuropixels_recordings_during_spontaneous_behaviors/7739750/4) by [Stringer et al. 2019](science.org/doi/10.1126/science.aav7893).   \n",
    "Eight-probe Neuropixels recordings in three mice during spontaneous activity."
   ]
  },
  {
   "cell_type": "code",
   "execution_count": 12,
   "id": "99df4ec6-2371-4d70-bfe2-c3e54d074390",
   "metadata": {},
   "outputs": [
    {
     "name": "stdout",
     "output_type": "stream",
     "text": [
      "3.10.4\n"
     ]
    }
   ],
   "source": [
    "from platform import python_version\n",
    "print(python_version())\n",
    "\n",
    "from builtins import exec\n",
    "exec(open(\"./imports_functions.py\").read())\n",
    "\n",
    "%matplotlib inline"
   ]
  },
  {
   "cell_type": "code",
   "execution_count": null,
   "id": "7a72f962-c629-4438-9264-9e1204cfe184",
   "metadata": {},
   "outputs": [],
   "source": [
    "if not os.path.exists(\"stringer/7739750.zip\"):\n",
    "    print(\"Downloading neuropixel data ...\")\n",
    "    resp = wget.download(\"https://janelia.figshare.com/ndownloader/articles/7739750/versions/4\", \"stringer/7739750.zip\")\n",
    "    print(\"... Done: \"+resp)\n",
    "\n",
    "# unzip downloaded folder\n",
    "# unzip spks.zip and faces.zip"
   ]
  },
  {
   "cell_type": "markdown",
   "id": "3c45d437-412e-4f0c-91cb-003c7ae09467",
   "metadata": {},
   "source": [
    "This analysis is based on the file `ephysLoad.m`.\n",
    "\n",
    "Each \"spks\" is a structure of length 8, where each entry is a different probe (these probes were recorded simultaneously). It contains the spike times (in seconds, e.g. 4048.44929626 sec = 4048449.29626 ms (?kHz sampling)), the cluster identity of each spike (its cell), and the height of each cluster on the probe.\n",
    "\n",
    "The location of each site on the probe in microns in the Allen CCF framework is given in \"ccfCoords\". The brain area for each site is in \"borders\" as a function of the height of the site. "
   ]
  },
  {
   "cell_type": "code",
   "execution_count": null,
   "id": "11030168-b84e-46a8-bda7-4a2fbab74a15",
   "metadata": {},
   "outputs": [
    {
     "name": "stdout",
     "output_type": "stream",
     "text": [
      "... collecting populations\n",
      "Krebs\n",
      "probe 0\n",
      "clusters (cells) of the spikes 127\n",
      "upper border 4000 um, lower border 1100 um, area FrMoCtx\n",
      "5 neurons in FrMoCtx\n",
      "population too small. Rejected.\n",
      "\n",
      "probe 1\n",
      "clusters (cells) of the spikes 249\n",
      "upper border 4000 um, lower border 1800 um, area FrMoCtx\n",
      "73 neurons in FrMoCtx\n",
      "\n",
      "probe 2\n",
      "clusters (cells) of the spikes 149\n",
      "upper border 4000 um, lower border 2600 um, area V1\n",
      "61 neurons in V1\n",
      "\n",
      "probe 3\n",
      "clusters (cells) of the spikes 304\n",
      "upper border 4000 um, lower border 2400 um, area V1\n",
      "141 neurons in V1\n",
      "\n",
      "probe 4\n",
      "clusters (cells) of the spikes 126\n",
      "upper border 4000 um, lower border 1800 um, area SomMoCtx\n",
      "65 neurons in SomMoCtx\n",
      "\n",
      "probe 5\n",
      "clusters (cells) of the spikes 137\n",
      "upper border 4000 um, lower border 2100 um, area SomMoCtx\n",
      "26 neurons in SomMoCtx\n",
      "\n",
      "probe 6\n",
      "clusters (cells) of the spikes 205\n",
      "upper border 4000 um, lower border 2350 um, area V1\n",
      "68 neurons in V1\n",
      "\n",
      "probe 7\n",
      "clusters (cells) of the spikes 165\n",
      "upper border 4000 um, lower border 2600 um, area V1\n",
      "64 neurons in V1\n",
      "\n",
      "Waksman\n",
      "probe 0\n",
      "clusters (cells) of the spikes 648\n",
      "upper border 4000 um, lower border 1700 um, area FrMoCtx\n",
      "446 neurons in FrMoCtx\n"
     ]
    }
   ],
   "source": [
    "if os.path.exists(\"stringer/7739750/area_spiketrains.npy\"):\n",
    "    area_spiketrains = np.load(\"stringer/7739750/area_spiketrains.npy\", allow_pickle=True)\n",
    "    print(\"... loaded populations\")\n",
    "else:\n",
    "    print(\"... collecting populations\")\n",
    "    \n",
    "    probeLoc = sio.loadmat('stringer/7739750/probeLocations.mat')\n",
    "    probeBorders = sio.loadmat('stringer/7739750/probeBorders.mat', squeeze_me=True)\n",
    "\n",
    "    mouse_names = ['Krebs','Waksman','Robbins']\n",
    "    # mouse_names = ['Krebs']\n",
    "    cortical_areas = ['FrCtx','FrMoCtx','SomMoCtx','SSCtx','V1','V2','RSP']\n",
    "\n",
    "    # first count the cells you want to take with this structure\n",
    "    # then think on how you want to store the spikes... compatible with the dynamical_analysis\n",
    "    area_spiketrains = {\n",
    "        'Krebs' : {'FrCtx':[], 'FrMoCtx':[], 'SomMoCtx':[], 'SSCtx':[], 'V1':[], 'V2':[], 'RSP':[]},\n",
    "        'Waksman' : {'FrCtx':[], 'FrMoCtx':[], 'SomMoCtx':[], 'SSCtx':[], 'V1':[], 'V2':[], 'RSP':[]},\n",
    "        'Robbins' : {'FrCtx':[], 'FrMoCtx':[], 'SomMoCtx':[], 'SSCtx':[], 'V1':[], 'V2':[], 'RSP':[]}\n",
    "    }\n",
    "\n",
    "    # start of spontaneous activity in each mouse (in seconds)\n",
    "    tstart = [3811, 3633, 3323] # what's in there before?\n",
    "\n",
    "    for imouse in range(len(mouse_names)):\n",
    "        print(mouse_names[imouse])\n",
    "\n",
    "        spks = sio.loadmat('stringer/7739750/spks/spks%s_Feb18.mat'%mouse_names[imouse], squeeze_me=True)\n",
    "\n",
    "        # probe k\n",
    "        # k = 7\n",
    "        for k in range(8):\n",
    "            print(\"probe\",k)\n",
    "\n",
    "            # spike times (in seconds)\n",
    "            st = spks['spks'][k][0]\n",
    "            # clusters\n",
    "            clu = spks['spks'][k][1]\n",
    "            print(\"clusters (cells) of the spikes\",len(np.unique(clu)))\n",
    "            # cluster heights (in microns)\n",
    "            # (see siteCoords to convert to site location)\n",
    "            Wh = spks['spks'][k][2]\n",
    "\n",
    "            # where is the probe in the brain (consolidated labels)\n",
    "            # borders are in microns\n",
    "            # use Wh to determine which clusters are in which brain region\n",
    "            borders = probeBorders['probeBorders'][imouse]['borders'][k]\n",
    "            for j in range(len(borders)):\n",
    "                population = [] # one population per border, there can be several borders\n",
    "                b = borders[j]\n",
    "                if b[2] not in cortical_areas:\n",
    "                    continue\n",
    "                print('upper border %d um, lower border %d um, area %s'%(b[0],b[1],b[2]))\n",
    "                wneurons = np.logical_and(Wh>=b[1], Wh<b[0])\n",
    "                nn = wneurons.sum()\n",
    "                print('%d neurons in %s'%(nn,b[-1]))\n",
    "                # we should not include population smaller than those in MICrONS\n",
    "                if nn<10:\n",
    "                    print('population too small. Rejected.')\n",
    "                    continue\n",
    "\n",
    "                cortical_neurons = np.nonzero(wneurons)[0]\n",
    "                for cn in cortical_neurons:\n",
    "                    cn_idxs = [i for i in range(len(clu)) if clu[i]==cn]\n",
    "                    # print(cn_idxs)\n",
    "                    population = sorted(st[cn_idxs])\n",
    "                    \n",
    "                area_spiketrains[ mouse_names[imouse] ][ b[2] ].append( population )\n",
    "            print()\n",
    "\n",
    "    # save to file\n",
    "    np.save(\"stringer/7739750/area_spiketrains.npy\", area_spiketrains)\n"
   ]
  },
  {
   "cell_type": "code",
   "execution_count": 7,
   "id": "e339f771-d2be-481c-a7b6-415f9b5b190b",
   "metadata": {},
   "outputs": [
    {
     "name": "stdout",
     "output_type": "stream",
     "text": [
      "1\n",
      "5\n"
     ]
    }
   ],
   "source": [
    "print(len(area_spiketrains['Krebs']['FrMoCtx']))\n",
    "print(len(area_spiketrains['Krebs']['FrMoCtx'][0]))"
   ]
  },
  {
   "cell_type": "code",
   "execution_count": null,
   "id": "dac10f9b-875c-4568-8afe-cf778fc0ba23",
   "metadata": {},
   "outputs": [],
   "source": [
    "# # processed faces, to correlate behavior\n",
    "# # The behavioral file is the processed version of a mouse face movie (time x pixels x pixels). \n",
    "# faces = io.loadmat('stringer/7739750/faces/%s_face_proc.mat'%mouse_names[imouse], squeeze_me=True)\n",
    "# motSVD = faces['motionSVD']\n",
    "# video_timestamps = faces['times']"
   ]
  }
 ],
 "metadata": {
  "kernelspec": {
   "display_name": "Python 3 (ipykernel)",
   "language": "python",
   "name": "python3"
  },
  "language_info": {
   "codemirror_mode": {
    "name": "ipython",
    "version": 3
   },
   "file_extension": ".py",
   "mimetype": "text/x-python",
   "name": "python",
   "nbconvert_exporter": "python",
   "pygments_lexer": "ipython3",
   "version": "3.10.4"
  }
 },
 "nbformat": 4,
 "nbformat_minor": 5
}
