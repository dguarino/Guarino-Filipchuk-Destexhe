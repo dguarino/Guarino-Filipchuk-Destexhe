{
 "cells": [
  {
   "cell_type": "markdown",
   "id": "8aa3bfba-eb0d-4376-9ea5-81d798dcebbd",
   "metadata": {},
   "source": [
    "# Structural Analysis\n",
    "\n",
    "We will perform several measurements of the available network structure.   \n",
    "The definitions for these measures are all available in the [Newman 2010](https://academic.oup.com/book/27303) book.   \n",
    "We use the library [iGraph](https://python.igraph.org/en/stable/) for all definitions and measurements."
   ]
  },
  {
   "cell_type": "code",
   "execution_count": null,
   "id": "4a8f1b9b-3a85-4a5e-b526-bebdbe2bda78",
   "metadata": {},
   "outputs": [],
   "source": [
    "random.seed(123456)\n",
    "np.random.seed(123456)"
   ]
  },
  {
   "cell_type": "markdown",
   "id": "f8dc3f1e-e5d8-41fe-9eb7-a6751ec3ec30",
   "metadata": {},
   "source": [
    "The adjacency matrix is already available from electron microscopy."
   ]
  },
  {
   "cell_type": "markdown",
   "id": "ea7c11a0-1861-4f13-88d4-ae0d875477a0",
   "metadata": {},
   "source": [
    "### EM-2p Graph\n",
    "We work all the time with the proofread synapses for the imaged cells."
   ]
  },
  {
   "cell_type": "code",
   "execution_count": null,
   "id": "32950b16-378a-459a-8ab3-167a2274e148",
   "metadata": {},
   "outputs": [],
   "source": [
    "# identified cells (112)\n",
    "dgraph = ig.Graph.Weighted_Adjacency(adjacency_matrix)"
   ]
  },
  {
   "cell_type": "code",
   "execution_count": null,
   "id": "e3ab4a5b-c5d7-4ccd-b023-33df8a21475f",
   "metadata": {},
   "outputs": [],
   "source": [
    "# get all root_ids\n",
    "root_ids = pd.concat([syn_spines_df[\"post_root_id\"], syn_spines_df[\"pre_root_id\"]], ignore_index=True).drop_duplicates()\n",
    "root_idxs = list(range( len(root_ids) )) # all cells\n",
    "map_root_ids = dict(zip(root_ids,root_idxs))\n",
    "source_s = syn_spines_df[\"pre_root_id\"].map(map_root_ids)\n",
    "target_s = syn_spines_df[\"post_root_id\"].map(map_root_ids)\n",
    "syn_edges_df = pd.DataFrame({'source':source_s.astype(int),'target':target_s.astype(int)})\n",
    "vertices_df = pd.DataFrame(root_idxs, columns=['ID'])\n"
   ]
  },
  {
   "cell_type": "markdown",
   "id": "f7e7854e-2cc5-4c17-9af9-b6911fdd0474",
   "metadata": {},
   "source": [
    "or we can work with all possible synapses (but not all proofread).\n",
    "\n",
    "#### Full network\n",
    "(igraph import from pandas works better with 1M edges using directly IDs)"
   ]
  },
  {
   "cell_type": "code",
   "execution_count": null,
   "id": "630584a2-cedc-4d47-bde5-f03f02330c02",
   "metadata": {},
   "outputs": [],
   "source": [
    "# # get all root_ids\n",
    "# root_ids = pd.concat([syn_df[\"post_root_id\"], syn_df[\"pre_root_id\"]], ignore_index=True).drop_duplicates()\n",
    "# root_idxs = list(range( len(root_ids) )) # all cells\n",
    "# map_root_ids = dict(zip(root_ids,root_idxs))\n",
    "# source_s = syn_df[\"pre_root_id\"].map(map_root_ids)\n",
    "# target_s = syn_df[\"post_root_id\"].map(map_root_ids)\n",
    "# syn_edges_df = pd.DataFrame({'source':source_s.astype(int),'target':target_s.astype(int)})\n",
    "# vertices_df = pd.DataFrame(root_idxs, columns=['ID'])"
   ]
  },
  {
   "cell_type": "code",
   "execution_count": null,
   "id": "1394db54-f085-4dda-9f2e-5d77a774935b",
   "metadata": {},
   "outputs": [],
   "source": [
    "print(len(map_root_ids))\n",
    "# print(source_s)\n",
    "# print(len(source_s))\n",
    "# print(len(target_s))\n",
    "# print(syn_edges_df)\n",
    "# print(vertices_df)\n",
    "dgraph = ig.Graph.DataFrame(edges=syn_edges_df, directed=True, vertices=vertices_df, use_vids=True)"
   ]
  },
  {
   "cell_type": "markdown",
   "id": "1fe9cfd6-5f25-463a-b3a1-c001044adaf3",
   "metadata": {},
   "source": [
    "we can use the plotting capabilities of iGraph to show the network as a ring."
   ]
  },
  {
   "cell_type": "code",
   "execution_count": null,
   "id": "83b9014f-b38a-4a0f-8786-1900475c6916",
   "metadata": {},
   "outputs": [],
   "source": [
    "# ig.plot(dgraph, exp_path+'/results/ring.png', layout=dgraph.layout(\"circle\"), edge_curved=0.2, edge_color='#000', edge_width=0.5, edge_arrow_size=0.1, vertex_size=5, vertex_color='#000', margin=50)"
   ]
  },
  {
   "cell_type": "markdown",
   "id": "db25e459-3695-4782-ba8d-4c872ef4be0d",
   "metadata": {},
   "source": [
    "Take some basic properties"
   ]
  },
  {
   "cell_type": "code",
   "execution_count": null,
   "id": "df6ca0ee-d638-45dc-b6fa-83807fcd5568",
   "metadata": {},
   "outputs": [],
   "source": [
    "print(\"    number of vertices:\", dgraph.vcount())\n",
    "\n",
    "print('... Network nodes degrees')\n",
    "degrees = np.array(dgraph.degree())\n",
    "# print(\"    \", np.count_nonzero(degrees))\n",
    "np.save(exp_path+'/results/degrees.npy', degrees)\n",
    "\n",
    "print(\"... Degree distributions\")\n",
    "# https://igraph.org/python/api/latest/igraph._igraph.GraphBase.html#degree\n",
    "degdist = dgraph.degree_distribution(bin_width=5)\n",
    "degree_counts = [bi[2] for bi in degdist.bins()]\n",
    "np.save(exp_path+'/results/degree_counts.npy', degree_counts)\n",
    "fig = plt.figure()\n",
    "plt.plot(range(len(degree_counts)), degree_counts, linewidth=3.0)\n",
    "plt.ylabel('Number of vertices')\n",
    "plt.xlabel('Degree')\n",
    "plt.xscale('log')\n",
    "plt.yscale('log')\n",
    "plt.savefig(exp_path+'/results/degree_distribution.png', transparent=True, dpi=300)\n",
    "plt.close()\n",
    "fig.clf()"
   ]
  },
  {
   "cell_type": "markdown",
   "id": "eb9e6169-133e-4698-a331-fa2e0e79a3e4",
   "metadata": {},
   "source": [
    "## Hierarchical modularity\n",
    "Networks can be characterized by their *transitivity*. Considering pairs of vertices, the simplest relation thay can have is being connected by an edge. When this relation is transitive, we can pass through vertices that are not directly connected, in virtue of their neighbors.\n",
    "\n",
    "The population clustering coefficient measures network transitivity by the average probability that two neighbors of a vertex are themselves neighbors."
   ]
  },
  {
   "cell_type": "code",
   "execution_count": null,
   "id": "815938ab-3106-4122-9f5c-65131d1ba79e",
   "metadata": {},
   "outputs": [],
   "source": [
    "# Clustering Coefficient of only excitatory cells\n",
    "print('... Local Clustering Coefficient')\n",
    "# undirected only\n",
    "local_clustering_coefficients = np.array(dgraph.transitivity_local_undirected(vertices=None, mode=\"zero\"))\n",
    "# print(\"    min\", np.min(local_clustering_coefficients))\n",
    "# print(\"    mean\", np.mean(local_clustering_coefficients))\n",
    "# print(\"    max\", np.max(local_clustering_coefficients))\n",
    "np.save(exp_path+'/results/local_clustering_coefficients.npy', local_clustering_coefficients)"
   ]
  },
  {
   "cell_type": "markdown",
   "id": "582951da-5624-4068-803d-343c7b0bed1e",
   "metadata": {},
   "source": [
    "We can visualize the hierarchical modularity by a linear log-log covariance relationship between node degree and node local clustering coefficient."
   ]
  },
  {
   "cell_type": "code",
   "execution_count": null,
   "id": "0e29973e-f419-4156-aae7-ec42ca6f0b8e",
   "metadata": {},
   "outputs": [],
   "source": [
    "def powerlaw(x, a, b):\n",
    "    return a * (x**-b)\n",
    "\n",
    "# paramsfit = [2, 1.5] # 1M EM-only\n",
    "paramsfit = [2, 1.05] # 334 EM-only all proofread\n",
    "# paramsfit = [1, 0.5] # 112 Ca/EM\n",
    "pfit = powerlaw(degrees, *paramsfit)\n",
    "\n",
    "# Coefficient of Determination\n",
    "# In the best case, the modeled values exactly match the observed values, which results in ss_res=0 and r2=1.\n",
    "# A baseline model, which always predicts np.mean(LCC), will have r2=0.\n",
    "# Models that have worse predictions than this baseline will have a negative r2.\n",
    "# residual sum of squares\n",
    "ss_res = np.sum((local_clustering_coefficients - pfit) ** 2)\n",
    "# total sum of squares\n",
    "ss_tot = np.sum((local_clustering_coefficients - np.mean(local_clustering_coefficients)) ** 2)\n",
    "# r-squared goodeness-of-fit\n",
    "r2 = 1 - (ss_res / ss_tot)"
   ]
  },
  {
   "cell_type": "code",
   "execution_count": null,
   "id": "27b047b9-31af-4240-ac7a-856ef00f2790",
   "metadata": {},
   "outputs": [],
   "source": [
    "# covariance matrix and eigenvalues/vectors\n",
    "Cov = np.cov(degrees,local_clustering_coefficients)\n",
    "# print(\"    Covariance matrix degrees,local_clustering_coefficients:\")\n",
    "# print(Cov)\n",
    "w, v = np.linalg.eig(Cov)\n",
    "# print(\"    eigenvalues:\")\n",
    "# print(w)\n",
    "# print(\"    eigenvectors:\")\n",
    "# print(v)"
   ]
  },
  {
   "cell_type": "code",
   "execution_count": null,
   "id": "4a33121c-ce2b-481f-ba94-fe5c684605ef",
   "metadata": {},
   "outputs": [],
   "source": [
    "# plot\n",
    "fig = plt.figure()\n",
    "summer = mpcm.summer\n",
    "# for deg,ccoef in zip(degrees,local_clustering_coefficients):\n",
    "#     plt.scatter( deg, ccoef, marker='o', facecolor='#AAD400', s=10, edgecolors='none', alpha=0.25) # 22um\n",
    "plt.scatter( degrees,local_clustering_coefficients, marker='o', facecolor='#111111', s=50, edgecolors='none', alpha=0.5) \n",
    "plt.plot(degrees,pfit,c='k')\n",
    "plt.yscale('log')\n",
    "plt.xscale('log')\n",
    "# plt.xlim([10,200])\n",
    "# plt.ylim([0.01,1])\n",
    "ax = plt.gca()\n",
    "ax.spines['top'].set_visible(False)\n",
    "ax.spines['right'].set_visible(False)\n",
    "plt.ylabel('LCC')\n",
    "plt.xlabel('degree')\n",
    "# ax.set_xticklabels([])\n",
    "# ax.set_yticklabels([])\n",
    "plt.tick_params(axis='both', bottom='on', top='on', left='off', right='off')\n",
    "plt.title(\"eigv: {:.2f}, {:.4f} - fit x^: {:.2f} - GoF R2={:.2f}\".format(w[0], w[1], paramsfit[1], r2))\n",
    "plt.tight_layout()\n",
    "fig.savefig(exp_path+'/results/hierarchical_modularity.png', transparent=True, dpi=900)\n",
    "fig.savefig(exp_path+'/results/hierarchical_modularity.svg', transparent=True)\n",
    "plt.close()\n",
    "fig.clf()"
   ]
  },
  {
   "cell_type": "markdown",
   "id": "631e6cc1-47f6-4807-94aa-5ef42a6a8ac8",
   "metadata": {},
   "source": [
    "## Betweenness centrality\n",
    "It measures the extent to which a vertex lies on paths between other vertices. "
   ]
  },
  {
   "cell_type": "code",
   "execution_count": null,
   "id": "3b803821-b03e-46ff-a0b6-236a0b905b9b",
   "metadata": {},
   "outputs": [],
   "source": [
    "print('... Betweenness centrality')\n",
    "betweenness_centrality = np.array(dgraph.betweenness(vertices=None, directed=True, cutoff=None, weights=None))\n",
    "np.save(exp_path+'/results/betweenness_centrality.npy', betweenness_centrality)"
   ]
  },
  {
   "cell_type": "markdown",
   "id": "98b1174f-6bcf-48c7-aec3-14154b891779",
   "metadata": {},
   "source": [
    "## Motifs"
   ]
  },
  {
   "cell_type": "code",
   "execution_count": null,
   "id": "003c8467-984b-4d50-9191-9404970dfa5f",
   "metadata": {},
   "outputs": [],
   "source": [
    "print('... Motifs')\n",
    "# number of motifs by class\n",
    "motifs = np.array(dgraph.motifs_randesu(size=3, cut_prob=None, callback=None))\n",
    "# which vertices belong to which class\n",
    "motif_vertices = {}\n",
    "def cb_motif(graph,vs_motif,isoc):\n",
    "    if not isoc in motif_vertices:\n",
    "        motif_vertices[isoc] = []\n",
    "    motif_vertices[isoc].append(vs_motif)\n",
    "dgraph.motifs_randesu(size=3, cut_prob=None, callback=cb_motif)"
   ]
  },
  {
   "cell_type": "markdown",
   "id": "4e06b9f6-cc5b-4483-8f5a-bd77dc396ad9",
   "metadata": {},
   "source": [
    "To understand the significance of the occurrences collected above, we use a bootstrapping method.    \n",
    "We generate 100 (or, longer, 1000) random networks with the same number of vertices and number of edges as dgraph, but with edges assignments randomly chosen."
   ]
  },
  {
   "cell_type": "code",
   "execution_count": null,
   "id": "c0027acf-f8a7-42a3-b6f0-007c13e93a30",
   "metadata": {},
   "outputs": [],
   "source": [
    "surrogate_motifs = []\n",
    "for surrogateg in range(100):\n",
    "    erg = ig.Graph.Erdos_Renyi(n=dgraph.vcount(), m=dgraph.ecount(), directed=True, loops=False)\n",
    "    surrogate_motifs.append( erg.motifs_randesu(size=3, cut_prob=None, callback=None) )\n",
    "    ig.plot(erg, exp_path+'/results/ring_erg.png', layout=erg.layout(\"circle\"), edge_curved=0.2, edge_color='orange', edge_width=0.5, edge_arrow_size=0.1, vertex_size=5, vertex_frame_color='orange', vertex_color='orange', margin=50)\n",
    "surrogate_motifs = np.percentile(surrogate_motifs, 95, axis=0)\n",
    "# surrogate motif vertices\n",
    "surrogate_motif_vertices = {}\n",
    "def cb_motif(graph,vs_motif,isoc):\n",
    "    if not isoc in surrogate_motif_vertices:\n",
    "        surrogate_motif_vertices[isoc] = []\n",
    "    surrogate_motif_vertices[isoc].append(vs_motif)\n",
    "# take the last surrogate network (just one for now)\n",
    "erg.motifs_randesu(size=3, cut_prob=None, callback=cb_motif)\n",
    "\n",
    "# plot\n",
    "fig = plt.figure()\n",
    "plt.bar(range(len(motifs)), motifs, color='k', label='real')\n",
    "plt.bar(np.array(range(len(motifs)))+0.15, surrogate_motifs, color='orange', label='avg surrogates')\n",
    "plt.legend()\n",
    "plt.ylabel('occurrences')\n",
    "plt.xlabel('motifs types')\n",
    "fig.savefig(exp_path+'/results/motifs_occurrences.svg', transparent=True)\n",
    "plt.close()\n",
    "fig.clear()\n",
    "fig.clf()\n",
    "# plot\n",
    "motifsratio = motifs/surrogate_motifs\n",
    "fig = plt.figure()\n",
    "plt.bar(range(len(motifs)), motifsratio, color='k')\n",
    "plt.ylabel('count relative to random')\n",
    "plt.xlabel('motifs types')\n",
    "fig.savefig(exp_path+'/results/motifs_ratio.png', transparent=True)\n",
    "fig.savefig(exp_path+'/results/motifs_ratio.svg', transparent=True)\n",
    "plt.close()\n",
    "fig.clear()\n",
    "fig.clf()"
   ]
  }
 ],
 "metadata": {
  "kernelspec": {
   "display_name": "Python 3 (ipykernel)",
   "language": "python",
   "name": "python3"
  },
  "language_info": {
   "codemirror_mode": {
    "name": "ipython",
    "version": 3
   },
   "file_extension": ".py",
   "mimetype": "text/x-python",
   "name": "python",
   "nbconvert_exporter": "python",
   "pygments_lexer": "ipython3",
   "version": "3.10.4"
  }
 },
 "nbformat": 4,
 "nbformat_minor": 5
}
