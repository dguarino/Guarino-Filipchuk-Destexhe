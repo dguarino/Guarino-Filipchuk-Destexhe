{
 "cells": [
  {
   "cell_type": "markdown",
   "id": "780c8e36-1686-4929-8d53-a52dbcadcc62",
   "metadata": {
    "tags": []
   },
   "source": [
    "## Multiunit recordings from several cortical areas\n",
    "\n",
    "We will collect neurons from several cortical areas to perform population *dynamical* and *attractor* analysis, and get the *functional connectivity*.     \n",
    "This will address three relevant points:\n",
    "- Does the dynamic analysis hold at **higher temporal resolution**?\n",
    "    - How do events statistics (duration and size) compare to 2-photon?\n",
    "- Are population events only a **side-effect of behavior** (locomotion, whisker pad, pupil)?\n",
    "    - Do behavioral components explain pattern reproducibility?\n",
    "- Do **all areas of cortex** show attractor dynamics?\n",
    "    - How do pattern trajectories compare to MICrONS?\n",
    "\n",
    "To do all this, we analyse the [data](https://janelia.figshare.com/articles/dataset/Eight-probe_Neuropixels_recordings_during_spontaneous_behaviors/7739750/4) by [Stringer et al. 2019](science.org/doi/10.1126/science.aav7893).   \n",
    "Eight-probe Neuropixels recordings in three mice during spontaneous activity.   \n",
    "\n",
    "This notebook calls `dynamical_analysis.ipynb` and `attractor_analysis.ipynb`."
   ]
  },
  {
   "cell_type": "code",
   "execution_count": 7,
   "id": "99df4ec6-2371-4d70-bfe2-c3e54d074390",
   "metadata": {},
   "outputs": [
    {
     "name": "stdout",
     "output_type": "stream",
     "text": [
      "3.10.4\n"
     ]
    }
   ],
   "source": [
    "from platform import python_version\n",
    "print(python_version())\n",
    "\n",
    "%run -i 'imports_functions.py' \n",
    "\n",
    "%matplotlib inline"
   ]
  },
  {
   "cell_type": "markdown",
   "id": "2a43d468-6d74-49c0-98ea-a4ee385dc16b",
   "metadata": {},
   "source": [
    "**WARNING**: the next cell takes time to download and unzip the neuropixel data."
   ]
  },
  {
   "cell_type": "code",
   "execution_count": 8,
   "id": "7a72f962-c629-4438-9264-9e1204cfe184",
   "metadata": {},
   "outputs": [
    {
     "name": "stdout",
     "output_type": "stream",
     "text": [
      "All data available.\n"
     ]
    }
   ],
   "source": [
    "if not os.path.exists(\"stringer/7739750.zip\"):\n",
    "    print(\"Downloading neuropixel data ...\")\n",
    "    if not os.path.exists(\"stringer\"):\n",
    "        os.makedirs(\"stringer\")\n",
    "    resp = wget.download(\"https://janelia.figshare.com/ndownloader/articles/7739750/versions/4\", \"stringer/7739750.zip\")\n",
    "    print(\"... Done: \"+resp)\n",
    "\n",
    "if not os.path.exists(\"stringer/7739750\"):\n",
    "    # unzip downloaded folder\n",
    "    if os.path.exists(\"stringer/7739750.zip\"):\n",
    "        print(\"... unzipping\")\n",
    "        shutil.unpack_archive(\"stringer/7739750.zip\", \"stringer/7739750\")\n",
    "        shutil.unpack_archive(\"stringer/7739750/spks.zip\", \"stringer/7739750/spks\")\n",
    "        shutil.unpack_archive(\"stringer/7739750/faces.zip\", \"stringer/7739750/faces\")\n",
    "    print(\"Done.\")\n",
    "else:\n",
    "    print(\"All data available.\")"
   ]
  },
  {
   "cell_type": "markdown",
   "id": "3c45d437-412e-4f0c-91cb-003c7ae09467",
   "metadata": {},
   "source": [
    "### Data preprocessing\n",
    "\n",
    "This analysis is based on the file `ephysLoad.m`.\n",
    "\n",
    "Each \"spks\" is a structure of length 8, where each entry is a different probe (these probes were recorded simultaneously). It contains the spike times (in seconds, e.g. 4048.44929626 sec (?kHz sampling)), the cluster identity of each spike (its cell), and the height of each cluster on the probe.\n",
    "\n",
    "The location of each site on the probe in microns in the Allen CCF framework is given in \"ccfCoords\". The brain area for each site is in \"borders\" as a function of the height of the site. \n",
    "\n",
    "We need the spikes from each area and probe to be separate lists. So, we build a dictionary to hold them, and save it locally as `area_spiketrains.npy`."
   ]
  },
  {
   "cell_type": "code",
   "execution_count": 9,
   "id": "11030168-b84e-46a8-bda7-4a2fbab74a15",
   "metadata": {},
   "outputs": [
    {
     "name": "stdout",
     "output_type": "stream",
     "text": [
      "... loaded populations\n"
     ]
    }
   ],
   "source": [
    "if os.path.exists(\"stringer/7739750/area_spiketrains.npy\"):\n",
    "    area_spiketrains = np.load(\"stringer/7739750/area_spiketrains.npy\", allow_pickle=True).item()\n",
    "    print(\"... loaded populations\")\n",
    "else:\n",
    "    print(\"... collecting populations\")\n",
    "    \n",
    "    probeLoc = sio.loadmat('stringer/7739750/probeLocations.mat')\n",
    "    probeBorders = sio.loadmat('stringer/7739750/probeBorders.mat', squeeze_me=True)\n",
    "\n",
    "    mouse_names = ['Krebs','Waksman','Robbins']\n",
    "    cortical_areas = ['FrCtx','FrMoCtx','SomMoCtx','SSCtx','V1','V2','RSP']\n",
    "\n",
    "    # first count the cells you want to take with this structure\n",
    "    # then think on how you want to store the spikes... compatible with the dynamical_analysis\n",
    "    area_spiketrains = {\n",
    "        'Krebs' : {'FrCtx':[], 'FrMoCtx':[], 'SomMoCtx':[], 'SSCtx':[], 'V1':[], 'V2':[], 'RSP':[]},\n",
    "        'Waksman' : {'FrCtx':[], 'FrMoCtx':[], 'SomMoCtx':[], 'SSCtx':[], 'V1':[], 'V2':[], 'RSP':[]},\n",
    "        'Robbins' : {'FrCtx':[], 'FrMoCtx':[], 'SomMoCtx':[], 'SSCtx':[], 'V1':[], 'V2':[], 'RSP':[]}\n",
    "    }\n",
    "\n",
    "    for imouse in range(len(mouse_names)):\n",
    "        print(mouse_names[imouse])\n",
    "\n",
    "        spks = sio.loadmat('stringer/7739750/spks/spks%s_Feb18.mat'%mouse_names[imouse], squeeze_me=True)\n",
    "\n",
    "        # probe k\n",
    "        # k = 7\n",
    "        for k in range(8):\n",
    "            print(\"probe\",k)\n",
    "\n",
    "            # spike times (in seconds)\n",
    "            st = spks['spks'][k][0]\n",
    "            # clusters\n",
    "            clu = spks['spks'][k][1]\n",
    "            print(\"clusters (cells) of the spikes\",len(np.unique(clu)))\n",
    "            # cluster heights (in microns)\n",
    "            # (see siteCoords to convert to site location)\n",
    "            Wh = spks['spks'][k][2]\n",
    "\n",
    "            # where is the probe in the brain (consolidated labels)\n",
    "            # borders are in microns\n",
    "            # use Wh to determine which clusters are in which brain region\n",
    "            borders = probeBorders['probeBorders'][imouse]['borders'][k]\n",
    "            for j in range(len(borders)):\n",
    "                population = [] # one population per border, there can be several borders\n",
    "                b = borders[j]\n",
    "                if b[2] not in cortical_areas:\n",
    "                    continue\n",
    "                print('upper border %d um, lower border %d um, area %s'%(b[0],b[1],b[2]))\n",
    "                wneurons = np.logical_and(Wh>=b[1], Wh<b[0])\n",
    "                nn = wneurons.sum()\n",
    "                print('%d neurons in %s'%(nn,b[-1]))\n",
    "                # we should not include population smaller than those in MICrONS\n",
    "                if nn<10:\n",
    "                    print('population too small. Rejected.')\n",
    "                    continue\n",
    "\n",
    "                cortical_neurons = np.nonzero(wneurons)[0]\n",
    "                for cn in cortical_neurons:\n",
    "                    cn_idxs = [i for i in range(len(clu)) if clu[i]==cn]\n",
    "                    # print(cn_idxs)\n",
    "                    population.append( sorted(st[cn_idxs]) )\n",
    "                    \n",
    "                area_spiketrains[ mouse_names[imouse] ][ b[2] ].append( population )\n",
    "            print()\n",
    "\n",
    "    # save to file\n",
    "    np.save(\"stringer/7739750/area_spiketrains.npy\", area_spiketrains)\n"
   ]
  },
  {
   "cell_type": "markdown",
   "id": "001efe03-3e0a-4255-aa62-23639d33a6eb",
   "metadata": {},
   "source": [
    "The following spiketrains will be loaded.\n",
    "\n",
    "| mouse | probe | borders (um) | area | #neurons |\n",
    "|:----|:----|:----|:---|:---|\n",
    "| **Krebs** | 0 | 4000, 1100 | FrMoCtx | 5 |\n",
    "|           | 1 | 4000, 1800 | FrMoCtx | 73 |\n",
    "|           | 2 | 4000, 2600 | V1 | 61 |\n",
    "|           | 3 | 4000, 2400 | V1 | 141 |\n",
    "|           | 4 | 4000, 1800 | SomMoCtx | 65 |\n",
    "|           | 5 | 4000, 2100 | SomMoCtx | 26 |\n",
    "|           | 6 | 4000, 2350 | V1 | 68 |\n",
    "|           | 7 | 4000, 2600 | V1 | 64 |\n",
    "| **Waksman** | 0 | 4000, 1700 | FrMoCtx | 446 |\n",
    "|             | 0 | 1200, 0 | FrMoCtx | 201 |\n",
    "|             | 1 | 4000, 2150 | FrCtx | 31 |\n",
    "|             | 2 | 4000, 2700 | V1 | 155 |\n",
    "|             | 3 | 4000, 2250 | RSP | 112 |\n",
    "|             | 4 | 4000, 2000 | SomMoCtx | 220 |\n",
    "|             | 5 | 4000, 2600 | SSCtx | 50 |\n",
    "|             | 6 | 4000, 2650 | V2 | 124 |\n",
    "|             | 7 | 4000, 2850 | V1 | 96 |\n",
    "| **Robbins** | 0 | 4000, 3400 | FrMoCtx | 16 |\n",
    "|             | 1 | 4000, 3100 | FrMoCtx | 70 |\n",
    "|             | 3 | 4000, 3550 | RSP | 10 |\n",
    "|             | 4 | 4000, 3500 | SomMoCtx | 10 |\n"
   ]
  },
  {
   "cell_type": "code",
   "execution_count": 10,
   "id": "4f0754be-e291-4a07-9bda-2660756cdd6e",
   "metadata": {},
   "outputs": [],
   "source": [
    "real_frame_duration = 0.00000001 # sec (e.g. 4048.44929626 s)\n",
    "# frame_duration = 0.001 # sec (e.g. 4048.449 s)\n",
    "frame_duration = 0.01 # sec (e.g. 4048.45 s)\n",
    "local_path = os.getcwd() + '/stringer/7739750/'"
   ]
  },
  {
   "cell_type": "markdown",
   "id": "6c62d98d-d74e-4a71-95fd-15d5313a04c8",
   "metadata": {},
   "source": [
    "#### Note\n",
    "The cell below is particularly long to execute if the dynamical and attractor analyses are used. We therefore used only the first mouse 'Krebs' to perform those analyses.     \n",
    "However, functional correlations and hirarchical modularity are light enough to be performed on all mice (with a good bit of patience). By commenting the sections on "
   ]
  },
  {
   "cell_type": "code",
   "execution_count": 18,
   "id": "278c2d9c-d9c9-4139-a39a-cb6d4e19a134",
   "metadata": {},
   "outputs": [
    {
     "name": "stdout",
     "output_type": "stream",
     "text": [
      "\n",
      "mouse: Krebs\n",
      "area:  FrMoCtx\n",
      "population: 0\n",
      "    population firing: 2.84±2.85 sp/frame\n",
      "    cells firing rate: 0.04±0.20 sp/s\n",
      "... generating surrogates to establish population event threshold\n",
      "... loaded surrogates\n",
      "    event size threshold (mean): 3.4416623623776474\n",
      "... find peaks\n",
      "... find minima\n",
      "... find population events\n",
      "... signatures of population events\n",
      "    number of events: 9718\n",
      "    number of events per sec: 1.9043091510108536\n",
      "    events duration: 0.100±0.040\n",
      "    events size: 19.000±6.483\n",
      "... Similarity of events matrix\n",
      "... clustering\n",
      "    linkage\n",
      "    surrogate events signatures for clustering threshold\n",
      "... loaded surrogates\n",
      "    cluster reproducibility threshold: 0.19066564490349733\n",
      "    cluster size threshold: 2\n",
      "    Total number of clusters: 250\n",
      "    # clusters (after removing those below reproducibility threshold): 249\n",
      "    event color assignment\n",
      "    unique color assignments\n",
      "    clustered similarity map\n",
      "... finding cluster cores\n",
      "    removing cores firing unspecifically\n",
      "    gathering cores from all clusters\n",
      "    # cores: 70\n",
      "    # non-cores: 3\n",
      "    cores per cluster: 18.45±5.11 (min 0, max 36)\n",
      "    others per cluster: 54.55±5.11 (min 37, max 73)\n",
      "(73, 129218)\n",
      "... starting functional adjacency matrix\n",
      "    adjacency matrix: (73, 73)\n",
      "    preparing vertex labels for cores and others\n",
      "... Degree distributions\n",
      "... Local Clustering Coefficient\n"
     ]
    },
    {
     "name": "stderr",
     "output_type": "stream",
     "text": [
      "/tmp/ipykernel_9130/2282007953.py:178: RuntimeWarning: divide by zero encountered in power\n",
      "  return a * (x**-b)\n"
     ]
    },
    {
     "name": "stdout",
     "output_type": "stream",
     "text": [
      "    Flow cores: DescribeResult(nobs=371337, minmax=(0.0, 0.08571428571428572), mean=0.006567849996864611, variance=0.0004030458612643618, skewness=3.041613102420555, kurtosis=7.919066901355857)\n",
      "    Flow others: DescribeResult(nobs=1821, minmax=(0.0, 0.0), mean=0.0, variance=0.0, skewness=0.0, kurtosis=-3.0)\n",
      "    Welch t test:  199.356 p= 0.000\n",
      "    Kolmogorov-Smirnov Effect Size: 0.111\n"
     ]
    },
    {
     "data": {
      "image/png": "[encoded data removed]",
      "text/plain": [
       "<Figure size 432x288 with 1 Axes>"
      ]
     },
     "metadata": {
      "needs_background": "light"
     },
     "output_type": "display_data"
    },
    {
     "name": "stdout",
     "output_type": "stream",
     "text": [
      "\n",
      "    Cut edges sourcing from cores: DescribeResult(nobs=70, minmax=(0.0, 283.4714285714286), mean=17.420612244897956, variance=3047.8794772890533, skewness=3.400982311249319, kurtosis=11.154562823901)\n",
      "    Cut edges targeting cores: DescribeResult(nobs=70, minmax=(0.0, 444.2857142857143), mean=17.42061224489796, variance=5231.181003464741, skewness=4.973583255559928, kurtosis=24.497042823490705)\n",
      "    Cut edges sourcing from others: DescribeResult(nobs=3, minmax=(0.0, 0.0), mean=0.0, variance=0.0, skewness=0.0, kurtosis=-3.0)\n",
      "    Cut edges targeting others: DescribeResult(nobs=3, minmax=(0.0, 0.0), mean=0.0, variance=0.0, skewness=0.0, kurtosis=-3.0)\n",
      "    Core targets vs sources Welch t test:  0.000 p= 1.000\n",
      "    Kolmogorov-Smirnov Effect Size: 0.043\n",
      "    Core targets vs Other targets Welch t test:  2.015 p= 0.048\n",
      "    Kolmogorov-Smirnov Effect Size: 0.157\n"
     ]
    },
    {
     "data": {
      "image/png": "[encoded data removed]",
      "text/plain": [
       "<Figure size 432x288 with 1 Axes>"
      ]
     },
     "metadata": {
      "needs_background": "light"
     },
     "output_type": "display_data"
    },
    {
     "name": "stdout",
     "output_type": "stream",
     "text": [
      "area:  SomMoCtx\n",
      "population: 0\n",
      "    population firing: 3.34±2.79 sp/frame\n",
      "    cells firing rate: 0.05±0.23 sp/s\n",
      "... generating surrogates to establish population event threshold\n",
      "... loaded surrogates\n",
      "    event size threshold (mean): 4.6765188650349785\n",
      "... find peaks\n",
      "... find minima\n",
      "... find population events\n",
      "... signatures of population events\n",
      "    number of events: 9030\n",
      "    number of events per sec: 1.766137223190262\n",
      "    events duration: 0.090±0.039\n",
      "    events size: 17.000±6.693\n",
      "... Similarity of events matrix\n",
      "... clustering\n",
      "    linkage\n",
      "    surrogate events signatures for clustering threshold\n",
      "... loaded surrogates\n",
      "    cluster reproducibility threshold: 0.20754796714864582\n",
      "    cluster size threshold: 2\n",
      "    Total number of clusters: 174\n",
      "    # clusters (after removing those below reproducibility threshold): 171\n",
      "    event color assignment\n",
      "    unique color assignments\n",
      "    clustered similarity map\n",
      "... finding cluster cores\n",
      "    removing cores firing unspecifically\n",
      "    gathering cores from all clusters\n",
      "    # cores: 59\n",
      "    # non-cores: 6\n",
      "    cores per cluster: 12.47±5.65 (min 0, max 27)\n",
      "    others per cluster: 52.53±5.65 (min 38, max 65)\n",
      "(65, 128009)\n",
      "... starting functional adjacency matrix\n",
      "    adjacency matrix: (65, 65)\n",
      "    preparing vertex labels for cores and others\n",
      "... Degree distributions\n",
      "... Local Clustering Coefficient\n"
     ]
    },
    {
     "name": "stderr",
     "output_type": "stream",
     "text": [
      "/tmp/ipykernel_9130/2282007953.py:178: RuntimeWarning: divide by zero encountered in power\n",
      "  return a * (x**-b)\n"
     ]
    },
    {
     "name": "stdout",
     "output_type": "stream",
     "text": [
      "    Flow cores: DescribeResult(nobs=268016, minmax=(0.0, 0.03389830508474576), mean=0.0018364701727900886, variance=3.4729739750744214e-05, skewness=3.3455595123562496, kurtosis=11.281156755525133)\n",
      "    Flow others: DescribeResult(nobs=2608, minmax=(0.0, 0.0), mean=0.0, variance=0.0, skewness=0.0, kurtosis=-3.0)\n",
      "    Welch t test:  161.329 p= 0.000\n",
      "    Kolmogorov-Smirnov Effect Size: 0.096\n"
     ]
    },
    {
     "data": {
      "image/png": "[encoded data removed]",
      "text/plain": [
       "<Figure size 432x288 with 1 Axes>"
      ]
     },
     "metadata": {
      "needs_background": "light"
     },
     "output_type": "display_data"
    },
    {
     "name": "stdout",
     "output_type": "stream",
     "text": [
      "\n",
      "    Cut edges sourcing from cores: DescribeResult(nobs=59, minmax=(0.0, 172.94915254237287), mean=4.171215168055157, variance=520.1150748884611, skewness=7.065563852117207, kurtosis=49.631799514251)\n",
      "    Cut edges targeting cores: DescribeResult(nobs=59, minmax=(0.0, 69.44067796610169), mean=4.171215168055157, variance=174.29889047851145, skewness=3.4932095252431083, kurtosis=11.856593340958833)\n",
      "    Cut edges sourcing from others: DescribeResult(nobs=6, minmax=(0.0, 0.0), mean=0.0, variance=0.0, skewness=0.0, kurtosis=-3.0)\n",
      "    Cut edges targeting others: DescribeResult(nobs=6, minmax=(0.0, 0.0), mean=0.0, variance=0.0, skewness=0.0, kurtosis=-3.0)\n",
      "    Core targets vs sources Welch t test:  0.000 p= 1.000\n",
      "    Kolmogorov-Smirnov Effect Size: 0.051\n",
      "    Core targets vs Other targets Welch t test:  2.427 p= 0.018\n",
      "    Kolmogorov-Smirnov Effect Size: 0.136\n"
     ]
    },
    {
     "data": {
      "image/png": "[encoded data removed]",
      "text/plain": [
       "<Figure size 432x288 with 1 Axes>"
      ]
     },
     "metadata": {
      "needs_background": "light"
     },
     "output_type": "display_data"
    },
    {
     "name": "stdout",
     "output_type": "stream",
     "text": [
      "population: 1\n",
      "    population firing: 1.64±1.58 sp/frame\n",
      "    cells firing rate: 0.06±0.28 sp/s\n",
      "... generating surrogates to establish population event threshold\n",
      "... loaded surrogates\n",
      "    event size threshold (mean): 2.2897011667771343\n",
      "... find peaks\n",
      "... find minima\n",
      "... find population events\n",
      "... signatures of population events\n",
      "    number of events: 8136\n",
      "    number of events per sec: 1.5923090065858887\n",
      "    events duration: 0.090±0.039\n",
      "    events size: 6.000±2.804\n",
      "... Similarity of events matrix\n",
      "... clustering\n",
      "    linkage\n",
      "    surrogate events signatures for clustering threshold\n",
      "... loaded surrogates\n",
      "    cluster reproducibility threshold: 0.350415189240472\n",
      "    cluster size threshold: 2\n",
      "    Total number of clusters: 57\n",
      "    # clusters (after removing those below reproducibility threshold): 57\n",
      "    event color assignment\n",
      "    unique color assignments\n",
      "    clustered similarity map\n",
      "... finding cluster cores\n",
      "    removing cores firing unspecifically\n",
      "    gathering cores from all clusters\n",
      "    # cores: 21\n",
      "    # non-cores: 5\n",
      "    cores per cluster: 5.09±2.09 (min 0, max 11)\n",
      "    others per cluster: 20.91±2.09 (min 15, max 26)\n",
      "(26, 128049)\n",
      "... starting functional adjacency matrix\n",
      "    adjacency matrix: (26, 26)\n",
      "    preparing vertex labels for cores and others\n",
      "... Degree distributions\n",
      "... Local Clustering Coefficient\n"
     ]
    },
    {
     "name": "stderr",
     "output_type": "stream",
     "text": [
      "/tmp/ipykernel_9130/2282007953.py:178: RuntimeWarning: divide by zero encountered in power\n",
      "  return a * (x**-b)\n"
     ]
    },
    {
     "name": "stdout",
     "output_type": "stream",
     "text": [
      "    Flow cores: DescribeResult(nobs=90864, minmax=(0.0, 0.19047619047619047), mean=0.02680824927259159, variance=0.0012384064177680379, skewness=1.585584382592375, kurtosis=3.2570320805806894)\n",
      "    Flow others: DescribeResult(nobs=2226, minmax=(0.0, 0.0), mean=0.0, variance=0.0, skewness=0.0, kurtosis=-3.0)\n",
      "    Welch t test:  229.632 p= 0.000\n",
      "    Kolmogorov-Smirnov Effect Size: 0.454\n"
     ]
    },
    {
     "data": {
      "image/png": "[encoded data removed]",
      "text/plain": [
       "<Figure size 432x288 with 1 Axes>"
      ]
     },
     "metadata": {
      "needs_background": "light"
     },
     "output_type": "display_data"
    },
    {
     "name": "stdout",
     "output_type": "stream",
     "text": [
      "\n",
      "    Cut edges sourcing from cores: DescribeResult(nobs=21, minmax=(0.0, 459.3809523809524), mean=57.997732426303855, variance=13885.301922038658, skewness=2.524615229575417, kurtosis=5.4037688556700125)\n",
      "    Cut edges targeting cores: DescribeResult(nobs=21, minmax=(0.0, 343.14285714285717), mean=57.99773242630387, variance=7991.347953784689, skewness=1.830343576648246, kurtosis=2.9295603018317378)\n",
      "    Cut edges sourcing from others: DescribeResult(nobs=5, minmax=(0.0, 0.0), mean=0.0, variance=0.0, skewness=0.0, kurtosis=-3.0)\n",
      "    Cut edges targeting others: DescribeResult(nobs=5, minmax=(0.0, 0.0), mean=0.0, variance=0.0, skewness=0.0, kurtosis=-3.0)\n",
      "    Core targets vs sources Welch t test:  0.000 p= 1.000\n",
      "    Kolmogorov-Smirnov Effect Size: 0.143\n",
      "    Core targets vs Other targets Welch t test:  2.973 p= 0.008\n",
      "    Kolmogorov-Smirnov Effect Size: 0.571\n"
     ]
    },
    {
     "data": {
      "image/png": "[encoded data removed]",
      "text/plain": [
       "<Figure size 432x288 with 1 Axes>"
      ]
     },
     "metadata": {
      "needs_background": "light"
     },
     "output_type": "display_data"
    },
    {
     "name": "stdout",
     "output_type": "stream",
     "text": [
      "area:  V1\n",
      "population: 0\n",
      "    population firing: 4.36±4.39 sp/frame\n",
      "    cells firing rate: 0.07±0.30 sp/s\n",
      "... generating surrogates to establish population event threshold\n",
      "... loaded surrogates\n",
      "    event size threshold (mean): 5.639604262147799\n",
      "... find peaks\n",
      "... find minima\n",
      "... find population events\n",
      "... signatures of population events\n",
      "    number of events: 8608\n",
      "    number of events per sec: 1.6862379048964173\n",
      "    events duration: 0.100±0.042\n",
      "    events size: 21.000±9.282\n",
      "... Similarity of events matrix\n",
      "... clustering\n",
      "    linkage\n",
      "    surrogate events signatures for clustering threshold\n",
      "... loaded surrogates\n",
      "    cluster reproducibility threshold: 0.1891990294759251\n",
      "    cluster size threshold: 2\n",
      "    Total number of clusters: 117\n",
      "    # clusters (after removing those below reproducibility threshold): 117\n",
      "    event color assignment\n",
      "    unique color assignments\n",
      "    clustered similarity map\n",
      "... finding cluster cores\n",
      "    removing cores firing unspecifically\n",
      "    gathering cores from all clusters\n",
      "    # cores: 55\n",
      "    # non-cores: 6\n",
      "    cores per cluster: 14.79±9.36 (min 0, max 35)\n",
      "    others per cluster: 46.21±9.36 (min 26, max 61)\n",
      "(61, 129119)\n",
      "... starting functional adjacency matrix\n",
      "    adjacency matrix: (61, 61)\n",
      "    preparing vertex labels for cores and others\n",
      "... Degree distributions\n",
      "... Local Clustering Coefficient\n"
     ]
    },
    {
     "name": "stderr",
     "output_type": "stream",
     "text": [
      "/tmp/ipykernel_9130/2282007953.py:178: RuntimeWarning: divide by zero encountered in power\n",
      "  return a * (x**-b)\n"
     ]
    },
    {
     "name": "stdout",
     "output_type": "stream",
     "text": [
      "    Flow cores: DescribeResult(nobs=333015, minmax=(0.0, 0.16363636363636364), mean=0.017391845576161597, variance=0.001548047337200557, skewness=2.4721513036370757, kurtosis=5.355315286075802)\n",
      "    Flow others: DescribeResult(nobs=3731, minmax=(0.0, 0.0), mean=0.0, variance=0.0, skewness=0.0, kurtosis=-3.0)\n",
      "    Welch t test:  255.085 p= 0.000\n",
      "    Kolmogorov-Smirnov Effect Size: 0.226\n"
     ]
    },
    {
     "data": {
      "image/png": "[encoded data removed]",
      "text/plain": [
       "<Figure size 432x288 with 1 Axes>"
      ]
     },
     "metadata": {
      "needs_background": "light"
     },
     "output_type": "display_data"
    },
    {
     "name": "stdout",
     "output_type": "stream",
     "text": [
      "\n",
      "    Cut edges sourcing from cores: DescribeResult(nobs=55, minmax=(0.0, 975.6), mean=52.65223140495868, variance=24010.355286863127, skewness=4.316692250950576, kurtosis=21.41003126872525)\n",
      "    Cut edges targeting cores: DescribeResult(nobs=55, minmax=(0.0, 773.6727272727272), mean=52.65223140495868, variance=18585.882804463356, skewness=3.5303241861013155, kurtosis=13.715495465977611)\n",
      "    Cut edges sourcing from others: DescribeResult(nobs=6, minmax=(0.0, 0.0), mean=0.0, variance=0.0, skewness=0.0, kurtosis=-3.0)\n",
      "    Cut edges targeting others: DescribeResult(nobs=6, minmax=(0.0, 0.0), mean=0.0, variance=0.0, skewness=0.0, kurtosis=-3.0)\n",
      "    Core targets vs sources Welch t test:  0.000 p= 1.000\n",
      "    Kolmogorov-Smirnov Effect Size: 0.073\n",
      "    Core targets vs Other targets Welch t test:  2.864 p= 0.006\n",
      "    Kolmogorov-Smirnov Effect Size: 0.291\n"
     ]
    },
    {
     "data": {
      "image/png": "[encoded data removed]",
      "text/plain": [
       "<Figure size 432x288 with 1 Axes>"
      ]
     },
     "metadata": {
      "needs_background": "light"
     },
     "output_type": "display_data"
    },
    {
     "name": "stdout",
     "output_type": "stream",
     "text": [
      "population: 1\n",
      "    population firing: 4.49±4.18 sp/frame\n",
      "    cells firing rate: 0.03±0.18 sp/s\n",
      "... generating surrogates to establish population event threshold\n",
      "... loaded surrogates\n",
      "    event size threshold (mean): 5.958191066649793\n",
      "... find peaks\n",
      "... find minima\n",
      "... find population events\n",
      "... signatures of population events\n",
      "    number of events: 8037\n",
      "    number of events per sec: 1.5737044693833515\n",
      "    events duration: 0.100±0.045\n",
      "    events size: 27.000±15.446\n",
      "... Similarity of events matrix\n",
      "... clustering\n",
      "    linkage\n",
      "    surrogate events signatures for clustering threshold\n",
      "... loaded surrogates\n",
      "    cluster reproducibility threshold: 0.0\n",
      "    cluster size threshold: 2\n",
      "    Total number of clusters: 318\n",
      "    # clusters (after removing those below reproducibility threshold): 318\n",
      "    event color assignment\n",
      "    unique color assignments\n",
      "    clustered similarity map\n",
      "... finding cluster cores\n",
      "    removing cores firing unspecifically\n",
      "    gathering cores from all clusters\n",
      "    # cores: 140\n",
      "    # non-cores: 1\n",
      "    cores per cluster: 31.91±21.04 (min 0, max 133)\n",
      "    others per cluster: 111.82±17.05 (min 26, max 141)\n",
      "(141, 129080)\n",
      "... starting functional adjacency matrix\n",
      "    adjacency matrix: (141, 141)\n",
      "    preparing vertex labels for cores and others\n",
      "... Degree distributions\n",
      "... Local Clustering Coefficient\n"
     ]
    },
    {
     "name": "stderr",
     "output_type": "stream",
     "text": [
      "/tmp/ipykernel_9130/2282007953.py:178: RuntimeWarning: divide by zero encountered in power\n",
      "  return a * (x**-b)\n"
     ]
    },
    {
     "name": "stdout",
     "output_type": "stream",
     "text": [
      "    Flow cores: DescribeResult(nobs=427960, minmax=(0.0, 0.05714285714285714), mean=0.002621974016263202, variance=9.876452807543884e-05, skewness=4.0404540671086915, kurtosis=15.574025926980799)\n",
      "    Flow others: DescribeResult(nobs=550, minmax=(0.0, 0.0), mean=0.0, variance=0.0, skewness=0.0, kurtosis=-3.0)\n",
      "    Welch t test:  172.596 p= 0.000\n",
      "    Kolmogorov-Smirnov Effect Size: 0.088\n"
     ]
    },
    {
     "data": {
      "image/png": "[encoded data removed]",
      "text/plain": [
       "<Figure size 432x288 with 1 Axes>"
      ]
     },
     "metadata": {
      "needs_background": "light"
     },
     "output_type": "display_data"
    },
    {
     "name": "stdout",
     "output_type": "stream",
     "text": [
      "\n",
      "    Cut edges sourcing from cores: DescribeResult(nobs=140, minmax=(0.0, 150.62857142857143), mean=4.007499999999999, variance=354.27331179342247, skewness=5.987238100281942, kurtosis=37.99988069060924)\n",
      "    Cut edges targeting cores: DescribeResult(nobs=140, minmax=(0.0, 134.6), mean=4.007499999999999, variance=296.23473228967845, skewness=5.54386795688666, kurtosis=33.84166890346316)\n",
      "    Cut edges sourcing from others: DescribeResult(nobs=1, minmax=(0.0, 0.0), mean=0.0, variance=nan, skewness=0.0, kurtosis=-3.0)\n",
      "    Cut edges targeting others: DescribeResult(nobs=1, minmax=(0.0, 0.0), mean=0.0, variance=nan, skewness=0.0, kurtosis=-3.0)\n",
      "    Core targets vs sources Welch t test:  0.000 p= 1.000\n",
      "    Kolmogorov-Smirnov Effect Size: 0.021\n",
      "    Core targets vs Other targets Welch t test:  nan p= nan\n",
      "    Kolmogorov-Smirnov Effect Size: 0.114\n"
     ]
    },
    {
     "name": "stderr",
     "output_type": "stream",
     "text": [
      "/opt/conda/lib/python3.10/site-packages/numpy/core/fromnumeric.py:3723: RuntimeWarning: Degrees of freedom <= 0 for slice\n",
      "  return _methods._var(a, axis=axis, dtype=dtype, out=out, ddof=ddof,\n"
     ]
    },
    {
     "data": {
      "image/png": "[encoded data removed]",
      "text/plain": [
       "<Figure size 432x288 with 1 Axes>"
      ]
     },
     "metadata": {
      "needs_background": "light"
     },
     "output_type": "display_data"
    },
    {
     "name": "stdout",
     "output_type": "stream",
     "text": [
      "population: 2\n",
      "    population firing: 3.42±3.43 sp/frame\n",
      "    cells firing rate: 0.05±0.23 sp/s\n",
      "... generating surrogates to establish population event threshold\n",
      "... loaded surrogates\n",
      "    event size threshold (mean): 4.457858931076882\n",
      "... find peaks\n",
      "... find minima\n",
      "... find population events\n",
      "... signatures of population events\n",
      "    number of events: 8706\n",
      "    number of events per sec: 1.7065107324353472\n",
      "    events duration: 0.100±0.042\n",
      "    events size: 21.000±9.162\n",
      "... Similarity of events matrix\n",
      "... clustering\n",
      "    linkage\n",
      "    surrogate events signatures for clustering threshold\n",
      "... loaded surrogates\n",
      "    cluster reproducibility threshold: 0.18345279553233068\n",
      "    cluster size threshold: 2\n",
      "    Total number of clusters: 167\n",
      "    # clusters (after removing those below reproducibility threshold): 165\n",
      "    event color assignment\n",
      "    unique color assignments\n",
      "    clustered similarity map\n",
      "... finding cluster cores\n",
      "    removing cores firing unspecifically\n",
      "    gathering cores from all clusters\n",
      "    # cores: 65\n",
      "    # non-cores: 3\n",
      "    cores per cluster: 17.07±9.85 (min 0, max 46)\n",
      "    others per cluster: 50.93±9.85 (min 22, max 68)\n",
      "(68, 128275)\n",
      "... starting functional adjacency matrix\n",
      "    adjacency matrix: (68, 68)\n",
      "    preparing vertex labels for cores and others\n",
      "... Degree distributions\n",
      "... Local Clustering Coefficient\n"
     ]
    },
    {
     "name": "stderr",
     "output_type": "stream",
     "text": [
      "/tmp/ipykernel_9130/2282007953.py:178: RuntimeWarning: divide by zero encountered in power\n",
      "  return a * (x**-b)\n"
     ]
    },
    {
     "name": "stdout",
     "output_type": "stream",
     "text": [
      "    Flow cores: DescribeResult(nobs=334681, minmax=(0.0, 0.16923076923076924), mean=0.019092807778152927, variance=0.0013635698632959807, skewness=2.0244050315298767, kurtosis=3.6164557536359627)\n",
      "    Flow others: DescribeResult(nobs=1205, minmax=(0.0, 0.0), mean=0.0, variance=0.0, skewness=0.0, kurtosis=-3.0)\n",
      "    Welch t test:  299.121 p= 0.000\n",
      "    Kolmogorov-Smirnov Effect Size: 0.259\n"
     ]
    },
    {
     "data": {
      "image/png": "[encoded data removed]",
      "text/plain": [
       "<Figure size 432x288 with 1 Axes>"
      ]
     },
     "metadata": {
      "needs_background": "light"
     },
     "output_type": "display_data"
    },
    {
     "name": "stdout",
     "output_type": "stream",
     "text": [
      "\n",
      "    Cut edges sourcing from cores: DescribeResult(nobs=65, minmax=(0.0, 483.04615384615386), mean=49.15384615384615, variance=10756.852699704143, skewness=2.21366665188415, kurtosis=4.524018094964825)\n",
      "    Cut edges targeting cores: DescribeResult(nobs=65, minmax=(0.0, 753.2153846153847), mean=49.15384615384615, variance=18202.204955621302, skewness=3.696076438461031, kurtosis=14.364774748361896)\n",
      "    Cut edges sourcing from others: DescribeResult(nobs=3, minmax=(0.0, 0.0), mean=0.0, variance=0.0, skewness=0.0, kurtosis=-3.0)\n",
      "    Cut edges targeting others: DescribeResult(nobs=3, minmax=(0.0, 0.0), mean=0.0, variance=0.0, skewness=0.0, kurtosis=-3.0)\n",
      "    Core targets vs sources Welch t test:  0.000 p= 1.000\n",
      "    Kolmogorov-Smirnov Effect Size: 0.077\n",
      "    Core targets vs Other targets Welch t test:  2.937 p= 0.005\n",
      "    Kolmogorov-Smirnov Effect Size: 0.262\n"
     ]
    },
    {
     "data": {
      "image/png": "[encoded data removed]",
      "text/plain": [
       "<Figure size 432x288 with 1 Axes>"
      ]
     },
     "metadata": {
      "needs_background": "light"
     },
     "output_type": "display_data"
    },
    {
     "name": "stdout",
     "output_type": "stream",
     "text": [
      "population: 3\n",
      "    population firing: 3.66±3.35 sp/frame\n",
      "    cells firing rate: 0.06±0.25 sp/s\n",
      "... generating surrogates to establish population event threshold\n",
      "... loaded surrogates\n",
      "    event size threshold (mean): 4.792838315565842\n",
      "... find peaks\n",
      "... find minima\n",
      "... find population events\n",
      "... signatures of population events\n",
      "    number of events: 8179\n",
      "    number of events per sec: 1.6040161001718742\n",
      "    events duration: 0.100±0.045\n",
      "    events size: 19.000±9.055\n",
      "... Similarity of events matrix\n",
      "... clustering\n",
      "    linkage\n",
      "    surrogate events signatures for clustering threshold\n",
      "... loaded surrogates\n",
      "    cluster reproducibility threshold: 0.19231125284303718\n",
      "    cluster size threshold: 2\n",
      "    Total number of clusters: 110\n",
      "    # clusters (after removing those below reproducibility threshold): 110\n",
      "    event color assignment\n",
      "    unique color assignments\n",
      "    clustered similarity map\n",
      "... finding cluster cores\n",
      "    removing cores firing unspecifically\n",
      "    gathering cores from all clusters\n",
      "    # cores: 60\n",
      "    # non-cores: 4\n",
      "    cores per cluster: 17.42±8.77 (min 0, max 37)\n",
      "    others per cluster: 46.58±8.77 (min 27, max 64)\n",
      "(64, 127616)\n",
      "... starting functional adjacency matrix\n",
      "    adjacency matrix: (64, 64)\n",
      "    preparing vertex labels for cores and others\n",
      "... Degree distributions\n",
      "... Local Clustering Coefficient\n"
     ]
    },
    {
     "name": "stderr",
     "output_type": "stream",
     "text": [
      "/tmp/ipykernel_9130/2282007953.py:178: RuntimeWarning: divide by zero encountered in power\n",
      "  return a * (x**-b)\n"
     ]
    },
    {
     "name": "stdout",
     "output_type": "stream",
     "text": [
      "    Flow cores: DescribeResult(nobs=293713, minmax=(0.0, 0.1), mean=0.005712833049042205, variance=0.00021606888645006535, skewness=2.911010324743757, kurtosis=8.13530277385999)\n",
      "    Flow others: DescribeResult(nobs=2761, minmax=(0.0, 0.0), mean=0.0, variance=0.0, skewness=0.0, kurtosis=-3.0)\n",
      "    Welch t test:  210.628 p= 0.000\n",
      "    Kolmogorov-Smirnov Effect Size: 0.174\n"
     ]
    },
    {
     "data": {
      "image/png": "[encoded data removed]",
      "text/plain": [
       "<Figure size 432x288 with 1 Axes>"
      ]
     },
     "metadata": {
      "needs_background": "light"
     },
     "output_type": "display_data"
    },
    {
     "name": "stdout",
     "output_type": "stream",
     "text": [
      "\n",
      "    Cut edges sourcing from cores: DescribeResult(nobs=60, minmax=(0.0, 259.15), mean=13.982777777777779, variance=2192.396694601381, skewness=4.186605774936151, kurtosis=17.220524293431986)\n",
      "    Cut edges targeting cores: DescribeResult(nobs=60, minmax=(0.0, 195.76666666666668), mean=13.982777777777779, variance=1340.9586437539235, skewness=3.089052619462292, kurtosis=9.947587665437329)\n",
      "    Cut edges sourcing from others: DescribeResult(nobs=4, minmax=(0.0, 0.0), mean=0.0, variance=0.0, skewness=0.0, kurtosis=-3.0)\n",
      "    Cut edges targeting others: DescribeResult(nobs=4, minmax=(0.0, 0.0), mean=0.0, variance=0.0, skewness=0.0, kurtosis=-3.0)\n",
      "    Core targets vs sources Welch t test:  0.000 p= 1.000\n",
      "    Kolmogorov-Smirnov Effect Size: 0.067\n",
      "    Core targets vs Other targets Welch t test:  2.958 p= 0.004\n",
      "    Kolmogorov-Smirnov Effect Size: 0.250\n"
     ]
    },
    {
     "data": {
      "image/png": "[encoded data removed]",
      "text/plain": [
       "<Figure size 432x288 with 1 Axes>"
      ]
     },
     "metadata": {
      "needs_background": "light"
     },
     "output_type": "display_data"
    },
    {
     "name": "stdout",
     "output_type": "stream",
     "text": [
      "\n",
      "\n",
      "mouse: Waksman\n",
      "area:  FrCtx\n",
      "population: 0\n",
      "    population firing: 1.43±1.43 sp/frame\n",
      "    cells firing rate: 0.05±0.24 sp/s\n",
      "... generating surrogates to establish population event threshold\n",
      "... loaded surrogates\n",
      "    event size threshold (mean): 2.3165745600728145\n",
      "... find peaks\n",
      "... find minima\n",
      "... find population events\n",
      "... signatures of population events\n",
      "    number of events: 13124\n",
      "    number of events per sec: 2.15172091766536\n",
      "    events duration: 0.090±0.037\n",
      "    events size: 7.000±2.446\n",
      "... Similarity of events matrix\n",
      "... clustering\n",
      "    linkage\n",
      "    surrogate events signatures for clustering threshold\n",
      "... entering creation of surrogate signatures\n",
      "    cluster reproducibility threshold: 0.3179983683883768\n",
      "    cluster size threshold: 2\n",
      "    Total number of clusters: 111\n",
      "    # clusters (after removing those below reproducibility threshold): 111\n",
      "    event color assignment\n",
      "    unique color assignments\n",
      "    clustered similarity map\n",
      "... finding cluster cores\n",
      "    removing cores firing unspecifically\n",
      "    gathering cores from all clusters\n",
      "    # cores: 28\n",
      "    # non-cores: 3\n",
      "    cores per cluster: 5.30±1.69 (min 0, max 10)\n",
      "    others per cluster: 25.70±1.69 (min 21, max 31)\n",
      "(31, 246631)\n",
      "... starting functional adjacency matrix\n",
      "    adjacency matrix: (31, 31)\n",
      "    preparing vertex labels for cores and others\n",
      "... Degree distributions\n"
     ]
    },
    {
     "name": "stderr",
     "output_type": "stream",
     "text": [
      "/tmp/ipykernel_9130/2282007953.py:168: UserWarning: Data has no positive values, and therefore cannot be log-scaled.\n",
      "  plt.xscale('log')\n"
     ]
    },
    {
     "name": "stdout",
     "output_type": "stream",
     "text": [
      "... Local Clustering Coefficient\n"
     ]
    },
    {
     "name": "stderr",
     "output_type": "stream",
     "text": [
      "/tmp/ipykernel_9130/2282007953.py:178: RuntimeWarning: divide by zero encountered in power\n",
      "  return a * (x**-b)\n"
     ]
    },
    {
     "name": "stdout",
     "output_type": "stream",
     "text": [
      "    Flow cores: DescribeResult(nobs=168197, minmax=(0.0, 0.03571428571428571), mean=0.004503647508576252, variance=0.00014056254869809575, skewness=2.252638148093832, kurtosis=3.074378626247606)\n",
      "    Flow others: DescribeResult(nobs=903, minmax=(0.0, 0.0), mean=0.0, variance=0.0, skewness=0.0, kurtosis=-3.0)\n",
      "    Welch t test:  155.790 p= 0.000\n",
      "    Kolmogorov-Smirnov Effect Size: 0.126\n"
     ]
    },
    {
     "data": {
      "image/png": "[encoded data removed]",
      "text/plain": [
       "<Figure size 432x288 with 1 Axes>"
      ]
     },
     "metadata": {
      "needs_background": "light"
     },
     "output_type": "display_data"
    },
    {
     "name": "stdout",
     "output_type": "stream",
     "text": [
      "\n",
      "    Cut edges sourcing from cores: DescribeResult(nobs=28, minmax=(0.0, 172.17857142857142), mean=13.526785714285714, variance=1913.590667517007, skewness=3.1278223948564237, kurtosis=8.13799489780495)\n",
      "    Cut edges targeting cores: DescribeResult(nobs=28, minmax=(0.0, 172.17857142857142), mean=13.526785714285714, variance=1913.590667517007, skewness=3.1278223948564237, kurtosis=8.13799489780495)\n",
      "    Cut edges sourcing from others: DescribeResult(nobs=3, minmax=(0.0, 0.0), mean=0.0, variance=0.0, skewness=0.0, kurtosis=-3.0)\n",
      "    Cut edges targeting others: DescribeResult(nobs=3, minmax=(0.0, 0.0), mean=0.0, variance=0.0, skewness=0.0, kurtosis=-3.0)\n",
      "    Core targets vs sources Welch t test:  0.000 p= 1.000\n",
      "    Kolmogorov-Smirnov Effect Size: 0.000\n",
      "    Core targets vs Other targets Welch t test:  1.636 p= 0.113\n",
      "    Kolmogorov-Smirnov Effect Size: 0.107\n"
     ]
    },
    {
     "data": {
      "image/png": "[encoded data removed]",
      "text/plain": [
       "<Figure size 432x288 with 1 Axes>"
      ]
     },
     "metadata": {
      "needs_background": "light"
     },
     "output_type": "display_data"
    },
    {
     "name": "stdout",
     "output_type": "stream",
     "text": [
      "area:  FrMoCtx\n",
      "population: 0\n",
      "    population firing: 10.73±4.95 sp/frame\n",
      "    cells firing rate: 0.02±0.16 sp/s\n",
      "... generating surrogates to establish population event threshold\n",
      "... loaded surrogates\n",
      "    event size threshold (mean): 16.286284244236832\n",
      "... find peaks\n",
      "... find minima\n",
      "... find population events\n",
      "... signatures of population events\n",
      "    number of events: 6242\n",
      "    number of events per sec: 1.0217723281071036\n",
      "    events duration: 0.090±0.045\n",
      "    events size: 68.500±29.556\n",
      "... Similarity of events matrix\n",
      "... clustering\n",
      "    linkage\n",
      "    surrogate events signatures for clustering threshold\n",
      "... entering creation of surrogate signatures\n",
      "    cluster reproducibility threshold: 0.0\n",
      "    cluster size threshold: 2\n",
      "    Total number of clusters: 1087\n",
      "    # clusters (after removing those below reproducibility threshold): 1064\n",
      "    event color assignment\n",
      "    unique color assignments\n",
      "    clustered similarity map\n",
      "... finding cluster cores\n",
      "    removing cores firing unspecifically\n",
      "    gathering cores from all clusters\n",
      "    # cores: 446\n",
      "    # non-cores: 0\n",
      "    cores per cluster: 412.63±133.97 (min 48, max 922)\n",
      "    others per cluster: 197.49±55.15 (min 52, max 403)\n",
      "(446, 247997)\n",
      "... starting functional adjacency matrix\n",
      "    adjacency matrix: (446, 446)\n",
      "    preparing vertex labels for cores and others\n",
      "... Degree distributions\n",
      "... Local Clustering Coefficient\n"
     ]
    },
    {
     "name": "stderr",
     "output_type": "stream",
     "text": [
      "/tmp/ipykernel_9130/2282007953.py:178: RuntimeWarning: divide by zero encountered in power\n",
      "  return a * (x**-b)\n"
     ]
    },
    {
     "name": "stdout",
     "output_type": "stream",
     "text": [
      "    Flow cores: DescribeResult(nobs=862952, minmax=(0.0, 0.004484304932735426), mean=2.4241536622211623e-05, variance=1.075013968891208e-07, skewness=13.490192423106073, kurtosis=180.25237752809213)\n"
     ]
    },
    {
     "ename": "ValueError",
     "evalue": "The input must not be empty.",
     "output_type": "error",
     "traceback": [
      "\u001b[0;31m---------------------------------------------------------------------------\u001b[0m",
      "\u001b[0;31mValueError\u001b[0m                                Traceback (most recent call last)",
      "Input \u001b[0;32mIn [18]\u001b[0m, in \u001b[0;36m<cell line: 4>\u001b[0;34m()\u001b[0m\n\u001b[1;32m    296\u001b[0m \u001b[38;5;66;03m# description\u001b[39;00m\n\u001b[1;32m    297\u001b[0m \u001b[38;5;28mprint\u001b[39m(\u001b[38;5;124m\"\u001b[39m\u001b[38;5;124m    Flow cores: \u001b[39m\u001b[38;5;124m\"\u001b[39m\u001b[38;5;241m+\u001b[39m\u001b[38;5;28mstr\u001b[39m(stats\u001b[38;5;241m.\u001b[39mdescribe(flowvalue_cores)) )\n\u001b[0;32m--> 298\u001b[0m \u001b[38;5;28mprint\u001b[39m(\u001b[38;5;124m\"\u001b[39m\u001b[38;5;124m    Flow others: \u001b[39m\u001b[38;5;124m\"\u001b[39m\u001b[38;5;241m+\u001b[39m\u001b[38;5;28mstr\u001b[39m(\u001b[43mstats\u001b[49m\u001b[38;5;241;43m.\u001b[39;49m\u001b[43mdescribe\u001b[49m\u001b[43m(\u001b[49m\u001b[43mflowvalue_others\u001b[49m\u001b[43m)\u001b[49m) )\n\u001b[1;32m    299\u001b[0m \u001b[38;5;66;03m# significativity\u001b[39;00m\n\u001b[1;32m    300\u001b[0m \u001b[38;5;28mprint\u001b[39m(\u001b[38;5;124m\"\u001b[39m\u001b[38;5;124m    Welch t test:  \u001b[39m\u001b[38;5;132;01m%.3f\u001b[39;00m\u001b[38;5;124m p= \u001b[39m\u001b[38;5;132;01m%.3f\u001b[39;00m\u001b[38;5;124m\"\u001b[39m \u001b[38;5;241m%\u001b[39m stats\u001b[38;5;241m.\u001b[39mttest_ind(flowvalue_cores, flowvalue_others, equal_var\u001b[38;5;241m=\u001b[39m\u001b[38;5;28;01mFalse\u001b[39;00m))\n",
      "File \u001b[0;32m/opt/conda/lib/python3.10/site-packages/scipy/stats/_stats_py.py:1259\u001b[0m, in \u001b[0;36mdescribe\u001b[0;34m(a, axis, ddof, bias, nan_policy)\u001b[0m\n\u001b[1;32m   1256\u001b[0m     \u001b[38;5;28;01mreturn\u001b[39;00m mstats_basic\u001b[38;5;241m.\u001b[39mdescribe(a, axis, ddof, bias)\n\u001b[1;32m   1258\u001b[0m \u001b[38;5;28;01mif\u001b[39;00m a\u001b[38;5;241m.\u001b[39msize \u001b[38;5;241m==\u001b[39m \u001b[38;5;241m0\u001b[39m:\n\u001b[0;32m-> 1259\u001b[0m     \u001b[38;5;28;01mraise\u001b[39;00m \u001b[38;5;167;01mValueError\u001b[39;00m(\u001b[38;5;124m\"\u001b[39m\u001b[38;5;124mThe input must not be empty.\u001b[39m\u001b[38;5;124m\"\u001b[39m)\n\u001b[1;32m   1260\u001b[0m n \u001b[38;5;241m=\u001b[39m a\u001b[38;5;241m.\u001b[39mshape[axis]\n\u001b[1;32m   1261\u001b[0m mm \u001b[38;5;241m=\u001b[39m (np\u001b[38;5;241m.\u001b[39mmin(a, axis\u001b[38;5;241m=\u001b[39maxis), np\u001b[38;5;241m.\u001b[39mmax(a, axis\u001b[38;5;241m=\u001b[39maxis))\n",
      "\u001b[0;31mValueError\u001b[0m: The input must not be empty."
     ]
    }
   ],
   "source": [
    "# start of spontaneous activity in each mouse (in seconds)\n",
    "etstart = [3811, 3633, 3323]\n",
    "\n",
    "for imouse,(mousename,areas) in enumerate(area_spiketrains.items()):\n",
    "    print(\"\\nmouse:\",mousename)\n",
    "    \n",
    "    # if mousename!=\"Waksman\":\n",
    "    #     continue\n",
    "    \n",
    "    exp_path = local_path + '%s/'%mousename\n",
    "    exp_tstart = etstart[imouse]\n",
    "\n",
    "    # reading behavior data to make statistics about event dependence on it\n",
    "    # we will use the field 'stimulus' to store the avg motSVD of the frames \n",
    "    # The behavioral file is the processed version of a mouse face movie (time x pixels x pixels). \n",
    "    faces = sio.loadmat('stringer/7739750/faces/%s_face_proc.mat'%mousename, squeeze_me=True)\n",
    "    video_timestamps = faces['times'] # same temporal resolution of ephy\n",
    "    motSVD = faces['motionSVD']\n",
    "    exp_istart = (np.abs(video_timestamps - exp_tstart)).argmin()    \n",
    "    motSVD_1c = motSVD[:,0] # only first component\n",
    "    motSVD_1c[motSVD_1c < -4000] = np.mean(motSVD_1c) # corrections\n",
    "    fig, ax = plt.subplots(figsize=(20,5))\n",
    "    ax.plot(video_timestamps[exp_istart:], motSVD_1c[exp_istart:], linewidth=0.5, color='k')\n",
    "    fig.savefig(exp_path+\"/motSVD_%s.png\"%mousename, transparent=True, dpi=900)\n",
    "    plt.close()\n",
    "    fig.clear()\n",
    "    fig.clf()\n",
    "\n",
    "    for area,probe_populations in areas.items():\n",
    "        if len(probe_populations)>0:\n",
    "            print(\"area: \",area)\n",
    "            \n",
    "            # if area!=\"RSP\":\n",
    "            #     continue\n",
    "                        \n",
    "            for ipop,spiketrains in enumerate(probe_populations): \n",
    "                print(\"population:\",ipop)\n",
    "\n",
    "                # rounding to ms\n",
    "                spiketrains = [np.round(sp, 3) for sp in spiketrains]\n",
    "                start_time = min([min(st) if len(st) else 0 for st in spiketrains])\n",
    "                stop_time = max([max(st) if len(st) else 0 for st in spiketrains])\n",
    "                time = np.arange(start_time,stop_time,frame_duration)\n",
    "\n",
    "                fig = plt.figure(figsize=[12.8,4.8])\n",
    "                for row,train in enumerate(spiketrains):\n",
    "                    plt.scatter( train, [row]*len(train), marker='o', edgecolors='none', s=1, c='k' )\n",
    "                plt.ylabel(\"cell IDs\")\n",
    "                plt.xlabel(\"time (s)\")\n",
    "                # plt.show()\n",
    "                fig.savefig(exp_path+'%s_%s_rasterplot.png'%(area,ipop), transparent=False, dpi=800)\n",
    "                plt.tight_layout()\n",
    "                plt.close()\n",
    "                \n",
    "                ophys_cell_ids = list(range(len(spiketrains)))\n",
    "                ophys_cell_indexes = ophys_cell_ids # here is an alias\n",
    "\n",
    "                scan_spiketrains = spiketrains\n",
    "                scan_id = '_%s_%s'%(area,ipop)\n",
    "                \n",
    "                # ---- start ---- comment out for all mice\n",
    "                core_reproducibility_perc = 60 # threshold for detecting cores\n",
    "                %run \"dynamical_analysis.ipynb\"\n",
    "                \n",
    "                # # Match smooth motion energy curve with the cluster it belongs to\n",
    "                # # Count the number of events belonging to a pattern before and after the change.\n",
    "                # ccolors,ccounts = np.unique(cluster_color_array, return_counts=True)\n",
    "                # cluster_events_counts = dict(zip(ccolors,ccounts))\n",
    "                # Npre_beh_cluster = {el:0. for el in np.unique(cluster_color_array)}\n",
    "                # Npost_beh_cluster = {el:0. for el in np.unique(cluster_color_array)}\n",
    "                # for sni in smoothed_beh_indices:\n",
    "                #     snitime = exp_tstart + sni * frame_duration\n",
    "                #     snitime_pre = snitime - 0.15 # s\n",
    "                #     snitime_post = snitime + 0.15 # s\n",
    "                #     for ievent,(event,ecolor) in enumerate(zip(events,cluster_color_array)):\n",
    "                #         event_start_time = exp_tstart + event['start'] * frame_duration\n",
    "                #         if snitime_pre < event_start_time and event_start_time < snitime:\n",
    "                #             Npre_beh_cluster[ecolor] += 1\n",
    "                #         if snitime < event_start_time and event_start_time < snitime_post:\n",
    "                #             Npost_beh_cluster[ecolor] += 1\n",
    "                # # detail\n",
    "                # fig = plt.figure()\n",
    "                # plt.scatter(range(len(Npre_beh_cluster.keys())), Npre_beh_cluster.values(), marker='<', c=list(Npre_beh_cluster.keys()), edgecolors=list(Npre_beh_cluster.keys()), s=1)\n",
    "                # plt.scatter(range(len(Npost_beh_cluster.keys())), Npost_beh_cluster.values(), marker='>', c=list(Npost_beh_cluster.keys()), edgecolors='none', s=1)\n",
    "                # plt.vlines(range(len(Npost_beh_cluster.keys())), Npost_beh_cluster.values(), Npre_beh_cluster.values(), colors=list(Npost_beh_cluster.keys()), linewidths=0.6)\n",
    "                # plt.ylabel('occurrence')\n",
    "                # plt.xlabel('Patterns')\n",
    "                # fig.savefig(exp_path+\"/results/Pattern_behavior_%s_%s%s.png\"%(mousename,area,ipop), transparent=True, dpi=600)\n",
    "                # plt.close()\n",
    "                # fig.clear()\n",
    "                # fig.clf()\n",
    "                # # summary\n",
    "                # Nsame = 0\n",
    "                # Npost = 0\n",
    "                # Npre = 0\n",
    "                # for pre,post in zip(Npre_beh_cluster.values(),Npost_beh_cluster.values()):\n",
    "                #     if pre==post: Nsame +=1\n",
    "                #     if pre>post: Npre +=1\n",
    "                #     if pre<post: Npost +=1\n",
    "                # fig = plt.figure()\n",
    "                # plt.bar([0,1,2], [Npre,Nsame,Npost], width=0.8, color='C0')\n",
    "                # plt.ylabel('occurrences')\n",
    "                # plt.xlabel('pattern timing relative to movement')\n",
    "                # plt.xticks(range(3),['before','same','after'])\n",
    "                # fig.savefig(exp_path+\"/results/Pattern_behavior_summary_%s_%s%s.png\"%(mousename,area,ipop), transparent=True, dpi=600)\n",
    "                # plt.close()\n",
    "                # fig.clear()\n",
    "                # fig.clf()\n",
    "                \n",
    "                # # dimensional reduction, trajectories, and manifold checking\n",
    "                # %run \"attractor_analysis.ipynb\"\n",
    "                \n",
    "                # ---- end ---- comment out for all mice\n",
    "                \n",
    "                # structural analysis\n",
    "                # make binary spiketrains\n",
    "                binary_spiketrains = np.zeros( (len(spiketrains),len(time)+2) )\n",
    "                print(binary_spiketrains.shape)\n",
    "                for row,train in enumerate(spiketrains):\n",
    "                    # iterate over spiketrains assigning 1 to the binary_spiketrains at the corresponding position\n",
    "                    tidxs = np.trunc(train/frame_duration).astype(int) - int(exp_tstart/frame_duration)\n",
    "                    tidxs[tidxs>len(time)] = len(time) \n",
    "                    binary_spiketrains[row][tidxs] = 1\n",
    "                # matrix\n",
    "                print(\"... starting functional adjacency matrix\")\n",
    "                functional_adjacency_matrix = []\n",
    "                for irow,bsti in enumerate(binary_spiketrains):\n",
    "                    row_xcorr = []\n",
    "                    for jrow,bstj in enumerate(binary_spiketrains):\n",
    "                        if irow==jrow:\n",
    "                            row_xcorr.append(0.0) # no self connections\n",
    "                            continue\n",
    "                        row_xcorr.append(crosscorrelation(bsti, bstj, maxlag=1, mode='corr')[2])\n",
    "                    functional_adjacency_matrix.append(row_xcorr)\n",
    "                functional_adjacency_matrix = np.array(functional_adjacency_matrix)\n",
    "                print(\"    adjacency matrix:\",functional_adjacency_matrix.shape)\n",
    "                np.save(exp_path+\"/results/functional_adjacency_matrix_%s%s.npy\"%(area,ipop), functional_adjacency_matrix)\n",
    "                # plot\n",
    "                fig = plt.figure()\n",
    "                plt.pcolormesh(functional_adjacency_matrix)\n",
    "                cbar = plt.colorbar()\n",
    "                fig.savefig(exp_path+'/results/adjacency_matrix_%s%s.png'%(area,ipop), transparent=True)\n",
    "                plt.close()\n",
    "                fig.clear()\n",
    "                fig.clf()\n",
    "                \n",
    "                # creating graph from functional_adjacency_matrix as in Sadovsky and MacLean 2013\n",
    "                functional_adjacency_matrix[ functional_adjacency_matrix <= functional_adjacency_matrix.max()*0.4 ] = 0.0\n",
    "                functional_adjacency_matrix[ functional_adjacency_matrix >= functional_adjacency_matrix.max()*0.4 ] = 1.0\n",
    "                \n",
    "                dgraph = ig.Graph.Weighted_Adjacency(functional_adjacency_matrix, mode='directed')\n",
    "                ig.plot(dgraph, exp_path+'/results/ring_%s%s.png'%(area,ipop), layout=dgraph.layout(\"circle\"), edge_curved=0.2, edge_color='#000', edge_width=0.5, edge_arrow_size=0.1, vertex_size=5, vertex_color='#000', margin=50)\n",
    "                print('    preparing vertex labels for cores and others')\n",
    "                dgraph.vs[\"ophys_cell_id\"] = ophys_cell_ids\n",
    "                is_id_core = np.array( [0] * len(ophys_cell_ids) )\n",
    "                is_id_core[core_indexes] = 1\n",
    "                dgraph.vs[\"is_core\"] = is_id_core.tolist()\n",
    "\n",
    "                degrees = np.array(dgraph.degree())\n",
    "                print(\"... Degree distributions\")\n",
    "                # https://igraph.org/python/api/latest/igraph._igraph.GraphBase.html#degree\n",
    "                degdist = dgraph.degree_distribution(bin_width=5)\n",
    "                degree_counts = [bi[2] for bi in degdist.bins()]\n",
    "                fig = plt.figure()\n",
    "                plt.plot(range(len(degree_counts)), degree_counts, linewidth=3.0)\n",
    "                plt.ylabel('Number of vertices')\n",
    "                plt.xlabel('Degree')\n",
    "                plt.xscale('log')\n",
    "                plt.yscale('log')\n",
    "                plt.savefig(exp_path+'/results/degree_distribution_%s%s.png'%(area,ipop), transparent=True, dpi=300)\n",
    "                plt.close()\n",
    "                # Clustering Coefficient of only excitatory cells\n",
    "                print('... Local Clustering Coefficient')\n",
    "                # undirected only\n",
    "                local_clustering_coefficients = np.array(dgraph.transitivity_local_undirected(vertices=None, mode=\"zero\"))\n",
    "                # fitting\n",
    "                def powerlaw(x, a, b):\n",
    "                    return a * (x**-b)\n",
    "                paramsfit = [2, 1.05] # 334 EM-only all proofread\n",
    "                # paramsfit = [1, 0.5] # 112 Ca/EM\n",
    "                pfit = powerlaw(degrees, *paramsfit)\n",
    "                # Coefficient of Determination\n",
    "                # In the best case, the modeled values exactly match the observed values, which results in ss_res=0 and r2=1.\n",
    "                # A baseline model, which always predicts np.mean(LCC), will have r2=0.\n",
    "                # Models that have worse predictions than this baseline will have a negative r2.\n",
    "                # residual sum of squares\n",
    "                ss_res = np.sum((local_clustering_coefficients - pfit) ** 2)\n",
    "                # total sum of squares\n",
    "                ss_tot = np.sum((local_clustering_coefficients - np.mean(local_clustering_coefficients)) ** 2)\n",
    "                # r-squared goodeness-of-fit\n",
    "                r2 = 1 - (ss_res / ss_tot)\n",
    "                # covariance matrix and eigenvalues/vectors\n",
    "                Cov = np.cov(degrees,local_clustering_coefficients)\n",
    "                # print(\"    Covariance matrix degrees,local_clustering_coefficients:\")\n",
    "                # print(Cov)\n",
    "                w, v = np.linalg.eig(Cov)\n",
    "                # plot\n",
    "                fig = plt.figure()\n",
    "                summer = mpcm.summer\n",
    "                # for deg,ccoef in zip(degrees,local_clustering_coefficients):\n",
    "                #     plt.scatter( deg, ccoef, marker='o', facecolor='#AAD400', s=10, edgecolors='none', alpha=0.25) # 22um\n",
    "                plt.scatter( degrees,local_clustering_coefficients, marker='o', facecolor='#111111', s=50, edgecolors='none', alpha=0.5) \n",
    "                plt.plot(degrees,pfit,c='k')\n",
    "                plt.yscale('log')\n",
    "                plt.xscale('log')\n",
    "                # plt.xlim([10,200])\n",
    "                # plt.ylim([0.01,1])\n",
    "                ax = plt.gca()\n",
    "                ax.spines['top'].set_visible(False)\n",
    "                ax.spines['right'].set_visible(False)\n",
    "                plt.ylabel('LCC')\n",
    "                plt.xlabel('degree')\n",
    "                # ax.set_xticklabels([])\n",
    "                # ax.set_yticklabels([])\n",
    "                plt.tick_params(axis='both', bottom='on', top='on', left='off', right='off')\n",
    "                plt.title(\"eigv: {:.2f}, {:.4f} - fit x^: {:.2f} - GoF R2={:.2f}\".format(w[0], w[1], paramsfit[1], r2))\n",
    "                plt.tight_layout()\n",
    "                fig.savefig(exp_path+\"/results/hierarchical_modularity_%s%s.svg\"%(area,ipop), transparent=True, dpi=900)\n",
    "                plt.close()\n",
    "                fig.clf()\n",
    "                \n",
    "                #--------------------------------------------------------------------\n",
    "                # each edge has a capacity and each edge receives a flow. \n",
    "                # The amount of flow on an edge cannot exceed the capacity of the edge.\n",
    "                # therefore, edges with high capacity will be more important for the flow.\n",
    "                # here we test the hypothesis that edges towards cores have higher capacity\n",
    "                # or that the sum of edges towards cores have a higher total capacity\n",
    "                cell_total_capacity = {cid:list() for cid in ophys_cell_ids}\n",
    "                edges_sourcing = {cid:0 for cid in ophys_cell_ids}\n",
    "                edges_targeting = {cid:0 for cid in ophys_cell_ids}\n",
    "\n",
    "                for cluster_k,events_cellids in scan_clustered_spectrums.items(): # we consider only the scan 0 because it's the largest (for now)\n",
    "                    cluster_k = cluster_k.split(',')[0]\n",
    "\n",
    "                    if cluster_k == 'gray':\n",
    "                        continue\n",
    "\n",
    "                    for vnt in events_cellids:\n",
    "                        for posi,vidj in enumerate(vnt[1:]):\n",
    "                            vidi = vnt[posi] # enumerate will go from 0\n",
    "                            # print(vidi, vidj)\n",
    "\n",
    "                            # check beginning and end are not the same\n",
    "                            if dgraph.vs.find(ophys_cell_id=vidi).index == dgraph.vs.find(ophys_cell_id=vidj).index:\n",
    "                                continue\n",
    "                            # # check there is a path between the two\n",
    "                            # if len(spinesgraph.get_all_shortest_paths(spinesgraph.vs.find(name=vidi).index, to=spinesgraph.vs.find(name=vidj).index, weights=None, mode='out'))>0:\n",
    "                            #     continue\n",
    "\n",
    "                            # Take the maximum flow between the previous and next vertices\n",
    "                            mfres = dgraph.maxflow(dgraph.vs.find(ophys_cell_id=vidi).index, dgraph.vs.find(ophys_cell_id=vidj).index)\n",
    "                            # print(mfres)\n",
    "                            # returns a tuple containing the following:\n",
    "                            # graph - the graph on which this flow is defined\n",
    "                            # value - the value (capacity) of the maximum flow between the given vertices\n",
    "                            # flow - the flow values on each edge. For directed graphs, this is simply a list where element i corresponds to the flow on edge i.\n",
    "                            # cut - edge IDs in the minimal cut corresponding to the flow.\n",
    "                            # partition - vertex IDs in the parts created after removing edges in the cut\n",
    "                            # es - an edge selector restricted to the edges in the cut.\n",
    "\n",
    "                            # we get a flow value for each edge contributing to the flow.\n",
    "                            # source\n",
    "                            mfres_value = mfres.value\n",
    "                            if vidi in np.array(ophys_cell_ids)[core_indexes]:\n",
    "                                mfres_value /= len(core_indexes)\n",
    "                            else:\n",
    "                                mfres_value /= len(other_indexes)\n",
    "                            cell_total_capacity[vidi].append(mfres_value)\n",
    "                            # target\n",
    "                            mfres_value = mfres.value\n",
    "                            if vidj in np.array(ophys_cell_ids)[core_indexes]:\n",
    "                                mfres_value /= len(core_indexes)\n",
    "                            else:\n",
    "                                mfres_value /= len(other_indexes)\n",
    "                            cell_total_capacity[vidj].append(mfres_value)\n",
    "\n",
    "                            # Iterate over the edges identified by the flow.\n",
    "                            # count the edges sourcing from cores, and those targeting cores. Which is more?\n",
    "                            for edge in mfres.es:\n",
    "                                sourceid = int(dgraph.vs[edge.source]['ophys_cell_id'])\n",
    "                                targetid = int(dgraph.vs[edge.target]['ophys_cell_id'])\n",
    "                                if sourceid in cell_total_capacity.keys():\n",
    "                                    edges_sourcing[sourceid] +=1 # just count\n",
    "                                if targetid in cell_total_capacity.keys():\n",
    "                                    edges_targeting[targetid] +=1 # just count\n",
    "\n",
    "                # Flow\n",
    "                # print(cell_total_capacity)\n",
    "                flowvalue_cores = []\n",
    "                for cid in np.array(ophys_cell_ids)[core_indexes]:\n",
    "                    flowvalue_cores.extend(cell_total_capacity[cid])\n",
    "                flowvalue_others = []\n",
    "                for cid in np.array(ophys_cell_ids)[other_indexes]:\n",
    "                    flowvalue_others.extend(cell_total_capacity[cid])\n",
    "\n",
    "                # description\n",
    "                print(\"    Flow cores: \"+str(stats.describe(flowvalue_cores)) )\n",
    "                print(\"    Flow others: \"+str(stats.describe(flowvalue_others)) )\n",
    "                # significativity\n",
    "                print(\"    Welch t test:  %.3f p= %.3f\" % stats.ttest_ind(flowvalue_cores, flowvalue_others, equal_var=False))\n",
    "                d,_ = stats.ks_2samp(flowvalue_cores, flowvalue_others) # non-parametric measure of effect size [0,1]\n",
    "                print('    Kolmogorov-Smirnov Effect Size: %.3f' % d)\n",
    "\n",
    "                fig, ax = plt.subplots()\n",
    "                xs = np.random.normal(1, 0.04, len(flowvalue_cores))\n",
    "                plt.scatter(xs, flowvalue_cores, alpha=0.3, c='forestgreen')\n",
    "                xs = np.random.normal(2, 0.04, len(flowvalue_others))\n",
    "                plt.scatter(xs, flowvalue_others, alpha=0.3, c='silver')\n",
    "                vp = ax.violinplot([flowvalue_cores,flowvalue_others], widths=0.15, showextrema=False, showmeans=True)\n",
    "                for pc in vp['bodies']:\n",
    "                    pc.set_edgecolor('black')\n",
    "                for pc,cb in zip(vp['bodies'],['#228B224d','#D3D3D34d']):\n",
    "                    pc.set_facecolor(cb)\n",
    "                vp['cmeans'].set_color('orange')\n",
    "                # vp['cmedians'].set_linewidth(2.)\n",
    "                ax.spines['top'].set_visible(False)\n",
    "                ax.spines['bottom'].set_visible(False)\n",
    "                ax.spines['left'].set_visible(False)\n",
    "                ax.spines['right'].set_visible(False)\n",
    "                plt.ylabel('Normalized flow value')\n",
    "                plt.xticks([1, 2], [\"core\\n(n={:d})\".format(len(flowvalue_cores)), \"other\\n(n={:d})\".format(len(flowvalue_others))])\n",
    "                fig.savefig(exp_path+\"/results/global_cores_others_flowvalue_%s%s.svg\"%(area,ipop), transparent=True)\n",
    "                plt.show()\n",
    "                # fig.clf()\n",
    "                # plt.close()\n",
    "\n",
    "                print()\n",
    "                # Cuts\n",
    "                # print(edges_sourcing)\n",
    "                # print(edges_targeting)\n",
    "                flowcuts_core_sources = []\n",
    "                flowcuts_core_targets = []\n",
    "                for cid in np.array(ophys_cell_ids)[core_indexes]:\n",
    "                    flowcuts_core_sources.append(edges_sourcing[cid]/len(core_indexes))\n",
    "                    flowcuts_core_targets.append(edges_targeting[cid]/len(core_indexes))\n",
    "                flowcuts_other_sources = []\n",
    "                flowcuts_other_targets = []\n",
    "                for cid in np.array(ophys_cell_ids)[other_indexes]:\n",
    "                    flowcuts_other_sources.append(edges_sourcing[cid]/len(other_indexes))\n",
    "                    flowcuts_other_targets.append(edges_targeting[cid]/len(other_indexes))\n",
    "\n",
    "                # description\n",
    "                print(\"    Cut edges sourcing from cores: \"+str(stats.describe(flowcuts_core_sources)) )\n",
    "                print(\"    Cut edges targeting cores: \"+str(stats.describe(flowcuts_core_targets)) )\n",
    "                print(\"    Cut edges sourcing from others: \"+str(stats.describe(flowcuts_other_sources)) )\n",
    "                print(\"    Cut edges targeting others: \"+str(stats.describe(flowcuts_other_targets)) )\n",
    "                # significativity\n",
    "                print(\"    Core targets vs sources Welch t test:  %.3f p= %.3f\" % stats.ttest_ind(flowcuts_core_targets, flowcuts_core_sources, equal_var=False))\n",
    "                d,_ = stats.ks_2samp(flowcuts_core_targets, flowcuts_core_sources) # non-parametric measure of effect size [0,1]\n",
    "                print('    Kolmogorov-Smirnov Effect Size: %.3f' % d)\n",
    "\n",
    "                print(\"    Core targets vs Other targets Welch t test:  %.3f p= %.3f\" % stats.ttest_ind(flowcuts_core_targets, flowcuts_other_targets, equal_var=False))\n",
    "                d,_ = stats.ks_2samp(flowcuts_core_targets, flowcuts_other_targets) # non-parametric measure of effect size [0,1]\n",
    "                print('    Kolmogorov-Smirnov Effect Size: %.3f' % d)\n",
    "\n",
    "                fig, ax = plt.subplots()\n",
    "                xs = np.random.normal(1, 0.04, len(flowcuts_core_sources))\n",
    "                plt.scatter(xs, flowcuts_core_sources, alpha=0.3, c='forestgreen')\n",
    "                xs = np.random.normal(2, 0.04, len(flowcuts_core_targets))\n",
    "                plt.scatter(xs, flowcuts_core_targets, alpha=0.3, c='forestgreen')\n",
    "                xs = np.random.normal(3, 0.04, len(flowcuts_other_sources))\n",
    "                plt.scatter(xs, flowcuts_other_sources, alpha=0.3, c='silver')\n",
    "                xs = np.random.normal(4, 0.04, len(flowcuts_other_targets))\n",
    "                plt.scatter(xs, flowcuts_other_targets, alpha=0.3, c='silver')\n",
    "                vp = ax.violinplot([flowcuts_core_sources,flowcuts_core_targets,flowcuts_other_sources,flowcuts_other_targets], widths=0.15, showextrema=False, showmeans=True)\n",
    "                for pc in vp['bodies']:\n",
    "                    pc.set_edgecolor('black')\n",
    "                for pc in vp['bodies'][0:2]:\n",
    "                    pc.set_facecolor('#228B224d')\n",
    "                for pc in vp['bodies'][2:]:\n",
    "                    pc.set_facecolor('#D3D3D34d')\n",
    "                vp['cmeans'].set_color('orange')\n",
    "                # vp['cmedians'].set_linewidth(2.)\n",
    "                ax.spines['top'].set_visible(False)\n",
    "                ax.spines['bottom'].set_visible(False)\n",
    "                ax.spines['left'].set_visible(False)\n",
    "                ax.spines['right'].set_visible(False)\n",
    "                plt.ylabel('Normalized edges in the cut')\n",
    "                plt.xticks([1, 2, 3, 4], [\"core as\\nsource\", \"core as\\ntarget\", \"other as\\nsource\", \"other as\\ntarget\"])\n",
    "                fig.savefig(exp_path+\"/results/global_cores_others_cutvalue_%s%s.svg\"%(area,ipop), transparent=True)\n",
    "                plt.show()\n",
    "                # fig.clf()\n",
    "                # plt.close()\n",
    "                #--------------------------------------------------------------------\n",
    "                \n",
    "    gc.collect()\n",
    "    print()\n",
    "    \n",
    "    # 0/0 # using only 'Krebs' mouse to save execution time.\n",
    "    "
   ]
  },
  {
   "cell_type": "code",
   "execution_count": null,
   "id": "b3df7b3e-1e8f-433b-8d6a-74ab074db700",
   "metadata": {},
   "outputs": [],
   "source": []
  }
 ],
 "metadata": {
  "kernelspec": {
   "display_name": "Python 3 (ipykernel)",
   "language": "python",
   "name": "python3"
  },
  "language_info": {
   "codemirror_mode": {
    "name": "ipython",
    "version": 3
   },
   "file_extension": ".py",
   "mimetype": "text/x-python",
   "name": "python",
   "nbconvert_exporter": "python",
   "pygments_lexer": "ipython3",
   "version": "3.10.4"
  }
 },
 "nbformat": 4,
 "nbformat_minor": 5
}
