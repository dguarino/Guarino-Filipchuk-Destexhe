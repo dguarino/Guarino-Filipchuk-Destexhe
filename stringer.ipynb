{
 "cells": [
  {
   "cell_type": "markdown",
   "id": "780c8e36-1686-4929-8d53-a52dbcadcc62",
   "metadata": {
    "tags": []
   },
   "source": [
    "## Event reproducibility, manifold analysis, and functional connectivity of several cortical areas\n",
    "\n",
    "We will collect neurons from several cortical areas to perform population *dynamical* and *attractor* analysis, and get the *functional connectivity*.     \n",
    "This will address three relevant points:\n",
    "- Does the dynamic analysis hold at **higher temporal resolution**?\n",
    "    - How do events statistics (duration and size) compare to 2-photon?\n",
    "- Are population events only a **side-effect of behavior** (locomotion, whisker pad, pupil)?\n",
    "    - Do behavioral components explain pattern reproducibility?\n",
    "- Do **all areas of cortex** show attractor dynamics?\n",
    "    - How do pattern trajectories compare to MICrONS?\n",
    "\n",
    "To do all this, we analyse the [data](https://janelia.figshare.com/articles/dataset/Eight-probe_Neuropixels_recordings_during_spontaneous_behaviors/7739750/4) by [Stringer et al. 2019](science.org/doi/10.1126/science.aav7893).   \n",
    "Eight-probe Neuropixels recordings in three mice during spontaneous activity.   \n",
    "\n",
    "This notebook calls `dynamical_analysis.ipynb` and `attractor_analysis.ipynb`."
   ]
  },
  {
   "cell_type": "code",
   "execution_count": 8,
   "id": "99df4ec6-2371-4d70-bfe2-c3e54d074390",
   "metadata": {},
   "outputs": [
    {
     "name": "stdout",
     "output_type": "stream",
     "text": [
      "3.10.4\n"
     ]
    }
   ],
   "source": [
    "from platform import python_version\n",
    "print(python_version())\n",
    "\n",
    "%run -i 'imports_functions.py' \n",
    "\n",
    "%matplotlib inline"
   ]
  },
  {
   "cell_type": "markdown",
   "id": "2a43d468-6d74-49c0-98ea-a4ee385dc16b",
   "metadata": {},
   "source": [
    "**WARNING**: the next cell takes time to download and unzip the neuropixel data."
   ]
  },
  {
   "cell_type": "code",
   "execution_count": 9,
   "id": "7a72f962-c629-4438-9264-9e1204cfe184",
   "metadata": {},
   "outputs": [
    {
     "name": "stdout",
     "output_type": "stream",
     "text": [
      "All data available.\n"
     ]
    }
   ],
   "source": [
    "if not os.path.exists(\"stringer/7739750.zip\"):\n",
    "    print(\"Downloading neuropixel data ...\")\n",
    "    if not os.path.exists(\"stringer\"):\n",
    "        os.makedirs(\"stringer\")\n",
    "    resp = wget.download(\"https://janelia.figshare.com/ndownloader/articles/7739750/versions/4\", \"stringer/7739750.zip\")\n",
    "    print(\"... Done: \"+resp)\n",
    "\n",
    "if not os.path.exists(\"stringer/7739750\"):\n",
    "    # unzip downloaded folder\n",
    "    if os.path.exists(\"stringer/7739750.zip\"):\n",
    "        print(\"... unzipping\")\n",
    "        shutil.unpack_archive(\"stringer/7739750.zip\", \"stringer/7739750\")\n",
    "        shutil.unpack_archive(\"stringer/7739750/spks.zip\", \"stringer/7739750/\")\n",
    "        shutil.unpack_archive(\"stringer/7739750/faces.zip\", \"stringer/7739750/\")\n",
    "    print(\"Done.\")\n",
    "else:\n",
    "    print(\"All data available.\")"
   ]
  },
  {
   "cell_type": "markdown",
   "id": "3c45d437-412e-4f0c-91cb-003c7ae09467",
   "metadata": {},
   "source": [
    "### Data preprocessing\n",
    "\n",
    "This analysis is based on the file `ephysLoad.m`.\n",
    "\n",
    "Each \"spks\" is a structure of length 8, where each entry is a different probe (these probes were recorded simultaneously). It contains the spike times (in seconds, e.g. 4048.44929626 sec (?kHz sampling)), the cluster identity of each spike (its cell), and the height of each cluster on the probe.\n",
    "\n",
    "The location of each site on the probe in microns in the Allen CCF framework is given in \"ccfCoords\". The brain area for each site is in \"borders\" as a function of the height of the site. \n",
    "\n",
    "We need the spikes from each area and probe to be separate lists. So, we build a dictionary to hold them, and save it locally as `area_spiketrains.npy`.      \n",
    "To run on mybinder, a limit of 2GB has to be respected. The full dictionary in memeory exceeds it. So we use only the mouse `Krebs`. This dictionary is named `area_spiketrains_Krebs.npy`. In case of a more powerful system, you can switch the names here below."
   ]
  },
  {
   "cell_type": "code",
   "execution_count": 10,
   "id": "11030168-b84e-46a8-bda7-4a2fbab74a15",
   "metadata": {},
   "outputs": [
    {
     "name": "stdout",
     "output_type": "stream",
     "text": [
      "... collecting populations\n",
      "Krebs\n",
      "probe 0\n",
      "clusters (cells) of the spikes 127\n",
      "upper border 4000 um, lower border 1100 um, area FrMoCtx\n",
      "5 neurons in FrMoCtx\n",
      "population too small. Rejected.\n",
      "\n",
      "probe 1\n",
      "clusters (cells) of the spikes 249\n",
      "upper border 4000 um, lower border 1800 um, area FrMoCtx\n",
      "73 neurons in FrMoCtx\n",
      "\n",
      "probe 2\n",
      "clusters (cells) of the spikes 149\n",
      "upper border 4000 um, lower border 2600 um, area V1\n",
      "61 neurons in V1\n",
      "\n",
      "probe 3\n",
      "clusters (cells) of the spikes 304\n",
      "upper border 4000 um, lower border 2400 um, area V1\n",
      "141 neurons in V1\n",
      "\n",
      "probe 4\n",
      "clusters (cells) of the spikes 126\n",
      "upper border 4000 um, lower border 1800 um, area SomMoCtx\n",
      "65 neurons in SomMoCtx\n",
      "\n",
      "probe 5\n",
      "clusters (cells) of the spikes 137\n",
      "upper border 4000 um, lower border 2100 um, area SomMoCtx\n",
      "26 neurons in SomMoCtx\n",
      "\n",
      "probe 6\n",
      "clusters (cells) of the spikes 205\n",
      "upper border 4000 um, lower border 2350 um, area V1\n",
      "68 neurons in V1\n",
      "\n",
      "probe 7\n",
      "clusters (cells) of the spikes 165\n",
      "upper border 4000 um, lower border 2600 um, area V1\n",
      "64 neurons in V1\n",
      "\n"
     ]
    }
   ],
   "source": [
    "if os.path.exists(\"stringer/area_spiketrains_Krebs.npy\"):\n",
    "    area_spiketrains = np.load(\"stringer/area_spiketrains_Krebs.npy\", allow_pickle=True).item()\n",
    "    print(\"... loaded populations\")\n",
    "else:\n",
    "    print(\"... collecting populations\")\n",
    "    \n",
    "    probeLoc = sio.loadmat('stringer/7739750/probeLocations.mat')\n",
    "    probeBorders = sio.loadmat('stringer/7739750/probeBorders.mat', squeeze_me=True)\n",
    "\n",
    "    mouse_names = ['Krebs']\n",
    "    # mouse_names = ['Krebs','Waksman','Robbins']\n",
    "    cortical_areas = ['FrCtx','FrMoCtx','SomMoCtx','SSCtx','V1','V2','RSP']\n",
    "\n",
    "    # first count the cells you want to take with this structure\n",
    "    # then think on how you want to store the spikes... compatible with the dynamical_analysis\n",
    "    area_spiketrains = {\n",
    "        'Krebs' : {'FrCtx':[], 'FrMoCtx':[], 'SomMoCtx':[], 'SSCtx':[], 'V1':[], 'V2':[], 'RSP':[]},\n",
    "        'Waksman' : {'FrCtx':[], 'FrMoCtx':[], 'SomMoCtx':[], 'SSCtx':[], 'V1':[], 'V2':[], 'RSP':[]},\n",
    "        'Robbins' : {'FrCtx':[], 'FrMoCtx':[], 'SomMoCtx':[], 'SSCtx':[], 'V1':[], 'V2':[], 'RSP':[]}\n",
    "    }\n",
    "\n",
    "    for imouse in range(len(mouse_names)):\n",
    "        print(mouse_names[imouse])\n",
    "\n",
    "        spks = sio.loadmat('stringer/7739750/spks/spks%s_Feb18.mat'%mouse_names[imouse], squeeze_me=True)\n",
    "\n",
    "        # probe k\n",
    "        # k = 7\n",
    "        for k in range(8):\n",
    "            print(\"probe\",k)\n",
    "\n",
    "            # spike times (in seconds)\n",
    "            st = spks['spks'][k][0]\n",
    "            # clusters\n",
    "            clu = spks['spks'][k][1]\n",
    "            print(\"clusters (cells) of the spikes\",len(np.unique(clu)))\n",
    "            # cluster heights (in microns)\n",
    "            # (see siteCoords to convert to site location)\n",
    "            Wh = spks['spks'][k][2]\n",
    "\n",
    "            # where is the probe in the brain (consolidated labels)\n",
    "            # borders are in microns\n",
    "            # use Wh to determine which clusters are in which brain region\n",
    "            borders = probeBorders['probeBorders'][imouse]['borders'][k]\n",
    "            for j in range(len(borders)):\n",
    "                population = [] # one population per border, there can be several borders\n",
    "                b = borders[j]\n",
    "                if b[2] not in cortical_areas:\n",
    "                    continue\n",
    "                print('upper border %d um, lower border %d um, area %s'%(b[0],b[1],b[2]))\n",
    "                wneurons = np.logical_and(Wh>=b[1], Wh<b[0])\n",
    "                nn = wneurons.sum()\n",
    "                print('%d neurons in %s'%(nn,b[-1]))\n",
    "                # we should not include population smaller than those in MICrONS\n",
    "                if nn<10:\n",
    "                    print('population too small. Rejected.')\n",
    "                    continue\n",
    "\n",
    "                cortical_neurons = np.nonzero(wneurons)[0]\n",
    "                for cn in cortical_neurons:\n",
    "                    cn_idxs = [i for i in range(len(clu)) if clu[i]==cn]\n",
    "                    # print(cn_idxs)\n",
    "                    population.append( sorted(st[cn_idxs]) )\n",
    "                    \n",
    "                area_spiketrains[ mouse_names[imouse] ][ b[2] ].append( population )\n",
    "            print()\n",
    "\n",
    "    # save to file\n",
    "    np.save(\"stringer/area_spiketrains_Krebs.npy\", area_spiketrains)\n"
   ]
  },
  {
   "cell_type": "markdown",
   "id": "001efe03-3e0a-4255-aa62-23639d33a6eb",
   "metadata": {},
   "source": [
    "The following spiketrains will be loaded.\n",
    "\n",
    "| mouse | probe | borders (um) | area | #neurons |\n",
    "|:----|:----|:----|:---|:---|\n",
    "| **Krebs** | 0 | 4000, 1100 | FrMoCtx | 5 |\n",
    "|           | 1 | 4000, 1800 | FrMoCtx | 73 |\n",
    "|           | 2 | 4000, 2600 | V1 | 61 |\n",
    "|           | 3 | 4000, 2400 | V1 | 141 |\n",
    "|           | 4 | 4000, 1800 | SomMoCtx | 65 |\n",
    "|           | 5 | 4000, 2100 | SomMoCtx | 26 |\n",
    "|           | 6 | 4000, 2350 | V1 | 68 |\n",
    "|           | 7 | 4000, 2600 | V1 | 64 |\n",
    "| **Waksman** | 0 | 4000, 1700 | FrMoCtx | 446 |\n",
    "|             | 0 | 1200, 0 | FrMoCtx | 201 |\n",
    "|             | 1 | 4000, 2150 | FrCtx | 31 |\n",
    "|             | 2 | 4000, 2700 | V1 | 155 |\n",
    "|             | 3 | 4000, 2250 | RSP | 112 |\n",
    "|             | 4 | 4000, 2000 | SomMoCtx | 220 |\n",
    "|             | 5 | 4000, 2600 | SSCtx | 50 |\n",
    "|             | 6 | 4000, 2650 | V2 | 124 |\n",
    "|             | 7 | 4000, 2850 | V1 | 96 |\n",
    "| **Robbins** | 0 | 4000, 3400 | FrMoCtx | 16 |\n",
    "|             | 1 | 4000, 3100 | FrMoCtx | 70 |\n",
    "|             | 3 | 4000, 3550 | RSP | 10 |\n",
    "|             | 4 | 4000, 3500 | SomMoCtx | 10 |\n"
   ]
  },
  {
   "cell_type": "code",
   "execution_count": 5,
   "id": "4f0754be-e291-4a07-9bda-2660756cdd6e",
   "metadata": {},
   "outputs": [],
   "source": [
    "real_frame_duration = 0.00000001 # sec (e.g. 4048.44929626 s)\n",
    "# frame_duration = 0.001 # ms (e.g. 4048.449 s)\n",
    "frame_duration = 0.01 # 10ms (e.g. 4048.45 s)\n",
    "local_path = os.getcwd() + '/stringer/7739750/'"
   ]
  },
  {
   "cell_type": "markdown",
   "id": "6c62d98d-d74e-4a71-95fd-15d5313a04c8",
   "metadata": {},
   "source": [
    "#### Note\n",
    "The cell below is particularly long to execute if the dynamical and attractor analyses are used. We therefore used only the first mouse 'Krebs' to perform those analyses.     \n",
    "However, functional correlations and hirarchical modularity are light enough to be performed on all mice (with a good bit of patience). By commenting the sections on "
   ]
  },
  {
   "cell_type": "code",
   "execution_count": 6,
   "id": "278c2d9c-d9c9-4139-a39a-cb6d4e19a134",
   "metadata": {},
   "outputs": [
    {
     "name": "stdout",
     "output_type": "stream",
     "text": [
      "\n",
      "\n",
      "-------------------------\n",
      "mouse: Krebs\n",
      "area:  FrMoCtx\n",
      "population: 0\n",
      "    time: 129215\n",
      "    cells: 73\n",
      "... Dynamical Analysis\n",
      "    population firing: 2.84±2.85 sp/frame\n",
      "    cells firing rate: 0.04±0.20 sp/s\n",
      "... generating surrogates to establish population event threshold\n",
      "... loaded surrogates\n",
      "    event size threshold (mean): 3.442972371621408\n",
      "    find peaks\n",
      "    find minima\n",
      "    find population events\n",
      "    signatures of population events\n",
      "    number of events: 9656\n",
      "    number of events per sec: 1.8921609355771718\n",
      "    events duration: 0.100±0.040\n",
      "    events size: 19.000±6.684\n",
      "    Similarity of events matrix\n",
      "    clustering - linkage\n",
      "    surrogate events signatures for clustering threshold\n",
      "   ... loaded surrogates\n",
      "    cluster reproducibility threshold: 0.19066564490349733\n",
      "    cluster size threshold: 2\n",
      "    Total number of clusters: 246\n",
      "    # clusters (after removing those below reproducibility threshold): 246\n",
      "    event color assignment\n",
      "    unique color assignments\n",
      "    clustered similarity map\n",
      "    finding cluster cores\n",
      "    removing cores firing unspecifically\n"
     ]
    },
    {
     "name": "stderr",
     "output_type": "stream",
     "text": [
      "/opt/conda/lib/python3.10/site-packages/numpy/core/fromnumeric.py:3440: RuntimeWarning: Mean of empty slice.\n",
      "  return _methods._mean(a, axis=axis, dtype=dtype,\n",
      "/opt/conda/lib/python3.10/site-packages/numpy/core/_methods.py:189: RuntimeWarning: invalid value encountered in double_scalars\n",
      "  ret = ret.dtype.type(ret / rcount)\n",
      "/opt/conda/lib/python3.10/site-packages/numpy/lib/npyio.py:528: VisibleDeprecationWarning: Creating an ndarray from ragged nested sequences (which is a list-or-tuple of lists-or-tuples-or ndarrays with different lengths or shapes) is deprecated. If you meant to do this, you must specify 'dtype=object' when creating the ndarray.\n",
      "  arr = np.asanyarray(arr)\n"
     ]
    },
    {
     "name": "stdout",
     "output_type": "stream",
     "text": [
      "    gathering cores from all clusters\n",
      "    # cores: 56\n",
      "    # non-cores: 17\n",
      "    cores per cluster: 3.87±4.16 (min 0, max 18)\n",
      "    others per cluster: 69.13±4.16 (min 55, max 73)\n",
      "... Functional correlation analysis (functional structure)\n",
      "    binary spiketrains\n",
      "    shape: (73, 129217)\n",
      "    starting functional adjacency matrix\n",
      "    full adjacency matrix: (73, 73)\n",
      "    preparing vertex labels for cores and others\n",
      "    Degree distributions\n",
      "    Local Clustering Coefficient (cores too)\n",
      "... Flow Analysis\n",
      "    Cut edges sourcing from cores: DescribeResult(nobs=56, minmax=(0.0, 160.83928571428572), mean=6.46077806122449, variance=673.1323564429833, skewness=4.554532846676578, kurtosis=21.880099967895735)\n",
      "    Cut edges targeting cores: DescribeResult(nobs=56, minmax=(0.0, 222.0), mean=6.46077806122449, variance=1208.9364728622782, skewness=5.398861881042221, kurtosis=28.34319322405974)\n",
      "    Cut edges sourcing from others: DescribeResult(nobs=17, minmax=(0.0, 0.0), mean=0.0, variance=0.0, skewness=0.0, kurtosis=-3.0)\n",
      "    Cut edges targeting others: DescribeResult(nobs=17, minmax=(0.0, 0.0), mean=0.0, variance=0.0, skewness=0.0, kurtosis=-3.0)\n",
      "    Core targets vs sources Welch t test:  0.000 p= 1.000\n",
      "    Kolmogorov-Smirnov Effect Size: 0.036\n",
      "    Core targets vs Other targets Welch t test:  1.391 p= 0.170\n",
      "    Kolmogorov-Smirnov Effect Size: 0.036\n"
     ]
    },
    {
     "data": {
      "image/png": "[encoded data removed]",
      "text/plain": [
       "<Figure size 432x288 with 1 Axes>"
      ]
     },
     "metadata": {
      "needs_background": "light"
     },
     "output_type": "display_data"
    },
    {
     "name": "stdout",
     "output_type": "stream",
     "text": [
      "... PageRank centrality\n",
      "    cores: DescribeResult(nobs=56, minmax=(0.012711864406779662, 0.10577755783743659), mean=0.017857142857142856, variance=0.00039465167992094863, skewness=3.780087138903081, kurtosis=12.685241963545044)\n",
      "    others: DescribeResult(nobs=17, minmax=(0.0, 0.0), mean=0.0, variance=0.0, skewness=0.0, kurtosis=-3.0)\n",
      "    Kruskal-Wallis test:  61.651 p= 0.000\n",
      "    Kolmogorov-Smirnov Effect Size: 1.000\n"
     ]
    },
    {
     "data": {
      "image/png": "[encoded data removed]",
      "text/plain": [
       "<Figure size 432x288 with 1 Axes>"
      ]
     },
     "metadata": {
      "needs_background": "light"
     },
     "output_type": "display_data"
    },
    {
     "name": "stdout",
     "output_type": "stream",
     "text": [
      "... Manifold Analysis\n",
      "... Starting attractor analysis\n",
      "    coloring frames\n"
     ]
    },
    {
     "name": "stderr",
     "output_type": "stream",
     "text": [
      "/opt/conda/lib/python3.10/site-packages/seaborn/rcmod.py:82: DeprecationWarning: distutils Version classes are deprecated. Use packaging.version instead.\n",
      "  if LooseVersion(mpl.__version__) >= \"3.0\":\n",
      "/opt/conda/lib/python3.10/site-packages/setuptools/_distutils/version.py:351: DeprecationWarning: distutils Version classes are deprecated. Use packaging.version instead.\n",
      "  other = LooseVersion(other)\n"
     ]
    },
    {
     "name": "stdout",
     "output_type": "stream",
     "text": [
      "    finding trajectories\n",
      "    trajectories lengths: 21.33±19.16 (median:14.00)\n",
      "... performing dimensionality reduction of the state space (using PCA)\n",
      "Silhouette Score:\n",
      "0.48501713569293364\n",
      "... testing cluster manifolds\n",
      "area:  SomMoCtx\n",
      "population: 0\n",
      "    time: 128007\n",
      "    cells: 65\n",
      "... Dynamical Analysis\n",
      "    population firing: 3.34±2.79 sp/frame\n",
      "    cells firing rate: 0.05±0.23 sp/s\n",
      "... generating surrogates to establish population event threshold\n",
      "... loaded surrogates\n",
      "    event size threshold (mean): 4.676413531624167\n",
      "    find peaks\n",
      "    find minima\n",
      "    find population events\n",
      "    signatures of population events\n",
      "    number of events: 9008\n",
      "    number of events per sec: 1.7618353755733103\n",
      "    events duration: 0.090±0.040\n",
      "    events size: 17.000±6.722\n",
      "    Similarity of events matrix\n",
      "    clustering - linkage\n",
      "    surrogate events signatures for clustering threshold\n",
      "   ... loaded surrogates\n",
      "    cluster reproducibility threshold: 0.20754796714864582\n",
      "    cluster size threshold: 2\n",
      "    Total number of clusters: 179\n",
      "    # clusters (after removing those below reproducibility threshold): 177\n",
      "    event color assignment\n",
      "    unique color assignments\n",
      "    clustered similarity map\n",
      "    finding cluster cores\n",
      "    removing cores firing unspecifically\n"
     ]
    },
    {
     "name": "stderr",
     "output_type": "stream",
     "text": [
      "/opt/conda/lib/python3.10/site-packages/numpy/core/fromnumeric.py:3440: RuntimeWarning: Mean of empty slice.\n",
      "  return _methods._mean(a, axis=axis, dtype=dtype,\n",
      "/opt/conda/lib/python3.10/site-packages/numpy/core/_methods.py:189: RuntimeWarning: invalid value encountered in double_scalars\n",
      "  ret = ret.dtype.type(ret / rcount)\n",
      "/opt/conda/lib/python3.10/site-packages/numpy/lib/npyio.py:528: VisibleDeprecationWarning: Creating an ndarray from ragged nested sequences (which is a list-or-tuple of lists-or-tuples-or ndarrays with different lengths or shapes) is deprecated. If you meant to do this, you must specify 'dtype=object' when creating the ndarray.\n",
      "  arr = np.asanyarray(arr)\n"
     ]
    },
    {
     "name": "stdout",
     "output_type": "stream",
     "text": [
      "    gathering cores from all clusters\n",
      "    # cores: 47\n",
      "    # non-cores: 18\n",
      "    cores per cluster: 3.23±3.33 (min 0, max 13)\n",
      "    others per cluster: 61.77±3.33 (min 52, max 65)\n",
      "... Functional correlation analysis (functional structure)\n",
      "    binary spiketrains\n",
      "    shape: (65, 128009)\n",
      "    starting functional adjacency matrix\n",
      "    full adjacency matrix: (65, 65)\n",
      "    preparing vertex labels for cores and others\n",
      "    Degree distributions\n"
     ]
    },
    {
     "name": "stderr",
     "output_type": "stream",
     "text": [
      "/tmp/ipykernel_513/3803255186.py:10: UserWarning: Data has no positive values, and therefore cannot be log-scaled.\n",
      "  plt.xscale('log')\n"
     ]
    },
    {
     "name": "stdout",
     "output_type": "stream",
     "text": [
      "    Local Clustering Coefficient (cores too)\n"
     ]
    },
    {
     "name": "stderr",
     "output_type": "stream",
     "text": [
      "/tmp/ipykernel_513/1776641453.py:11: UserWarning: Data has no positive values, and therefore cannot be log-scaled.\n",
      "  hmmap.set_yscale('log')\n"
     ]
    },
    {
     "name": "stdout",
     "output_type": "stream",
     "text": [
      "... Flow Analysis\n",
      "    Cut edges sourcing from cores: DescribeResult(nobs=47, minmax=(0.0, 8.0), mean=0.1702127659574468, variance=1.3617021276595747, skewness=6.634888026970373, kurtosis=42.02173913043479)\n",
      "    Cut edges targeting cores: DescribeResult(nobs=47, minmax=(0.0, 8.0), mean=0.1702127659574468, variance=1.3617021276595747, skewness=6.634888026970373, kurtosis=42.02173913043479)\n",
      "    Cut edges sourcing from others: DescribeResult(nobs=18, minmax=(0.0, 0.0), mean=0.0, variance=0.0, skewness=0.0, kurtosis=-3.0)\n",
      "    Cut edges targeting others: DescribeResult(nobs=18, minmax=(0.0, 0.0), mean=0.0, variance=0.0, skewness=0.0, kurtosis=-3.0)\n",
      "    Core targets vs sources Welch t test:  0.000 p= 1.000\n",
      "    Kolmogorov-Smirnov Effect Size: 0.000\n",
      "    Core targets vs Other targets Welch t test:  1.000 p= 0.323\n",
      "    Kolmogorov-Smirnov Effect Size: 0.021\n"
     ]
    },
    {
     "data": {
      "image/png": "[encoded data removed]",
      "text/plain": [
       "<Figure size 432x288 with 1 Axes>"
      ]
     },
     "metadata": {
      "needs_background": "light"
     },
     "output_type": "display_data"
    },
    {
     "name": "stdout",
     "output_type": "stream",
     "text": [
      "... PageRank centrality\n",
      "    cores: DescribeResult(nobs=47, minmax=(0.017142857142857144, 0.11428571428571427), mean=0.021276595744680847, variance=0.0003928335441484638, skewness=4.53259797957468, kurtosis=18.544444444444483)\n",
      "    others: DescribeResult(nobs=18, minmax=(0.0, 0.0), mean=0.0, variance=0.0, skewness=0.0, kurtosis=-3.0)\n",
      "    Kruskal-Wallis test:  59.429 p= 0.000\n",
      "    Kolmogorov-Smirnov Effect Size: 1.000\n"
     ]
    },
    {
     "data": {
      "image/png": "[encoded data removed]",
      "text/plain": [
       "<Figure size 432x288 with 1 Axes>"
      ]
     },
     "metadata": {
      "needs_background": "light"
     },
     "output_type": "display_data"
    },
    {
     "name": "stdout",
     "output_type": "stream",
     "text": [
      "... Manifold Analysis\n",
      "... Starting attractor analysis\n",
      "    coloring frames\n",
      "    finding trajectories\n",
      "    trajectories lengths: 19.65±18.04 (median:14.00)\n",
      "... performing dimensionality reduction of the state space (using PCA)\n"
     ]
    },
    {
     "ename": "KeyboardInterrupt",
     "evalue": "",
     "output_type": "error",
     "traceback": [
      "\u001b[0;31m---------------------------------------------------------------------------\u001b[0m",
      "\u001b[0;31mKeyboardInterrupt\u001b[0m                         Traceback (most recent call last)",
      "File \u001b[0;32m/tmp/ipykernel_513/258858646.py:48\u001b[0m, in \u001b[0;36m<cell line: 48>\u001b[0;34m()\u001b[0m\n\u001b[1;32m     46\u001b[0m kmeans \u001b[38;5;241m=\u001b[39m KMeans(n_clusters\u001b[38;5;241m=\u001b[39m\u001b[38;5;28mlen\u001b[39m(cluster_color_array), random_state\u001b[38;5;241m=\u001b[39m\u001b[38;5;241m33\u001b[39m)\n\u001b[1;32m     47\u001b[0m klabels \u001b[38;5;241m=\u001b[39m kmeans\u001b[38;5;241m.\u001b[39mfit_predict(Y_sklearn)\n\u001b[0;32m---> 48\u001b[0m silhouette_avg \u001b[38;5;241m=\u001b[39m \u001b[43msilhouette_score\u001b[49m\u001b[43m(\u001b[49m\u001b[43mY_sklearn\u001b[49m\u001b[43m,\u001b[49m\u001b[43m \u001b[49m\u001b[43mklabels\u001b[49m\u001b[43m)\u001b[49m\n\u001b[1;32m     49\u001b[0m \u001b[38;5;28mprint\u001b[39m(\u001b[38;5;124m\"\u001b[39m\u001b[38;5;124mSilhouette Score:\u001b[39m\u001b[38;5;124m\"\u001b[39m)\n\u001b[1;32m     50\u001b[0m \u001b[38;5;28mprint\u001b[39m(silhouette_avg)\n",
      "File \u001b[0;32m/opt/conda/lib/python3.10/site-packages/sklearn/metrics/cluster/_unsupervised.py:117\u001b[0m, in \u001b[0;36msilhouette_score\u001b[0;34m(X, labels, metric, sample_size, random_state, **kwds)\u001b[0m\n\u001b[1;32m    115\u001b[0m     \u001b[38;5;28;01melse\u001b[39;00m:\n\u001b[1;32m    116\u001b[0m         X, labels \u001b[38;5;241m=\u001b[39m X[indices], labels[indices]\n\u001b[0;32m--> 117\u001b[0m \u001b[38;5;28;01mreturn\u001b[39;00m np\u001b[38;5;241m.\u001b[39mmean(\u001b[43msilhouette_samples\u001b[49m\u001b[43m(\u001b[49m\u001b[43mX\u001b[49m\u001b[43m,\u001b[49m\u001b[43m \u001b[49m\u001b[43mlabels\u001b[49m\u001b[43m,\u001b[49m\u001b[43m \u001b[49m\u001b[43mmetric\u001b[49m\u001b[38;5;241;43m=\u001b[39;49m\u001b[43mmetric\u001b[49m\u001b[43m,\u001b[49m\u001b[43m \u001b[49m\u001b[38;5;241;43m*\u001b[39;49m\u001b[38;5;241;43m*\u001b[39;49m\u001b[43mkwds\u001b[49m\u001b[43m)\u001b[49m)\n",
      "File \u001b[0;32m/opt/conda/lib/python3.10/site-packages/sklearn/metrics/cluster/_unsupervised.py:237\u001b[0m, in \u001b[0;36msilhouette_samples\u001b[0;34m(X, labels, metric, **kwds)\u001b[0m\n\u001b[1;32m    233\u001b[0m kwds[\u001b[38;5;124m\"\u001b[39m\u001b[38;5;124mmetric\u001b[39m\u001b[38;5;124m\"\u001b[39m] \u001b[38;5;241m=\u001b[39m metric\n\u001b[1;32m    234\u001b[0m reduce_func \u001b[38;5;241m=\u001b[39m functools\u001b[38;5;241m.\u001b[39mpartial(\n\u001b[1;32m    235\u001b[0m     _silhouette_reduce, labels\u001b[38;5;241m=\u001b[39mlabels, label_freqs\u001b[38;5;241m=\u001b[39mlabel_freqs\n\u001b[1;32m    236\u001b[0m )\n\u001b[0;32m--> 237\u001b[0m results \u001b[38;5;241m=\u001b[39m \u001b[38;5;28;43mzip\u001b[39;49m\u001b[43m(\u001b[49m\u001b[38;5;241;43m*\u001b[39;49m\u001b[43mpairwise_distances_chunked\u001b[49m\u001b[43m(\u001b[49m\u001b[43mX\u001b[49m\u001b[43m,\u001b[49m\u001b[43m \u001b[49m\u001b[43mreduce_func\u001b[49m\u001b[38;5;241;43m=\u001b[39;49m\u001b[43mreduce_func\u001b[49m\u001b[43m,\u001b[49m\u001b[43m \u001b[49m\u001b[38;5;241;43m*\u001b[39;49m\u001b[38;5;241;43m*\u001b[39;49m\u001b[43mkwds\u001b[49m\u001b[43m)\u001b[49m\u001b[43m)\u001b[49m\n\u001b[1;32m    238\u001b[0m intra_clust_dists, inter_clust_dists \u001b[38;5;241m=\u001b[39m results\n\u001b[1;32m    239\u001b[0m intra_clust_dists \u001b[38;5;241m=\u001b[39m np\u001b[38;5;241m.\u001b[39mconcatenate(intra_clust_dists)\n",
      "File \u001b[0;32m/opt/conda/lib/python3.10/site-packages/sklearn/metrics/pairwise.py:1826\u001b[0m, in \u001b[0;36mpairwise_distances_chunked\u001b[0;34m(X, Y, reduce_func, metric, n_jobs, working_memory, **kwds)\u001b[0m\n\u001b[1;32m   1824\u001b[0m \u001b[38;5;28;01mif\u001b[39;00m reduce_func \u001b[38;5;129;01mis\u001b[39;00m \u001b[38;5;129;01mnot\u001b[39;00m \u001b[38;5;28;01mNone\u001b[39;00m:\n\u001b[1;32m   1825\u001b[0m     chunk_size \u001b[38;5;241m=\u001b[39m D_chunk\u001b[38;5;241m.\u001b[39mshape[\u001b[38;5;241m0\u001b[39m]\n\u001b[0;32m-> 1826\u001b[0m     D_chunk \u001b[38;5;241m=\u001b[39m \u001b[43mreduce_func\u001b[49m\u001b[43m(\u001b[49m\u001b[43mD_chunk\u001b[49m\u001b[43m,\u001b[49m\u001b[43m \u001b[49m\u001b[43msl\u001b[49m\u001b[38;5;241;43m.\u001b[39;49m\u001b[43mstart\u001b[49m\u001b[43m)\u001b[49m\n\u001b[1;32m   1827\u001b[0m     _check_chunk_size(D_chunk, chunk_size)\n\u001b[1;32m   1828\u001b[0m \u001b[38;5;28;01myield\u001b[39;00m D_chunk\n",
      "File \u001b[0;32m/opt/conda/lib/python3.10/site-packages/sklearn/metrics/cluster/_unsupervised.py:137\u001b[0m, in \u001b[0;36m_silhouette_reduce\u001b[0;34m(D_chunk, start, labels, label_freqs)\u001b[0m\n\u001b[1;32m    135\u001b[0m clust_dists \u001b[38;5;241m=\u001b[39m np\u001b[38;5;241m.\u001b[39mzeros((\u001b[38;5;28mlen\u001b[39m(D_chunk), \u001b[38;5;28mlen\u001b[39m(label_freqs)), dtype\u001b[38;5;241m=\u001b[39mD_chunk\u001b[38;5;241m.\u001b[39mdtype)\n\u001b[1;32m    136\u001b[0m \u001b[38;5;28;01mfor\u001b[39;00m i \u001b[38;5;129;01min\u001b[39;00m \u001b[38;5;28mrange\u001b[39m(\u001b[38;5;28mlen\u001b[39m(D_chunk)):\n\u001b[0;32m--> 137\u001b[0m     clust_dists[i] \u001b[38;5;241m+\u001b[39m\u001b[38;5;241m=\u001b[39m \u001b[43mnp\u001b[49m\u001b[38;5;241;43m.\u001b[39;49m\u001b[43mbincount\u001b[49m\u001b[43m(\u001b[49m\n\u001b[1;32m    138\u001b[0m \u001b[43m        \u001b[49m\u001b[43mlabels\u001b[49m\u001b[43m,\u001b[49m\u001b[43m \u001b[49m\u001b[43mweights\u001b[49m\u001b[38;5;241;43m=\u001b[39;49m\u001b[43mD_chunk\u001b[49m\u001b[43m[\u001b[49m\u001b[43mi\u001b[49m\u001b[43m]\u001b[49m\u001b[43m,\u001b[49m\u001b[43m \u001b[49m\u001b[43mminlength\u001b[49m\u001b[38;5;241;43m=\u001b[39;49m\u001b[38;5;28;43mlen\u001b[39;49m\u001b[43m(\u001b[49m\u001b[43mlabel_freqs\u001b[49m\u001b[43m)\u001b[49m\n\u001b[1;32m    139\u001b[0m \u001b[43m    \u001b[49m\u001b[43m)\u001b[49m\n\u001b[1;32m    141\u001b[0m \u001b[38;5;66;03m# intra_index selects intra-cluster distances within clust_dists\u001b[39;00m\n\u001b[1;32m    142\u001b[0m intra_index \u001b[38;5;241m=\u001b[39m (np\u001b[38;5;241m.\u001b[39marange(\u001b[38;5;28mlen\u001b[39m(D_chunk)), labels[start : start \u001b[38;5;241m+\u001b[39m \u001b[38;5;28mlen\u001b[39m(D_chunk)])\n",
      "File \u001b[0;32m<__array_function__ internals>:5\u001b[0m, in \u001b[0;36mbincount\u001b[0;34m(*args, **kwargs)\u001b[0m\n",
      "\u001b[0;31mKeyboardInterrupt\u001b[0m: "
     ]
    },
    {
     "ename": "KeyboardInterrupt",
     "evalue": "",
     "output_type": "error",
     "traceback": [
      "\u001b[0;31m---------------------------------------------------------------------------\u001b[0m",
      "\u001b[0;31mKeyboardInterrupt\u001b[0m                         Traceback (most recent call last)",
      "Input \u001b[0;32mIn [6]\u001b[0m, in \u001b[0;36m<cell line: 10>\u001b[0;34m()\u001b[0m\n\u001b[1;32m    143\u001b[0m             \u001b[38;5;66;03m# --------------------------------------------------------------------------\u001b[39;00m\n\u001b[1;32m    144\u001b[0m             \u001b[38;5;66;03m# dimensional reduction, trajectories, and manifold analysis\u001b[39;00m\n\u001b[1;32m    145\u001b[0m             \u001b[38;5;28mprint\u001b[39m(\u001b[38;5;124m\"\u001b[39m\u001b[38;5;124m... Manifold Analysis\u001b[39m\u001b[38;5;124m\"\u001b[39m)\n\u001b[0;32m--> 146\u001b[0m             \u001b[43mget_ipython\u001b[49m\u001b[43m(\u001b[49m\u001b[43m)\u001b[49m\u001b[38;5;241;43m.\u001b[39;49m\u001b[43mrun_line_magic\u001b[49m\u001b[43m(\u001b[49m\u001b[38;5;124;43m'\u001b[39;49m\u001b[38;5;124;43mrun\u001b[39;49m\u001b[38;5;124;43m'\u001b[39;49m\u001b[43m,\u001b[49m\u001b[43m \u001b[49m\u001b[38;5;124;43m'\u001b[39;49m\u001b[38;5;124;43m\"\u001b[39;49m\u001b[38;5;124;43mattractor_analysis.ipynb\u001b[39;49m\u001b[38;5;124;43m\"\u001b[39;49m\u001b[38;5;124;43m'\u001b[39;49m\u001b[43m)\u001b[49m\n\u001b[1;32m    148\u001b[0m gc\u001b[38;5;241m.\u001b[39mcollect()\n\u001b[1;32m    149\u001b[0m \u001b[38;5;28mprint\u001b[39m()\n",
      "File \u001b[0;32m/opt/conda/lib/python3.10/site-packages/IPython/core/interactiveshell.py:2305\u001b[0m, in \u001b[0;36mInteractiveShell.run_line_magic\u001b[0;34m(self, magic_name, line, _stack_depth)\u001b[0m\n\u001b[1;32m   2303\u001b[0m     kwargs[\u001b[38;5;124m'\u001b[39m\u001b[38;5;124mlocal_ns\u001b[39m\u001b[38;5;124m'\u001b[39m] \u001b[38;5;241m=\u001b[39m \u001b[38;5;28mself\u001b[39m\u001b[38;5;241m.\u001b[39mget_local_scope(stack_depth)\n\u001b[1;32m   2304\u001b[0m \u001b[38;5;28;01mwith\u001b[39;00m \u001b[38;5;28mself\u001b[39m\u001b[38;5;241m.\u001b[39mbuiltin_trap:\n\u001b[0;32m-> 2305\u001b[0m     result \u001b[38;5;241m=\u001b[39m \u001b[43mfn\u001b[49m\u001b[43m(\u001b[49m\u001b[38;5;241;43m*\u001b[39;49m\u001b[43margs\u001b[49m\u001b[43m,\u001b[49m\u001b[43m \u001b[49m\u001b[38;5;241;43m*\u001b[39;49m\u001b[38;5;241;43m*\u001b[39;49m\u001b[43mkwargs\u001b[49m\u001b[43m)\u001b[49m\n\u001b[1;32m   2306\u001b[0m \u001b[38;5;28;01mreturn\u001b[39;00m result\n",
      "File \u001b[0;32m/opt/conda/lib/python3.10/site-packages/IPython/core/magics/execution.py:717\u001b[0m, in \u001b[0;36mExecutionMagics.run\u001b[0;34m(self, parameter_s, runner, file_finder)\u001b[0m\n\u001b[1;32m    715\u001b[0m     \u001b[38;5;28;01mwith\u001b[39;00m preserve_keys(\u001b[38;5;28mself\u001b[39m\u001b[38;5;241m.\u001b[39mshell\u001b[38;5;241m.\u001b[39muser_ns, \u001b[38;5;124m'\u001b[39m\u001b[38;5;124m__file__\u001b[39m\u001b[38;5;124m'\u001b[39m):\n\u001b[1;32m    716\u001b[0m         \u001b[38;5;28mself\u001b[39m\u001b[38;5;241m.\u001b[39mshell\u001b[38;5;241m.\u001b[39muser_ns[\u001b[38;5;124m'\u001b[39m\u001b[38;5;124m__file__\u001b[39m\u001b[38;5;124m'\u001b[39m] \u001b[38;5;241m=\u001b[39m filename\n\u001b[0;32m--> 717\u001b[0m         \u001b[38;5;28;43mself\u001b[39;49m\u001b[38;5;241;43m.\u001b[39;49m\u001b[43mshell\u001b[49m\u001b[38;5;241;43m.\u001b[39;49m\u001b[43msafe_execfile_ipy\u001b[49m\u001b[43m(\u001b[49m\u001b[43mfilename\u001b[49m\u001b[43m,\u001b[49m\u001b[43m \u001b[49m\u001b[43mraise_exceptions\u001b[49m\u001b[38;5;241;43m=\u001b[39;49m\u001b[38;5;28;43;01mTrue\u001b[39;49;00m\u001b[43m)\u001b[49m\n\u001b[1;32m    718\u001b[0m     \u001b[38;5;28;01mreturn\u001b[39;00m\n\u001b[1;32m    720\u001b[0m \u001b[38;5;66;03m# Control the response to exit() calls made by the script being run\u001b[39;00m\n",
      "File \u001b[0;32m/opt/conda/lib/python3.10/site-packages/IPython/core/interactiveshell.py:2811\u001b[0m, in \u001b[0;36mInteractiveShell.safe_execfile_ipy\u001b[0;34m(self, fname, shell_futures, raise_exceptions)\u001b[0m\n\u001b[1;32m   2809\u001b[0m result \u001b[38;5;241m=\u001b[39m \u001b[38;5;28mself\u001b[39m\u001b[38;5;241m.\u001b[39mrun_cell(cell, silent\u001b[38;5;241m=\u001b[39m\u001b[38;5;28;01mTrue\u001b[39;00m, shell_futures\u001b[38;5;241m=\u001b[39mshell_futures)\n\u001b[1;32m   2810\u001b[0m \u001b[38;5;28;01mif\u001b[39;00m raise_exceptions:\n\u001b[0;32m-> 2811\u001b[0m     \u001b[43mresult\u001b[49m\u001b[38;5;241;43m.\u001b[39;49m\u001b[43mraise_error\u001b[49m\u001b[43m(\u001b[49m\u001b[43m)\u001b[49m\n\u001b[1;32m   2812\u001b[0m \u001b[38;5;28;01melif\u001b[39;00m \u001b[38;5;129;01mnot\u001b[39;00m result\u001b[38;5;241m.\u001b[39msuccess:\n\u001b[1;32m   2813\u001b[0m     \u001b[38;5;28;01mbreak\u001b[39;00m\n",
      "File \u001b[0;32m/opt/conda/lib/python3.10/site-packages/IPython/core/interactiveshell.py:251\u001b[0m, in \u001b[0;36mExecutionResult.raise_error\u001b[0;34m(self)\u001b[0m\n\u001b[1;32m    249\u001b[0m     \u001b[38;5;28;01mraise\u001b[39;00m \u001b[38;5;28mself\u001b[39m\u001b[38;5;241m.\u001b[39merror_before_exec\n\u001b[1;32m    250\u001b[0m \u001b[38;5;28;01mif\u001b[39;00m \u001b[38;5;28mself\u001b[39m\u001b[38;5;241m.\u001b[39merror_in_exec \u001b[38;5;129;01mis\u001b[39;00m \u001b[38;5;129;01mnot\u001b[39;00m \u001b[38;5;28;01mNone\u001b[39;00m:\n\u001b[0;32m--> 251\u001b[0m     \u001b[38;5;28;01mraise\u001b[39;00m \u001b[38;5;28mself\u001b[39m\u001b[38;5;241m.\u001b[39merror_in_exec\n",
      "    \u001b[0;31m[... skipping hidden 1 frame]\u001b[0m\n",
      "File \u001b[0;32m/tmp/ipykernel_513/258858646.py:48\u001b[0m, in \u001b[0;36m<cell line: 48>\u001b[0;34m()\u001b[0m\n\u001b[1;32m     46\u001b[0m kmeans \u001b[38;5;241m=\u001b[39m KMeans(n_clusters\u001b[38;5;241m=\u001b[39m\u001b[38;5;28mlen\u001b[39m(cluster_color_array), random_state\u001b[38;5;241m=\u001b[39m\u001b[38;5;241m33\u001b[39m)\n\u001b[1;32m     47\u001b[0m klabels \u001b[38;5;241m=\u001b[39m kmeans\u001b[38;5;241m.\u001b[39mfit_predict(Y_sklearn)\n\u001b[0;32m---> 48\u001b[0m silhouette_avg \u001b[38;5;241m=\u001b[39m \u001b[43msilhouette_score\u001b[49m\u001b[43m(\u001b[49m\u001b[43mY_sklearn\u001b[49m\u001b[43m,\u001b[49m\u001b[43m \u001b[49m\u001b[43mklabels\u001b[49m\u001b[43m)\u001b[49m\n\u001b[1;32m     49\u001b[0m \u001b[38;5;28mprint\u001b[39m(\u001b[38;5;124m\"\u001b[39m\u001b[38;5;124mSilhouette Score:\u001b[39m\u001b[38;5;124m\"\u001b[39m)\n\u001b[1;32m     50\u001b[0m \u001b[38;5;28mprint\u001b[39m(silhouette_avg)\n",
      "File \u001b[0;32m/opt/conda/lib/python3.10/site-packages/sklearn/metrics/cluster/_unsupervised.py:117\u001b[0m, in \u001b[0;36msilhouette_score\u001b[0;34m(X, labels, metric, sample_size, random_state, **kwds)\u001b[0m\n\u001b[1;32m    115\u001b[0m     \u001b[38;5;28;01melse\u001b[39;00m:\n\u001b[1;32m    116\u001b[0m         X, labels \u001b[38;5;241m=\u001b[39m X[indices], labels[indices]\n\u001b[0;32m--> 117\u001b[0m \u001b[38;5;28;01mreturn\u001b[39;00m np\u001b[38;5;241m.\u001b[39mmean(\u001b[43msilhouette_samples\u001b[49m\u001b[43m(\u001b[49m\u001b[43mX\u001b[49m\u001b[43m,\u001b[49m\u001b[43m \u001b[49m\u001b[43mlabels\u001b[49m\u001b[43m,\u001b[49m\u001b[43m \u001b[49m\u001b[43mmetric\u001b[49m\u001b[38;5;241;43m=\u001b[39;49m\u001b[43mmetric\u001b[49m\u001b[43m,\u001b[49m\u001b[43m \u001b[49m\u001b[38;5;241;43m*\u001b[39;49m\u001b[38;5;241;43m*\u001b[39;49m\u001b[43mkwds\u001b[49m\u001b[43m)\u001b[49m)\n",
      "File \u001b[0;32m/opt/conda/lib/python3.10/site-packages/sklearn/metrics/cluster/_unsupervised.py:237\u001b[0m, in \u001b[0;36msilhouette_samples\u001b[0;34m(X, labels, metric, **kwds)\u001b[0m\n\u001b[1;32m    233\u001b[0m kwds[\u001b[38;5;124m\"\u001b[39m\u001b[38;5;124mmetric\u001b[39m\u001b[38;5;124m\"\u001b[39m] \u001b[38;5;241m=\u001b[39m metric\n\u001b[1;32m    234\u001b[0m reduce_func \u001b[38;5;241m=\u001b[39m functools\u001b[38;5;241m.\u001b[39mpartial(\n\u001b[1;32m    235\u001b[0m     _silhouette_reduce, labels\u001b[38;5;241m=\u001b[39mlabels, label_freqs\u001b[38;5;241m=\u001b[39mlabel_freqs\n\u001b[1;32m    236\u001b[0m )\n\u001b[0;32m--> 237\u001b[0m results \u001b[38;5;241m=\u001b[39m \u001b[38;5;28;43mzip\u001b[39;49m\u001b[43m(\u001b[49m\u001b[38;5;241;43m*\u001b[39;49m\u001b[43mpairwise_distances_chunked\u001b[49m\u001b[43m(\u001b[49m\u001b[43mX\u001b[49m\u001b[43m,\u001b[49m\u001b[43m \u001b[49m\u001b[43mreduce_func\u001b[49m\u001b[38;5;241;43m=\u001b[39;49m\u001b[43mreduce_func\u001b[49m\u001b[43m,\u001b[49m\u001b[43m \u001b[49m\u001b[38;5;241;43m*\u001b[39;49m\u001b[38;5;241;43m*\u001b[39;49m\u001b[43mkwds\u001b[49m\u001b[43m)\u001b[49m\u001b[43m)\u001b[49m\n\u001b[1;32m    238\u001b[0m intra_clust_dists, inter_clust_dists \u001b[38;5;241m=\u001b[39m results\n\u001b[1;32m    239\u001b[0m intra_clust_dists \u001b[38;5;241m=\u001b[39m np\u001b[38;5;241m.\u001b[39mconcatenate(intra_clust_dists)\n",
      "File \u001b[0;32m/opt/conda/lib/python3.10/site-packages/sklearn/metrics/pairwise.py:1826\u001b[0m, in \u001b[0;36mpairwise_distances_chunked\u001b[0;34m(X, Y, reduce_func, metric, n_jobs, working_memory, **kwds)\u001b[0m\n\u001b[1;32m   1824\u001b[0m \u001b[38;5;28;01mif\u001b[39;00m reduce_func \u001b[38;5;129;01mis\u001b[39;00m \u001b[38;5;129;01mnot\u001b[39;00m \u001b[38;5;28;01mNone\u001b[39;00m:\n\u001b[1;32m   1825\u001b[0m     chunk_size \u001b[38;5;241m=\u001b[39m D_chunk\u001b[38;5;241m.\u001b[39mshape[\u001b[38;5;241m0\u001b[39m]\n\u001b[0;32m-> 1826\u001b[0m     D_chunk \u001b[38;5;241m=\u001b[39m \u001b[43mreduce_func\u001b[49m\u001b[43m(\u001b[49m\u001b[43mD_chunk\u001b[49m\u001b[43m,\u001b[49m\u001b[43m \u001b[49m\u001b[43msl\u001b[49m\u001b[38;5;241;43m.\u001b[39;49m\u001b[43mstart\u001b[49m\u001b[43m)\u001b[49m\n\u001b[1;32m   1827\u001b[0m     _check_chunk_size(D_chunk, chunk_size)\n\u001b[1;32m   1828\u001b[0m \u001b[38;5;28;01myield\u001b[39;00m D_chunk\n",
      "File \u001b[0;32m/opt/conda/lib/python3.10/site-packages/sklearn/metrics/cluster/_unsupervised.py:137\u001b[0m, in \u001b[0;36m_silhouette_reduce\u001b[0;34m(D_chunk, start, labels, label_freqs)\u001b[0m\n\u001b[1;32m    135\u001b[0m clust_dists \u001b[38;5;241m=\u001b[39m np\u001b[38;5;241m.\u001b[39mzeros((\u001b[38;5;28mlen\u001b[39m(D_chunk), \u001b[38;5;28mlen\u001b[39m(label_freqs)), dtype\u001b[38;5;241m=\u001b[39mD_chunk\u001b[38;5;241m.\u001b[39mdtype)\n\u001b[1;32m    136\u001b[0m \u001b[38;5;28;01mfor\u001b[39;00m i \u001b[38;5;129;01min\u001b[39;00m \u001b[38;5;28mrange\u001b[39m(\u001b[38;5;28mlen\u001b[39m(D_chunk)):\n\u001b[0;32m--> 137\u001b[0m     clust_dists[i] \u001b[38;5;241m+\u001b[39m\u001b[38;5;241m=\u001b[39m \u001b[43mnp\u001b[49m\u001b[38;5;241;43m.\u001b[39;49m\u001b[43mbincount\u001b[49m\u001b[43m(\u001b[49m\n\u001b[1;32m    138\u001b[0m \u001b[43m        \u001b[49m\u001b[43mlabels\u001b[49m\u001b[43m,\u001b[49m\u001b[43m \u001b[49m\u001b[43mweights\u001b[49m\u001b[38;5;241;43m=\u001b[39;49m\u001b[43mD_chunk\u001b[49m\u001b[43m[\u001b[49m\u001b[43mi\u001b[49m\u001b[43m]\u001b[49m\u001b[43m,\u001b[49m\u001b[43m \u001b[49m\u001b[43mminlength\u001b[49m\u001b[38;5;241;43m=\u001b[39;49m\u001b[38;5;28;43mlen\u001b[39;49m\u001b[43m(\u001b[49m\u001b[43mlabel_freqs\u001b[49m\u001b[43m)\u001b[49m\n\u001b[1;32m    139\u001b[0m \u001b[43m    \u001b[49m\u001b[43m)\u001b[49m\n\u001b[1;32m    141\u001b[0m \u001b[38;5;66;03m# intra_index selects intra-cluster distances within clust_dists\u001b[39;00m\n\u001b[1;32m    142\u001b[0m intra_index \u001b[38;5;241m=\u001b[39m (np\u001b[38;5;241m.\u001b[39marange(\u001b[38;5;28mlen\u001b[39m(D_chunk)), labels[start : start \u001b[38;5;241m+\u001b[39m \u001b[38;5;28mlen\u001b[39m(D_chunk)])\n",
      "File \u001b[0;32m<__array_function__ internals>:5\u001b[0m, in \u001b[0;36mbincount\u001b[0;34m(*args, **kwargs)\u001b[0m\n",
      "\u001b[0;31mKeyboardInterrupt\u001b[0m: "
     ]
    }
   ],
   "source": [
    "# start of spontaneous activity in each mouse (in seconds)\n",
    "etstart = [3811, 3633, 3323]\n",
    "\n",
    "all_degrees = { 'FrCtx':[], 'FrMoCtx':[], 'SomMoCtx':[], 'SSCtx':[], 'V1':[], 'V2':[], 'RSP':[] }\n",
    "all_local_clustering_coefficients = { 'FrCtx':[], 'FrMoCtx':[], 'SomMoCtx':[], 'SSCtx':[], 'V1':[], 'V2':[], 'RSP':[] }\n",
    "all_core_local_clustering_coefficients = { 'FrCtx':[], 'FrMoCtx':[], 'SomMoCtx':[], 'SSCtx':[], 'V1':[], 'V2':[], 'RSP':[] }\n",
    "all_pagerank_cores = { 'FrCtx':[], 'FrMoCtx':[], 'SomMoCtx':[], 'SSCtx':[], 'V1':[], 'V2':[], 'RSP':[] }\n",
    "all_pagerank_others = { 'FrCtx':[], 'FrMoCtx':[], 'SomMoCtx':[], 'SSCtx':[], 'V1':[], 'V2':[], 'RSP':[] }\n",
    "\n",
    "for imouse,(mousename,areas) in enumerate(area_spiketrains.items()):\n",
    "    print(\"\\n\\n-------------------------\\nmouse:\",mousename)\n",
    "    \n",
    "    # # to reduce computations, use comments here to run the analysis separately on different mice\n",
    "    # if mousename not in [\"Krebs\"]:\n",
    "    #     continue\n",
    "    # if mousename not in [\"Waksman\"]:\n",
    "    #     continue\n",
    "    # if mousename not in [\"Robbins\"]:\n",
    "    #     continue\n",
    "        \n",
    "    exp_path = local_path + '%s/'%mousename\n",
    "    exp_tstart = etstart[imouse]\n",
    "\n",
    "    # reading behavior data to make statistics about event dependence on it\n",
    "    # we will use the field 'stimulus' to store the avg motSVD of the frames \n",
    "    # The behavioral file is the processed version of a mouse face movie (time x pixels x pixels). \n",
    "    faces = sio.loadmat('stringer/7739750/faces/%s_face_proc.mat'%mousename, squeeze_me=True)\n",
    "    video_timestamps = faces['times'] # same temporal resolution of ephy\n",
    "    motSVD = faces['motionSVD']\n",
    "    exp_istart = (np.abs(video_timestamps - exp_tstart)).argmin()    \n",
    "    motSVD_1c = motSVD[:,0] # only first component\n",
    "    motSVD_1c[motSVD_1c < -4000] = np.mean(motSVD_1c) # corrections\n",
    "    fig, ax = plt.subplots(figsize=(20,5))\n",
    "    ax.plot(video_timestamps[exp_istart:], motSVD_1c[exp_istart:], linewidth=0.5, color='k')\n",
    "    fig.savefig(exp_path+\"/motSVD_%s.png\"%mousename, transparent=True, dpi=900)\n",
    "    plt.close()\n",
    "    fig.clear()\n",
    "    fig.clf()\n",
    "\n",
    "    for area,probe_populations in areas.items():\n",
    "        if len(probe_populations)>0:\n",
    "            print(\"area: \",area)\n",
    "            \n",
    "            # # to reduce computations, use comments here\n",
    "            # if area not in ['FrCtx', 'FrMoCtx']:\n",
    "            # if area not in ['V1']:\n",
    "            #     continue\n",
    "                                                \n",
    "            for ipop,spiketrains in enumerate(probe_populations): \n",
    "                print(\"population:\",ipop)\n",
    "\n",
    "                if mousename=='Waksman' and area=='FrMoCtx' and ipop==1:\n",
    "                    continue # no events\n",
    "\n",
    "                # rounding to ms\n",
    "                # spiketrains = [np.round(sp, 3) for sp in spiketrains] # ms\n",
    "                spiketrains = [np.round(sp, 2) for sp in spiketrains] # 10ms\n",
    "                start_time = min([min(st) if len(st) else 0 for st in spiketrains])\n",
    "                stop_time = max([max(st) if len(st) else 0 for st in spiketrains])\n",
    "                time = np.arange(start_time,stop_time,frame_duration)\n",
    "                print(\"    time:\", len(time))\n",
    "                print(\"    cells:\", len(spiketrains))\n",
    "\n",
    "                fig = plt.figure(figsize=[12.8,4.8])\n",
    "                for row,train in enumerate(spiketrains):\n",
    "                    plt.scatter( train, [row]*len(train), marker='o', edgecolors='none', s=1, c='k' )\n",
    "                plt.ylabel(\"cell IDs\")\n",
    "                plt.xlabel(\"time (s)\")\n",
    "                # plt.show()\n",
    "                fig.savefig(exp_path+'%s_%s_rasterplot.png'%(area,ipop), transparent=False, dpi=800)\n",
    "                plt.tight_layout()\n",
    "                plt.close()\n",
    "                \n",
    "                ophys_cell_ids = list(range(len(spiketrains)))\n",
    "                ophys_cell_indexes = ophys_cell_ids # here is an alias\n",
    "\n",
    "                scan_spiketrains = spiketrains\n",
    "                scan_id = '_%s_%s'%(area,ipop)\n",
    "                \n",
    "                # --------------------------------------------------------------------------\n",
    "                print(\"... Dynamical Analysis\")\n",
    "                core_reproducibility_perc = 99 # threshold for detecting cores\n",
    "                %run \"dynamical_analysis.ipynb\"\n",
    "                \n",
    "                # # Match smooth motion energy curve with the cluster it belongs to\n",
    "                # # Count the number of events belonging to a pattern before and after the change.\n",
    "                # ccolors,ccounts = np.unique(cluster_color_array, return_counts=True)\n",
    "                # cluster_events_counts = dict(zip(ccolors,ccounts))\n",
    "                # Npre_beh_cluster = {el:0. for el in np.unique(cluster_color_array)}\n",
    "                # Npost_beh_cluster = {el:0. for el in np.unique(cluster_color_array)}\n",
    "                # for sni in smoothed_beh_indices:\n",
    "                #     snitime = exp_tstart + sni * frame_duration\n",
    "                #     snitime_pre = snitime - 0.15 # s\n",
    "                #     snitime_post = snitime + 0.15 # s\n",
    "                #     for ievent,(event,ecolor) in enumerate(zip(events,cluster_color_array)):\n",
    "                #         event_start_time = exp_tstart + event['start'] * frame_duration\n",
    "                #         if snitime_pre < event_start_time and event_start_time < snitime:\n",
    "                #             Npre_beh_cluster[ecolor] += 1\n",
    "                #         if snitime < event_start_time and event_start_time < snitime_post:\n",
    "                #             Npost_beh_cluster[ecolor] += 1\n",
    "                # # detail\n",
    "                # fig = plt.figure()\n",
    "                # plt.scatter(range(len(Npre_beh_cluster.keys())), Npre_beh_cluster.values(), marker='<', c=list(Npre_beh_cluster.keys()), edgecolors=list(Npre_beh_cluster.keys()), s=1)\n",
    "                # plt.scatter(range(len(Npost_beh_cluster.keys())), Npost_beh_cluster.values(), marker='>', c=list(Npost_beh_cluster.keys()), edgecolors='none', s=1)\n",
    "                # plt.vlines(range(len(Npost_beh_cluster.keys())), Npost_beh_cluster.values(), Npre_beh_cluster.values(), colors=list(Npost_beh_cluster.keys()), linewidths=0.6)\n",
    "                # plt.ylabel('occurrence')\n",
    "                # plt.xlabel('Patterns')\n",
    "                # fig.savefig(exp_path+\"/results/Pattern_behavior_%s_%s%s.png\"%(mousename,area,ipop), transparent=True, dpi=600)\n",
    "                # plt.close()\n",
    "                # fig.clear()\n",
    "                # fig.clf()\n",
    "                # # summary\n",
    "                # Nsame = 0\n",
    "                # Npost = 0\n",
    "                # Npre = 0\n",
    "                # for pre,post in zip(Npre_beh_cluster.values(),Npost_beh_cluster.values()):\n",
    "                #     if pre==post: Nsame +=1\n",
    "                #     if pre>post: Npre +=1\n",
    "                #     if pre<post: Npost +=1\n",
    "                # fig = plt.figure()\n",
    "                # plt.bar([0,1,2], [Npre,Nsame,Npost], width=0.8, color='C0')\n",
    "                # plt.ylabel('occurrences')\n",
    "                # plt.xlabel('pattern timing relative to movement')\n",
    "                # plt.xticks(range(3),['before','same','after'])\n",
    "                # fig.savefig(exp_path+\"/results/Pattern_behavior_summary_%s_%s%s.png\"%(mousename,area,ipop), transparent=True, dpi=600)\n",
    "                # plt.close()\n",
    "                # fig.clear()\n",
    "                # fig.clf()\n",
    "\n",
    "                # --------------------------------------------------------------------------\n",
    "                # Functional structure analysis\n",
    "                # separated by cortical area, color: pagerank, modularity\n",
    "                perc_corr = 0.6\n",
    "                %run \"functional_analysis.ipynb\"\n",
    "                all_degrees[area].extend(degrees)\n",
    "                all_local_clustering_coefficients[area].extend(local_clustering_coefficients)\n",
    "                all_core_local_clustering_coefficients[area].extend(core_local_clustering_coefficients)\n",
    "                all_pagerank_cores[area].extend(pagerank_cores)\n",
    "                all_pagerank_others[area].extend(pagerank_others)\n",
    "                \n",
    "                # --------------------------------------------------------------------------\n",
    "                # dimensional reduction, trajectories, and manifold analysis\n",
    "                print(\"... Manifold Analysis\")\n",
    "                %run \"attractor_analysis.ipynb\"\n",
    "                \n",
    "    gc.collect()\n",
    "    print()    "
   ]
  },
  {
   "cell_type": "code",
   "execution_count": null,
   "id": "a8d14ea4-8741-4f58-aa2c-1be96a763c1a",
   "metadata": {},
   "outputs": [],
   "source": [
    "cortical_areas = ['FrCtx','FrMoCtx','SomMoCtx','SSCtx','V1','V2','RSP']\n",
    "cortical_colors = ['tab:olive', 'tab:green', 'tab:cyan', 'tab:blue', 'tab:purple', 'tab:pink', 'tab:brown']\n",
    "# summary figures\n",
    "for area,acolor in zip(cortical_areas,cortical_colors):\n",
    "    print(\"... area:\",area)\n",
    "    # modularity\n",
    "    print('    Total modularity')\n",
    "    # figure\n",
    "    fig, (hmmap, chist) = plt.subplots(1, 2, gridspec_kw={'width_ratios': [6, 1]})\n",
    "    # hierarchy\n",
    "    hmmap.scatter( all_degrees[area], all_local_clustering_coefficients[area], marker='o', facecolor=acolor, s=50, edgecolors='none', alpha=0.5) \n",
    "    hmmap.set_yscale('log')\n",
    "    hmmap.set_ylim([0.09,1.1])\n",
    "    hmmap.set_xscale('log')\n",
    "    hmmap.set_xlim([0.5,20])\n",
    "    hmmap.spines['top'].set_visible(False)\n",
    "    hmmap.spines['right'].set_visible(False)\n",
    "    hmmap.set_ylabel('LCC')\n",
    "    hmmap.set_xlabel('degree')\n",
    "    hmmap.tick_params(axis='both', bottom='on', top='on', left='off', right='off')\n",
    "    # core lcc histogram\n",
    "    bins = np.linspace(0.02,0.9,50)\n",
    "    barheight = (max(all_local_clustering_coefficients[area])-min(all_local_clustering_coefficients[area]))/50\n",
    "    lcc_hist, lcc_binedges = np.histogram(all_core_local_clustering_coefficients[area], bins)\n",
    "    chist.barh(bins[:-1], lcc_hist, height=barheight, align='center', color='green', linewidth=0)\n",
    "    chist.spines['top'].set_visible(False)\n",
    "    chist.spines['right'].set_visible(False)\n",
    "    chist.tick_params(axis='x', which='both', bottom=True, top=False, labelsize='x-small')\n",
    "    chist.tick_params(axis='y', which='both', left=True, right=False, labelleft=True)\n",
    "    chist_ticks = chist.get_xticks()\n",
    "    chist.set_ylim([0.01,1.1])\n",
    "    chist.set_ylabel('LCC')\n",
    "    chist.set_xlabel('count')\n",
    "    chist.yaxis.set_label_position(\"right\")\n",
    "    chist.spines['top'].set_visible(False)\n",
    "    chist.spines['right'].set_visible(False)\n",
    "    chist.spines['bottom'].set_visible(False)\n",
    "    plt.tight_layout()\n",
    "    fig.savefig(\"stringer/7739750/cores_hierarchical_modularity_%s.svg\"%(area), transparent=True)\n",
    "    plt.close()\n",
    "    fig.clear()\n",
    "    fig.clf()\n",
    "\n",
    "    # totals\n",
    "    if len(all_pagerank_cores[area])>0 and len(all_pagerank_others[area])>0:\n",
    "        print('    Total PageRank centrality')\n",
    "        # description\n",
    "        print(\"    cores: \"+str(stats.describe(all_pagerank_cores[area])) )\n",
    "        print(\"    others: \"+str(stats.describe(all_pagerank_others[area])) )\n",
    "        # significativity\n",
    "        print(\"    Kruskal-Wallis test:  %.3f p= %.3f\" % stats.kruskal(all_pagerank_cores[area], all_pagerank_others[area]))\n",
    "        d,_ = stats.ks_2samp(all_pagerank_cores[area], all_pagerank_others[area]) # non-parametric measure of effect size [0,1]\n",
    "        print('    Kolmogorov-Smirnov Effect Size: %.3f' % d)\n",
    "\n",
    "        fig, ax = plt.subplots()\n",
    "        xs = np.random.normal(1, 0.04, len(all_pagerank_cores[area]))\n",
    "        plt.scatter(xs, all_pagerank_cores[area], alpha=0.3, c='forestgreen')\n",
    "        xs = np.random.normal(2, 0.04, len(all_pagerank_others[area]))\n",
    "        plt.scatter(xs, all_pagerank_others[area], alpha=0.3, c='silver')\n",
    "        vp = ax.violinplot([all_pagerank_cores[area],all_pagerank_others[area]], widths=0.15, showextrema=False, showmedians=True)\n",
    "        for pc in vp['bodies']:\n",
    "            pc.set_edgecolor('black')\n",
    "        for pc,cb in zip(vp['bodies'],['#228B224d','#D3D3D34d']):\n",
    "            pc.set_facecolor(cb)\n",
    "        vp['cmedians'].set_color('orange')\n",
    "        vp['cmedians'].set_linewidth(2.)\n",
    "        ax.spines['top'].set_visible(False)\n",
    "        ax.spines['bottom'].set_visible(False)\n",
    "        ax.spines['left'].set_visible(False)\n",
    "        ax.spines['right'].set_visible(False)\n",
    "        plt.ylabel('PageRank')\n",
    "        plt.xticks([1, 2], [\"core\\n(n={:d})\".format(len(all_pagerank_cores[area])), \"other\\n(n={:d})\".format(len(all_pagerank_others[area]))])\n",
    "        fig.savefig(\"stringer/7739750/global_cores_others_pagerank_all_%s.svg\"%(area), transparent=True)\n",
    "        plt.show()\n"
   ]
  },
  {
   "cell_type": "code",
   "execution_count": null,
   "id": "9eae2200-1e57-4189-95ce-a8f0c5f5de62",
   "metadata": {},
   "outputs": [],
   "source": []
  }
 ],
 "metadata": {
  "kernelspec": {
   "display_name": "Python 3 (ipykernel)",
   "language": "python",
   "name": "python3"
  },
  "language_info": {
   "codemirror_mode": {
    "name": "ipython",
    "version": 3
   },
   "file_extension": ".py",
   "mimetype": "text/x-python",
   "name": "python",
   "nbconvert_exporter": "python",
   "pygments_lexer": "ipython3",
   "version": "3.10.4"
  }
 },
 "nbformat": 4,
 "nbformat_minor": 5
}
