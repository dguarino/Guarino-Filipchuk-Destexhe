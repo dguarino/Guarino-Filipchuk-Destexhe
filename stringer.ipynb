{
 "cells": [
  {
   "cell_type": "markdown",
   "id": "780c8e36-1686-4929-8d53-a52dbcadcc62",
   "metadata": {
    "tags": []
   },
   "source": [
    "## Multiunit recordings from several cortical areas\n",
    "\n",
    "We will collect neurons from several cortical areas to perform population *dynamical* and *attractor* analysis, and get the *functional connectivity*.     \n",
    "This will address three relevant points:\n",
    "- Does the dynamic analysis hold at **higher temporal resolution**?\n",
    "    - How do events statistics (duration and size) compare to 2-photon?\n",
    "- Are population events only a **side-effect of behavior** (locomotion, whisker pad, pupil)?\n",
    "    - Do behavioral components explain pattern reproducibility?\n",
    "- Do **all areas of cortex** show attractor dynamics?\n",
    "    - How do pattern trajectories compare to MICrONS?\n",
    "\n",
    "To do all this, we analyse the [data](https://janelia.figshare.com/articles/dataset/Eight-probe_Neuropixels_recordings_during_spontaneous_behaviors/7739750/4) by [Stringer et al. 2019](science.org/doi/10.1126/science.aav7893).   \n",
    "Eight-probe Neuropixels recordings in three mice during spontaneous activity.   \n",
    "\n",
    "This notebook calls `dynamical_analysis.ipynb` and `attractor_analysis.ipynb`."
   ]
  },
  {
   "cell_type": "code",
   "execution_count": 1,
   "id": "99df4ec6-2371-4d70-bfe2-c3e54d074390",
   "metadata": {},
   "outputs": [
    {
     "name": "stdout",
     "output_type": "stream",
     "text": [
      "3.10.4\n"
     ]
    }
   ],
   "source": [
    "from platform import python_version\n",
    "print(python_version())\n",
    "\n",
    "%run -i 'imports_functions.py' \n",
    "\n",
    "%matplotlib inline"
   ]
  },
  {
   "cell_type": "markdown",
   "id": "2a43d468-6d74-49c0-98ea-a4ee385dc16b",
   "metadata": {},
   "source": [
    "**WARNING**: the next cell takes time to download and unzip the neuropixel data."
   ]
  },
  {
   "cell_type": "code",
   "execution_count": 2,
   "id": "7a72f962-c629-4438-9264-9e1204cfe184",
   "metadata": {},
   "outputs": [
    {
     "name": "stdout",
     "output_type": "stream",
     "text": [
      "All data available.\n"
     ]
    }
   ],
   "source": [
    "if not os.path.exists(\"stringer/7739750.zip\"):\n",
    "    print(\"Downloading neuropixel data ...\")\n",
    "    if not os.path.exists(\"stringer\"):\n",
    "        os.makedirs(\"stringer\")\n",
    "    resp = wget.download(\"https://janelia.figshare.com/ndownloader/articles/7739750/versions/4\", \"stringer/7739750.zip\")\n",
    "    print(\"... Done: \"+resp)\n",
    "\n",
    "if not os.path.exists(\"stringer/7739750\"):\n",
    "    # unzip downloaded folder\n",
    "    if os.path.exists(\"stringer/7739750.zip\"):\n",
    "        print(\"... unzipping\")\n",
    "        shutil.unpack_archive(\"stringer/7739750.zip\", \"stringer/7739750\")\n",
    "        shutil.unpack_archive(\"stringer/7739750/spks.zip\", \"stringer/7739750/spks\")\n",
    "        shutil.unpack_archive(\"stringer/7739750/faces.zip\", \"stringer/7739750/faces\")\n",
    "    print(\"Done.\")\n",
    "else:\n",
    "    print(\"All data available.\")"
   ]
  },
  {
   "cell_type": "markdown",
   "id": "3c45d437-412e-4f0c-91cb-003c7ae09467",
   "metadata": {},
   "source": [
    "### Data preprocessing\n",
    "\n",
    "This analysis is based on the file `ephysLoad.m`.\n",
    "\n",
    "Each \"spks\" is a structure of length 8, where each entry is a different probe (these probes were recorded simultaneously). It contains the spike times (in seconds, e.g. 4048.44929626 sec (?kHz sampling)), the cluster identity of each spike (its cell), and the height of each cluster on the probe.\n",
    "\n",
    "The location of each site on the probe in microns in the Allen CCF framework is given in \"ccfCoords\". The brain area for each site is in \"borders\" as a function of the height of the site. \n",
    "\n",
    "We need the spikes from each area and probe to be separate lists. So, we build a dictionary to hold them, and save it locally as `area_spiketrains.npy`."
   ]
  },
  {
   "cell_type": "code",
   "execution_count": 3,
   "id": "11030168-b84e-46a8-bda7-4a2fbab74a15",
   "metadata": {},
   "outputs": [
    {
     "name": "stdout",
     "output_type": "stream",
     "text": [
      "... loaded populations\n"
     ]
    }
   ],
   "source": [
    "if os.path.exists(\"stringer/7739750/area_spiketrains.npy\"):\n",
    "    area_spiketrains = np.load(\"stringer/7739750/area_spiketrains.npy\", allow_pickle=True).item()\n",
    "    print(\"... loaded populations\")\n",
    "else:\n",
    "    print(\"... collecting populations\")\n",
    "    \n",
    "    probeLoc = sio.loadmat('stringer/7739750/probeLocations.mat')\n",
    "    probeBorders = sio.loadmat('stringer/7739750/probeBorders.mat', squeeze_me=True)\n",
    "\n",
    "    mouse_names = ['Krebs','Waksman','Robbins']\n",
    "    cortical_areas = ['FrCtx','FrMoCtx','SomMoCtx','SSCtx','V1','V2','RSP']\n",
    "\n",
    "    # first count the cells you want to take with this structure\n",
    "    # then think on how you want to store the spikes... compatible with the dynamical_analysis\n",
    "    area_spiketrains = {\n",
    "        'Krebs' : {'FrCtx':[], 'FrMoCtx':[], 'SomMoCtx':[], 'SSCtx':[], 'V1':[], 'V2':[], 'RSP':[]},\n",
    "        'Waksman' : {'FrCtx':[], 'FrMoCtx':[], 'SomMoCtx':[], 'SSCtx':[], 'V1':[], 'V2':[], 'RSP':[]},\n",
    "        'Robbins' : {'FrCtx':[], 'FrMoCtx':[], 'SomMoCtx':[], 'SSCtx':[], 'V1':[], 'V2':[], 'RSP':[]}\n",
    "    }\n",
    "\n",
    "    for imouse in range(len(mouse_names)):\n",
    "        print(mouse_names[imouse])\n",
    "\n",
    "        spks = sio.loadmat('stringer/7739750/spks/spks%s_Feb18.mat'%mouse_names[imouse], squeeze_me=True)\n",
    "\n",
    "        # probe k\n",
    "        # k = 7\n",
    "        for k in range(8):\n",
    "            print(\"probe\",k)\n",
    "\n",
    "            # spike times (in seconds)\n",
    "            st = spks['spks'][k][0]\n",
    "            # clusters\n",
    "            clu = spks['spks'][k][1]\n",
    "            print(\"clusters (cells) of the spikes\",len(np.unique(clu)))\n",
    "            # cluster heights (in microns)\n",
    "            # (see siteCoords to convert to site location)\n",
    "            Wh = spks['spks'][k][2]\n",
    "\n",
    "            # where is the probe in the brain (consolidated labels)\n",
    "            # borders are in microns\n",
    "            # use Wh to determine which clusters are in which brain region\n",
    "            borders = probeBorders['probeBorders'][imouse]['borders'][k]\n",
    "            for j in range(len(borders)):\n",
    "                population = [] # one population per border, there can be several borders\n",
    "                b = borders[j]\n",
    "                if b[2] not in cortical_areas:\n",
    "                    continue\n",
    "                print('upper border %d um, lower border %d um, area %s'%(b[0],b[1],b[2]))\n",
    "                wneurons = np.logical_and(Wh>=b[1], Wh<b[0])\n",
    "                nn = wneurons.sum()\n",
    "                print('%d neurons in %s'%(nn,b[-1]))\n",
    "                # we should not include population smaller than those in MICrONS\n",
    "                if nn<10:\n",
    "                    print('population too small. Rejected.')\n",
    "                    continue\n",
    "\n",
    "                cortical_neurons = np.nonzero(wneurons)[0]\n",
    "                for cn in cortical_neurons:\n",
    "                    cn_idxs = [i for i in range(len(clu)) if clu[i]==cn]\n",
    "                    # print(cn_idxs)\n",
    "                    population.append( sorted(st[cn_idxs]) )\n",
    "                    \n",
    "                area_spiketrains[ mouse_names[imouse] ][ b[2] ].append( population )\n",
    "            print()\n",
    "\n",
    "    # save to file\n",
    "    np.save(\"stringer/7739750/area_spiketrains.npy\", area_spiketrains)\n"
   ]
  },
  {
   "cell_type": "markdown",
   "id": "001efe03-3e0a-4255-aa62-23639d33a6eb",
   "metadata": {},
   "source": [
    "The following spiketrains will be loaded.\n",
    "\n",
    "| mouse | probe | borders (um) | area | #neurons |\n",
    "|:----|:----|:----|:---|:---|\n",
    "| **Krebs** | 0 | 4000, 1100 | FrMoCtx | 5 |\n",
    "|           | 1 | 4000, 1800 | FrMoCtx | 73 |\n",
    "|           | 2 | 4000, 2600 | V1 | 61 |\n",
    "|           | 3 | 4000, 2400 | V1 | 141 |\n",
    "|           | 4 | 4000, 1800 | SomMoCtx | 65 |\n",
    "|           | 5 | 4000, 2100 | SomMoCtx | 26 |\n",
    "|           | 6 | 4000, 2350 | V1 | 68 |\n",
    "|           | 7 | 4000, 2600 | V1 | 64 |\n",
    "| **Waksman** | 0 | 4000, 1700 | FrMoCtx | 446 |\n",
    "|             | 0 | 1200, 0 | FrMoCtx | 201 |\n",
    "|             | 1 | 4000, 2150 | FrCtx | 31 |\n",
    "|             | 2 | 4000, 2700 | V1 | 155 |\n",
    "|             | 3 | 4000, 2250 | RSP | 112 |\n",
    "|             | 4 | 4000, 2000 | SomMoCtx | 220 |\n",
    "|             | 5 | 4000, 2600 | SSCtx | 50 |\n",
    "|             | 6 | 4000, 2650 | V2 | 124 |\n",
    "|             | 7 | 4000, 2850 | V1 | 96 |\n",
    "| **Robbins** | 0 | 4000, 3400 | FrMoCtx | 16 |\n",
    "|             | 1 | 4000, 3100 | FrMoCtx | 70 |\n",
    "|             | 3 | 4000, 3550 | RSP | 10 |\n",
    "|             | 4 | 4000, 3500 | SomMoCtx | 10 |\n"
   ]
  },
  {
   "cell_type": "code",
   "execution_count": 4,
   "id": "4f0754be-e291-4a07-9bda-2660756cdd6e",
   "metadata": {},
   "outputs": [],
   "source": [
    "real_frame_duration = 0.00000001 # sec (e.g. 4048.44929626 s)\n",
    "# frame_duration = 0.001 # ms (e.g. 4048.449 s)\n",
    "frame_duration = 0.01 # 10ms (e.g. 4048.45 s)\n",
    "local_path = os.getcwd() + '/stringer/7739750/'"
   ]
  },
  {
   "cell_type": "markdown",
   "id": "6c62d98d-d74e-4a71-95fd-15d5313a04c8",
   "metadata": {},
   "source": [
    "#### Note\n",
    "The cell below is particularly long to execute if the dynamical and attractor analyses are used. We therefore used only the first mouse 'Krebs' to perform those analyses.     \n",
    "However, functional correlations and hirarchical modularity are light enough to be performed on all mice (with a good bit of patience). By commenting the sections on "
   ]
  },
  {
   "cell_type": "code",
   "execution_count": null,
   "id": "278c2d9c-d9c9-4139-a39a-cb6d4e19a134",
   "metadata": {},
   "outputs": [
    {
     "name": "stdout",
     "output_type": "stream",
     "text": [
      "\n",
      "mouse: Krebs\n",
      "\n",
      "mouse: Waksman\n",
      "area:  FrCtx\n",
      "population: 0\n",
      "    time: 246629\n",
      "    cells: 31\n",
      "... Dynamical Analysis\n",
      "    population firing: 1.43±1.43 sp/frame\n",
      "    cells firing rate: 0.05±0.24 sp/s\n",
      "... generating surrogates to establish population event threshold\n",
      "... loaded surrogates\n",
      "    event size threshold (mean): 2.3156119246438798\n",
      "    find peaks\n",
      "    find minima\n",
      "    find population events\n",
      "    signatures of population events\n",
      "    number of events: 13238\n",
      "    number of events per sec: 2.1704129982129095\n",
      "    events duration: 0.090±0.037\n",
      "    events size: 7.000±2.531\n",
      "    Similarity of events matrix\n",
      "    clustering - linkage\n",
      "    surrogate events signatures for clustering threshold\n",
      "   ... loaded surrogates\n",
      "    cluster reproducibility threshold: 0.3179983683883768\n",
      "    cluster size threshold: 2\n",
      "    Total number of clusters: 135\n",
      "    # clusters (after removing those below reproducibility threshold): 134\n",
      "    event color assignment\n",
      "    unique color assignments\n",
      "    clustered similarity map\n",
      "    finding cluster cores\n",
      "    removing cores firing unspecifically\n",
      "    gathering cores from all clusters\n",
      "    # cores: 22\n",
      "    # non-cores: 9\n",
      "    cores per cluster: 0.99±1.15 (min 0, max 4)\n",
      "    others per cluster: 30.01±1.15 (min 27, max 31)\n",
      "... Manifold Analysis\n",
      "... Functional correlation analysis (functional structure)\n",
      "    binary spiketrains\n",
      "    shape: (31, 246631)\n",
      "    starting functional adjacency matrix\n",
      "    full adjacency matrix: (31, 31)\n",
      "    checking details of best cross-correlation pairs \n",
      "    preparing vertex labels for cores and others\n",
      "    Degree distributions\n"
     ]
    },
    {
     "name": "stderr",
     "output_type": "stream",
     "text": [
      "/tmp/ipykernel_1810/3803255186.py:10: UserWarning: Data has no positive values, and therefore cannot be log-scaled.\n",
      "  plt.xscale('log')\n"
     ]
    },
    {
     "name": "stdout",
     "output_type": "stream",
     "text": [
      "    Local Clustering Coefficient (cores too)\n"
     ]
    },
    {
     "name": "stderr",
     "output_type": "stream",
     "text": [
      "/tmp/ipykernel_1810/1776641453.py:11: UserWarning: Data has no positive values, and therefore cannot be log-scaled.\n",
      "  hmmap.set_yscale('log')\n"
     ]
    },
    {
     "name": "stdout",
     "output_type": "stream",
     "text": [
      "... Flow Analysis\n",
      "    Cut edges sourcing from cores: DescribeResult(nobs=22, minmax=(0.0, 0.0), mean=0.0, variance=0.0, skewness=0.0, kurtosis=-3.0)\n",
      "    Cut edges targeting cores: DescribeResult(nobs=22, minmax=(0.0, 0.0), mean=0.0, variance=0.0, skewness=0.0, kurtosis=-3.0)\n",
      "    Cut edges sourcing from others: DescribeResult(nobs=9, minmax=(0.0, 0.0), mean=0.0, variance=0.0, skewness=0.0, kurtosis=-3.0)\n",
      "    Cut edges targeting others: DescribeResult(nobs=9, minmax=(0.0, 0.0), mean=0.0, variance=0.0, skewness=0.0, kurtosis=-3.0)\n",
      "    Core targets vs sources Welch t test:  nan p= nan\n",
      "    Kolmogorov-Smirnov Effect Size: 0.000\n",
      "    Core targets vs Other targets Welch t test:  nan p= nan\n",
      "    Kolmogorov-Smirnov Effect Size: 0.000\n"
     ]
    },
    {
     "data": {
      "image/png": "[encoded data removed]",
      "text/plain": [
       "<Figure size 432x288 with 1 Axes>"
      ]
     },
     "metadata": {
      "needs_background": "light"
     },
     "output_type": "display_data"
    },
    {
     "name": "stdout",
     "output_type": "stream",
     "text": [
      "... PageRank centrality\n",
      "    cores: DescribeResult(nobs=22, minmax=(0.0437636761487965, 0.08096280087527352), mean=0.045454545454545456, variance=6.289885820072699e-05, skewness=4.364357804719853, kurtosis=17.04761904761906)\n",
      "    others: DescribeResult(nobs=9, minmax=(0.0, 0.0), mean=0.0, variance=0.0, skewness=0.0, kurtosis=-3.0)\n",
      "    Kruskal-Wallis test:  27.900 p= 0.000\n",
      "    Kolmogorov-Smirnov Effect Size: 1.000\n"
     ]
    },
    {
     "data": {
      "image/png": "[encoded data removed]",
      "text/plain": [
       "<Figure size 432x288 with 1 Axes>"
      ]
     },
     "metadata": {
      "needs_background": "light"
     },
     "output_type": "display_data"
    },
    {
     "name": "stdout",
     "output_type": "stream",
     "text": [
      "area:  FrMoCtx\n",
      "population: 0\n",
      "    time: 247994\n",
      "    cells: 446\n",
      "... Dynamical Analysis\n",
      "    population firing: 10.73±4.95 sp/frame\n",
      "    cells firing rate: 0.02±0.16 sp/s\n",
      "... generating surrogates to establish population event threshold\n",
      "... loaded surrogates\n",
      "    event size threshold (mean): 16.28404545813285\n",
      "    find peaks\n",
      "    find minima\n",
      "    find population events\n",
      "    signatures of population events\n",
      "    number of events: 6292\n",
      "    number of events per sec: 1.0299574888811407\n",
      "    events duration: 0.100±0.044\n",
      "    events size: 69.000±29.666\n",
      "    Similarity of events matrix\n",
      "    clustering - linkage\n",
      "    surrogate events signatures for clustering threshold\n",
      "   ... loaded surrogates\n",
      "    cluster reproducibility threshold: 0.0\n",
      "    cluster size threshold: 2\n",
      "    Total number of clusters: 1160\n",
      "    # clusters (after removing those below reproducibility threshold): 1139\n",
      "    event color assignment\n",
      "    unique color assignments\n",
      "    clustered similarity map\n",
      "    finding cluster cores\n",
      "    removing cores firing unspecifically\n",
      "    gathering cores from all clusters\n",
      "    # cores: 446\n",
      "    # non-cores: 0\n",
      "    cores per cluster: 223.42±204.25 (min 6, max 781)\n",
      "    others per cluster: 305.47±111.80 (min 87, max 440)\n",
      "... Manifold Analysis\n",
      "... Functional correlation analysis (functional structure)\n",
      "    binary spiketrains\n",
      "    shape: (446, 247996)\n",
      "    starting functional adjacency matrix\n",
      "    full adjacency matrix: (446, 446)\n",
      "    checking details of best cross-correlation pairs \n",
      "    preparing vertex labels for cores and others\n",
      "    Degree distributions\n"
     ]
    },
    {
     "name": "stderr",
     "output_type": "stream",
     "text": [
      "/tmp/ipykernel_1810/3803255186.py:10: UserWarning: Data has no positive values, and therefore cannot be log-scaled.\n",
      "  plt.xscale('log')\n"
     ]
    },
    {
     "name": "stdout",
     "output_type": "stream",
     "text": [
      "    Local Clustering Coefficient (cores too)\n"
     ]
    },
    {
     "name": "stderr",
     "output_type": "stream",
     "text": [
      "/tmp/ipykernel_1810/1776641453.py:11: UserWarning: Data has no positive values, and therefore cannot be log-scaled.\n",
      "  hmmap.set_yscale('log')\n"
     ]
    },
    {
     "name": "stdout",
     "output_type": "stream",
     "text": [
      "... Flow Analysis\n",
      "... PageRank centrality\n",
      "population: 1\n",
      "area:  SomMoCtx\n",
      "population: 0\n",
      "    time: 248545\n",
      "    cells: 220\n",
      "... Dynamical Analysis\n",
      "    population firing: 9.11±5.83 sp/frame\n",
      "    cells firing rate: 0.04±0.22 sp/s\n",
      "... generating surrogates to establish population event threshold\n",
      "... loaded surrogates\n",
      "    event size threshold (mean): 11.724195413968474\n",
      "    find peaks\n",
      "    find minima\n",
      "    find population events\n",
      "    signatures of population events\n",
      "    number of events: 15235\n",
      "    number of events per sec: 2.492625199810865\n",
      "    events duration: 0.100±0.044\n",
      "    events size: 44.000±17.171\n",
      "    Similarity of events matrix\n",
      "    clustering - linkage\n",
      "    surrogate events signatures for clustering threshold\n",
      "   ... loaded surrogates\n",
      "    cluster reproducibility threshold: 0.0\n",
      "    cluster size threshold: 2\n",
      "    Total number of clusters: 549\n",
      "    # clusters (after removing those below reproducibility threshold): 546\n",
      "    event color assignment\n",
      "    unique color assignments\n",
      "    clustered similarity map\n",
      "    finding cluster cores\n",
      "    removing cores firing unspecifically\n",
      "    gathering cores from all clusters\n",
      "    # cores: 218\n",
      "    # non-cores: 2\n",
      "    cores per cluster: 32.42±48.42 (min 0, max 335)\n",
      "    others per cluster: 194.74±35.76 (min 15, max 220)\n",
      "... Manifold Analysis\n",
      "... Functional correlation analysis (functional structure)\n",
      "    binary spiketrains\n",
      "    shape: (220, 248547)\n",
      "    starting functional adjacency matrix\n",
      "    full adjacency matrix: (220, 220)\n",
      "    checking details of best cross-correlation pairs \n",
      "    preparing vertex labels for cores and others\n",
      "    Degree distributions\n"
     ]
    },
    {
     "name": "stderr",
     "output_type": "stream",
     "text": [
      "/tmp/ipykernel_1810/3803255186.py:10: UserWarning: Data has no positive values, and therefore cannot be log-scaled.\n",
      "  plt.xscale('log')\n"
     ]
    },
    {
     "name": "stdout",
     "output_type": "stream",
     "text": [
      "    Local Clustering Coefficient (cores too)\n"
     ]
    },
    {
     "name": "stderr",
     "output_type": "stream",
     "text": [
      "/tmp/ipykernel_1810/1776641453.py:11: UserWarning: Data has no positive values, and therefore cannot be log-scaled.\n",
      "  hmmap.set_yscale('log')\n"
     ]
    },
    {
     "name": "stdout",
     "output_type": "stream",
     "text": [
      "... Flow Analysis\n",
      "    Cut edges sourcing from cores: DescribeResult(nobs=218, minmax=(0.0, 7.426605504587156), mean=0.03406699772746402, variance=0.2530021528475424, skewness=14.663035439326022, kurtosis=213.00460829493093)\n",
      "    Cut edges targeting cores: DescribeResult(nobs=218, minmax=(0.0, 7.426605504587156), mean=0.03406699772746402, variance=0.25300215284754246, skewness=14.663035439326036, kurtosis=213.00460829493085)\n",
      "    Cut edges sourcing from others: DescribeResult(nobs=2, minmax=(0.0, 0.0), mean=0.0, variance=0.0, skewness=0.0, kurtosis=-3.0)\n",
      "    Cut edges targeting others: DescribeResult(nobs=2, minmax=(0.0, 0.0), mean=0.0, variance=0.0, skewness=0.0, kurtosis=-3.0)\n",
      "    Core targets vs sources Welch t test:  0.000 p= 1.000\n",
      "    Kolmogorov-Smirnov Effect Size: 0.000\n",
      "    Core targets vs Other targets Welch t test:  1.000 p= 0.318\n",
      "    Kolmogorov-Smirnov Effect Size: 0.005\n"
     ]
    },
    {
     "data": {
      "image/png": "[encoded data removed]",
      "text/plain": [
       "<Figure size 432x288 with 1 Axes>"
      ]
     },
     "metadata": {
      "needs_background": "light"
     },
     "output_type": "display_data"
    },
    {
     "name": "stdout",
     "output_type": "stream",
     "text": [
      "... PageRank centrality\n",
      "    cores: DescribeResult(nobs=218, minmax=(0.004360465116280265, 0.02906976744174257), mean=0.004587155963302753, variance=5.575559896194073e-06, skewness=10.296079800548322, kurtosis=104.00925925925921)\n",
      "    others: DescribeResult(nobs=2, minmax=(0.0, 0.0), mean=0.0, variance=0.0, skewness=0.0, kurtosis=-3.0)\n",
      "    Kruskal-Wallis test:  110.503 p= 0.000\n",
      "    Kolmogorov-Smirnov Effect Size: 1.000\n"
     ]
    },
    {
     "data": {
      "image/png": "[encoded data removed]",
      "text/plain": [
       "<Figure size 432x288 with 1 Axes>"
      ]
     },
     "metadata": {
      "needs_background": "light"
     },
     "output_type": "display_data"
    },
    {
     "name": "stdout",
     "output_type": "stream",
     "text": [
      "area:  SSCtx\n",
      "population: 0\n",
      "    time: 247713\n",
      "    cells: 50\n",
      "... Dynamical Analysis\n",
      "    population firing: 3.01±2.90 sp/frame\n",
      "    cells firing rate: 0.06±0.26 sp/s\n",
      "... generating surrogates to establish population event threshold\n",
      "... loaded surrogates\n",
      "    event size threshold (mean): 4.67520916602476\n",
      "    find peaks\n",
      "    find minima\n",
      "    find population events\n",
      "    signatures of population events\n",
      "    number of events: 11336\n",
      "    number of events per sec: 1.8561332957827656\n",
      "    events duration: 0.100±0.042\n",
      "    events size: 14.000±6.218\n",
      "    Similarity of events matrix\n",
      "    clustering - linkage\n",
      "    surrogate events signatures for clustering threshold\n",
      "   ... loaded surrogates\n",
      "    cluster reproducibility threshold: 0.21953825673565244\n",
      "    cluster size threshold: 2\n",
      "    Total number of clusters: 156\n",
      "    # clusters (after removing those below reproducibility threshold): 156\n",
      "    event color assignment\n",
      "    unique color assignments\n",
      "    clustered similarity map\n",
      "    finding cluster cores\n",
      "    removing cores firing unspecifically\n",
      "    gathering cores from all clusters\n",
      "    # cores: 36\n",
      "    # non-cores: 14\n",
      "    cores per cluster: 3.78±3.20 (min 0, max 15)\n",
      "    others per cluster: 46.22±3.20 (min 35, max 50)\n",
      "... Manifold Analysis\n",
      "... Functional correlation analysis (functional structure)\n",
      "    binary spiketrains\n",
      "    shape: (50, 247715)\n",
      "    starting functional adjacency matrix\n",
      "    full adjacency matrix: (50, 50)\n",
      "    checking details of best cross-correlation pairs \n",
      "    preparing vertex labels for cores and others\n",
      "    Degree distributions\n"
     ]
    },
    {
     "name": "stderr",
     "output_type": "stream",
     "text": [
      "/tmp/ipykernel_1810/3803255186.py:10: UserWarning: Data has no positive values, and therefore cannot be log-scaled.\n",
      "  plt.xscale('log')\n"
     ]
    },
    {
     "name": "stdout",
     "output_type": "stream",
     "text": [
      "    Local Clustering Coefficient (cores too)\n"
     ]
    },
    {
     "name": "stderr",
     "output_type": "stream",
     "text": [
      "/tmp/ipykernel_1810/1776641453.py:11: UserWarning: Data has no positive values, and therefore cannot be log-scaled.\n",
      "  hmmap.set_yscale('log')\n"
     ]
    },
    {
     "name": "stdout",
     "output_type": "stream",
     "text": [
      "... Flow Analysis\n",
      "    Cut edges sourcing from cores: DescribeResult(nobs=36, minmax=(0.0, 89.86111111111111), mean=2.496141975308642, variance=224.30609139231828, skewness=5.74704893215391, kurtosis=31.02857142857144)\n",
      "    Cut edges targeting cores: DescribeResult(nobs=36, minmax=(0.0, 89.86111111111111), mean=2.496141975308642, variance=224.30609139231828, skewness=5.74704893215391, kurtosis=31.02857142857144)\n",
      "    Cut edges sourcing from others: DescribeResult(nobs=14, minmax=(0.0, 0.0), mean=0.0, variance=0.0, skewness=0.0, kurtosis=-3.0)\n",
      "    Cut edges targeting others: DescribeResult(nobs=14, minmax=(0.0, 0.0), mean=0.0, variance=0.0, skewness=0.0, kurtosis=-3.0)\n",
      "    Core targets vs sources Welch t test:  0.000 p= 1.000\n",
      "    Kolmogorov-Smirnov Effect Size: 0.000\n",
      "    Core targets vs Other targets Welch t test:  1.000 p= 0.324\n",
      "    Kolmogorov-Smirnov Effect Size: 0.028\n"
     ]
    },
    {
     "data": {
      "image/png": "[encoded data removed]",
      "text/plain": [
       "<Figure size 432x288 with 1 Axes>"
      ]
     },
     "metadata": {
      "needs_background": "light"
     },
     "output_type": "display_data"
    },
    {
     "name": "stdout",
     "output_type": "stream",
     "text": [
      "... PageRank centrality\n",
      "    cores: DescribeResult(nobs=36, minmax=(0.021126760563380285, 0.1408450704225352), mean=0.027777777777777776, variance=0.0007734985814731893, skewness=3.880570000581329, kurtosis=13.058823529411782)\n",
      "    others: DescribeResult(nobs=14, minmax=(0.0, 0.0), mean=0.0, variance=0.0, skewness=0.0, kurtosis=-3.0)\n",
      "    Kruskal-Wallis test:  44.661 p= 0.000\n",
      "    Kolmogorov-Smirnov Effect Size: 1.000\n"
     ]
    },
    {
     "data": {
      "image/png": "[encoded data removed]",
      "text/plain": [
       "<Figure size 432x288 with 1 Axes>"
      ]
     },
     "metadata": {
      "needs_background": "light"
     },
     "output_type": "display_data"
    },
    {
     "name": "stdout",
     "output_type": "stream",
     "text": [
      "area:  V1\n",
      "population: 0\n",
      "    time: 246589\n",
      "    cells: 155\n",
      "... Dynamical Analysis\n",
      "    population firing: 8.40±6.73 sp/frame\n",
      "    cells firing rate: 0.05±0.25 sp/s\n",
      "... generating surrogates to establish population event threshold\n",
      "... loaded surrogates\n",
      "    event size threshold (mean): 10.694989974004564\n",
      "    find peaks\n",
      "    find minima\n",
      "    find population events\n",
      "    signatures of population events\n",
      "    number of events: 17801\n",
      "    number of events per sec: 2.917488871552476\n",
      "    events duration: 0.100±0.044\n",
      "    events size: 39.000±16.418\n",
      "    Similarity of events matrix\n",
      "    clustering - linkage\n",
      "    surrogate events signatures for clustering threshold\n",
      "   ... loaded surrogates\n",
      "    cluster reproducibility threshold: 0.0\n",
      "    cluster size threshold: 2\n",
      "    Total number of clusters: 275\n",
      "    # clusters (after removing those below reproducibility threshold): 275\n",
      "    event color assignment\n",
      "    unique color assignments\n",
      "    clustered similarity map\n",
      "    finding cluster cores\n",
      "    removing cores firing unspecifically\n",
      "    gathering cores from all clusters\n",
      "    # cores: 103\n",
      "    # non-cores: 52\n",
      "    cores per cluster: 9.11±11.18 (min 0, max 50)\n",
      "    others per cluster: 146.14±10.58 (min 117, max 155)\n",
      "... Manifold Analysis\n",
      "... Functional correlation analysis (functional structure)\n",
      "    binary spiketrains\n",
      "    shape: (155, 246591)\n",
      "    starting functional adjacency matrix\n",
      "    full adjacency matrix: (155, 155)\n",
      "    checking details of best cross-correlation pairs \n",
      "    preparing vertex labels for cores and others\n",
      "    Degree distributions\n",
      "    Local Clustering Coefficient (cores too)\n"
     ]
    },
    {
     "name": "stderr",
     "output_type": "stream",
     "text": [
      "/tmp/ipykernel_1810/1776641453.py:11: UserWarning: Data has no positive values, and therefore cannot be log-scaled.\n",
      "  hmmap.set_yscale('log')\n"
     ]
    },
    {
     "name": "stdout",
     "output_type": "stream",
     "text": [
      "... Flow Analysis\n",
      "    Cut edges sourcing from cores: DescribeResult(nobs=103, minmax=(0.0, 107.03883495145631), mean=1.2034121971910643, variance=113.66847308452633, skewness=9.667297441963726, kurtosis=93.1817134373338)\n",
      "    Cut edges targeting cores: DescribeResult(nobs=103, minmax=(0.0, 107.03883495145631), mean=1.2034121971910643, variance=113.66847308452633, skewness=9.667297441963726, kurtosis=93.1817134373338)\n",
      "    Cut edges sourcing from others: DescribeResult(nobs=52, minmax=(0.0, 0.0), mean=0.0, variance=0.0, skewness=0.0, kurtosis=-3.0)\n",
      "    Cut edges targeting others: DescribeResult(nobs=52, minmax=(0.0, 0.0), mean=0.0, variance=0.0, skewness=0.0, kurtosis=-3.0)\n",
      "    Core targets vs sources Welch t test:  0.000 p= 1.000\n",
      "    Kolmogorov-Smirnov Effect Size: 0.000\n",
      "    Core targets vs Other targets Welch t test:  1.146 p= 0.255\n",
      "    Kolmogorov-Smirnov Effect Size: 0.019\n"
     ]
    },
    {
     "data": {
      "image/png": "[encoded data removed]",
      "text/plain": [
       "<Figure size 432x288 with 1 Axes>"
      ]
     },
     "metadata": {
      "needs_background": "light"
     },
     "output_type": "display_data"
    },
    {
     "name": "stdout",
     "output_type": "stream",
     "text": [
      "... PageRank centrality\n",
      "    cores: DescribeResult(nobs=103, minmax=(0.007957559681703457, 0.10179941214395932), mean=0.009708737864077669, variance=0.00010770799710295239, skewness=7.4043252440144345, kurtosis=59.75669805599252)\n",
      "    others: DescribeResult(nobs=52, minmax=(0.0, 0.0), mean=0.0, variance=0.0, skewness=0.0, kurtosis=-3.0)\n",
      "    Kruskal-Wallis test:  146.785 p= 0.000\n",
      "    Kolmogorov-Smirnov Effect Size: 1.000\n"
     ]
    },
    {
     "data": {
      "image/png": "[encoded data removed]",
      "text/plain": [
       "<Figure size 432x288 with 1 Axes>"
      ]
     },
     "metadata": {
      "needs_background": "light"
     },
     "output_type": "display_data"
    },
    {
     "name": "stdout",
     "output_type": "stream",
     "text": [
      "population: 1\n",
      "    time: 244404\n",
      "    cells: 96\n",
      "... Dynamical Analysis\n",
      "    population firing: 5.45±5.80 sp/frame\n",
      "    cells firing rate: 0.06±0.27 sp/s\n",
      "... generating surrogates to establish population event threshold\n",
      "... loaded surrogates\n",
      "    event size threshold (mean): 6.780072045325212\n",
      "    find peaks\n",
      "    find minima\n",
      "    find population events\n",
      "    signatures of population events\n",
      "    number of events: 14466\n",
      "    number of events per sec: 2.3740167753349075\n",
      "    events duration: 0.110±0.048\n",
      "    events size: 22.000±13.144\n",
      "    Similarity of events matrix\n",
      "    clustering - linkage\n",
      "    surrogate events signatures for clustering threshold\n",
      "   ... loaded surrogates\n",
      "    cluster reproducibility threshold: 0.1591759317292575\n",
      "    cluster size threshold: 2\n",
      "    Total number of clusters: 86\n",
      "    # clusters (after removing those below reproducibility threshold): 86\n",
      "    event color assignment\n",
      "    unique color assignments\n",
      "    clustered similarity map\n",
      "    finding cluster cores\n",
      "    removing cores firing unspecifically\n",
      "    gathering cores from all clusters\n",
      "    # cores: 42\n",
      "    # non-cores: 54\n",
      "    cores per cluster: 5.27±7.32 (min 0, max 28)\n",
      "    others per cluster: 90.73±7.32 (min 68, max 96)\n",
      "... Manifold Analysis\n",
      "... Functional correlation analysis (functional structure)\n",
      "    binary spiketrains\n",
      "    shape: (96, 244406)\n",
      "    starting functional adjacency matrix\n",
      "    full adjacency matrix: (96, 96)\n",
      "    checking details of best cross-correlation pairs \n",
      "    preparing vertex labels for cores and others\n",
      "    Degree distributions\n",
      "    Local Clustering Coefficient (cores too)\n",
      "... Flow Analysis\n",
      "    Cut edges sourcing from cores: DescribeResult(nobs=42, minmax=(0.0, 64.35714285714286), mean=2.3015873015873014, variance=107.54595062957434, skewness=5.414237486858123, kurtosis=29.272358550041176)\n",
      "    Cut edges targeting cores: DescribeResult(nobs=42, minmax=(0.0, 43.714285714285715), mean=2.3015873015873014, variance=64.0152554246631, skewness=3.9477581872233656, kurtosis=16.062594065453673)\n",
      "    Cut edges sourcing from others: DescribeResult(nobs=54, minmax=(0.0, 0.0), mean=0.0, variance=0.0, skewness=0.0, kurtosis=-3.0)\n",
      "    Cut edges targeting others: DescribeResult(nobs=54, minmax=(0.0, 0.0), mean=0.0, variance=0.0, skewness=0.0, kurtosis=-3.0)\n",
      "    Core targets vs sources Welch t test:  0.000 p= 1.000\n",
      "    Kolmogorov-Smirnov Effect Size: 0.048\n",
      "    Core targets vs Other targets Welch t test:  1.864 p= 0.069\n",
      "    Kolmogorov-Smirnov Effect Size: 0.119\n"
     ]
    },
    {
     "data": {
      "image/png": "[encoded data removed]",
      "text/plain": [
       "<Figure size 432x288 with 1 Axes>"
      ]
     },
     "metadata": {
      "needs_background": "light"
     },
     "output_type": "display_data"
    },
    {
     "name": "stdout",
     "output_type": "stream",
     "text": [
      "... PageRank centrality\n",
      "    cores: DescribeResult(nobs=42, minmax=(0.014218009478672989, 0.12384820022658184), mean=0.023809523809523808, variance=0.0007601407613394096, skewness=2.71766095710031, kurtosis=5.991079573703637)\n",
      "    others: DescribeResult(nobs=54, minmax=(0.0, 0.0), mean=0.0, variance=0.0, skewness=0.0, kurtosis=-3.0)\n",
      "    Kruskal-Wallis test:  91.710 p= 0.000\n",
      "    Kolmogorov-Smirnov Effect Size: 1.000\n"
     ]
    },
    {
     "data": {
      "image/png": "[encoded data removed]",
      "text/plain": [
       "<Figure size 432x288 with 1 Axes>"
      ]
     },
     "metadata": {
      "needs_background": "light"
     },
     "output_type": "display_data"
    },
    {
     "name": "stdout",
     "output_type": "stream",
     "text": [
      "area:  V2\n",
      "population: 0\n",
      "    time: 245631\n",
      "    cells: 124\n",
      "... Dynamical Analysis\n",
      "    population firing: 7.21±5.21 sp/frame\n",
      "    cells firing rate: 0.06±0.27 sp/s\n",
      "... generating surrogates to establish population event threshold\n",
      "... loaded surrogates\n",
      "    event size threshold (mean): 9.866594351771742\n",
      "    find peaks\n",
      "    find minima\n",
      "    find population events\n",
      "    signatures of population events\n",
      "    number of events: 14614\n",
      "    number of events per sec: 2.396672800207294\n",
      "    events duration: 0.100±0.047\n",
      "    events size: 33.000±12.528\n",
      "    Similarity of events matrix\n",
      "    clustering - linkage\n",
      "    surrogate events signatures for clustering threshold\n",
      "   ... loaded surrogates\n",
      "    cluster reproducibility threshold: 0.1379847735236924\n",
      "    cluster size threshold: 2\n",
      "    Total number of clusters: 215\n",
      "    # clusters (after removing those below reproducibility threshold): 213\n",
      "    event color assignment\n",
      "    unique color assignments\n",
      "    clustered similarity map\n",
      "    finding cluster cores\n",
      "    removing cores firing unspecifically\n",
      "    gathering cores from all clusters\n",
      "    # cores: 96\n",
      "    # non-cores: 28\n",
      "    cores per cluster: 8.89±9.70 (min 0, max 68)\n",
      "    others per cluster: 115.11±9.70 (min 56, max 124)\n",
      "... Manifold Analysis\n",
      "... Functional correlation analysis (functional structure)\n",
      "    binary spiketrains\n",
      "    shape: (124, 245633)\n",
      "    starting functional adjacency matrix\n",
      "    full adjacency matrix: (124, 124)\n",
      "    checking details of best cross-correlation pairs \n",
      "    preparing vertex labels for cores and others\n",
      "    Degree distributions\n",
      "    Local Clustering Coefficient (cores too)\n",
      "... Flow Analysis\n",
      "    Cut edges sourcing from cores: DescribeResult(nobs=96, minmax=(0.0, 92.25), mean=2.162109375, variance=163.83851611042581, skewness=6.395723630378206, kurtosis=40.08302673785643)\n",
      "    Cut edges targeting cores: DescribeResult(nobs=96, minmax=(0.0, 165.95833333333334), mean=2.162109375, variance=294.4112408911276, skewness=9.231497794715962, kurtosis=85.36708815276513)\n",
      "    Cut edges sourcing from others: DescribeResult(nobs=28, minmax=(0.0, 0.0), mean=0.0, variance=0.0, skewness=0.0, kurtosis=-3.0)\n",
      "    Cut edges targeting others: DescribeResult(nobs=28, minmax=(0.0, 0.0), mean=0.0, variance=0.0, skewness=0.0, kurtosis=-3.0)\n",
      "    Core targets vs sources Welch t test:  0.000 p= 1.000\n",
      "    Kolmogorov-Smirnov Effect Size: 0.010\n",
      "    Core targets vs Other targets Welch t test:  1.235 p= 0.220\n",
      "    Kolmogorov-Smirnov Effect Size: 0.031\n"
     ]
    },
    {
     "data": {
      "image/png": "[encoded data removed]",
      "text/plain": [
       "<Figure size 432x288 with 1 Axes>"
      ]
     },
     "metadata": {
      "needs_background": "light"
     },
     "output_type": "display_data"
    },
    {
     "name": "stdout",
     "output_type": "stream",
     "text": [
      "... PageRank centrality\n",
      "    cores: DescribeResult(nobs=96, minmax=(0.008426966292134831, 0.07544845259215455), mean=0.010416666666666663, variance=0.00012419530008319442, skewness=5.400670028206409, kurtosis=27.21663561798436)\n",
      "    others: DescribeResult(nobs=28, minmax=(0.0, 0.0), mean=0.0, variance=0.0, skewness=0.0, kurtosis=-3.0)\n",
      "    Kruskal-Wallis test:  113.849 p= 0.000\n",
      "    Kolmogorov-Smirnov Effect Size: 1.000\n"
     ]
    },
    {
     "data": {
      "image/png": "[encoded data removed]",
      "text/plain": [
       "<Figure size 432x288 with 1 Axes>"
      ]
     },
     "metadata": {
      "needs_background": "light"
     },
     "output_type": "display_data"
    },
    {
     "name": "stdout",
     "output_type": "stream",
     "text": [
      "area:  RSP\n",
      "population: 0\n",
      "    time: 246567\n",
      "    cells: 112\n",
      "... Dynamical Analysis\n",
      "    population firing: 9.86±7.63 sp/frame\n",
      "    cells firing rate: 0.09±0.31 sp/s\n",
      "... generating surrogates to establish population event threshold\n",
      "... loaded surrogates\n",
      "    event size threshold (mean): 11.713855869650864\n",
      "    find peaks\n",
      "    find minima\n",
      "    find population events\n",
      "    signatures of population events\n",
      "    number of events: 20150\n",
      "    number of events per sec: 3.300940972950304\n",
      "    events duration: 0.100±0.044\n",
      "    events size: 50.000±18.287\n",
      "    Similarity of events matrix\n",
      "    clustering - linkage\n",
      "    surrogate events signatures for clustering threshold\n",
      "   ... loaded surrogates\n",
      "    cluster reproducibility threshold: 0.13759007693534073\n",
      "    cluster size threshold: 2\n",
      "    Total number of clusters: 183\n",
      "    # clusters (after removing those below reproducibility threshold): 183\n",
      "    event color assignment\n",
      "    unique color assignments\n",
      "    clustered similarity map\n",
      "    finding cluster cores\n",
      "    removing cores firing unspecifically\n",
      "    gathering cores from all clusters\n",
      "    # cores: 78\n",
      "    # non-cores: 34\n",
      "    cores per cluster: 15.35±16.43 (min 0, max 59)\n",
      "    others per cluster: 96.65±16.43 (min 53, max 112)\n",
      "... Manifold Analysis\n",
      "... Functional correlation analysis (functional structure)\n",
      "    binary spiketrains\n",
      "    shape: (112, 246569)\n",
      "    starting functional adjacency matrix\n",
      "    full adjacency matrix: (112, 112)\n",
      "    checking details of best cross-correlation pairs \n"
     ]
    }
   ],
   "source": [
    "# start of spontaneous activity in each mouse (in seconds)\n",
    "etstart = [3811, 3633, 3323]\n",
    "\n",
    "all_degrees = { 'FrCtx':[], 'FrMoCtx':[], 'SomMoCtx':[], 'SSCtx':[], 'V1':[], 'V2':[], 'RSP':[] }\n",
    "all_local_clustering_coefficients = { 'FrCtx':[], 'FrMoCtx':[], 'SomMoCtx':[], 'SSCtx':[], 'V1':[], 'V2':[], 'RSP':[] }\n",
    "all_core_local_clustering_coefficients = { 'FrCtx':[], 'FrMoCtx':[], 'SomMoCtx':[], 'SSCtx':[], 'V1':[], 'V2':[], 'RSP':[] }\n",
    "all_pagerank_cores = { 'FrCtx':[], 'FrMoCtx':[], 'SomMoCtx':[], 'SSCtx':[], 'V1':[], 'V2':[], 'RSP':[] }\n",
    "all_pagerank_others = { 'FrCtx':[], 'FrMoCtx':[], 'SomMoCtx':[], 'SSCtx':[], 'V1':[], 'V2':[], 'RSP':[] }\n",
    "\n",
    "for imouse,(mousename,areas) in enumerate(area_spiketrains.items()):\n",
    "    print(\"\\nmouse:\",mousename)\n",
    "    \n",
    "    # # to reduce computations, use comments here\n",
    "    # if mousename not in [\"Krebs\", \"Waksman\"]:\n",
    "    # if mousename not in [\"Waksman\",\"Robbins\"]:\n",
    "    # if mousename not in [\"Robbins\"]:\n",
    "    if mousename not in [\"Waksman\"]:\n",
    "        continue\n",
    "        \n",
    "    exp_path = local_path + '%s/'%mousename\n",
    "    exp_tstart = etstart[imouse]\n",
    "\n",
    "    # reading behavior data to make statistics about event dependence on it\n",
    "    # we will use the field 'stimulus' to store the avg motSVD of the frames \n",
    "    # The behavioral file is the processed version of a mouse face movie (time x pixels x pixels). \n",
    "    faces = sio.loadmat('stringer/7739750/faces/%s_face_proc.mat'%mousename, squeeze_me=True)\n",
    "    video_timestamps = faces['times'] # same temporal resolution of ephy\n",
    "    motSVD = faces['motionSVD']\n",
    "    exp_istart = (np.abs(video_timestamps - exp_tstart)).argmin()    \n",
    "    motSVD_1c = motSVD[:,0] # only first component\n",
    "    motSVD_1c[motSVD_1c < -4000] = np.mean(motSVD_1c) # corrections\n",
    "    fig, ax = plt.subplots(figsize=(20,5))\n",
    "    ax.plot(video_timestamps[exp_istart:], motSVD_1c[exp_istart:], linewidth=0.5, color='k')\n",
    "    fig.savefig(exp_path+\"/motSVD_%s.png\"%mousename, transparent=True, dpi=900)\n",
    "    plt.close()\n",
    "    fig.clear()\n",
    "    fig.clf()\n",
    "\n",
    "    for area,probe_populations in areas.items():\n",
    "        if len(probe_populations)>0:\n",
    "            print(\"area: \",area)\n",
    "            \n",
    "            # # to reduce computations, use comments here\n",
    "            # if area not in ['FrCtx', 'FrMoCtx']:\n",
    "            # if area not in ['V1']:\n",
    "            #     continue\n",
    "                                                \n",
    "            for ipop,spiketrains in enumerate(probe_populations): \n",
    "                print(\"population:\",ipop)\n",
    "\n",
    "                if mousename=='Waksman' and area=='FrMoCtx' and ipop==1:\n",
    "                    continue # no events\n",
    "\n",
    "                # rounding to ms\n",
    "                # spiketrains = [np.round(sp, 3) for sp in spiketrains] # ms\n",
    "                spiketrains = [np.round(sp, 2) for sp in spiketrains] # 10ms\n",
    "                start_time = min([min(st) if len(st) else 0 for st in spiketrains])\n",
    "                stop_time = max([max(st) if len(st) else 0 for st in spiketrains])\n",
    "                time = np.arange(start_time,stop_time,frame_duration)\n",
    "                print(\"    time:\", len(time))\n",
    "                print(\"    cells:\", len(spiketrains))\n",
    "\n",
    "                fig = plt.figure(figsize=[12.8,4.8])\n",
    "                for row,train in enumerate(spiketrains):\n",
    "                    plt.scatter( train, [row]*len(train), marker='o', edgecolors='none', s=1, c='k' )\n",
    "                plt.ylabel(\"cell IDs\")\n",
    "                plt.xlabel(\"time (s)\")\n",
    "                # plt.show()\n",
    "                fig.savefig(exp_path+'%s_%s_rasterplot.png'%(area,ipop), transparent=False, dpi=800)\n",
    "                plt.tight_layout()\n",
    "                plt.close()\n",
    "                \n",
    "                ophys_cell_ids = list(range(len(spiketrains)))\n",
    "                ophys_cell_indexes = ophys_cell_ids # here is an alias\n",
    "\n",
    "                scan_spiketrains = spiketrains\n",
    "                scan_id = '_%s_%s'%(area,ipop)\n",
    "                \n",
    "                # --------------------------------------------------------------------------\n",
    "                print(\"... Dynamical Analysis\")\n",
    "                core_reproducibility_perc = 99 # threshold for detecting cores\n",
    "                %run \"dynamical_analysis.ipynb\"\n",
    "                \n",
    "                # # Match smooth motion energy curve with the cluster it belongs to\n",
    "                # # Count the number of events belonging to a pattern before and after the change.\n",
    "                # ccolors,ccounts = np.unique(cluster_color_array, return_counts=True)\n",
    "                # cluster_events_counts = dict(zip(ccolors,ccounts))\n",
    "                # Npre_beh_cluster = {el:0. for el in np.unique(cluster_color_array)}\n",
    "                # Npost_beh_cluster = {el:0. for el in np.unique(cluster_color_array)}\n",
    "                # for sni in smoothed_beh_indices:\n",
    "                #     snitime = exp_tstart + sni * frame_duration\n",
    "                #     snitime_pre = snitime - 0.15 # s\n",
    "                #     snitime_post = snitime + 0.15 # s\n",
    "                #     for ievent,(event,ecolor) in enumerate(zip(events,cluster_color_array)):\n",
    "                #         event_start_time = exp_tstart + event['start'] * frame_duration\n",
    "                #         if snitime_pre < event_start_time and event_start_time < snitime:\n",
    "                #             Npre_beh_cluster[ecolor] += 1\n",
    "                #         if snitime < event_start_time and event_start_time < snitime_post:\n",
    "                #             Npost_beh_cluster[ecolor] += 1\n",
    "                # # detail\n",
    "                # fig = plt.figure()\n",
    "                # plt.scatter(range(len(Npre_beh_cluster.keys())), Npre_beh_cluster.values(), marker='<', c=list(Npre_beh_cluster.keys()), edgecolors=list(Npre_beh_cluster.keys()), s=1)\n",
    "                # plt.scatter(range(len(Npost_beh_cluster.keys())), Npost_beh_cluster.values(), marker='>', c=list(Npost_beh_cluster.keys()), edgecolors='none', s=1)\n",
    "                # plt.vlines(range(len(Npost_beh_cluster.keys())), Npost_beh_cluster.values(), Npre_beh_cluster.values(), colors=list(Npost_beh_cluster.keys()), linewidths=0.6)\n",
    "                # plt.ylabel('occurrence')\n",
    "                # plt.xlabel('Patterns')\n",
    "                # fig.savefig(exp_path+\"/results/Pattern_behavior_%s_%s%s.png\"%(mousename,area,ipop), transparent=True, dpi=600)\n",
    "                # plt.close()\n",
    "                # fig.clear()\n",
    "                # fig.clf()\n",
    "                # # summary\n",
    "                # Nsame = 0\n",
    "                # Npost = 0\n",
    "                # Npre = 0\n",
    "                # for pre,post in zip(Npre_beh_cluster.values(),Npost_beh_cluster.values()):\n",
    "                #     if pre==post: Nsame +=1\n",
    "                #     if pre>post: Npre +=1\n",
    "                #     if pre<post: Npost +=1\n",
    "                # fig = plt.figure()\n",
    "                # plt.bar([0,1,2], [Npre,Nsame,Npost], width=0.8, color='C0')\n",
    "                # plt.ylabel('occurrences')\n",
    "                # plt.xlabel('pattern timing relative to movement')\n",
    "                # plt.xticks(range(3),['before','same','after'])\n",
    "                # fig.savefig(exp_path+\"/results/Pattern_behavior_summary_%s_%s%s.png\"%(mousename,area,ipop), transparent=True, dpi=600)\n",
    "                # plt.close()\n",
    "                # fig.clear()\n",
    "                # fig.clf()\n",
    "                \n",
    "                # --------------------------------------------------------------------------\n",
    "                # dimensional reduction, trajectories, and manifold analysis\n",
    "                print(\"... Manifold Analysis\")\n",
    "                # %run \"attractor_analysis.ipynb\"\n",
    "\n",
    "                # --------------------------------------------------------------------------\n",
    "                # Functional structure analysis\n",
    "                # separated by cortical area, color: pagerank, modularity\n",
    "                perc_corr = 0.8\n",
    "                %run \"functional_analysis.ipynb\"\n",
    "                all_degrees[area].extend(degrees)\n",
    "                all_local_clustering_coefficients[area].extend(local_clustering_coefficients)\n",
    "                all_core_local_clustering_coefficients[area].extend(core_local_clustering_coefficients)\n",
    "                all_pagerank_cores[area].extend(pagerank_cores)\n",
    "                all_pagerank_others[area].extend(pagerank_others)\n",
    "                \n",
    "    gc.collect()\n",
    "    print()    "
   ]
  },
  {
   "cell_type": "code",
   "execution_count": null,
   "id": "a8d14ea4-8741-4f58-aa2c-1be96a763c1a",
   "metadata": {},
   "outputs": [],
   "source": [
    "# summary figures\n",
    "for area in cortical_areas:\n",
    "    print(\"... area:\",area)\n",
    "    # modularity\n",
    "    print('    Total modularity')\n",
    "    # figure\n",
    "    fig, (hmmap, chist) = plt.subplots(1, 2, gridspec_kw={'width_ratios': [6, 1]})\n",
    "    # hierarchy\n",
    "    hmmap.scatter( all_degrees[area], all_local_clustering_coefficients[area], marker='o', facecolor='#111111', s=50, edgecolors='none', alpha=0.5) \n",
    "    hmmap.set_yscale('log')\n",
    "    hmmap.set_ylim([0.02,1.1])\n",
    "    hmmap.set_xscale('log')\n",
    "    hmmap.spines['top'].set_visible(False)\n",
    "    hmmap.spines['right'].set_visible(False)\n",
    "    hmmap.set_ylabel('LCC')\n",
    "    hmmap.set_xlabel('degree')\n",
    "    hmmap.tick_params(axis='both', bottom='on', top='on', left='off', right='off')\n",
    "    # core lcc histogram\n",
    "    bins = np.linspace(0.02,1,50)\n",
    "    barheight = (max(all_local_clustering_coefficients[area])-min(all_local_clustering_coefficients[area]))/50\n",
    "    lcc_hist, lcc_binedges = np.histogram(all_core_local_clustering_coefficients[area], bins)\n",
    "    chist.barh(bins[:-1], lcc_hist, height=barheight, align='center', color='green', linewidth=0)\n",
    "    chist.spines['top'].set_visible(False)\n",
    "    chist.spines['right'].set_visible(False)\n",
    "    chist.tick_params(axis='x', which='both', bottom=True, top=False, labelsize='x-small')\n",
    "    chist.tick_params(axis='y', which='both', left=True, right=False, labelleft=True)\n",
    "    chist_ticks = chist.get_xticks()\n",
    "    chist.set_ylim([0.01,1.1])\n",
    "    chist.set_ylabel('LCC')\n",
    "    chist.set_xlabel('count')\n",
    "    chist.yaxis.set_label_position(\"right\")\n",
    "    chist.spines['top'].set_visible(False)\n",
    "    chist.spines['right'].set_visible(False)\n",
    "    chist.spines['bottom'].set_visible(False)\n",
    "    plt.tight_layout()\n",
    "    fig.savefig(\"stringer/7739750/cores_hierarchical_modularity_%s.svg\"%(area), transparent=True)\n",
    "    plt.close()\n",
    "    fig.clear()\n",
    "    fig.clf()\n",
    "\n",
    "    # totals\n",
    "    print('    Total PageRank centrality')\n",
    "    # description\n",
    "    print(\"    cores: \"+str(stats.describe(all_pagerank_cores[area])) )\n",
    "    print(\"    others: \"+str(stats.describe(all_pagerank_others[area])) )\n",
    "    # significativity\n",
    "    print(\"    Kruskal-Wallis test:  %.3f p= %.3f\" % stats.kruskal(all_pagerank_cores[area], all_pagerank_others[area]))\n",
    "    d,_ = stats.ks_2samp(all_pagerank_cores[area], all_pagerank_others[area]) # non-parametric measure of effect size [0,1]\n",
    "    print('    Kolmogorov-Smirnov Effect Size: %.3f' % d)\n",
    "\n",
    "    fig, ax = plt.subplots()\n",
    "    xs = np.random.normal(1, 0.04, len(all_pagerank_cores[area]))\n",
    "    plt.scatter(xs, all_pagerank_cores[area], alpha=0.3, c='forestgreen')\n",
    "    xs = np.random.normal(2, 0.04, len(all_pagerank_others[area]))\n",
    "    plt.scatter(xs, all_pagerank_others[area], alpha=0.3, c='silver')\n",
    "    vp = ax.violinplot([all_pagerank_cores[area],all_pagerank_others[area]], widths=0.15, showextrema=False, showmedians=True)\n",
    "    for pc in vp['bodies']:\n",
    "        pc.set_edgecolor('black')\n",
    "    for pc,cb in zip(vp['bodies'],['#228B224d','#D3D3D34d']):\n",
    "        pc.set_facecolor(cb)\n",
    "    vp['cmedians'].set_color('orange')\n",
    "    vp['cmedians'].set_linewidth(2.)\n",
    "    ax.spines['top'].set_visible(False)\n",
    "    ax.spines['bottom'].set_visible(False)\n",
    "    ax.spines['left'].set_visible(False)\n",
    "    ax.spines['right'].set_visible(False)\n",
    "    plt.ylabel('PageRank')\n",
    "    plt.xticks([1, 2], [\"core\\n(n={:d})\".format(len(all_pagerank_cores[area])), \"other\\n(n={:d})\".format(len(all_pagerank_others[area]))])\n",
    "    fig.savefig(exp_path+\"stringer/7739750/global_cores_others_pagerank_all_%s.svg\"%(area), transparent=True)\n",
    "    plt.show()\n"
   ]
  }
 ],
 "metadata": {
  "kernelspec": {
   "display_name": "Python 3 (ipykernel)",
   "language": "python",
   "name": "python3"
  },
  "language_info": {
   "codemirror_mode": {
    "name": "ipython",
    "version": 3
   },
   "file_extension": ".py",
   "mimetype": "text/x-python",
   "name": "python",
   "nbconvert_exporter": "python",
   "pygments_lexer": "ipython3",
   "version": "3.10.4"
  }
 },
 "nbformat": 4,
 "nbformat_minor": 5
}
